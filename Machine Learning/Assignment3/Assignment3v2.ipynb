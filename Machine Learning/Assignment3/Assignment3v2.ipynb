{
  "nbformat": 4,
  "nbformat_minor": 0,
  "metadata": {
    "colab": {
      "name": "Assignment3v2.ipynb",
      "provenance": [],
      "collapsed_sections": [
        "DR16up_sVVgJ",
        "OFi3y2nWVdJZ",
        "6mRYRwJ7Vg-R",
        "1MK8aKSJXO86"
      ],
      "toc_visible": true
    },
    "kernelspec": {
      "display_name": "Python 3",
      "language": "python",
      "name": "python3"
    },
    "language_info": {
      "codemirror_mode": {
        "name": "ipython",
        "version": 3
      },
      "file_extension": ".py",
      "mimetype": "text/x-python",
      "name": "python",
      "nbconvert_exporter": "python",
      "pygments_lexer": "ipython3",
      "version": "3.7.2"
    }
  },
  "cells": [
    {
      "cell_type": "markdown",
      "metadata": {
        "id": "view-in-github"
      },
      "source": [
        "<a href=\"https://colab.research.google.com/github/janchorowski/ml_uwr/blob/fall2020/assignment3/Assignment3.ipynb\" target=\"_parent\"><img src=\"https://colab.research.google.com/assets/colab-badge.svg\" alt=\"Open In Colab\"/></a>"
      ]
    },
    {
      "cell_type": "markdown",
      "metadata": {
        "id": "6JGmPStV4yiw"
      },
      "source": [
        "# Lab Assignment 3"
      ]
    },
    {
      "cell_type": "markdown",
      "metadata": {
        "id": "aUenJ9L141My"
      },
      "source": [
        "**Submission deadline:**\n",
        "* **Regular problems: last lab session before or on Monday, 04.12.20**\n",
        "* **Bonus problems: deadline for Lab Assignment 4**\n",
        "\n",
        "**Points: 10 + 7 bonus points**\n"
      ]
    },
    {
      "cell_type": "code",
      "metadata": {
        "id": "NsnbuW1uzVcC"
      },
      "source": [
        "# Please note that this code needs only to be run in a fresh runtime.\n",
        "# However, it can be rerun afterwards too.\n",
        "!pip install -q gdown httpimport"
      ],
      "execution_count": null,
      "outputs": []
    },
    {
      "cell_type": "code",
      "metadata": {
        "id": "a4TIgG0bwlpS"
      },
      "source": [
        "# Standard IPython notebook imports\n",
        "%matplotlib inline\n",
        "\n",
        "import os\n",
        "from io import StringIO\n",
        "\n",
        "import graphviz\n",
        "import httpimport\n",
        "import matplotlib.pyplot as plt\n",
        "import numpy as np\n",
        "import pandas as pd\n",
        "import scipy.stats as sstats\n",
        "import seaborn as sns\n",
        "import sklearn.ensemble\n",
        "import sklearn.tree\n",
        "from tqdm import tqdm_notebook\n",
        "from tqdm import tqdm\n",
        "\n",
        "# In this way we can import functions straight from github\n",
        "with httpimport.github_repo(\n",
        "    \"janchorowski\", \"nn_assignments\", module=\"common\", branch=\"nn18\"\n",
        "):\n",
        "    from common.plotting import plot_mat\n",
        "\n",
        "sns.set_style(\"whitegrid\")\n"
      ],
      "execution_count": null,
      "outputs": []
    },
    {
      "cell_type": "code",
      "metadata": {
        "id": "jVAFTS46MRdA"
      },
      "source": [
        "# @title Data Loading\n",
        "# We will load a few commonly used datasets:\n",
        "# - mushroom\n",
        "# - iris\n",
        "# - adult\n",
        "# - congressional voting\n",
        "# - german credit\n",
        "\n",
        "\n",
        "# 1. Mushroom dataset\n",
        "# https://archive.ics.uci.edu/ml/datasets/mushroom\n",
        "# only categorical attributes with missing values\n",
        "columns = [\n",
        "    \"target\",\n",
        "    \"cap-shape\",\n",
        "    \"cap-surface\",\n",
        "    \"cap-color\",\n",
        "    \"bruises?\",\n",
        "    \"odor\",\n",
        "    \"gill-attachment\",\n",
        "    \"gill-spacing\",\n",
        "    \"gill-size\",\n",
        "    \"gill-color\",\n",
        "    \"stalk-shape\",\n",
        "    \"stalk-root\",\n",
        "    \"stalk-surface-above-ring\",\n",
        "    \"stalk-surface-below-ring\",\n",
        "    \"stalk-color-above-ring\",\n",
        "    \"stalk-color-below-ring\",\n",
        "    \"veil-type\",\n",
        "    \"veil-color\",\n",
        "    \"ring-number\",\n",
        "    \"ring-type\",\n",
        "    \"spore-print-color\",\n",
        "    \"population\",\n",
        "    \"habitat\",\n",
        "]\n",
        "\n",
        "# Use read_csv to load the data.\n",
        "url = \"http://archive.ics.uci.edu/ml/machine-learning-databases/mushroom/agaricus-lepiota.data\"\n",
        "mushroom_df = pd.read_csv(url, header=None, names=columns)\n",
        "mushroom_idx_df = mushroom_df.reset_index()\n",
        "\n",
        "# 2. Iris\n",
        "iris_url = \"https://archive.ics.uci.edu/ml/machine-learning-databases/iris/iris.data\"\n",
        "iris_df = pd.read_csv(\n",
        "    iris_url,\n",
        "    header=None,\n",
        "    names=[\"sepal_length\", \"sepal_width\", \"petal_length\", \"petal_width\", \"target\"],\n",
        ")\n",
        "\n",
        "# 3. Congressoinal Voting\n",
        "# Binary attributes, binary class, missing data\n",
        "vote_df = (\n",
        "    pd.read_csv(\n",
        "        \"https://pkgstore.datahub.io/machine-learning/vote/vote_csv/data/65f1736301dee4a2ad032abfe2a61acb/vote_csv.csv\"\n",
        "    )\n",
        "    .rename({\"Class\": \"target\"}, axis=1)\n",
        "    .fillna(\"na\")\n",
        ")\n",
        "\n",
        "# 4. Adult\n",
        "# census records, continuous and categorical attributes (some ordered), missing values\n",
        "adult_names = [\n",
        "    \"Age\",\n",
        "    \"Workclass\",\n",
        "    \"fnlwgt\",\n",
        "    \"Education\",\n",
        "    \"Education-Num\",\n",
        "    \"Martial Status\",\n",
        "    \"Occupation\",\n",
        "    \"Relationship\",\n",
        "    \"Race\",\n",
        "    \"Sex\",\n",
        "    \"Capital Gain\",\n",
        "    \"Capital Loss\",\n",
        "    \"Hours per week\",\n",
        "    \"Country\",\n",
        "    \"target\",\n",
        "]\n",
        "adult_df = pd.read_csv(\n",
        "    \"https://archive.ics.uci.edu/ml/machine-learning-databases/adult/adult.data\",\n",
        "    names=adult_names,\n",
        "    header=None,\n",
        "    na_values=\"?\",\n",
        ")\n",
        "adult_test_df = pd.read_csv(\n",
        "    \"https://archive.ics.uci.edu/ml/machine-learning-databases/adult/adult.test\",\n",
        "    names=adult_names,\n",
        "    header=None,\n",
        "    na_values=\"?\",\n",
        "    skiprows=1,\n",
        ")\n",
        "\n",
        "# 5. German Credit\n",
        "\n",
        "german_df = pd.read_csv(\n",
        "    \"https://archive.ics.uci.edu/ml/machine-learning-databases/statlog/german/german.data\",\n",
        "    names=[f\"A{d}\" for d in range(1, 21)] + [\"target\"],\n",
        "    header=None,\n",
        "    sep=\" \",\n",
        ")"
      ],
      "execution_count": null,
      "outputs": []
    },
    {
      "cell_type": "markdown",
      "metadata": {
        "id": "r7YoGCAiA0jA"
      },
      "source": [
        "# Problem 1 [2p] \n",
        "\n",
        "Download a categorical dataset, such as the [mushroom](https://archive.ics.uci.edu/ml/datasets/mushroom) from UCI and try to find the most predictive variables: "
      ]
    },
    {
      "cell_type": "markdown",
      "metadata": {
        "id": "yzwGKVgD2pa5"
      },
      "source": [
        "### Implement mutual information [1p]\n",
        "\n",
        "Implement the function `entropy` to compute the entropy of a columnt of the dataset.\n",
        "\n",
        "The [entropy](https://en.wikipedia.org/wiki/Entropy_(information_theory)) of a discrete variable is defined to be:\n",
        "\n",
        "$$H(X) = -\\sum_x p_X(x) \\log_2 p_X(x).$$\n",
        "\n",
        "A good in tutorial is given by Chris Olah: https://colah.github.io/posts/2015-09-Visual-Information/.\n",
        "\n",
        "\n",
        "When $X$ is a discrete random variables, we can estimate the probabilities with counts:\n",
        "\n",
        "$$p_X(x) = \\frac{\\text{number of instances where }X=x}{\\text{total number of instances}}.$$\n",
        "\n",
        "\n",
        "Hint: the following `pandas` functions may be useful:\n",
        "- `count`\n",
        "- `value_count`\n",
        "\n",
        "Then use the datafranme's `apply` function to compute the entropy of all columns."
      ]
    },
    {
      "cell_type": "code",
      "metadata": {
        "id": "bzwu1PRVW2PX",
        "colab": {
          "base_uri": "https://localhost:8080/",
          "height": 244
        },
        "outputId": "ea6fea95-2736-477b-a12b-1335d35079be"
      },
      "source": [
        "mushroom_df.describe()"
      ],
      "execution_count": null,
      "outputs": [
        {
          "output_type": "execute_result",
          "data": {
            "text/html": [
              "<div>\n",
              "<style scoped>\n",
              "    .dataframe tbody tr th:only-of-type {\n",
              "        vertical-align: middle;\n",
              "    }\n",
              "\n",
              "    .dataframe tbody tr th {\n",
              "        vertical-align: top;\n",
              "    }\n",
              "\n",
              "    .dataframe thead th {\n",
              "        text-align: right;\n",
              "    }\n",
              "</style>\n",
              "<table border=\"1\" class=\"dataframe\">\n",
              "  <thead>\n",
              "    <tr style=\"text-align: right;\">\n",
              "      <th></th>\n",
              "      <th>target</th>\n",
              "      <th>cap-shape</th>\n",
              "      <th>cap-surface</th>\n",
              "      <th>cap-color</th>\n",
              "      <th>bruises?</th>\n",
              "      <th>odor</th>\n",
              "      <th>gill-attachment</th>\n",
              "      <th>gill-spacing</th>\n",
              "      <th>gill-size</th>\n",
              "      <th>gill-color</th>\n",
              "      <th>stalk-shape</th>\n",
              "      <th>stalk-root</th>\n",
              "      <th>stalk-surface-above-ring</th>\n",
              "      <th>stalk-surface-below-ring</th>\n",
              "      <th>stalk-color-above-ring</th>\n",
              "      <th>stalk-color-below-ring</th>\n",
              "      <th>veil-type</th>\n",
              "      <th>veil-color</th>\n",
              "      <th>ring-number</th>\n",
              "      <th>ring-type</th>\n",
              "      <th>spore-print-color</th>\n",
              "      <th>population</th>\n",
              "      <th>habitat</th>\n",
              "    </tr>\n",
              "  </thead>\n",
              "  <tbody>\n",
              "    <tr>\n",
              "      <th>count</th>\n",
              "      <td>8124</td>\n",
              "      <td>8124</td>\n",
              "      <td>8124</td>\n",
              "      <td>8124</td>\n",
              "      <td>8124</td>\n",
              "      <td>8124</td>\n",
              "      <td>8124</td>\n",
              "      <td>8124</td>\n",
              "      <td>8124</td>\n",
              "      <td>8124</td>\n",
              "      <td>8124</td>\n",
              "      <td>8124</td>\n",
              "      <td>8124</td>\n",
              "      <td>8124</td>\n",
              "      <td>8124</td>\n",
              "      <td>8124</td>\n",
              "      <td>8124</td>\n",
              "      <td>8124</td>\n",
              "      <td>8124</td>\n",
              "      <td>8124</td>\n",
              "      <td>8124</td>\n",
              "      <td>8124</td>\n",
              "      <td>8124</td>\n",
              "    </tr>\n",
              "    <tr>\n",
              "      <th>unique</th>\n",
              "      <td>2</td>\n",
              "      <td>6</td>\n",
              "      <td>4</td>\n",
              "      <td>10</td>\n",
              "      <td>2</td>\n",
              "      <td>9</td>\n",
              "      <td>2</td>\n",
              "      <td>2</td>\n",
              "      <td>2</td>\n",
              "      <td>12</td>\n",
              "      <td>2</td>\n",
              "      <td>5</td>\n",
              "      <td>4</td>\n",
              "      <td>4</td>\n",
              "      <td>9</td>\n",
              "      <td>9</td>\n",
              "      <td>1</td>\n",
              "      <td>4</td>\n",
              "      <td>3</td>\n",
              "      <td>5</td>\n",
              "      <td>9</td>\n",
              "      <td>6</td>\n",
              "      <td>7</td>\n",
              "    </tr>\n",
              "    <tr>\n",
              "      <th>top</th>\n",
              "      <td>e</td>\n",
              "      <td>x</td>\n",
              "      <td>y</td>\n",
              "      <td>n</td>\n",
              "      <td>f</td>\n",
              "      <td>n</td>\n",
              "      <td>f</td>\n",
              "      <td>c</td>\n",
              "      <td>b</td>\n",
              "      <td>b</td>\n",
              "      <td>t</td>\n",
              "      <td>b</td>\n",
              "      <td>s</td>\n",
              "      <td>s</td>\n",
              "      <td>w</td>\n",
              "      <td>w</td>\n",
              "      <td>p</td>\n",
              "      <td>w</td>\n",
              "      <td>o</td>\n",
              "      <td>p</td>\n",
              "      <td>w</td>\n",
              "      <td>v</td>\n",
              "      <td>d</td>\n",
              "    </tr>\n",
              "    <tr>\n",
              "      <th>freq</th>\n",
              "      <td>4208</td>\n",
              "      <td>3656</td>\n",
              "      <td>3244</td>\n",
              "      <td>2284</td>\n",
              "      <td>4748</td>\n",
              "      <td>3528</td>\n",
              "      <td>7914</td>\n",
              "      <td>6812</td>\n",
              "      <td>5612</td>\n",
              "      <td>1728</td>\n",
              "      <td>4608</td>\n",
              "      <td>3776</td>\n",
              "      <td>5176</td>\n",
              "      <td>4936</td>\n",
              "      <td>4464</td>\n",
              "      <td>4384</td>\n",
              "      <td>8124</td>\n",
              "      <td>7924</td>\n",
              "      <td>7488</td>\n",
              "      <td>3968</td>\n",
              "      <td>2388</td>\n",
              "      <td>4040</td>\n",
              "      <td>3148</td>\n",
              "    </tr>\n",
              "  </tbody>\n",
              "</table>\n",
              "</div>"
            ],
            "text/plain": [
              "       target cap-shape cap-surface  ... spore-print-color population habitat\n",
              "count    8124      8124        8124  ...              8124       8124    8124\n",
              "unique      2         6           4  ...                 9          6       7\n",
              "top         e         x           y  ...                 w          v       d\n",
              "freq     4208      3656        3244  ...              2388       4040    3148\n",
              "\n",
              "[4 rows x 23 columns]"
            ]
          },
          "metadata": {
            "tags": []
          },
          "execution_count": 4
        }
      ]
    },
    {
      "cell_type": "markdown",
      "metadata": {
        "id": "D3R7TtNUuwbC"
      },
      "source": [
        ""
      ]
    },
    {
      "cell_type": "code",
      "metadata": {
        "colab": {
          "base_uri": "https://localhost:8080/"
        },
        "id": "Wr7aQ-yVW2Pb",
        "outputId": "4249668a-a53a-462d-fe49-24edd4df71d5"
      },
      "source": [
        "def entropy_series(series):\n",
        "    return -np.sum(series.value_counts() / series.count() * np.log2(series.value_counts() / series.count()))\n",
        "\n",
        "mushroom_df.apply(entropy_series, axis = 0)"
      ],
      "execution_count": null,
      "outputs": [
        {
          "output_type": "execute_result",
          "data": {
            "text/plain": [
              "target                      0.999068\n",
              "cap-shape                   1.652889\n",
              "cap-surface                 1.575486\n",
              "cap-color                   2.510143\n",
              "bruises?                    0.979327\n",
              "odor                        2.319414\n",
              "gill-attachment             0.173129\n",
              "gill-spacing                0.637878\n",
              "gill-size                   0.892256\n",
              "gill-color                  3.030433\n",
              "stalk-shape                 0.986927\n",
              "stalk-root                  1.822922\n",
              "stalk-surface-above-ring    1.221348\n",
              "stalk-surface-below-ring    1.399135\n",
              "stalk-color-above-ring      1.936809\n",
              "stalk-color-below-ring      1.978163\n",
              "veil-type                  -0.000000\n",
              "veil-color                  0.196238\n",
              "ring-number                 0.420680\n",
              "ring-type                   1.535121\n",
              "spore-print-color           2.203227\n",
              "population                  2.003398\n",
              "habitat                     2.274747\n",
              "dtype: float64"
            ]
          },
          "metadata": {
            "tags": []
          },
          "execution_count": 5
        }
      ]
    },
    {
      "cell_type": "markdown",
      "metadata": {
        "id": "1hJ_NNX85M2w"
      },
      "source": [
        "Implement the conditional entropy computation\n",
        "\n",
        "$$H(Y|X) = \\sum_x p_X(x) H(Y|x) = \\sum_x p_X(x) \\sum_y p_Y(y|x) \\log_2 p_Y(y|x)$$\n",
        "\n",
        "Hint 1: the above formula can be computed as follows:\n",
        "1. split the data by the values of $X$\n",
        "2. for each value $x$ that $X$ takes, compute the entropy of $Y$\n",
        "3. average the entropies, weighting them by how frequent the $x$ value ocurred.\n",
        "\n",
        "Hint 2: helpful pandas constructs are:\n",
        "- `groupby` and `agg`\n",
        "- you can aggregate a grouping using your own custom functions\n"
      ]
    },
    {
      "cell_type": "code",
      "metadata": {
        "id": "DVJwv7AvzFsH"
      },
      "source": [
        "def cond_entropy(df: pd.DataFrame, Y, X):\n",
        "    \"\"\"Compute the conditional H(Y|X) in dataframe df\n",
        "    Args:\n",
        "        df: a dataframe\n",
        "        X: the name of the conditioning columt\n",
        "        Y: the name of the column whose entropy we wish to compute\n",
        "    \"\"\"\n",
        "    res = 0\n",
        "    unique_vals = df[X].unique()\n",
        "    grouped_by_X = df.groupby(by = X)\n",
        "    counts = df[X].value_counts()\n",
        "    count = df[X].count()\n",
        "    for value in unique_vals:\n",
        "        prob_of_value = counts[value] / count\n",
        "        entropy_of_Y = entropy_series(grouped_by_X.get_group(value)[Y])\n",
        "        res += prob_of_value * entropy_of_Y\n",
        "    return res\n"
      ],
      "execution_count": null,
      "outputs": []
    },
    {
      "cell_type": "code",
      "metadata": {
        "id": "r5gXfhTwW2Pf",
        "colab": {
          "base_uri": "https://localhost:8080/"
        },
        "outputId": "e8d2a56c-b2fb-4cce-cf21-332237639aae"
      },
      "source": [
        "# Now for each column C compute the conditional entropy H(target|C)\n",
        "# Which variable tells us the most about the target\n",
        "\n",
        "for column in mushroom_df.columns:\n",
        "    if column != 'target':\n",
        "        print(f\"{column}: {cond_entropy(mushroom_df, 'target', column)}\")"
      ],
      "execution_count": null,
      "outputs": [
        {
          "output_type": "stream",
          "text": [
            "cap-shape: 0.9502711949370873\n",
            "cap-surface: 0.9704776640986876\n",
            "cap-color: 0.9630186138962565\n",
            "bruises?: 0.8066884111112408\n",
            "odor: 0.0929929194884606\n",
            "gill-attachment: 0.9849028696218441\n",
            "gill-spacing: 0.8981847128758901\n",
            "gill-size: 0.7689135217244143\n",
            "gill-color: 0.5820903734563291\n",
            "stalk-shape: 0.9915511243027961\n",
            "stalk-root: 0.8642502592451847\n",
            "stalk-surface-above-ring: 0.7143422976539759\n",
            "stalk-surface-below-ring: 0.7271734234797138\n",
            "stalk-color-above-ring: 0.7452227234102206\n",
            "stalk-color-below-ring: 0.7576523303448939\n",
            "veil-type: 0.9990678968724603\n",
            "veil-color: 0.9752508807515436\n",
            "ring-number: 0.9606152276293699\n",
            "ring-type: 0.6810463860789229\n",
            "spore-print-color: 0.518362979187545\n",
            "population: 0.797109877805608\n",
            "habitat: 0.8422342922673683\n"
          ],
          "name": "stdout"
        }
      ]
    },
    {
      "cell_type": "markdown",
      "metadata": {
        "id": "d3s2xB8-S3kD"
      },
      "source": [
        "Based on the conditional entropy, odor tells us the most about the target. "
      ]
    },
    {
      "cell_type": "markdown",
      "metadata": {
        "id": "rknQLerwx8dc"
      },
      "source": [
        "### Implement infogain ratio [1p]\n",
        "Add an ID column, that assigns a unique ID to each observation (row). Compute the mutual information between target and ID. How to interpret the results? Do you think the ID is important in predicting the target? Devise a measure similar to Information Gain Ratio from C4.5 and show its variable ranking.\n",
        "\n"
      ]
    },
    {
      "cell_type": "code",
      "metadata": {
        "id": "_LqKYhodW2Pf"
      },
      "source": [
        "mushroom_with_id = mushroom_df.copy()\n",
        "mushroom_with_id.insert(loc = 0, column = 'ID', value = [i for i in range(0, mushroom_with_id.shape[0])])"
      ],
      "execution_count": null,
      "outputs": []
    },
    {
      "cell_type": "code",
      "metadata": {
        "id": "KZSQkztAW2Pf",
        "colab": {
          "base_uri": "https://localhost:8080/",
          "height": 275
        },
        "outputId": "56dd9ab5-c654-4e5e-edbc-db7d24f35a65"
      },
      "source": [
        "mushroom_with_id.head()"
      ],
      "execution_count": null,
      "outputs": [
        {
          "output_type": "execute_result",
          "data": {
            "text/html": [
              "<div>\n",
              "<style scoped>\n",
              "    .dataframe tbody tr th:only-of-type {\n",
              "        vertical-align: middle;\n",
              "    }\n",
              "\n",
              "    .dataframe tbody tr th {\n",
              "        vertical-align: top;\n",
              "    }\n",
              "\n",
              "    .dataframe thead th {\n",
              "        text-align: right;\n",
              "    }\n",
              "</style>\n",
              "<table border=\"1\" class=\"dataframe\">\n",
              "  <thead>\n",
              "    <tr style=\"text-align: right;\">\n",
              "      <th></th>\n",
              "      <th>ID</th>\n",
              "      <th>target</th>\n",
              "      <th>cap-shape</th>\n",
              "      <th>cap-surface</th>\n",
              "      <th>cap-color</th>\n",
              "      <th>bruises?</th>\n",
              "      <th>odor</th>\n",
              "      <th>gill-attachment</th>\n",
              "      <th>gill-spacing</th>\n",
              "      <th>gill-size</th>\n",
              "      <th>gill-color</th>\n",
              "      <th>stalk-shape</th>\n",
              "      <th>stalk-root</th>\n",
              "      <th>stalk-surface-above-ring</th>\n",
              "      <th>stalk-surface-below-ring</th>\n",
              "      <th>stalk-color-above-ring</th>\n",
              "      <th>stalk-color-below-ring</th>\n",
              "      <th>veil-type</th>\n",
              "      <th>veil-color</th>\n",
              "      <th>ring-number</th>\n",
              "      <th>ring-type</th>\n",
              "      <th>spore-print-color</th>\n",
              "      <th>population</th>\n",
              "      <th>habitat</th>\n",
              "    </tr>\n",
              "  </thead>\n",
              "  <tbody>\n",
              "    <tr>\n",
              "      <th>0</th>\n",
              "      <td>0</td>\n",
              "      <td>p</td>\n",
              "      <td>x</td>\n",
              "      <td>s</td>\n",
              "      <td>n</td>\n",
              "      <td>t</td>\n",
              "      <td>p</td>\n",
              "      <td>f</td>\n",
              "      <td>c</td>\n",
              "      <td>n</td>\n",
              "      <td>k</td>\n",
              "      <td>e</td>\n",
              "      <td>e</td>\n",
              "      <td>s</td>\n",
              "      <td>s</td>\n",
              "      <td>w</td>\n",
              "      <td>w</td>\n",
              "      <td>p</td>\n",
              "      <td>w</td>\n",
              "      <td>o</td>\n",
              "      <td>p</td>\n",
              "      <td>k</td>\n",
              "      <td>s</td>\n",
              "      <td>u</td>\n",
              "    </tr>\n",
              "    <tr>\n",
              "      <th>1</th>\n",
              "      <td>1</td>\n",
              "      <td>e</td>\n",
              "      <td>x</td>\n",
              "      <td>s</td>\n",
              "      <td>y</td>\n",
              "      <td>t</td>\n",
              "      <td>a</td>\n",
              "      <td>f</td>\n",
              "      <td>c</td>\n",
              "      <td>b</td>\n",
              "      <td>k</td>\n",
              "      <td>e</td>\n",
              "      <td>c</td>\n",
              "      <td>s</td>\n",
              "      <td>s</td>\n",
              "      <td>w</td>\n",
              "      <td>w</td>\n",
              "      <td>p</td>\n",
              "      <td>w</td>\n",
              "      <td>o</td>\n",
              "      <td>p</td>\n",
              "      <td>n</td>\n",
              "      <td>n</td>\n",
              "      <td>g</td>\n",
              "    </tr>\n",
              "    <tr>\n",
              "      <th>2</th>\n",
              "      <td>2</td>\n",
              "      <td>e</td>\n",
              "      <td>b</td>\n",
              "      <td>s</td>\n",
              "      <td>w</td>\n",
              "      <td>t</td>\n",
              "      <td>l</td>\n",
              "      <td>f</td>\n",
              "      <td>c</td>\n",
              "      <td>b</td>\n",
              "      <td>n</td>\n",
              "      <td>e</td>\n",
              "      <td>c</td>\n",
              "      <td>s</td>\n",
              "      <td>s</td>\n",
              "      <td>w</td>\n",
              "      <td>w</td>\n",
              "      <td>p</td>\n",
              "      <td>w</td>\n",
              "      <td>o</td>\n",
              "      <td>p</td>\n",
              "      <td>n</td>\n",
              "      <td>n</td>\n",
              "      <td>m</td>\n",
              "    </tr>\n",
              "    <tr>\n",
              "      <th>3</th>\n",
              "      <td>3</td>\n",
              "      <td>p</td>\n",
              "      <td>x</td>\n",
              "      <td>y</td>\n",
              "      <td>w</td>\n",
              "      <td>t</td>\n",
              "      <td>p</td>\n",
              "      <td>f</td>\n",
              "      <td>c</td>\n",
              "      <td>n</td>\n",
              "      <td>n</td>\n",
              "      <td>e</td>\n",
              "      <td>e</td>\n",
              "      <td>s</td>\n",
              "      <td>s</td>\n",
              "      <td>w</td>\n",
              "      <td>w</td>\n",
              "      <td>p</td>\n",
              "      <td>w</td>\n",
              "      <td>o</td>\n",
              "      <td>p</td>\n",
              "      <td>k</td>\n",
              "      <td>s</td>\n",
              "      <td>u</td>\n",
              "    </tr>\n",
              "    <tr>\n",
              "      <th>4</th>\n",
              "      <td>4</td>\n",
              "      <td>e</td>\n",
              "      <td>x</td>\n",
              "      <td>s</td>\n",
              "      <td>g</td>\n",
              "      <td>f</td>\n",
              "      <td>n</td>\n",
              "      <td>f</td>\n",
              "      <td>w</td>\n",
              "      <td>b</td>\n",
              "      <td>k</td>\n",
              "      <td>t</td>\n",
              "      <td>e</td>\n",
              "      <td>s</td>\n",
              "      <td>s</td>\n",
              "      <td>w</td>\n",
              "      <td>w</td>\n",
              "      <td>p</td>\n",
              "      <td>w</td>\n",
              "      <td>o</td>\n",
              "      <td>e</td>\n",
              "      <td>n</td>\n",
              "      <td>a</td>\n",
              "      <td>g</td>\n",
              "    </tr>\n",
              "  </tbody>\n",
              "</table>\n",
              "</div>"
            ],
            "text/plain": [
              "   ID target cap-shape  ... spore-print-color population habitat\n",
              "0   0      p         x  ...                 k          s       u\n",
              "1   1      e         x  ...                 n          n       g\n",
              "2   2      e         b  ...                 n          n       m\n",
              "3   3      p         x  ...                 k          s       u\n",
              "4   4      e         x  ...                 n          a       g\n",
              "\n",
              "[5 rows x 24 columns]"
            ]
          },
          "metadata": {
            "tags": []
          },
          "execution_count": 9
        }
      ]
    },
    {
      "cell_type": "code",
      "metadata": {
        "colab": {
          "base_uri": "https://localhost:8080/"
        },
        "id": "YW83F2DlTaji",
        "outputId": "f35d7653-b87e-4895-b2d2-6d3a786e3555"
      },
      "source": [
        "# I(target, ID) = H(ID) - H(ID, target)\n",
        "print(f\"{entropy_series(mushroom_with_id['ID']) - cond_entropy(mushroom_with_id, 'ID', 'target'):.6f}\")"
      ],
      "execution_count": null,
      "outputs": [
        {
          "output_type": "stream",
          "text": [
            "0.999068\n"
          ],
          "name": "stdout"
        }
      ]
    },
    {
      "cell_type": "code",
      "metadata": {
        "colab": {
          "base_uri": "https://localhost:8080/"
        },
        "id": "i97aDu86TspB",
        "outputId": "8c821c98-38e0-49d1-9527-6972654a0fec"
      },
      "source": [
        "# I(target, ID) = H(target) - H(target, ID)\n",
        "print(f\"{entropy_series(mushroom_with_id['target']) - cond_entropy(mushroom_with_id, 'target', 'ID'):.6}\")"
      ],
      "execution_count": null,
      "outputs": [
        {
          "output_type": "stream",
          "text": [
            "0.999068\n"
          ],
          "name": "stdout"
        }
      ]
    },
    {
      "cell_type": "markdown",
      "metadata": {
        "id": "m79n5YldW2Pf"
      },
      "source": [
        "Mutual information is equal to entropy of 'target'.\n",
        "<br/>\n",
        "If we calculate H(target, ID), we can see that the inner sum of this formula:\n",
        "$$\\sum_x p_{ID}(x) \\sum_y p_{target}(y|x) \\log_2 p_{target}(y|x)$$\n",
        "is always equal to 0 (entropy of a random variable that can only have one value is 0). <br/>\n",
        "Therefore, if we subtract H(target, ID) from H(target), we end up with H(target) as the value of mutual information. <br/>\n",
        "Every row's ID is unique, so knowing the value of ID unambiguously tells us what is the target. <br/>\n",
        "ID predicts the target for training data but it's useless for predicting the target on any data from outside the training set. "
      ]
    },
    {
      "cell_type": "code",
      "metadata": {
        "id": "8EjftMraW2Ph",
        "colab": {
          "base_uri": "https://localhost:8080/"
        },
        "outputId": "a8d3d403-978a-4b0e-e0aa-9a478a92f3b4"
      },
      "source": [
        "for column in mushroom_with_id.columns:\n",
        "    col_entropy = entropy_series(mushroom_with_id[column])\n",
        "    mut_information = entropy_series(mushroom_with_id['target']) - cond_entropy(mushroom_with_id, 'target', column)\n",
        "    if col_entropy == 0:\n",
        "        col_entropy += 1e-30\n",
        "    print(f\"{column}: {mut_information / col_entropy}\")"
      ],
      "execution_count": null,
      "outputs": [
        {
          "output_type": "stream",
          "text": [
            "ID: 0.07692253284016984\n",
            "target: 1.0\n",
            "cap-shape: 0.02952206988590187\n",
            "cap-surface: 0.01814692451164122\n",
            "cap-color: 0.014361447780696823\n",
            "bruises?: 0.19644043129956845\n",
            "odor: 0.3906481565033008\n",
            "gill-attachment: 0.0818178118172925\n",
            "gill-spacing: 0.15815426132075966\n",
            "gill-size: 0.25794648736352677\n",
            "gill-color: 0.13759668648296522\n",
            "stalk-shape: 0.007616338689020934\n",
            "stalk-root: 0.07395690261310009\n",
            "stalk-surface-above-ring: 0.2331240725567335\n",
            "stalk-surface-below-ring: 0.19433046798651937\n",
            "stalk-color-above-ring: 0.13106361757552198\n",
            "stalk-color-below-ring: 0.12204028298851571\n",
            "veil-type: 0.0\n",
            "veil-color: 0.12136782986327024\n",
            "ring-number: 0.09140595216694161\n",
            "ring-type: 0.20716374427196194\n",
            "spore-print-color: 0.21818217753240354\n",
            "population: 0.10080772885489371\n",
            "habitat: 0.0689455094456155\n"
          ],
          "name": "stdout"
        }
      ]
    },
    {
      "cell_type": "markdown",
      "metadata": {
        "id": "_i6oE7diW2Pi"
      },
      "source": [
        "Value for ID is smaller than value for target because the entropy of ID is higher => information needed to specify the outcome is higher. "
      ]
    },
    {
      "cell_type": "markdown",
      "metadata": {
        "id": "yQfI6oJHczUa"
      },
      "source": [
        "# Problem 2: Decision Tree Implementation\n",
        "\n",
        "Currently, there are no good implementations of Decision Trees in Python.\n",
        "\n",
        "Sadly, the machine leading toolkit [sklearn](https://scikit-learn.org/stable/index.html) doesn't handle categorical attributes. Let's use this as an excuse to implement Decision Tress ourselves.\n",
        "\n"
      ]
    },
    {
      "cell_type": "markdown",
      "metadata": {
        "id": "MHSSMQuWJ3nv"
      },
      "source": [
        "## Decision Tree Task 1: Purity Measures [1p]\n",
        "\n",
        "Please fill the purity measures below.\n",
        "\n",
        "Verify the correctness by plotting the purity values if a two-class set with given class probabilities"
      ]
    },
    {
      "cell_type": "code",
      "metadata": {
        "id": "jxY5U5MFW2Pi"
      },
      "source": [
        "def entropy(counts):\n",
        "    return -np.sum(counts / counts.sum() * np.log2(counts / counts.sum() + 1e-100))"
      ],
      "execution_count": null,
      "outputs": []
    },
    {
      "cell_type": "code",
      "metadata": {
        "id": "kvVoHOzeW2Pi"
      },
      "source": [
        "def gini(counts):\n",
        "    return 1 - np.sum((counts/counts.sum())**2)"
      ],
      "execution_count": null,
      "outputs": []
    },
    {
      "cell_type": "code",
      "metadata": {
        "id": "eeL1vTWlW2Pi"
      },
      "source": [
        "def mean_err_rate(counts):\n",
        "    return 1 - np.max(counts) / counts.sum()"
      ],
      "execution_count": null,
      "outputs": []
    },
    {
      "cell_type": "code",
      "metadata": {
        "colab": {
          "base_uri": "https://localhost:8080/",
          "height": 367
        },
        "id": "OJyyb5YY9o_H",
        "outputId": "71e87d64-ace1-4780-cbf2-92c2a4ce7971"
      },
      "source": [
        "# Make a plot of the purity functions\n",
        "\n",
        "plt.figure(figsize = (5,5))\n",
        "fractions = np.linspace(0, 1, 101)\n",
        "err_rates = [mean_err_rate(np.array([f, 1.0-f])) for f in fractions]\n",
        "entropy_vals = [entropy(np.array([f, 1.0-f])) for f in fractions]\n",
        "gini_vals = [gini(np.array([f, 1.0-f])) for f in fractions]\n",
        "plt.plot(fractions, err_rates)\n",
        "plt.plot(fractions, entropy_vals)\n",
        "plt.plot(fractions, gini_vals)\n",
        "plt.title(\"Purity measure\")\n",
        "plt.xlabel(\"Class balance\")"
      ],
      "execution_count": null,
      "outputs": [
        {
          "output_type": "execute_result",
          "data": {
            "text/plain": [
              "Text(0.5, 0, 'Class balance')"
            ]
          },
          "metadata": {
            "tags": []
          },
          "execution_count": 16
        },
        {
          "output_type": "display_data",
          "data": {
            "image/png": "[encoded data removed]",
            "text/plain": [
              "<Figure size 360x360 with 1 Axes>"
            ]
          },
          "metadata": {
            "tags": []
          }
        }
      ]
    },
    {
      "cell_type": "markdown",
      "metadata": {
        "id": "sYD_oPNBuuWk"
      },
      "source": [
        "## Decision Tree Task 2: Categorical Splits [1p]\n",
        "\n",
        "### The anatomy of a Decision Tree\n",
        "\n",
        "\n",
        "All internal (non-leaf) nodes of a split training examples according to a test implemented by the node. We capture this behavior using a generic `AbstractSplit` class which implements a split of data contained in the dataframe `df` using the attribute `attr`.\n",
        "\n",
        "The class features a lightweight constructor, `__init__` which only saves the information required to later split a training dataframe and recursively build the subtrees using the `build_subtrees` method.\n",
        "\n",
        "Fill in the blanks in the code below, as indicated by the TODO comments."
      ]
    },
    {
      "cell_type": "code",
      "metadata": {
        "id": "IgLVlZhvy5hl"
      },
      "source": [
        "class AbstractSplit:\n",
        "    \"\"\"Split the examples in a tree node according to a criterion.\n",
        "    \"\"\"\n",
        "\n",
        "    def __init__(self, attr):\n",
        "        self.attr = attr\n",
        "        self.purity_gain = None \n",
        "\n",
        "    def __call__(self, x):\n",
        "        \"\"\"Return the subtree corresponding to x.\"\"\"\n",
        "        raise NotImplementedError\n",
        "\n",
        "    def build_subtrees(self, df, subtree_kwargs):\n",
        "        \"\"\"Recuisively build the subtrees.\"\"\"\n",
        "        raise NotImplementedError\n",
        "\n",
        "    def iter_subtrees(self):\n",
        "        \"\"\"Return an iterator over subtrees.\"\"\"\n",
        "        raise NotImplementedError\n",
        "\n",
        "    def add_to_graphviz(self, dot):\n",
        "        \"\"\"Add the split to the graphviz vizalization.\"\"\"\n",
        "        raise NotImplementedError\n",
        "\n",
        "    def get_purity_gain(self):\n",
        "        return self.purity_gain\n",
        "\n",
        "    def __str__(self):\n",
        "        return f\"{self.__class__.__name__}: {self.attr}\""
      ],
      "execution_count": null,
      "outputs": []
    },
    {
      "cell_type": "markdown",
      "metadata": {
        "id": "IU6lhc_z9cx6"
      },
      "source": [
        "We will first implement a Multivariate Categorical split which has a subtree for each value that an attribute may take."
      ]
    },
    {
      "cell_type": "code",
      "metadata": {
        "id": "CdUeZJTGwwHc"
      },
      "source": [
        "class CategoricalMultivalueSplit(AbstractSplit):\n",
        "    def build_subtrees(self, df, subtree_kwargs):\n",
        "        self.subtrees = {}\n",
        "        for group_name, group_df in df.groupby(self.attr):\n",
        "            child = Tree(group_df, **subtree_kwargs)\n",
        "            self.subtrees[group_name] = child\n",
        "\n",
        "    def __call__(self, x):\n",
        "        # Return the subtree for the given example\n",
        "        if x[self.attr] in self.subtrees.keys():\n",
        "            return self.subtrees[x[self.attr]]\n",
        "        else:\n",
        "            return \"NOT_HANDLED\"\n",
        "    \n",
        "    def iter_subtrees(self):\n",
        "        # self.subtrees is a dictionary - group_name: child\n",
        "        return self.subtrees.values()\n",
        "\n",
        "    def add_to_graphviz(self, dot, parent, print_info):\n",
        "        for split_name, child in self.subtrees.items():\n",
        "            child.add_to_graphviz(dot, print_info)\n",
        "            dot.edge(f\"{id(parent)}\", f\"{id(child)}\", label=f\"{split_name}\")"
      ],
      "execution_count": null,
      "outputs": []
    },
    {
      "cell_type": "code",
      "metadata": {
        "id": "XUWaldXZ96Ha"
      },
      "source": [
        "def get_categorical_split_and_purity(\n",
        "    df, parent_purity, purity_fun, attr, normalize_by_split_entropy=False\n",
        "):\n",
        "    \"\"\"Return a multivariate split and its purity.\n",
        "    Args:\n",
        "        df: a dataframe\n",
        "        parent_purity: purity of the parent node\n",
        "        purity_fun: function to compute the purity\n",
        "        attr: attribute over whihc to split the dataframe\n",
        "        normalize_by_split_entropy: if True, divide the purity gain by the split\n",
        "            entropy (to compute https://en.wikipedia.org/wiki/Information_gain_ratio)\n",
        "    \n",
        "    Returns:\n",
        "        pair of (split, purity_gain)\n",
        "    \"\"\"\n",
        "    split = CategoricalMultivalueSplit(attr)\n",
        "    # Compute the purity after the split\n",
        "    mean_child_purity= np.sum([purity_fun(group_df['target'].value_counts()) * group_df['target'].count()\n",
        "                               for group_name, group_df in df.groupby(attr)]) / df['target'].count()  # cond_entropy(df, 'target', attr)  \n",
        "        \n",
        "    # Note: when purity is measured by entropy, this corresponds to Mutual Information\n",
        "    purity_gain = parent_purity - mean_child_purity\n",
        "    if normalize_by_split_entropy:\n",
        "        purity_gain /= entropy(df[attr].value_counts())\n",
        "    split.purity_gain = purity_gain\n",
        "    split.mean_child_purity = mean_child_purity\n",
        "    return split, purity_gain "
      ],
      "execution_count": null,
      "outputs": []
    },
    {
      "cell_type": "code",
      "metadata": {
        "id": "2e_C9VVl6omi"
      },
      "source": [
        "def get_split(df, criterion=\"infogain\", nattrs=None):\n",
        "    \"\"\"Find best split on the given dataframe.\n",
        "    \n",
        "    Attributes:\n",
        "        - df: the dataframe of smaples in the node to be split\n",
        "        - criterion: spluis selection criterion\n",
        "        - nattrs: flag to randomly limit the number of considered attributes. Used \n",
        "          in random tree impementations.\n",
        "\n",
        "    Returns:\n",
        "        - If no split exists, return None.\n",
        "        - If a split exists, return an instance of a subclass of AbstractSplit\n",
        "    \"\"\"\n",
        "    # Implement termination criteria:\n",
        "    # TermCrit1: Node is pure\n",
        "    target_value_counts = df[\"target\"].value_counts()\n",
        "    if len(target_value_counts) == 1:\n",
        "        return None\n",
        "    # TermCrit2: No split is possible\n",
        "    #    First get a list of attributes that can be split\n",
        "    #    (i.e. attribute is not target and atribute can take more than one value)\n",
        "    #\n",
        "    #    The list of attributes on which we can split will also be handy for building random trees.\n",
        "    #    possible_splits must be a list\n",
        "    possible_splits = [attribute for attribute in df.columns if (attribute != 'target'\n",
        "                                                                and len(df[attribute].value_counts()) != 1)]  \n",
        "                                                                \n",
        "    assert \"target\" not in possible_splits\n",
        "    #    Terminate early if none are possivle\n",
        "    if not possible_splits:\n",
        "        return None\n",
        "\n",
        "    # Get the base purity measure and the purity function\n",
        "    if criterion in [\"infogain\", \"infogain_ratio\"]:\n",
        "        purity_fun = entropy\n",
        "    elif criterion in [\"mean_err_rate\"]:\n",
        "        purity_fun = mean_err_rate\n",
        "    elif criterion in [\"gini\"]:\n",
        "        purity_fun = gini\n",
        "    else:\n",
        "        raise Exception(\"Unknown criterion: \" + criterion)\n",
        "    base_purity = purity_fun(target_value_counts)\n",
        "\n",
        "    best_purity_gain = -1\n",
        "    best_split = None\n",
        "\n",
        "    # Random Forest support\n",
        "    # restrict possible_splits to a few radomly selected attributes\n",
        "    if nattrs is not None and nattrs <= len(possible_splits):\n",
        "        n = len(possible_splits)\n",
        "        possible_splits = np.random.choice(possible_splits, size = min(n, nattrs), replace = False)\n",
        "    \n",
        "    for attr in possible_splits:\n",
        "        if np.issubdtype(df[attr].dtype, np.number):\n",
        "            # Handling of numerical attributes will be defined later, in a manner\n",
        "            # similar to categorical ones\n",
        "            split_sel_fun = get_numerical_split_and_purity\n",
        "        else:\n",
        "            split_sel_fun = get_categorical_split_and_purity\n",
        "        split, purity_gain = split_sel_fun(\n",
        "            df,\n",
        "            base_purity,\n",
        "            purity_fun,\n",
        "            attr,\n",
        "            normalize_by_split_entropy=criterion.endswith(\"ratio\"),\n",
        "        )\n",
        "\n",
        "        if purity_gain > best_purity_gain:\n",
        "            best_purity_gain = purity_gain\n",
        "            best_split = split\n",
        "    return best_split"
      ],
      "execution_count": null,
      "outputs": []
    },
    {
      "cell_type": "markdown",
      "metadata": {
        "id": "latO4p-WAHiG"
      },
      "source": [
        "We can now define a Tree class, which represents both a Decision Tree and its Nodes.\n",
        "\n",
        "Each node saves its class distribution in the `counts` attribute and debug/visualization information in the `info` field. \n",
        "\n",
        "Leaf nodes have `split == None`, while internal nodes have a split which points to subtrees.\n"
      ]
    },
    {
      "cell_type": "code",
      "metadata": {
        "id": "7-CMCry3AK7n"
      },
      "source": [
        "class Tree:\n",
        "    def __init__(self, df, **kwargs):\n",
        "        super().__init__()\n",
        "        # Assert that threre are no missing values,\n",
        "        # TODO: remove this for bonus problem #2.4\n",
        "        assert not df.isnull().values.any()\n",
        "\n",
        "        # Technicality:\n",
        "        # We need to let subtrees know about all targets to properly color nodes\n",
        "        # We pass this in subtree arguments.\n",
        "        if \"all_targets\" not in kwargs:\n",
        "            kwargs[\"all_targets\"] = sorted(df[\"target\"].unique())\n",
        "        # Save keyword arguments to build subtrees\n",
        "        kwargs_orig = dict(kwargs)\n",
        " \n",
        "        # Get kwargs we know about, remaning ones will be used for splitting\n",
        "        self.all_targets = kwargs.pop(\"all_targets\")\n",
        "\n",
        "        # Save debug info for visualization\n",
        "        # Debugging tip: contents of self.info are printed in tree visualizations!\n",
        "        self.counts = df[\"target\"].value_counts()\n",
        "        self.info = {\n",
        "            \"num_samples\": len(df),\n",
        "            \"entropy\": entropy(self.counts),\n",
        "            \"gini\": gini(self.counts),\n",
        "        }\n",
        "\n",
        "        self.split = get_split(df, **kwargs)\n",
        "        if self.split:\n",
        "            self.split.build_subtrees(df, kwargs_orig)\n",
        "\n",
        "    def get_target_distribution(self, sample):\n",
        "        if self.split is None:\n",
        "            return self.counts\n",
        "        # TODO: descend into subtrees and return the leaf target distribution\n",
        "        else:\n",
        "            subtree = self.split(sample)\n",
        "            if subtree == \"NOT_HANDLED\":\n",
        "                return self.counts\n",
        "            else:\n",
        "                return self.split(sample).get_target_distribution(sample)\n",
        "            \n",
        "    def classify(self, sample):\n",
        "        # TODO: classify the sample by descending into the appropriate subtrees.\n",
        "        # Hint: you can also use self.get_target_distribution\n",
        "        counts = self.get_target_distribution(sample)\n",
        "        return counts.keys()[0]\n",
        "        \n",
        "    def draw(self, print_info=True):\n",
        "        dot = graphviz.Digraph()\n",
        "        self.add_to_graphviz(dot, print_info)\n",
        "        return dot\n",
        "\n",
        "    def add_to_graphviz(self, dot, print_info):\n",
        "        freqs = self.counts / self.counts.sum()\n",
        "        freqs = dict(freqs)\n",
        "        colors = []\n",
        "        freqs_info = []\n",
        "        for i, c in enumerate(self.all_targets):\n",
        "            freq = freqs.get(c, 0.0)\n",
        "            if freq > 0:\n",
        "                colors.append(f\"{i%9 + 1};{freq}\")\n",
        "                freqs_info.append(f\"{c}:{freq:.3f}\")\n",
        "        colors = \":\".join(colors)\n",
        "        labels = [\" \".join(freqs_info)]\n",
        "        if print_info:\n",
        "            for k, v in self.info.items():\n",
        "                labels.append(f\"{k} = {v}\")\n",
        "        if self.split:\n",
        "            labels.append(f\"split by: {self.split.attr}\")\n",
        "        dot.node(\n",
        "            f\"{id(self)}\",\n",
        "            label=\"\\n\".join(labels),\n",
        "            shape=\"box\",\n",
        "            style=\"striped\",\n",
        "            fillcolor=colors,\n",
        "            colorscheme=\"set19\",\n",
        "        )\n",
        "        if self.split:\n",
        "            self.split.add_to_graphviz(dot, self, print_info)"
      ],
      "execution_count": null,
      "outputs": []
    },
    {
      "cell_type": "markdown",
      "metadata": {
        "id": "DR16up_sVVgJ"
      },
      "source": [
        "#### Tree for criterion = entropy (infogain)\n"
      ]
    },
    {
      "cell_type": "code",
      "metadata": {
        "colab": {
          "base_uri": "https://localhost:8080/"
        },
        "id": "xpNExVwICWJL",
        "outputId": "520e245b-4079-4e4b-9892-abf826104c2e"
      },
      "source": [
        "# Train a Decision Tree on the mushroom data.\n",
        "# Plot the tree using the `.draw()` method.\n",
        "\n",
        "# Note: for this code to work you must fix the todos in the previous sections\n",
        "\n",
        "mushroom_tree = Tree(mushroom_df)\n",
        "mushroom_tree.draw()"
      ],
      "execution_count": null,
      "outputs": [
        {
          "output_type": "execute_result",
          "data": {
            "text/plain": [
              "<graphviz.dot.Digraph at 0x7fe051f7dd68>"
            ],
            "image/svg+xml": "<?xml version=\"1.0\" encoding=\"UTF-8\" standalone=\"no\"?>\n<!DOCTYPE svg PUBLIC \"-//W3C//DTD SVG 1.1//EN\"\n \"http://www.w3.org/Graphics/SVG/1.1/DTD/svg11.dtd\">\n<!-- Generated by graphviz version 2.40.1 (20161225.0304)\n -->\n<!-- Title: %3 Pages: 1 -->\n<svg width=\"1681pt\" height=\"612pt\"\n viewBox=\"0.00 0.00 1681.00 612.00\" xmlns=\"http://www.w3.org/2000/svg\" xmlns:xlink=\"http://www.w3.org/1999/xlink\">\n<g id=\"graph0\" class=\"graph\" transform=\"scale(1 1) rotate(0) translate(4 608)\">\n<title>%3</title>\n<polygon fill=\"#ffffff\" stroke=\"transparent\" points=\"-4,4 -4,-608 1677,-608 1677,4 -4,4\"/>\n<!-- 140601424770496 -->\n<g id=\"node1\" class=\"node\">\n<title>140601424770496</title>\n<polygon fill=\"#e41a1c\" stroke=\"#000000\" stroke-width=\".5\" points=\"575,-521 682.7381,-521 682.7381,-604 575,-604 575,-521\"/>\n<polygon fill=\"#377eb8\" stroke=\"#000000\" stroke-width=\".5\" points=\"682.7381,-521 783,-521 783,-604 682.7381,-604 682.7381,-521\"/>\n<polygon fill=\"none\" stroke=\"#000000\" points=\"783,-604 575,-604 575,-521 783,-521 783,-604\"/>\n<text text-anchor=\"middle\" x=\"679\" y=\"-588.8\" font-family=\"Times,serif\" font-size=\"14.00\" fill=\"#000000\">e:0.518 p:0.482</text>\n<text text-anchor=\"middle\" x=\"679\" y=\"-573.8\" font-family=\"Times,serif\" font-size=\"14.00\" fill=\"#000000\">num_samples = 8124</text>\n<text text-anchor=\"middle\" x=\"679\" y=\"-558.8\" font-family=\"Times,serif\" font-size=\"14.00\" fill=\"#000000\">entropy = 0.9990678968724603</text>\n<text text-anchor=\"middle\" x=\"679\" y=\"-543.8\" font-family=\"Times,serif\" font-size=\"14.00\" fill=\"#000000\">gini = 0.49935405449893955</text>\n<text text-anchor=\"middle\" x=\"679\" y=\"-528.8\" font-family=\"Times,serif\" font-size=\"14.00\" fill=\"#000000\">split by: odor</text>\n</g>\n<!-- 140601424743672 -->\n<g id=\"node2\" class=\"node\">\n<title>140601424743672</title>\n<polygon fill=\"#e41a1c\" stroke=\"#000000\" stroke-width=\".5\" points=\"0,-394.5 134,-394.5 134,-462.5 0,-462.5 0,-394.5\"/>\n<polygon fill=\"none\" stroke=\"#000000\" points=\"134,-462.5 0,-462.5 0,-394.5 134,-394.5 134,-462.5\"/>\n<text text-anchor=\"middle\" x=\"67\" y=\"-447.3\" font-family=\"Times,serif\" font-size=\"14.00\" fill=\"#000000\">e:1.000</text>\n<text text-anchor=\"middle\" x=\"67\" y=\"-432.3\" font-family=\"Times,serif\" font-size=\"14.00\" fill=\"#000000\">num_samples = 400</text>\n<text text-anchor=\"middle\" x=\"67\" y=\"-417.3\" font-family=\"Times,serif\" font-size=\"14.00\" fill=\"#000000\">entropy = &#45;0.0</text>\n<text text-anchor=\"middle\" x=\"67\" y=\"-402.3\" font-family=\"Times,serif\" font-size=\"14.00\" fill=\"#000000\">gini = 0.0</text>\n</g>\n<!-- 140601424770496&#45;&gt;140601424743672 -->\n<g id=\"edge1\" class=\"edge\">\n<title>140601424770496&#45;&gt;140601424743672</title>\n<path fill=\"none\" stroke=\"#000000\" d=\"M574.9696,-554.7299C465.0881,-544.1962 288.0141,-520.5393 143,-470 140.112,-468.9935 137.2031,-467.8849 134.2947,-466.6967\"/>\n<polygon fill=\"#000000\" stroke=\"#000000\" points=\"135.6005,-463.4479 125.035,-462.6593 132.8027,-469.8645 135.6005,-463.4479\"/>\n<text text-anchor=\"middle\" x=\"246.5\" y=\"-491.8\" font-family=\"Times,serif\" font-size=\"14.00\" fill=\"#000000\">a</text>\n</g>\n<!-- 140601424744232 -->\n<g id=\"node3\" class=\"node\">\n<title>140601424744232</title>\n<polygon fill=\"#377eb8\" stroke=\"#000000\" stroke-width=\".5\" points=\"152,-394.5 286,-394.5 286,-462.5 152,-462.5 152,-394.5\"/>\n<polygon fill=\"none\" stroke=\"#000000\" points=\"286,-462.5 152,-462.5 152,-394.5 286,-394.5 286,-462.5\"/>\n<text text-anchor=\"middle\" x=\"219\" y=\"-447.3\" font-family=\"Times,serif\" font-size=\"14.00\" fill=\"#000000\">p:1.000</text>\n<text text-anchor=\"middle\" x=\"219\" y=\"-432.3\" font-family=\"Times,serif\" font-size=\"14.00\" fill=\"#000000\">num_samples = 192</text>\n<text text-anchor=\"middle\" x=\"219\" y=\"-417.3\" font-family=\"Times,serif\" font-size=\"14.00\" fill=\"#000000\">entropy = &#45;0.0</text>\n<text text-anchor=\"middle\" x=\"219\" y=\"-402.3\" font-family=\"Times,serif\" font-size=\"14.00\" fill=\"#000000\">gini = 0.0</text>\n</g>\n<!-- 140601424770496&#45;&gt;140601424744232 -->\n<g id=\"edge2\" class=\"edge\">\n<title>140601424770496&#45;&gt;140601424744232</title>\n<path fill=\"none\" stroke=\"#000000\" d=\"M574.8962,-545.1244C496.3514,-530.1861 386.8115,-505.4092 295,-470 292.4577,-469.0195 289.8945,-467.9698 287.3259,-466.8657\"/>\n<polygon fill=\"#000000\" stroke=\"#000000\" points=\"288.584,-463.5933 278.0307,-462.6557 285.6959,-469.9697 288.584,-463.5933\"/>\n<text text-anchor=\"middle\" x=\"391.5\" y=\"-491.8\" font-family=\"Times,serif\" font-size=\"14.00\" fill=\"#000000\">c</text>\n</g>\n<!-- 140601424744176 -->\n<g id=\"node4\" class=\"node\">\n<title>140601424744176</title>\n<polygon fill=\"#377eb8\" stroke=\"#000000\" stroke-width=\".5\" points=\"304.5,-394.5 445.5,-394.5 445.5,-462.5 304.5,-462.5 304.5,-394.5\"/>\n<polygon fill=\"none\" stroke=\"#000000\" points=\"445.5,-462.5 304.5,-462.5 304.5,-394.5 445.5,-394.5 445.5,-462.5\"/>\n<text text-anchor=\"middle\" x=\"375\" y=\"-447.3\" font-family=\"Times,serif\" font-size=\"14.00\" fill=\"#000000\">p:1.000</text>\n<text text-anchor=\"middle\" x=\"375\" y=\"-432.3\" font-family=\"Times,serif\" font-size=\"14.00\" fill=\"#000000\">num_samples = 2160</text>\n<text text-anchor=\"middle\" x=\"375\" y=\"-417.3\" font-family=\"Times,serif\" font-size=\"14.00\" fill=\"#000000\">entropy = &#45;0.0</text>\n<text text-anchor=\"middle\" x=\"375\" y=\"-402.3\" font-family=\"Times,serif\" font-size=\"14.00\" fill=\"#000000\">gini = 0.0</text>\n</g>\n<!-- 140601424770496&#45;&gt;140601424744176 -->\n<g id=\"edge3\" class=\"edge\">\n<title>140601424770496&#45;&gt;140601424744176</title>\n<path fill=\"none\" stroke=\"#000000\" d=\"M574.7508,-521.6457C536.7443,-506.1768 493.6314,-487.9551 455,-470 452.9249,-469.0355 450.8258,-468.0458 448.7122,-467.0369\"/>\n<polygon fill=\"#000000\" stroke=\"#000000\" points=\"449.9064,-463.7261 439.3818,-462.5088 446.8502,-470.0237 449.9064,-463.7261\"/>\n<text text-anchor=\"middle\" x=\"531.5\" y=\"-491.8\" font-family=\"Times,serif\" font-size=\"14.00\" fill=\"#000000\">f</text>\n</g>\n<!-- 140601424741936 -->\n<g id=\"node5\" class=\"node\">\n<title>140601424741936</title>\n<polygon fill=\"#e41a1c\" stroke=\"#000000\" stroke-width=\".5\" points=\"464,-394.5 598,-394.5 598,-462.5 464,-462.5 464,-394.5\"/>\n<polygon fill=\"none\" stroke=\"#000000\" points=\"598,-462.5 464,-462.5 464,-394.5 598,-394.5 598,-462.5\"/>\n<text text-anchor=\"middle\" x=\"531\" y=\"-447.3\" font-family=\"Times,serif\" font-size=\"14.00\" fill=\"#000000\">e:1.000</text>\n<text text-anchor=\"middle\" x=\"531\" y=\"-432.3\" font-family=\"Times,serif\" font-size=\"14.00\" fill=\"#000000\">num_samples = 400</text>\n<text text-anchor=\"middle\" x=\"531\" y=\"-417.3\" font-family=\"Times,serif\" font-size=\"14.00\" fill=\"#000000\">entropy = &#45;0.0</text>\n<text text-anchor=\"middle\" x=\"531\" y=\"-402.3\" font-family=\"Times,serif\" font-size=\"14.00\" fill=\"#000000\">gini = 0.0</text>\n</g>\n<!-- 140601424770496&#45;&gt;140601424741936 -->\n<g id=\"edge4\" class=\"edge\">\n<title>140601424770496&#45;&gt;140601424741936</title>\n<path fill=\"none\" stroke=\"#000000\" d=\"M632.9832,-520.8361C614.8666,-504.4333 594.1259,-485.6545 576.0997,-469.3335\"/>\n<polygon fill=\"#000000\" stroke=\"#000000\" points=\"578.3181,-466.6206 568.5559,-462.5033 573.6198,-471.8097 578.3181,-466.6206\"/>\n<text text-anchor=\"middle\" x=\"612\" y=\"-491.8\" font-family=\"Times,serif\" font-size=\"14.00\" fill=\"#000000\">l</text>\n</g>\n<!-- 140601424740872 -->\n<g id=\"node6\" class=\"node\">\n<title>140601424740872</title>\n<polygon fill=\"#377eb8\" stroke=\"#000000\" stroke-width=\".5\" points=\"616,-394.5 742,-394.5 742,-462.5 616,-462.5 616,-394.5\"/>\n<polygon fill=\"none\" stroke=\"#000000\" points=\"742,-462.5 616,-462.5 616,-394.5 742,-394.5 742,-462.5\"/>\n<text text-anchor=\"middle\" x=\"679\" y=\"-447.3\" font-family=\"Times,serif\" font-size=\"14.00\" fill=\"#000000\">p:1.000</text>\n<text text-anchor=\"middle\" x=\"679\" y=\"-432.3\" font-family=\"Times,serif\" font-size=\"14.00\" fill=\"#000000\">num_samples = 36</text>\n<text text-anchor=\"middle\" x=\"679\" y=\"-417.3\" font-family=\"Times,serif\" font-size=\"14.00\" fill=\"#000000\">entropy = &#45;0.0</text>\n<text text-anchor=\"middle\" x=\"679\" y=\"-402.3\" font-family=\"Times,serif\" font-size=\"14.00\" fill=\"#000000\">gini = 0.0</text>\n</g>\n<!-- 140601424770496&#45;&gt;140601424740872 -->\n<g id=\"edge5\" class=\"edge\">\n<title>140601424770496&#45;&gt;140601424740872</title>\n<path fill=\"none\" stroke=\"#000000\" d=\"M679,-520.8361C679,-505.6049 679,-488.3251 679,-472.8667\"/>\n<polygon fill=\"#000000\" stroke=\"#000000\" points=\"682.5001,-472.5033 679,-462.5033 675.5001,-472.5034 682.5001,-472.5033\"/>\n<text text-anchor=\"middle\" x=\"685\" y=\"-491.8\" font-family=\"Times,serif\" font-size=\"14.00\" fill=\"#000000\">m</text>\n</g>\n<!-- 140601425986224 -->\n<g id=\"node7\" class=\"node\">\n<title>140601425986224</title>\n<polygon fill=\"#e41a1c\" stroke=\"#000000\" stroke-width=\".5\" points=\"760.5,-387 960.4592,-387 960.4592,-470 760.5,-470 760.5,-387\"/>\n<polygon fill=\"#377eb8\" stroke=\"#000000\" stroke-width=\".5\" points=\"960.4592,-387 967.5,-387 967.5,-470 960.4592,-470 960.4592,-387\"/>\n<polygon fill=\"none\" stroke=\"#000000\" points=\"967.5,-470 760.5,-470 760.5,-387 967.5,-387 967.5,-470\"/>\n<text text-anchor=\"middle\" x=\"864\" y=\"-454.8\" font-family=\"Times,serif\" font-size=\"14.00\" fill=\"#000000\">e:0.966 p:0.034</text>\n<text text-anchor=\"middle\" x=\"864\" y=\"-439.8\" font-family=\"Times,serif\" font-size=\"14.00\" fill=\"#000000\">num_samples = 3528</text>\n<text text-anchor=\"middle\" x=\"864\" y=\"-424.8\" font-family=\"Times,serif\" font-size=\"14.00\" fill=\"#000000\">entropy = 0.2141367567812511</text>\n<text text-anchor=\"middle\" x=\"864\" y=\"-409.8\" font-family=\"Times,serif\" font-size=\"14.00\" fill=\"#000000\">gini = 0.06571336017400164</text>\n<text text-anchor=\"middle\" x=\"864\" y=\"-394.8\" font-family=\"Times,serif\" font-size=\"14.00\" fill=\"#000000\">split by: spore&#45;print&#45;color</text>\n</g>\n<!-- 140601424770496&#45;&gt;140601425986224 -->\n<g id=\"edge25\" class=\"edge\">\n<title>140601424770496&#45;&gt;140601425986224</title>\n<path fill=\"none\" stroke=\"#000000\" d=\"M736.5211,-520.8361C756.0982,-506.6559 778.1268,-490.7 798.2954,-476.0915\"/>\n<polygon fill=\"#000000\" stroke=\"#000000\" points=\"800.4689,-478.8388 806.5145,-470.1381 796.3626,-473.1697 800.4689,-478.8388\"/>\n<text text-anchor=\"middle\" x=\"782\" y=\"-491.8\" font-family=\"Times,serif\" font-size=\"14.00\" fill=\"#000000\">n</text>\n</g>\n<!-- 140601424891296 -->\n<g id=\"node27\" class=\"node\">\n<title>140601424891296</title>\n<polygon fill=\"#377eb8\" stroke=\"#000000\" stroke-width=\".5\" points=\"986,-394.5 1120,-394.5 1120,-462.5 986,-462.5 986,-394.5\"/>\n<polygon fill=\"none\" stroke=\"#000000\" points=\"1120,-462.5 986,-462.5 986,-394.5 1120,-394.5 1120,-462.5\"/>\n<text text-anchor=\"middle\" x=\"1053\" y=\"-447.3\" font-family=\"Times,serif\" font-size=\"14.00\" fill=\"#000000\">p:1.000</text>\n<text text-anchor=\"middle\" x=\"1053\" y=\"-432.3\" font-family=\"Times,serif\" font-size=\"14.00\" fill=\"#000000\">num_samples = 256</text>\n<text text-anchor=\"middle\" x=\"1053\" y=\"-417.3\" font-family=\"Times,serif\" font-size=\"14.00\" fill=\"#000000\">entropy = &#45;0.0</text>\n<text text-anchor=\"middle\" x=\"1053\" y=\"-402.3\" font-family=\"Times,serif\" font-size=\"14.00\" fill=\"#000000\">gini = 0.0</text>\n</g>\n<!-- 140601424770496&#45;&gt;140601424891296 -->\n<g id=\"edge26\" class=\"edge\">\n<title>140601424770496&#45;&gt;140601424891296</title>\n<path fill=\"none\" stroke=\"#000000\" d=\"M783.1449,-535.38C840.926,-519.0203 913.5241,-496.2766 976,-470 978.3272,-469.0212 980.6769,-467.9945 983.0363,-466.9303\"/>\n<polygon fill=\"#000000\" stroke=\"#000000\" points=\"984.5846,-470.0701 992.1582,-462.6612 981.6174,-463.73 984.5846,-470.0701\"/>\n<text text-anchor=\"middle\" x=\"933\" y=\"-491.8\" font-family=\"Times,serif\" font-size=\"14.00\" fill=\"#000000\">p</text>\n</g>\n<!-- 140601425987960 -->\n<g id=\"node28\" class=\"node\">\n<title>140601425987960</title>\n<polygon fill=\"#377eb8\" stroke=\"#000000\" stroke-width=\".5\" points=\"1138,-394.5 1272,-394.5 1272,-462.5 1138,-462.5 1138,-394.5\"/>\n<polygon fill=\"none\" stroke=\"#000000\" points=\"1272,-462.5 1138,-462.5 1138,-394.5 1272,-394.5 1272,-462.5\"/>\n<text text-anchor=\"middle\" x=\"1205\" y=\"-447.3\" font-family=\"Times,serif\" font-size=\"14.00\" fill=\"#000000\">p:1.000</text>\n<text text-anchor=\"middle\" x=\"1205\" y=\"-432.3\" font-family=\"Times,serif\" font-size=\"14.00\" fill=\"#000000\">num_samples = 576</text>\n<text text-anchor=\"middle\" x=\"1205\" y=\"-417.3\" font-family=\"Times,serif\" font-size=\"14.00\" fill=\"#000000\">entropy = &#45;0.0</text>\n<text text-anchor=\"middle\" x=\"1205\" y=\"-402.3\" font-family=\"Times,serif\" font-size=\"14.00\" fill=\"#000000\">gini = 0.0</text>\n</g>\n<!-- 140601424770496&#45;&gt;140601425987960 -->\n<g id=\"edge27\" class=\"edge\">\n<title>140601424770496&#45;&gt;140601425987960</title>\n<path fill=\"none\" stroke=\"#000000\" d=\"M783.276,-550.0193C876.063,-536.8287 1014.4212,-511.9895 1129,-470 1131.7128,-469.0058 1134.4466,-467.9271 1137.183,-466.782\"/>\n<polygon fill=\"#000000\" stroke=\"#000000\" points=\"1138.7498,-469.9159 1146.4698,-462.6598 1135.9098,-463.5179 1138.7498,-469.9159\"/>\n<text text-anchor=\"middle\" x=\"1073\" y=\"-491.8\" font-family=\"Times,serif\" font-size=\"14.00\" fill=\"#000000\">s</text>\n</g>\n<!-- 140601424888776 -->\n<g id=\"node29\" class=\"node\">\n<title>140601424888776</title>\n<polygon fill=\"#377eb8\" stroke=\"#000000\" stroke-width=\".5\" points=\"1290,-394.5 1424,-394.5 1424,-462.5 1290,-462.5 1290,-394.5\"/>\n<polygon fill=\"none\" stroke=\"#000000\" points=\"1424,-462.5 1290,-462.5 1290,-394.5 1424,-394.5 1424,-462.5\"/>\n<text text-anchor=\"middle\" x=\"1357\" y=\"-447.3\" font-family=\"Times,serif\" font-size=\"14.00\" fill=\"#000000\">p:1.000</text>\n<text text-anchor=\"middle\" x=\"1357\" y=\"-432.3\" font-family=\"Times,serif\" font-size=\"14.00\" fill=\"#000000\">num_samples = 576</text>\n<text text-anchor=\"middle\" x=\"1357\" y=\"-417.3\" font-family=\"Times,serif\" font-size=\"14.00\" fill=\"#000000\">entropy = &#45;0.0</text>\n<text text-anchor=\"middle\" x=\"1357\" y=\"-402.3\" font-family=\"Times,serif\" font-size=\"14.00\" fill=\"#000000\">gini = 0.0</text>\n</g>\n<!-- 140601424770496&#45;&gt;140601424888776 -->\n<g id=\"edge28\" class=\"edge\">\n<title>140601424770496&#45;&gt;140601424888776</title>\n<path fill=\"none\" stroke=\"#000000\" d=\"M783.1318,-557.7599C905.3269,-549.6553 1112.6394,-527.9062 1281,-470 1284.0565,-468.9488 1287.1356,-467.7814 1290.212,-466.5248\"/>\n<polygon fill=\"#000000\" stroke=\"#000000\" points=\"1291.6408,-469.7201 1299.4078,-462.5143 1288.8424,-463.3038 1291.6408,-469.7201\"/>\n<text text-anchor=\"middle\" x=\"1223\" y=\"-491.8\" font-family=\"Times,serif\" font-size=\"14.00\" fill=\"#000000\">y</text>\n</g>\n<!-- 140601427073792 -->\n<g id=\"node8\" class=\"node\">\n<title>140601427073792</title>\n<polygon fill=\"#e41a1c\" stroke=\"#000000\" stroke-width=\".5\" points=\"270,-260.5 396,-260.5 396,-328.5 270,-328.5 270,-260.5\"/>\n<polygon fill=\"none\" stroke=\"#000000\" points=\"396,-328.5 270,-328.5 270,-260.5 396,-260.5 396,-328.5\"/>\n<text text-anchor=\"middle\" x=\"333\" y=\"-313.3\" font-family=\"Times,serif\" font-size=\"14.00\" fill=\"#000000\">e:1.000</text>\n<text text-anchor=\"middle\" x=\"333\" y=\"-298.3\" font-family=\"Times,serif\" font-size=\"14.00\" fill=\"#000000\">num_samples = 48</text>\n<text text-anchor=\"middle\" x=\"333\" y=\"-283.3\" font-family=\"Times,serif\" font-size=\"14.00\" fill=\"#000000\">entropy = &#45;0.0</text>\n<text text-anchor=\"middle\" x=\"333\" y=\"-268.3\" font-family=\"Times,serif\" font-size=\"14.00\" fill=\"#000000\">gini = 0.0</text>\n</g>\n<!-- 140601425986224&#45;&gt;140601427073792 -->\n<g id=\"edge6\" class=\"edge\">\n<title>140601425986224&#45;&gt;140601427073792</title>\n<path fill=\"none\" stroke=\"#000000\" d=\"M760.2299,-389.3271C757.1322,-388.4996 754.0509,-387.7208 751,-387 681.3574,-370.5469 661.821,-379.2556 591,-369 507.909,-356.9676 483.8895,-364.7285 405,-336 402.42,-335.0605 399.8256,-334.0312 397.2334,-332.9309\"/>\n<polygon fill=\"#000000\" stroke=\"#000000\" points=\"398.4363,-329.6328 387.8855,-328.6686 395.5322,-336.002 398.4363,-329.6328\"/>\n<text text-anchor=\"middle\" x=\"595\" y=\"-357.8\" font-family=\"Times,serif\" font-size=\"14.00\" fill=\"#000000\">b</text>\n</g>\n<!-- 140601427073568 -->\n<g id=\"node9\" class=\"node\">\n<title>140601427073568</title>\n<polygon fill=\"#e41a1c\" stroke=\"#000000\" stroke-width=\".5\" points=\"414,-260.5 540,-260.5 540,-328.5 414,-328.5 414,-260.5\"/>\n<polygon fill=\"none\" stroke=\"#000000\" points=\"540,-328.5 414,-328.5 414,-260.5 540,-260.5 540,-328.5\"/>\n<text text-anchor=\"middle\" x=\"477\" y=\"-313.3\" font-family=\"Times,serif\" font-size=\"14.00\" fill=\"#000000\">e:1.000</text>\n<text text-anchor=\"middle\" x=\"477\" y=\"-298.3\" font-family=\"Times,serif\" font-size=\"14.00\" fill=\"#000000\">num_samples = 48</text>\n<text text-anchor=\"middle\" x=\"477\" y=\"-283.3\" font-family=\"Times,serif\" font-size=\"14.00\" fill=\"#000000\">entropy = &#45;0.0</text>\n<text text-anchor=\"middle\" x=\"477\" y=\"-268.3\" font-family=\"Times,serif\" font-size=\"14.00\" fill=\"#000000\">gini = 0.0</text>\n</g>\n<!-- 140601425986224&#45;&gt;140601427073568 -->\n<g id=\"edge7\" class=\"edge\">\n<title>140601425986224&#45;&gt;140601427073568</title>\n<path fill=\"none\" stroke=\"#000000\" d=\"M760.3874,-389.9697C757.2296,-388.9487 754.095,-387.9562 751,-387 662.5307,-359.6685 634.8137,-370.7828 549,-336 546.6601,-335.0516 544.3036,-334.0388 541.9437,-332.9751\"/>\n<polygon fill=\"#000000\" stroke=\"#000000\" points=\"543.3865,-329.7856 532.853,-328.647 540.3774,-336.1059 543.3865,-329.7856\"/>\n<text text-anchor=\"middle\" x=\"678\" y=\"-357.8\" font-family=\"Times,serif\" font-size=\"14.00\" fill=\"#000000\">h</text>\n</g>\n<!-- 140601427073008 -->\n<g id=\"node10\" class=\"node\">\n<title>140601427073008</title>\n<polygon fill=\"#e41a1c\" stroke=\"#000000\" stroke-width=\".5\" points=\"558.5,-260.5 699.5,-260.5 699.5,-328.5 558.5,-328.5 558.5,-260.5\"/>\n<polygon fill=\"none\" stroke=\"#000000\" points=\"699.5,-328.5 558.5,-328.5 558.5,-260.5 699.5,-260.5 699.5,-328.5\"/>\n<text text-anchor=\"middle\" x=\"629\" y=\"-313.3\" font-family=\"Times,serif\" font-size=\"14.00\" fill=\"#000000\">e:1.000</text>\n<text text-anchor=\"middle\" x=\"629\" y=\"-298.3\" font-family=\"Times,serif\" font-size=\"14.00\" fill=\"#000000\">num_samples = 1296</text>\n<text text-anchor=\"middle\" x=\"629\" y=\"-283.3\" font-family=\"Times,serif\" font-size=\"14.00\" fill=\"#000000\">entropy = &#45;0.0</text>\n<text text-anchor=\"middle\" x=\"629\" y=\"-268.3\" font-family=\"Times,serif\" font-size=\"14.00\" fill=\"#000000\">gini = 0.0</text>\n</g>\n<!-- 140601425986224&#45;&gt;140601427073008 -->\n<g id=\"edge8\" class=\"edge\">\n<title>140601425986224&#45;&gt;140601427073008</title>\n<path fill=\"none\" stroke=\"#000000\" d=\"M790.9327,-386.8361C761.1392,-369.8475 726.876,-350.3102 697.5612,-333.5944\"/>\n<polygon fill=\"#000000\" stroke=\"#000000\" points=\"699.0534,-330.4164 688.6327,-328.5033 695.586,-336.4973 699.0534,-330.4164\"/>\n<text text-anchor=\"middle\" x=\"758\" y=\"-357.8\" font-family=\"Times,serif\" font-size=\"14.00\" fill=\"#000000\">k</text>\n</g>\n<!-- 140601427072896 -->\n<g id=\"node11\" class=\"node\">\n<title>140601427072896</title>\n<polygon fill=\"#e41a1c\" stroke=\"#000000\" stroke-width=\".5\" points=\"717.5,-260.5 858.5,-260.5 858.5,-328.5 717.5,-328.5 717.5,-260.5\"/>\n<polygon fill=\"none\" stroke=\"#000000\" points=\"858.5,-328.5 717.5,-328.5 717.5,-260.5 858.5,-260.5 858.5,-328.5\"/>\n<text text-anchor=\"middle\" x=\"788\" y=\"-313.3\" font-family=\"Times,serif\" font-size=\"14.00\" fill=\"#000000\">e:1.000</text>\n<text text-anchor=\"middle\" x=\"788\" y=\"-298.3\" font-family=\"Times,serif\" font-size=\"14.00\" fill=\"#000000\">num_samples = 1344</text>\n<text text-anchor=\"middle\" x=\"788\" y=\"-283.3\" font-family=\"Times,serif\" font-size=\"14.00\" fill=\"#000000\">entropy = &#45;0.0</text>\n<text text-anchor=\"middle\" x=\"788\" y=\"-268.3\" font-family=\"Times,serif\" font-size=\"14.00\" fill=\"#000000\">gini = 0.0</text>\n</g>\n<!-- 140601425986224&#45;&gt;140601427072896 -->\n<g id=\"edge9\" class=\"edge\">\n<title>140601425986224&#45;&gt;140601427072896</title>\n<path fill=\"none\" stroke=\"#000000\" d=\"M840.3697,-386.8361C831.482,-371.1656 821.3643,-353.3265 812.4071,-337.5336\"/>\n<polygon fill=\"#000000\" stroke=\"#000000\" points=\"815.2634,-335.475 807.2855,-328.5033 809.1745,-338.9284 815.2634,-335.475\"/>\n<text text-anchor=\"middle\" x=\"833\" y=\"-357.8\" font-family=\"Times,serif\" font-size=\"14.00\" fill=\"#000000\">n</text>\n</g>\n<!-- 140601427073512 -->\n<g id=\"node12\" class=\"node\">\n<title>140601427073512</title>\n<polygon fill=\"#e41a1c\" stroke=\"#000000\" stroke-width=\".5\" points=\"877,-260.5 1003,-260.5 1003,-328.5 877,-328.5 877,-260.5\"/>\n<polygon fill=\"none\" stroke=\"#000000\" points=\"1003,-328.5 877,-328.5 877,-260.5 1003,-260.5 1003,-328.5\"/>\n<text text-anchor=\"middle\" x=\"940\" y=\"-313.3\" font-family=\"Times,serif\" font-size=\"14.00\" fill=\"#000000\">e:1.000</text>\n<text text-anchor=\"middle\" x=\"940\" y=\"-298.3\" font-family=\"Times,serif\" font-size=\"14.00\" fill=\"#000000\">num_samples = 48</text>\n<text text-anchor=\"middle\" x=\"940\" y=\"-283.3\" font-family=\"Times,serif\" font-size=\"14.00\" fill=\"#000000\">entropy = &#45;0.0</text>\n<text text-anchor=\"middle\" x=\"940\" y=\"-268.3\" font-family=\"Times,serif\" font-size=\"14.00\" fill=\"#000000\">gini = 0.0</text>\n</g>\n<!-- 140601425986224&#45;&gt;140601427073512 -->\n<g id=\"edge10\" class=\"edge\">\n<title>140601425986224&#45;&gt;140601427073512</title>\n<path fill=\"none\" stroke=\"#000000\" d=\"M887.6303,-386.8361C896.518,-371.1656 906.6357,-353.3265 915.5929,-337.5336\"/>\n<polygon fill=\"#000000\" stroke=\"#000000\" points=\"918.8255,-338.9284 920.7145,-328.5033 912.7366,-335.475 918.8255,-338.9284\"/>\n<text text-anchor=\"middle\" x=\"909\" y=\"-357.8\" font-family=\"Times,serif\" font-size=\"14.00\" fill=\"#000000\">o</text>\n</g>\n<!-- 140601427073120 -->\n<g id=\"node13\" class=\"node\">\n<title>140601427073120</title>\n<polygon fill=\"#377eb8\" stroke=\"#000000\" stroke-width=\".5\" points=\"1021,-260.5 1147,-260.5 1147,-328.5 1021,-328.5 1021,-260.5\"/>\n<polygon fill=\"none\" stroke=\"#000000\" points=\"1147,-328.5 1021,-328.5 1021,-260.5 1147,-260.5 1147,-328.5\"/>\n<text text-anchor=\"middle\" x=\"1084\" y=\"-313.3\" font-family=\"Times,serif\" font-size=\"14.00\" fill=\"#000000\">p:1.000</text>\n<text text-anchor=\"middle\" x=\"1084\" y=\"-298.3\" font-family=\"Times,serif\" font-size=\"14.00\" fill=\"#000000\">num_samples = 72</text>\n<text text-anchor=\"middle\" x=\"1084\" y=\"-283.3\" font-family=\"Times,serif\" font-size=\"14.00\" fill=\"#000000\">entropy = &#45;0.0</text>\n<text text-anchor=\"middle\" x=\"1084\" y=\"-268.3\" font-family=\"Times,serif\" font-size=\"14.00\" fill=\"#000000\">gini = 0.0</text>\n</g>\n<!-- 140601425986224&#45;&gt;140601427073120 -->\n<g id=\"edge11\" class=\"edge\">\n<title>140601425986224&#45;&gt;140601427073120</title>\n<path fill=\"none\" stroke=\"#000000\" d=\"M932.4034,-386.8361C960.175,-369.9207 992.0949,-350.4785 1019.46,-333.8108\"/>\n<polygon fill=\"#000000\" stroke=\"#000000\" points=\"1021.4538,-336.6945 1028.1736,-328.5033 1017.8124,-330.7161 1021.4538,-336.6945\"/>\n<text text-anchor=\"middle\" x=\"983.5\" y=\"-357.8\" font-family=\"Times,serif\" font-size=\"14.00\" fill=\"#000000\">r</text>\n</g>\n<!-- 140601427073344 -->\n<g id=\"node14\" class=\"node\">\n<title>140601427073344</title>\n<polygon fill=\"#e41a1c\" stroke=\"#000000\" stroke-width=\".5\" points=\"1165.5,-253 1363.9615,-253 1363.9615,-336 1165.5,-336 1165.5,-253\"/>\n<polygon fill=\"#377eb8\" stroke=\"#000000\" stroke-width=\".5\" points=\"1363.9615,-253 1380.5,-253 1380.5,-336 1363.9615,-336 1363.9615,-253\"/>\n<polygon fill=\"none\" stroke=\"#000000\" points=\"1380.5,-336 1165.5,-336 1165.5,-253 1380.5,-253 1380.5,-336\"/>\n<text text-anchor=\"middle\" x=\"1273\" y=\"-320.8\" font-family=\"Times,serif\" font-size=\"14.00\" fill=\"#000000\">e:0.923 p:0.077</text>\n<text text-anchor=\"middle\" x=\"1273\" y=\"-305.8\" font-family=\"Times,serif\" font-size=\"14.00\" fill=\"#000000\">num_samples = 624</text>\n<text text-anchor=\"middle\" x=\"1273\" y=\"-290.8\" font-family=\"Times,serif\" font-size=\"14.00\" fill=\"#000000\">entropy = 0.39124356362925566</text>\n<text text-anchor=\"middle\" x=\"1273\" y=\"-275.8\" font-family=\"Times,serif\" font-size=\"14.00\" fill=\"#000000\">gini = 0.14201183431952646</text>\n<text text-anchor=\"middle\" x=\"1273\" y=\"-260.8\" font-family=\"Times,serif\" font-size=\"14.00\" fill=\"#000000\">split by: habitat</text>\n</g>\n<!-- 140601425986224&#45;&gt;140601427073344 -->\n<g id=\"edge23\" class=\"edge\">\n<title>140601425986224&#45;&gt;140601427073344</title>\n<path fill=\"none\" stroke=\"#000000\" d=\"M967.6518,-390.0933C970.7983,-389.0365 973.9198,-388.0029 977,-387 1052.7385,-362.3405 1075.5239,-361.2237 1155.8016,-336.0001\"/>\n<polygon fill=\"#000000\" stroke=\"#000000\" points=\"1156.8714,-339.3327 1165.3457,-332.9737 1154.7555,-332.6601 1156.8714,-339.3327\"/>\n<text text-anchor=\"middle\" x=\"1100.5\" y=\"-357.8\" font-family=\"Times,serif\" font-size=\"14.00\" fill=\"#000000\">w</text>\n</g>\n<!-- 140601427072280 -->\n<g id=\"node26\" class=\"node\">\n<title>140601427072280</title>\n<polygon fill=\"#e41a1c\" stroke=\"#000000\" stroke-width=\".5\" points=\"1399,-260.5 1525,-260.5 1525,-328.5 1399,-328.5 1399,-260.5\"/>\n<polygon fill=\"none\" stroke=\"#000000\" points=\"1525,-328.5 1399,-328.5 1399,-260.5 1525,-260.5 1525,-328.5\"/>\n<text text-anchor=\"middle\" x=\"1462\" y=\"-313.3\" font-family=\"Times,serif\" font-size=\"14.00\" fill=\"#000000\">e:1.000</text>\n<text text-anchor=\"middle\" x=\"1462\" y=\"-298.3\" font-family=\"Times,serif\" font-size=\"14.00\" fill=\"#000000\">num_samples = 48</text>\n<text text-anchor=\"middle\" x=\"1462\" y=\"-283.3\" font-family=\"Times,serif\" font-size=\"14.00\" fill=\"#000000\">entropy = &#45;0.0</text>\n<text text-anchor=\"middle\" x=\"1462\" y=\"-268.3\" font-family=\"Times,serif\" font-size=\"14.00\" fill=\"#000000\">gini = 0.0</text>\n</g>\n<!-- 140601425986224&#45;&gt;140601427072280 -->\n<g id=\"edge24\" class=\"edge\">\n<title>140601425986224&#45;&gt;140601427072280</title>\n<path fill=\"none\" stroke=\"#000000\" d=\"M967.7806,-389.371C970.8752,-388.5307 973.9531,-387.7373 977,-387 1066.8809,-365.2508 1302.3034,-365.3414 1390,-336 1392.916,-335.0244 1395.8456,-333.9235 1398.7661,-332.7251\"/>\n<polygon fill=\"#000000\" stroke=\"#000000\" points=\"1400.3227,-335.8634 1408.0355,-328.5995 1397.4763,-329.4682 1400.3227,-335.8634\"/>\n<text text-anchor=\"middle\" x=\"1293\" y=\"-357.8\" font-family=\"Times,serif\" font-size=\"14.00\" fill=\"#000000\">y</text>\n</g>\n<!-- 140601424945504 -->\n<g id=\"node15\" class=\"node\">\n<title>140601424945504</title>\n<polygon fill=\"#e41a1c\" stroke=\"#000000\" stroke-width=\".5\" points=\"791,-119 832.6,-119 832.6,-202 791,-202 791,-119\"/>\n<polygon fill=\"#377eb8\" stroke=\"#000000\" stroke-width=\".5\" points=\"832.6,-119 999,-119 999,-202 832.6,-202 832.6,-119\"/>\n<polygon fill=\"none\" stroke=\"#000000\" points=\"999,-202 791,-202 791,-119 999,-119 999,-202\"/>\n<text text-anchor=\"middle\" x=\"895\" y=\"-186.8\" font-family=\"Times,serif\" font-size=\"14.00\" fill=\"#000000\">e:0.200 p:0.800</text>\n<text text-anchor=\"middle\" x=\"895\" y=\"-171.8\" font-family=\"Times,serif\" font-size=\"14.00\" fill=\"#000000\">num_samples = 40</text>\n<text text-anchor=\"middle\" x=\"895\" y=\"-156.8\" font-family=\"Times,serif\" font-size=\"14.00\" fill=\"#000000\">entropy = 0.7219280948873623</text>\n<text text-anchor=\"middle\" x=\"895\" y=\"-141.8\" font-family=\"Times,serif\" font-size=\"14.00\" fill=\"#000000\">gini = 0.31999999999999984</text>\n<text text-anchor=\"middle\" x=\"895\" y=\"-126.8\" font-family=\"Times,serif\" font-size=\"14.00\" fill=\"#000000\">split by: gill&#45;size</text>\n</g>\n<!-- 140601427073344&#45;&gt;140601424945504 -->\n<g id=\"edge14\" class=\"edge\">\n<title>140601427073344&#45;&gt;140601424945504</title>\n<path fill=\"none\" stroke=\"#000000\" d=\"M1165.2717,-256.2476C1162.1475,-255.1514 1159.0517,-254.067 1156,-253 1093.2752,-231.0689 1075.1526,-225.7871 1008.7317,-202.2419\"/>\n<polygon fill=\"#000000\" stroke=\"#000000\" points=\"1009.6239,-198.8446 999.0292,-198.7947 1007.2804,-205.4407 1009.6239,-198.8446\"/>\n<text text-anchor=\"middle\" x=\"1107\" y=\"-223.8\" font-family=\"Times,serif\" font-size=\"14.00\" fill=\"#000000\">d</text>\n</g>\n<!-- 140601425676104 -->\n<g id=\"node18\" class=\"node\">\n<title>140601425676104</title>\n<polygon fill=\"#e41a1c\" stroke=\"#000000\" stroke-width=\".5\" points=\"1017,-126.5 1151,-126.5 1151,-194.5 1017,-194.5 1017,-126.5\"/>\n<polygon fill=\"none\" stroke=\"#000000\" points=\"1151,-194.5 1017,-194.5 1017,-126.5 1151,-126.5 1151,-194.5\"/>\n<text text-anchor=\"middle\" x=\"1084\" y=\"-179.3\" font-family=\"Times,serif\" font-size=\"14.00\" fill=\"#000000\">e:1.000</text>\n<text text-anchor=\"middle\" x=\"1084\" y=\"-164.3\" font-family=\"Times,serif\" font-size=\"14.00\" fill=\"#000000\">num_samples = 288</text>\n<text text-anchor=\"middle\" x=\"1084\" y=\"-149.3\" font-family=\"Times,serif\" font-size=\"14.00\" fill=\"#000000\">entropy = &#45;0.0</text>\n<text text-anchor=\"middle\" x=\"1084\" y=\"-134.3\" font-family=\"Times,serif\" font-size=\"14.00\" fill=\"#000000\">gini = 0.0</text>\n</g>\n<!-- 140601427073344&#45;&gt;140601425676104 -->\n<g id=\"edge15\" class=\"edge\">\n<title>140601427073344&#45;&gt;140601425676104</title>\n<path fill=\"none\" stroke=\"#000000\" d=\"M1214.2352,-252.8361C1190.6868,-236.1404 1163.6665,-216.9831 1140.3637,-200.4615\"/>\n<polygon fill=\"#000000\" stroke=\"#000000\" points=\"1142.142,-197.4319 1131.9599,-194.5033 1138.0933,-203.1423 1142.142,-197.4319\"/>\n<text text-anchor=\"middle\" x=\"1189\" y=\"-223.8\" font-family=\"Times,serif\" font-size=\"14.00\" fill=\"#000000\">g</text>\n</g>\n<!-- 140601424740536 -->\n<g id=\"node19\" class=\"node\">\n<title>140601424740536</title>\n<polygon fill=\"#e41a1c\" stroke=\"#000000\" stroke-width=\".5\" points=\"1169.5,-119 1324.75,-119 1324.75,-202 1169.5,-202 1169.5,-119\"/>\n<polygon fill=\"#377eb8\" stroke=\"#000000\" stroke-width=\".5\" points=\"1324.75,-119 1376.5,-119 1376.5,-202 1324.75,-202 1324.75,-119\"/>\n<polygon fill=\"none\" stroke=\"#000000\" points=\"1376.5,-202 1169.5,-202 1169.5,-119 1376.5,-119 1376.5,-202\"/>\n<text text-anchor=\"middle\" x=\"1273\" y=\"-186.8\" font-family=\"Times,serif\" font-size=\"14.00\" fill=\"#000000\">e:0.750 p:0.250</text>\n<text text-anchor=\"middle\" x=\"1273\" y=\"-171.8\" font-family=\"Times,serif\" font-size=\"14.00\" fill=\"#000000\">num_samples = 64</text>\n<text text-anchor=\"middle\" x=\"1273\" y=\"-156.8\" font-family=\"Times,serif\" font-size=\"14.00\" fill=\"#000000\">entropy = 0.8112781244591328</text>\n<text text-anchor=\"middle\" x=\"1273\" y=\"-141.8\" font-family=\"Times,serif\" font-size=\"14.00\" fill=\"#000000\">gini = 0.375</text>\n<text text-anchor=\"middle\" x=\"1273\" y=\"-126.8\" font-family=\"Times,serif\" font-size=\"14.00\" fill=\"#000000\">split by: cap&#45;color</text>\n</g>\n<!-- 140601427073344&#45;&gt;140601424740536 -->\n<g id=\"edge20\" class=\"edge\">\n<title>140601427073344&#45;&gt;140601424740536</title>\n<path fill=\"none\" stroke=\"#000000\" d=\"M1273,-252.8361C1273,-239.9794 1273,-225.663 1273,-212.2145\"/>\n<polygon fill=\"#000000\" stroke=\"#000000\" points=\"1276.5001,-212.1381 1273,-202.1381 1269.5001,-212.1382 1276.5001,-212.1381\"/>\n<text text-anchor=\"middle\" x=\"1275\" y=\"-223.8\" font-family=\"Times,serif\" font-size=\"14.00\" fill=\"#000000\">l</text>\n</g>\n<!-- 140601427072056 -->\n<g id=\"node24\" class=\"node\">\n<title>140601427072056</title>\n<polygon fill=\"#e41a1c\" stroke=\"#000000\" stroke-width=\".5\" points=\"1395,-126.5 1521,-126.5 1521,-194.5 1395,-194.5 1395,-126.5\"/>\n<polygon fill=\"none\" stroke=\"#000000\" points=\"1521,-194.5 1395,-194.5 1395,-126.5 1521,-126.5 1521,-194.5\"/>\n<text text-anchor=\"middle\" x=\"1458\" y=\"-179.3\" font-family=\"Times,serif\" font-size=\"14.00\" fill=\"#000000\">e:1.000</text>\n<text text-anchor=\"middle\" x=\"1458\" y=\"-164.3\" font-family=\"Times,serif\" font-size=\"14.00\" fill=\"#000000\">num_samples = 40</text>\n<text text-anchor=\"middle\" x=\"1458\" y=\"-149.3\" font-family=\"Times,serif\" font-size=\"14.00\" fill=\"#000000\">entropy = &#45;0.0</text>\n<text text-anchor=\"middle\" x=\"1458\" y=\"-134.3\" font-family=\"Times,serif\" font-size=\"14.00\" fill=\"#000000\">gini = 0.0</text>\n</g>\n<!-- 140601427073344&#45;&gt;140601427072056 -->\n<g id=\"edge21\" class=\"edge\">\n<title>140601427073344&#45;&gt;140601427072056</title>\n<path fill=\"none\" stroke=\"#000000\" d=\"M1330.5211,-252.8361C1353.5711,-236.1404 1380.0196,-216.9831 1402.8292,-200.4615\"/>\n<polygon fill=\"#000000\" stroke=\"#000000\" points=\"1405.0095,-203.204 1411.0551,-194.5033 1400.9032,-197.5349 1405.0095,-203.204\"/>\n<text text-anchor=\"middle\" x=\"1375\" y=\"-223.8\" font-family=\"Times,serif\" font-size=\"14.00\" fill=\"#000000\">p</text>\n</g>\n<!-- 140601427072952 -->\n<g id=\"node25\" class=\"node\">\n<title>140601427072952</title>\n<polygon fill=\"#e41a1c\" stroke=\"#000000\" stroke-width=\".5\" points=\"1539,-126.5 1673,-126.5 1673,-194.5 1539,-194.5 1539,-126.5\"/>\n<polygon fill=\"none\" stroke=\"#000000\" points=\"1673,-194.5 1539,-194.5 1539,-126.5 1673,-126.5 1673,-194.5\"/>\n<text text-anchor=\"middle\" x=\"1606\" y=\"-179.3\" font-family=\"Times,serif\" font-size=\"14.00\" fill=\"#000000\">e:1.000</text>\n<text text-anchor=\"middle\" x=\"1606\" y=\"-164.3\" font-family=\"Times,serif\" font-size=\"14.00\" fill=\"#000000\">num_samples = 192</text>\n<text text-anchor=\"middle\" x=\"1606\" y=\"-149.3\" font-family=\"Times,serif\" font-size=\"14.00\" fill=\"#000000\">entropy = &#45;0.0</text>\n<text text-anchor=\"middle\" x=\"1606\" y=\"-134.3\" font-family=\"Times,serif\" font-size=\"14.00\" fill=\"#000000\">gini = 0.0</text>\n</g>\n<!-- 140601427073344&#45;&gt;140601427072952 -->\n<g id=\"edge22\" class=\"edge\">\n<title>140601427073344&#45;&gt;140601427072952</title>\n<path fill=\"none\" stroke=\"#000000\" d=\"M1380.6298,-256.1857C1447.634,-232.2625 1522.4993,-205.3735 1530,-202 1532.0609,-201.0731 1534.1417,-200.112 1536.2332,-199.1239\"/>\n<polygon fill=\"#000000\" stroke=\"#000000\" points=\"1537.9824,-202.1651 1545.4413,-194.6408 1534.9182,-195.8714 1537.9824,-202.1651\"/>\n<text text-anchor=\"middle\" x=\"1486.5\" y=\"-223.8\" font-family=\"Times,serif\" font-size=\"14.00\" fill=\"#000000\">w</text>\n</g>\n<!-- 140601424946232 -->\n<g id=\"node16\" class=\"node\">\n<title>140601424946232</title>\n<polygon fill=\"#e41a1c\" stroke=\"#000000\" stroke-width=\".5\" points=\"739.5,0 858.5,0 858.5,-68 739.5,-68 739.5,0\"/>\n<polygon fill=\"none\" stroke=\"#000000\" points=\"858.5,-68 739.5,-68 739.5,0 858.5,0 858.5,-68\"/>\n<text text-anchor=\"middle\" x=\"799\" y=\"-52.8\" font-family=\"Times,serif\" font-size=\"14.00\" fill=\"#000000\">e:1.000</text>\n<text text-anchor=\"middle\" x=\"799\" y=\"-37.8\" font-family=\"Times,serif\" font-size=\"14.00\" fill=\"#000000\">num_samples = 8</text>\n<text text-anchor=\"middle\" x=\"799\" y=\"-22.8\" font-family=\"Times,serif\" font-size=\"14.00\" fill=\"#000000\">entropy = &#45;0.0</text>\n<text text-anchor=\"middle\" x=\"799\" y=\"-7.8\" font-family=\"Times,serif\" font-size=\"14.00\" fill=\"#000000\">gini = 0.0</text>\n</g>\n<!-- 140601424945504&#45;&gt;140601424946232 -->\n<g id=\"edge12\" class=\"edge\">\n<title>140601424945504&#45;&gt;140601424946232</title>\n<path fill=\"none\" stroke=\"#000000\" d=\"M863.3,-118.7286C852.988,-105.1405 841.5372,-90.0516 831.1899,-76.4168\"/>\n<polygon fill=\"#000000\" stroke=\"#000000\" points=\"833.7431,-73.9916 824.9098,-68.1416 828.167,-78.2233 833.7431,-73.9916\"/>\n<text text-anchor=\"middle\" x=\"851\" y=\"-89.8\" font-family=\"Times,serif\" font-size=\"14.00\" fill=\"#000000\">b</text>\n</g>\n<!-- 140601424948976 -->\n<g id=\"node17\" class=\"node\">\n<title>140601424948976</title>\n<polygon fill=\"#377eb8\" stroke=\"#000000\" stroke-width=\".5\" points=\"877,0 1003,0 1003,-68 877,-68 877,0\"/>\n<polygon fill=\"none\" stroke=\"#000000\" points=\"1003,-68 877,-68 877,0 1003,0 1003,-68\"/>\n<text text-anchor=\"middle\" x=\"940\" y=\"-52.8\" font-family=\"Times,serif\" font-size=\"14.00\" fill=\"#000000\">p:1.000</text>\n<text text-anchor=\"middle\" x=\"940\" y=\"-37.8\" font-family=\"Times,serif\" font-size=\"14.00\" fill=\"#000000\">num_samples = 32</text>\n<text text-anchor=\"middle\" x=\"940\" y=\"-22.8\" font-family=\"Times,serif\" font-size=\"14.00\" fill=\"#000000\">entropy = &#45;0.0</text>\n<text text-anchor=\"middle\" x=\"940\" y=\"-7.8\" font-family=\"Times,serif\" font-size=\"14.00\" fill=\"#000000\">gini = 0.0</text>\n</g>\n<!-- 140601424945504&#45;&gt;140601424948976 -->\n<g id=\"edge13\" class=\"edge\">\n<title>140601424945504&#45;&gt;140601424948976</title>\n<path fill=\"none\" stroke=\"#000000\" d=\"M909.8594,-118.7286C914.5563,-105.5251 919.7573,-90.9045 924.498,-77.5779\"/>\n<polygon fill=\"#000000\" stroke=\"#000000\" points=\"927.8007,-78.7363 927.8548,-68.1416 921.2056,-76.3901 927.8007,-78.7363\"/>\n<text text-anchor=\"middle\" x=\"925\" y=\"-89.8\" font-family=\"Times,serif\" font-size=\"14.00\" fill=\"#000000\">n</text>\n</g>\n<!-- 140601424949200 -->\n<g id=\"node20\" class=\"node\">\n<title>140601424949200</title>\n<polygon fill=\"#e41a1c\" stroke=\"#000000\" stroke-width=\".5\" points=\"1043,0 1169,0 1169,-68 1043,-68 1043,0\"/>\n<polygon fill=\"none\" stroke=\"#000000\" points=\"1169,-68 1043,-68 1043,0 1169,0 1169,-68\"/>\n<text text-anchor=\"middle\" x=\"1106\" y=\"-52.8\" font-family=\"Times,serif\" font-size=\"14.00\" fill=\"#000000\">e:1.000</text>\n<text text-anchor=\"middle\" x=\"1106\" y=\"-37.8\" font-family=\"Times,serif\" font-size=\"14.00\" fill=\"#000000\">num_samples = 24</text>\n<text text-anchor=\"middle\" x=\"1106\" y=\"-22.8\" font-family=\"Times,serif\" font-size=\"14.00\" fill=\"#000000\">entropy = &#45;0.0</text>\n<text text-anchor=\"middle\" x=\"1106\" y=\"-7.8\" font-family=\"Times,serif\" font-size=\"14.00\" fill=\"#000000\">gini = 0.0</text>\n</g>\n<!-- 140601424740536&#45;&gt;140601424949200 -->\n<g id=\"edge16\" class=\"edge\">\n<title>140601424740536&#45;&gt;140601424949200</title>\n<path fill=\"none\" stroke=\"#000000\" d=\"M1217.8551,-118.7286C1198.9859,-104.4354 1177.9246,-88.4818 1159.2111,-74.3066\"/>\n<polygon fill=\"#000000\" stroke=\"#000000\" points=\"1161.1569,-71.3898 1151.0723,-68.1416 1156.9302,-76.9697 1161.1569,-71.3898\"/>\n<text text-anchor=\"middle\" x=\"1193.5\" y=\"-89.8\" font-family=\"Times,serif\" font-size=\"14.00\" fill=\"#000000\">c</text>\n</g>\n<!-- 140601424948640 -->\n<g id=\"node21\" class=\"node\">\n<title>140601424948640</title>\n<polygon fill=\"#e41a1c\" stroke=\"#000000\" stroke-width=\".5\" points=\"1187,0 1313,0 1313,-68 1187,-68 1187,0\"/>\n<polygon fill=\"none\" stroke=\"#000000\" points=\"1313,-68 1187,-68 1187,0 1313,0 1313,-68\"/>\n<text text-anchor=\"middle\" x=\"1250\" y=\"-52.8\" font-family=\"Times,serif\" font-size=\"14.00\" fill=\"#000000\">e:1.000</text>\n<text text-anchor=\"middle\" x=\"1250\" y=\"-37.8\" font-family=\"Times,serif\" font-size=\"14.00\" fill=\"#000000\">num_samples = 24</text>\n<text text-anchor=\"middle\" x=\"1250\" y=\"-22.8\" font-family=\"Times,serif\" font-size=\"14.00\" fill=\"#000000\">entropy = &#45;0.0</text>\n<text text-anchor=\"middle\" x=\"1250\" y=\"-7.8\" font-family=\"Times,serif\" font-size=\"14.00\" fill=\"#000000\">gini = 0.0</text>\n</g>\n<!-- 140601424740536&#45;&gt;140601424948640 -->\n<g id=\"edge17\" class=\"edge\">\n<title>140601424740536&#45;&gt;140601424948640</title>\n<path fill=\"none\" stroke=\"#000000\" d=\"M1265.4052,-118.7286C1263.0512,-105.7814 1260.4494,-91.4718 1258.0647,-78.3557\"/>\n<polygon fill=\"#000000\" stroke=\"#000000\" points=\"1261.44,-77.3541 1256.2076,-68.1416 1254.5529,-78.6064 1261.44,-77.3541\"/>\n<text text-anchor=\"middle\" x=\"1266\" y=\"-89.8\" font-family=\"Times,serif\" font-size=\"14.00\" fill=\"#000000\">n</text>\n</g>\n<!-- 140601424947128 -->\n<g id=\"node22\" class=\"node\">\n<title>140601424947128</title>\n<polygon fill=\"#377eb8\" stroke=\"#000000\" stroke-width=\".5\" points=\"1331.5,0 1450.5,0 1450.5,-68 1331.5,-68 1331.5,0\"/>\n<polygon fill=\"none\" stroke=\"#000000\" points=\"1450.5,-68 1331.5,-68 1331.5,0 1450.5,0 1450.5,-68\"/>\n<text text-anchor=\"middle\" x=\"1391\" y=\"-52.8\" font-family=\"Times,serif\" font-size=\"14.00\" fill=\"#000000\">p:1.000</text>\n<text text-anchor=\"middle\" x=\"1391\" y=\"-37.8\" font-family=\"Times,serif\" font-size=\"14.00\" fill=\"#000000\">num_samples = 8</text>\n<text text-anchor=\"middle\" x=\"1391\" y=\"-22.8\" font-family=\"Times,serif\" font-size=\"14.00\" fill=\"#000000\">entropy = &#45;0.0</text>\n<text text-anchor=\"middle\" x=\"1391\" y=\"-7.8\" font-family=\"Times,serif\" font-size=\"14.00\" fill=\"#000000\">gini = 0.0</text>\n</g>\n<!-- 140601424740536&#45;&gt;140601424947128 -->\n<g id=\"edge18\" class=\"edge\">\n<title>140601424740536&#45;&gt;140601424947128</title>\n<path fill=\"none\" stroke=\"#000000\" d=\"M1311.9646,-118.7286C1324.8789,-104.8841 1339.2463,-89.4817 1352.1518,-75.6466\"/>\n<polygon fill=\"#000000\" stroke=\"#000000\" points=\"1354.8908,-77.8415 1359.1525,-68.1416 1349.772,-73.0667 1354.8908,-77.8415\"/>\n<text text-anchor=\"middle\" x=\"1344.5\" y=\"-89.8\" font-family=\"Times,serif\" font-size=\"14.00\" fill=\"#000000\">w</text>\n</g>\n<!-- 140601424945840 -->\n<g id=\"node23\" class=\"node\">\n<title>140601424945840</title>\n<polygon fill=\"#377eb8\" stroke=\"#000000\" stroke-width=\".5\" points=\"1468.5,0 1587.5,0 1587.5,-68 1468.5,-68 1468.5,0\"/>\n<polygon fill=\"none\" stroke=\"#000000\" points=\"1587.5,-68 1468.5,-68 1468.5,0 1587.5,0 1587.5,-68\"/>\n<text text-anchor=\"middle\" x=\"1528\" y=\"-52.8\" font-family=\"Times,serif\" font-size=\"14.00\" fill=\"#000000\">p:1.000</text>\n<text text-anchor=\"middle\" x=\"1528\" y=\"-37.8\" font-family=\"Times,serif\" font-size=\"14.00\" fill=\"#000000\">num_samples = 8</text>\n<text text-anchor=\"middle\" x=\"1528\" y=\"-22.8\" font-family=\"Times,serif\" font-size=\"14.00\" fill=\"#000000\">entropy = &#45;0.0</text>\n<text text-anchor=\"middle\" x=\"1528\" y=\"-7.8\" font-family=\"Times,serif\" font-size=\"14.00\" fill=\"#000000\">gini = 0.0</text>\n</g>\n<!-- 140601424740536&#45;&gt;140601424945840 -->\n<g id=\"edge19\" class=\"edge\">\n<title>140601424740536&#45;&gt;140601424945840</title>\n<path fill=\"none\" stroke=\"#000000\" d=\"M1357.2831,-118.9046C1387.0563,-104.1878 1420.9699,-87.3984 1459.0613,-68.4622\"/>\n<polygon fill=\"#000000\" stroke=\"#000000\" points=\"1460.9075,-71.4531 1468.3031,-63.8665 1457.7907,-65.1852 1460.9075,-71.4531\"/>\n<text text-anchor=\"middle\" x=\"1423\" y=\"-89.8\" font-family=\"Times,serif\" font-size=\"14.00\" fill=\"#000000\">y</text>\n</g>\n</g>\n</svg>\n"
          },
          "metadata": {
            "tags": []
          },
          "execution_count": 22
        }
      ]
    },
    {
      "cell_type": "markdown",
      "metadata": {
        "id": "OFi3y2nWVdJZ"
      },
      "source": [
        "#### Tree for criterion = gini"
      ]
    },
    {
      "cell_type": "code",
      "metadata": {
        "id": "x4qrpqABkI4R",
        "colab": {
          "base_uri": "https://localhost:8080/"
        },
        "outputId": "b39ec0fe-47f8-4038-920c-c3ee0a69d992"
      },
      "source": [
        "mushroom_tree = Tree(mushroom_df, criterion = 'gini')\n",
        "mushroom_tree.draw()"
      ],
      "execution_count": null,
      "outputs": [
        {
          "output_type": "execute_result",
          "data": {
            "text/plain": [
              "<graphviz.dot.Digraph at 0x7fe051fc4b38>"
            ],
            "image/svg+xml": "<?xml version=\"1.0\" encoding=\"UTF-8\" standalone=\"no\"?>\n<!DOCTYPE svg PUBLIC \"-//W3C//DTD SVG 1.1//EN\"\n \"http://www.w3.org/Graphics/SVG/1.1/DTD/svg11.dtd\">\n<!-- Generated by graphviz version 2.40.1 (20161225.0304)\n -->\n<!-- Title: %3 Pages: 1 -->\n<svg width=\"1681pt\" height=\"612pt\"\n viewBox=\"0.00 0.00 1681.00 612.00\" xmlns=\"http://www.w3.org/2000/svg\" xmlns:xlink=\"http://www.w3.org/1999/xlink\">\n<g id=\"graph0\" class=\"graph\" transform=\"scale(1 1) rotate(0) translate(4 608)\">\n<title>%3</title>\n<polygon fill=\"#ffffff\" stroke=\"transparent\" points=\"-4,4 -4,-608 1677,-608 1677,4 -4,4\"/>\n<!-- 140601424772120 -->\n<g id=\"node1\" class=\"node\">\n<title>140601424772120</title>\n<polygon fill=\"#e41a1c\" stroke=\"#000000\" stroke-width=\".5\" points=\"575,-521 682.7381,-521 682.7381,-604 575,-604 575,-521\"/>\n<polygon fill=\"#377eb8\" stroke=\"#000000\" stroke-width=\".5\" points=\"682.7381,-521 783,-521 783,-604 682.7381,-604 682.7381,-521\"/>\n<polygon fill=\"none\" stroke=\"#000000\" points=\"783,-604 575,-604 575,-521 783,-521 783,-604\"/>\n<text text-anchor=\"middle\" x=\"679\" y=\"-588.8\" font-family=\"Times,serif\" font-size=\"14.00\" fill=\"#000000\">e:0.518 p:0.482</text>\n<text text-anchor=\"middle\" x=\"679\" y=\"-573.8\" font-family=\"Times,serif\" font-size=\"14.00\" fill=\"#000000\">num_samples = 8124</text>\n<text text-anchor=\"middle\" x=\"679\" y=\"-558.8\" font-family=\"Times,serif\" font-size=\"14.00\" fill=\"#000000\">entropy = 0.9990678968724603</text>\n<text text-anchor=\"middle\" x=\"679\" y=\"-543.8\" font-family=\"Times,serif\" font-size=\"14.00\" fill=\"#000000\">gini = 0.49935405449893955</text>\n<text text-anchor=\"middle\" x=\"679\" y=\"-528.8\" font-family=\"Times,serif\" font-size=\"14.00\" fill=\"#000000\">split by: odor</text>\n</g>\n<!-- 140601427074856 -->\n<g id=\"node2\" class=\"node\">\n<title>140601427074856</title>\n<polygon fill=\"#e41a1c\" stroke=\"#000000\" stroke-width=\".5\" points=\"0,-394.5 134,-394.5 134,-462.5 0,-462.5 0,-394.5\"/>\n<polygon fill=\"none\" stroke=\"#000000\" points=\"134,-462.5 0,-462.5 0,-394.5 134,-394.5 134,-462.5\"/>\n<text text-anchor=\"middle\" x=\"67\" y=\"-447.3\" font-family=\"Times,serif\" font-size=\"14.00\" fill=\"#000000\">e:1.000</text>\n<text text-anchor=\"middle\" x=\"67\" y=\"-432.3\" font-family=\"Times,serif\" font-size=\"14.00\" fill=\"#000000\">num_samples = 400</text>\n<text text-anchor=\"middle\" x=\"67\" y=\"-417.3\" font-family=\"Times,serif\" font-size=\"14.00\" fill=\"#000000\">entropy = &#45;0.0</text>\n<text text-anchor=\"middle\" x=\"67\" y=\"-402.3\" font-family=\"Times,serif\" font-size=\"14.00\" fill=\"#000000\">gini = 0.0</text>\n</g>\n<!-- 140601424772120&#45;&gt;140601427074856 -->\n<g id=\"edge1\" class=\"edge\">\n<title>140601424772120&#45;&gt;140601427074856</title>\n<path fill=\"none\" stroke=\"#000000\" d=\"M574.9696,-554.7299C465.0881,-544.1962 288.0141,-520.5393 143,-470 140.112,-468.9935 137.2031,-467.8849 134.2947,-466.6967\"/>\n<polygon fill=\"#000000\" stroke=\"#000000\" points=\"135.6005,-463.4479 125.035,-462.6593 132.8027,-469.8645 135.6005,-463.4479\"/>\n<text text-anchor=\"middle\" x=\"246.5\" y=\"-491.8\" font-family=\"Times,serif\" font-size=\"14.00\" fill=\"#000000\">a</text>\n</g>\n<!-- 140601427074352 -->\n<g id=\"node3\" class=\"node\">\n<title>140601427074352</title>\n<polygon fill=\"#377eb8\" stroke=\"#000000\" stroke-width=\".5\" points=\"152,-394.5 286,-394.5 286,-462.5 152,-462.5 152,-394.5\"/>\n<polygon fill=\"none\" stroke=\"#000000\" points=\"286,-462.5 152,-462.5 152,-394.5 286,-394.5 286,-462.5\"/>\n<text text-anchor=\"middle\" x=\"219\" y=\"-447.3\" font-family=\"Times,serif\" font-size=\"14.00\" fill=\"#000000\">p:1.000</text>\n<text text-anchor=\"middle\" x=\"219\" y=\"-432.3\" font-family=\"Times,serif\" font-size=\"14.00\" fill=\"#000000\">num_samples = 192</text>\n<text text-anchor=\"middle\" x=\"219\" y=\"-417.3\" font-family=\"Times,serif\" font-size=\"14.00\" fill=\"#000000\">entropy = &#45;0.0</text>\n<text text-anchor=\"middle\" x=\"219\" y=\"-402.3\" font-family=\"Times,serif\" font-size=\"14.00\" fill=\"#000000\">gini = 0.0</text>\n</g>\n<!-- 140601424772120&#45;&gt;140601427074352 -->\n<g id=\"edge2\" class=\"edge\">\n<title>140601424772120&#45;&gt;140601427074352</title>\n<path fill=\"none\" stroke=\"#000000\" d=\"M574.8962,-545.1244C496.3514,-530.1861 386.8115,-505.4092 295,-470 292.4577,-469.0195 289.8945,-467.9698 287.3259,-466.8657\"/>\n<polygon fill=\"#000000\" stroke=\"#000000\" points=\"288.584,-463.5933 278.0307,-462.6557 285.6959,-469.9697 288.584,-463.5933\"/>\n<text text-anchor=\"middle\" x=\"391.5\" y=\"-491.8\" font-family=\"Times,serif\" font-size=\"14.00\" fill=\"#000000\">c</text>\n</g>\n<!-- 140601427071104 -->\n<g id=\"node4\" class=\"node\">\n<title>140601427071104</title>\n<polygon fill=\"#377eb8\" stroke=\"#000000\" stroke-width=\".5\" points=\"304.5,-394.5 445.5,-394.5 445.5,-462.5 304.5,-462.5 304.5,-394.5\"/>\n<polygon fill=\"none\" stroke=\"#000000\" points=\"445.5,-462.5 304.5,-462.5 304.5,-394.5 445.5,-394.5 445.5,-462.5\"/>\n<text text-anchor=\"middle\" x=\"375\" y=\"-447.3\" font-family=\"Times,serif\" font-size=\"14.00\" fill=\"#000000\">p:1.000</text>\n<text text-anchor=\"middle\" x=\"375\" y=\"-432.3\" font-family=\"Times,serif\" font-size=\"14.00\" fill=\"#000000\">num_samples = 2160</text>\n<text text-anchor=\"middle\" x=\"375\" y=\"-417.3\" font-family=\"Times,serif\" font-size=\"14.00\" fill=\"#000000\">entropy = &#45;0.0</text>\n<text text-anchor=\"middle\" x=\"375\" y=\"-402.3\" font-family=\"Times,serif\" font-size=\"14.00\" fill=\"#000000\">gini = 0.0</text>\n</g>\n<!-- 140601424772120&#45;&gt;140601427071104 -->\n<g id=\"edge3\" class=\"edge\">\n<title>140601424772120&#45;&gt;140601427071104</title>\n<path fill=\"none\" stroke=\"#000000\" d=\"M574.7508,-521.6457C536.7443,-506.1768 493.6314,-487.9551 455,-470 452.9249,-469.0355 450.8258,-468.0458 448.7122,-467.0369\"/>\n<polygon fill=\"#000000\" stroke=\"#000000\" points=\"449.9064,-463.7261 439.3818,-462.5088 446.8502,-470.0237 449.9064,-463.7261\"/>\n<text text-anchor=\"middle\" x=\"531.5\" y=\"-491.8\" font-family=\"Times,serif\" font-size=\"14.00\" fill=\"#000000\">f</text>\n</g>\n<!-- 140601427071944 -->\n<g id=\"node5\" class=\"node\">\n<title>140601427071944</title>\n<polygon fill=\"#e41a1c\" stroke=\"#000000\" stroke-width=\".5\" points=\"464,-394.5 598,-394.5 598,-462.5 464,-462.5 464,-394.5\"/>\n<polygon fill=\"none\" stroke=\"#000000\" points=\"598,-462.5 464,-462.5 464,-394.5 598,-394.5 598,-462.5\"/>\n<text text-anchor=\"middle\" x=\"531\" y=\"-447.3\" font-family=\"Times,serif\" font-size=\"14.00\" fill=\"#000000\">e:1.000</text>\n<text text-anchor=\"middle\" x=\"531\" y=\"-432.3\" font-family=\"Times,serif\" font-size=\"14.00\" fill=\"#000000\">num_samples = 400</text>\n<text text-anchor=\"middle\" x=\"531\" y=\"-417.3\" font-family=\"Times,serif\" font-size=\"14.00\" fill=\"#000000\">entropy = &#45;0.0</text>\n<text text-anchor=\"middle\" x=\"531\" y=\"-402.3\" font-family=\"Times,serif\" font-size=\"14.00\" fill=\"#000000\">gini = 0.0</text>\n</g>\n<!-- 140601424772120&#45;&gt;140601427071944 -->\n<g id=\"edge4\" class=\"edge\">\n<title>140601424772120&#45;&gt;140601427071944</title>\n<path fill=\"none\" stroke=\"#000000\" d=\"M632.9832,-520.8361C614.8666,-504.4333 594.1259,-485.6545 576.0997,-469.3335\"/>\n<polygon fill=\"#000000\" stroke=\"#000000\" points=\"578.3181,-466.6206 568.5559,-462.5033 573.6198,-471.8097 578.3181,-466.6206\"/>\n<text text-anchor=\"middle\" x=\"612\" y=\"-491.8\" font-family=\"Times,serif\" font-size=\"14.00\" fill=\"#000000\">l</text>\n</g>\n<!-- 140601427074744 -->\n<g id=\"node6\" class=\"node\">\n<title>140601427074744</title>\n<polygon fill=\"#377eb8\" stroke=\"#000000\" stroke-width=\".5\" points=\"616,-394.5 742,-394.5 742,-462.5 616,-462.5 616,-394.5\"/>\n<polygon fill=\"none\" stroke=\"#000000\" points=\"742,-462.5 616,-462.5 616,-394.5 742,-394.5 742,-462.5\"/>\n<text text-anchor=\"middle\" x=\"679\" y=\"-447.3\" font-family=\"Times,serif\" font-size=\"14.00\" fill=\"#000000\">p:1.000</text>\n<text text-anchor=\"middle\" x=\"679\" y=\"-432.3\" font-family=\"Times,serif\" font-size=\"14.00\" fill=\"#000000\">num_samples = 36</text>\n<text text-anchor=\"middle\" x=\"679\" y=\"-417.3\" font-family=\"Times,serif\" font-size=\"14.00\" fill=\"#000000\">entropy = &#45;0.0</text>\n<text text-anchor=\"middle\" x=\"679\" y=\"-402.3\" font-family=\"Times,serif\" font-size=\"14.00\" fill=\"#000000\">gini = 0.0</text>\n</g>\n<!-- 140601424772120&#45;&gt;140601427074744 -->\n<g id=\"edge5\" class=\"edge\">\n<title>140601424772120&#45;&gt;140601427074744</title>\n<path fill=\"none\" stroke=\"#000000\" d=\"M679,-520.8361C679,-505.6049 679,-488.3251 679,-472.8667\"/>\n<polygon fill=\"#000000\" stroke=\"#000000\" points=\"682.5001,-472.5033 679,-462.5033 675.5001,-472.5034 682.5001,-472.5033\"/>\n<text text-anchor=\"middle\" x=\"685\" y=\"-491.8\" font-family=\"Times,serif\" font-size=\"14.00\" fill=\"#000000\">m</text>\n</g>\n<!-- 140601427071664 -->\n<g id=\"node7\" class=\"node\">\n<title>140601427071664</title>\n<polygon fill=\"#e41a1c\" stroke=\"#000000\" stroke-width=\".5\" points=\"760.5,-387 960.4592,-387 960.4592,-470 760.5,-470 760.5,-387\"/>\n<polygon fill=\"#377eb8\" stroke=\"#000000\" stroke-width=\".5\" points=\"960.4592,-387 967.5,-387 967.5,-470 960.4592,-470 960.4592,-387\"/>\n<polygon fill=\"none\" stroke=\"#000000\" points=\"967.5,-470 760.5,-470 760.5,-387 967.5,-387 967.5,-470\"/>\n<text text-anchor=\"middle\" x=\"864\" y=\"-454.8\" font-family=\"Times,serif\" font-size=\"14.00\" fill=\"#000000\">e:0.966 p:0.034</text>\n<text text-anchor=\"middle\" x=\"864\" y=\"-439.8\" font-family=\"Times,serif\" font-size=\"14.00\" fill=\"#000000\">num_samples = 3528</text>\n<text text-anchor=\"middle\" x=\"864\" y=\"-424.8\" font-family=\"Times,serif\" font-size=\"14.00\" fill=\"#000000\">entropy = 0.2141367567812511</text>\n<text text-anchor=\"middle\" x=\"864\" y=\"-409.8\" font-family=\"Times,serif\" font-size=\"14.00\" fill=\"#000000\">gini = 0.06571336017400164</text>\n<text text-anchor=\"middle\" x=\"864\" y=\"-394.8\" font-family=\"Times,serif\" font-size=\"14.00\" fill=\"#000000\">split by: spore&#45;print&#45;color</text>\n</g>\n<!-- 140601424772120&#45;&gt;140601427071664 -->\n<g id=\"edge25\" class=\"edge\">\n<title>140601424772120&#45;&gt;140601427071664</title>\n<path fill=\"none\" stroke=\"#000000\" d=\"M736.5211,-520.8361C756.0982,-506.6559 778.1268,-490.7 798.2954,-476.0915\"/>\n<polygon fill=\"#000000\" stroke=\"#000000\" points=\"800.4689,-478.8388 806.5145,-470.1381 796.3626,-473.1697 800.4689,-478.8388\"/>\n<text text-anchor=\"middle\" x=\"782\" y=\"-491.8\" font-family=\"Times,serif\" font-size=\"14.00\" fill=\"#000000\">n</text>\n</g>\n<!-- 140601424743336 -->\n<g id=\"node27\" class=\"node\">\n<title>140601424743336</title>\n<polygon fill=\"#377eb8\" stroke=\"#000000\" stroke-width=\".5\" points=\"986,-394.5 1120,-394.5 1120,-462.5 986,-462.5 986,-394.5\"/>\n<polygon fill=\"none\" stroke=\"#000000\" points=\"1120,-462.5 986,-462.5 986,-394.5 1120,-394.5 1120,-462.5\"/>\n<text text-anchor=\"middle\" x=\"1053\" y=\"-447.3\" font-family=\"Times,serif\" font-size=\"14.00\" fill=\"#000000\">p:1.000</text>\n<text text-anchor=\"middle\" x=\"1053\" y=\"-432.3\" font-family=\"Times,serif\" font-size=\"14.00\" fill=\"#000000\">num_samples = 256</text>\n<text text-anchor=\"middle\" x=\"1053\" y=\"-417.3\" font-family=\"Times,serif\" font-size=\"14.00\" fill=\"#000000\">entropy = &#45;0.0</text>\n<text text-anchor=\"middle\" x=\"1053\" y=\"-402.3\" font-family=\"Times,serif\" font-size=\"14.00\" fill=\"#000000\">gini = 0.0</text>\n</g>\n<!-- 140601424772120&#45;&gt;140601424743336 -->\n<g id=\"edge26\" class=\"edge\">\n<title>140601424772120&#45;&gt;140601424743336</title>\n<path fill=\"none\" stroke=\"#000000\" d=\"M783.1449,-535.38C840.926,-519.0203 913.5241,-496.2766 976,-470 978.3272,-469.0212 980.6769,-467.9945 983.0363,-466.9303\"/>\n<polygon fill=\"#000000\" stroke=\"#000000\" points=\"984.5846,-470.0701 992.1582,-462.6612 981.6174,-463.73 984.5846,-470.0701\"/>\n<text text-anchor=\"middle\" x=\"933\" y=\"-491.8\" font-family=\"Times,serif\" font-size=\"14.00\" fill=\"#000000\">p</text>\n</g>\n<!-- 140601424742104 -->\n<g id=\"node28\" class=\"node\">\n<title>140601424742104</title>\n<polygon fill=\"#377eb8\" stroke=\"#000000\" stroke-width=\".5\" points=\"1138,-394.5 1272,-394.5 1272,-462.5 1138,-462.5 1138,-394.5\"/>\n<polygon fill=\"none\" stroke=\"#000000\" points=\"1272,-462.5 1138,-462.5 1138,-394.5 1272,-394.5 1272,-462.5\"/>\n<text text-anchor=\"middle\" x=\"1205\" y=\"-447.3\" font-family=\"Times,serif\" font-size=\"14.00\" fill=\"#000000\">p:1.000</text>\n<text text-anchor=\"middle\" x=\"1205\" y=\"-432.3\" font-family=\"Times,serif\" font-size=\"14.00\" fill=\"#000000\">num_samples = 576</text>\n<text text-anchor=\"middle\" x=\"1205\" y=\"-417.3\" font-family=\"Times,serif\" font-size=\"14.00\" fill=\"#000000\">entropy = &#45;0.0</text>\n<text text-anchor=\"middle\" x=\"1205\" y=\"-402.3\" font-family=\"Times,serif\" font-size=\"14.00\" fill=\"#000000\">gini = 0.0</text>\n</g>\n<!-- 140601424772120&#45;&gt;140601424742104 -->\n<g id=\"edge27\" class=\"edge\">\n<title>140601424772120&#45;&gt;140601424742104</title>\n<path fill=\"none\" stroke=\"#000000\" d=\"M783.276,-550.0193C876.063,-536.8287 1014.4212,-511.9895 1129,-470 1131.7128,-469.0058 1134.4466,-467.9271 1137.183,-466.782\"/>\n<polygon fill=\"#000000\" stroke=\"#000000\" points=\"1138.7498,-469.9159 1146.4698,-462.6598 1135.9098,-463.5179 1138.7498,-469.9159\"/>\n<text text-anchor=\"middle\" x=\"1073\" y=\"-491.8\" font-family=\"Times,serif\" font-size=\"14.00\" fill=\"#000000\">s</text>\n</g>\n<!-- 140601427072448 -->\n<g id=\"node29\" class=\"node\">\n<title>140601427072448</title>\n<polygon fill=\"#377eb8\" stroke=\"#000000\" stroke-width=\".5\" points=\"1290,-394.5 1424,-394.5 1424,-462.5 1290,-462.5 1290,-394.5\"/>\n<polygon fill=\"none\" stroke=\"#000000\" points=\"1424,-462.5 1290,-462.5 1290,-394.5 1424,-394.5 1424,-462.5\"/>\n<text text-anchor=\"middle\" x=\"1357\" y=\"-447.3\" font-family=\"Times,serif\" font-size=\"14.00\" fill=\"#000000\">p:1.000</text>\n<text text-anchor=\"middle\" x=\"1357\" y=\"-432.3\" font-family=\"Times,serif\" font-size=\"14.00\" fill=\"#000000\">num_samples = 576</text>\n<text text-anchor=\"middle\" x=\"1357\" y=\"-417.3\" font-family=\"Times,serif\" font-size=\"14.00\" fill=\"#000000\">entropy = &#45;0.0</text>\n<text text-anchor=\"middle\" x=\"1357\" y=\"-402.3\" font-family=\"Times,serif\" font-size=\"14.00\" fill=\"#000000\">gini = 0.0</text>\n</g>\n<!-- 140601424772120&#45;&gt;140601427072448 -->\n<g id=\"edge28\" class=\"edge\">\n<title>140601424772120&#45;&gt;140601427072448</title>\n<path fill=\"none\" stroke=\"#000000\" d=\"M783.1318,-557.7599C905.3269,-549.6553 1112.6394,-527.9062 1281,-470 1284.0565,-468.9488 1287.1356,-467.7814 1290.212,-466.5248\"/>\n<polygon fill=\"#000000\" stroke=\"#000000\" points=\"1291.6408,-469.7201 1299.4078,-462.5143 1288.8424,-463.3038 1291.6408,-469.7201\"/>\n<text text-anchor=\"middle\" x=\"1223\" y=\"-491.8\" font-family=\"Times,serif\" font-size=\"14.00\" fill=\"#000000\">y</text>\n</g>\n<!-- 140601425576960 -->\n<g id=\"node8\" class=\"node\">\n<title>140601425576960</title>\n<polygon fill=\"#e41a1c\" stroke=\"#000000\" stroke-width=\".5\" points=\"270,-260.5 396,-260.5 396,-328.5 270,-328.5 270,-260.5\"/>\n<polygon fill=\"none\" stroke=\"#000000\" points=\"396,-328.5 270,-328.5 270,-260.5 396,-260.5 396,-328.5\"/>\n<text text-anchor=\"middle\" x=\"333\" y=\"-313.3\" font-family=\"Times,serif\" font-size=\"14.00\" fill=\"#000000\">e:1.000</text>\n<text text-anchor=\"middle\" x=\"333\" y=\"-298.3\" font-family=\"Times,serif\" font-size=\"14.00\" fill=\"#000000\">num_samples = 48</text>\n<text text-anchor=\"middle\" x=\"333\" y=\"-283.3\" font-family=\"Times,serif\" font-size=\"14.00\" fill=\"#000000\">entropy = &#45;0.0</text>\n<text text-anchor=\"middle\" x=\"333\" y=\"-268.3\" font-family=\"Times,serif\" font-size=\"14.00\" fill=\"#000000\">gini = 0.0</text>\n</g>\n<!-- 140601427071664&#45;&gt;140601425576960 -->\n<g id=\"edge6\" class=\"edge\">\n<title>140601427071664&#45;&gt;140601425576960</title>\n<path fill=\"none\" stroke=\"#000000\" d=\"M760.2299,-389.3271C757.1322,-388.4996 754.0509,-387.7208 751,-387 681.3574,-370.5469 661.821,-379.2556 591,-369 507.909,-356.9676 483.8895,-364.7285 405,-336 402.42,-335.0605 399.8256,-334.0312 397.2334,-332.9309\"/>\n<polygon fill=\"#000000\" stroke=\"#000000\" points=\"398.4363,-329.6328 387.8855,-328.6686 395.5322,-336.002 398.4363,-329.6328\"/>\n<text text-anchor=\"middle\" x=\"595\" y=\"-357.8\" font-family=\"Times,serif\" font-size=\"14.00\" fill=\"#000000\">b</text>\n</g>\n<!-- 140601425578304 -->\n<g id=\"node9\" class=\"node\">\n<title>140601425578304</title>\n<polygon fill=\"#e41a1c\" stroke=\"#000000\" stroke-width=\".5\" points=\"414,-260.5 540,-260.5 540,-328.5 414,-328.5 414,-260.5\"/>\n<polygon fill=\"none\" stroke=\"#000000\" points=\"540,-328.5 414,-328.5 414,-260.5 540,-260.5 540,-328.5\"/>\n<text text-anchor=\"middle\" x=\"477\" y=\"-313.3\" font-family=\"Times,serif\" font-size=\"14.00\" fill=\"#000000\">e:1.000</text>\n<text text-anchor=\"middle\" x=\"477\" y=\"-298.3\" font-family=\"Times,serif\" font-size=\"14.00\" fill=\"#000000\">num_samples = 48</text>\n<text text-anchor=\"middle\" x=\"477\" y=\"-283.3\" font-family=\"Times,serif\" font-size=\"14.00\" fill=\"#000000\">entropy = &#45;0.0</text>\n<text text-anchor=\"middle\" x=\"477\" y=\"-268.3\" font-family=\"Times,serif\" font-size=\"14.00\" fill=\"#000000\">gini = 0.0</text>\n</g>\n<!-- 140601427071664&#45;&gt;140601425578304 -->\n<g id=\"edge7\" class=\"edge\">\n<title>140601427071664&#45;&gt;140601425578304</title>\n<path fill=\"none\" stroke=\"#000000\" d=\"M760.3874,-389.9697C757.2296,-388.9487 754.095,-387.9562 751,-387 662.5307,-359.6685 634.8137,-370.7828 549,-336 546.6601,-335.0516 544.3036,-334.0388 541.9437,-332.9751\"/>\n<polygon fill=\"#000000\" stroke=\"#000000\" points=\"543.3865,-329.7856 532.853,-328.647 540.3774,-336.1059 543.3865,-329.7856\"/>\n<text text-anchor=\"middle\" x=\"678\" y=\"-357.8\" font-family=\"Times,serif\" font-size=\"14.00\" fill=\"#000000\">h</text>\n</g>\n<!-- 140601425577744 -->\n<g id=\"node10\" class=\"node\">\n<title>140601425577744</title>\n<polygon fill=\"#e41a1c\" stroke=\"#000000\" stroke-width=\".5\" points=\"558.5,-260.5 699.5,-260.5 699.5,-328.5 558.5,-328.5 558.5,-260.5\"/>\n<polygon fill=\"none\" stroke=\"#000000\" points=\"699.5,-328.5 558.5,-328.5 558.5,-260.5 699.5,-260.5 699.5,-328.5\"/>\n<text text-anchor=\"middle\" x=\"629\" y=\"-313.3\" font-family=\"Times,serif\" font-size=\"14.00\" fill=\"#000000\">e:1.000</text>\n<text text-anchor=\"middle\" x=\"629\" y=\"-298.3\" font-family=\"Times,serif\" font-size=\"14.00\" fill=\"#000000\">num_samples = 1296</text>\n<text text-anchor=\"middle\" x=\"629\" y=\"-283.3\" font-family=\"Times,serif\" font-size=\"14.00\" fill=\"#000000\">entropy = &#45;0.0</text>\n<text text-anchor=\"middle\" x=\"629\" y=\"-268.3\" font-family=\"Times,serif\" font-size=\"14.00\" fill=\"#000000\">gini = 0.0</text>\n</g>\n<!-- 140601427071664&#45;&gt;140601425577744 -->\n<g id=\"edge8\" class=\"edge\">\n<title>140601427071664&#45;&gt;140601425577744</title>\n<path fill=\"none\" stroke=\"#000000\" d=\"M790.9327,-386.8361C761.1392,-369.8475 726.876,-350.3102 697.5612,-333.5944\"/>\n<polygon fill=\"#000000\" stroke=\"#000000\" points=\"699.0534,-330.4164 688.6327,-328.5033 695.586,-336.4973 699.0534,-330.4164\"/>\n<text text-anchor=\"middle\" x=\"758\" y=\"-357.8\" font-family=\"Times,serif\" font-size=\"14.00\" fill=\"#000000\">k</text>\n</g>\n<!-- 140601425577800 -->\n<g id=\"node11\" class=\"node\">\n<title>140601425577800</title>\n<polygon fill=\"#e41a1c\" stroke=\"#000000\" stroke-width=\".5\" points=\"717.5,-260.5 858.5,-260.5 858.5,-328.5 717.5,-328.5 717.5,-260.5\"/>\n<polygon fill=\"none\" stroke=\"#000000\" points=\"858.5,-328.5 717.5,-328.5 717.5,-260.5 858.5,-260.5 858.5,-328.5\"/>\n<text text-anchor=\"middle\" x=\"788\" y=\"-313.3\" font-family=\"Times,serif\" font-size=\"14.00\" fill=\"#000000\">e:1.000</text>\n<text text-anchor=\"middle\" x=\"788\" y=\"-298.3\" font-family=\"Times,serif\" font-size=\"14.00\" fill=\"#000000\">num_samples = 1344</text>\n<text text-anchor=\"middle\" x=\"788\" y=\"-283.3\" font-family=\"Times,serif\" font-size=\"14.00\" fill=\"#000000\">entropy = &#45;0.0</text>\n<text text-anchor=\"middle\" x=\"788\" y=\"-268.3\" font-family=\"Times,serif\" font-size=\"14.00\" fill=\"#000000\">gini = 0.0</text>\n</g>\n<!-- 140601427071664&#45;&gt;140601425577800 -->\n<g id=\"edge9\" class=\"edge\">\n<title>140601427071664&#45;&gt;140601425577800</title>\n<path fill=\"none\" stroke=\"#000000\" d=\"M840.3697,-386.8361C831.482,-371.1656 821.3643,-353.3265 812.4071,-337.5336\"/>\n<polygon fill=\"#000000\" stroke=\"#000000\" points=\"815.2634,-335.475 807.2855,-328.5033 809.1745,-338.9284 815.2634,-335.475\"/>\n<text text-anchor=\"middle\" x=\"833\" y=\"-357.8\" font-family=\"Times,serif\" font-size=\"14.00\" fill=\"#000000\">n</text>\n</g>\n<!-- 140601425579816 -->\n<g id=\"node12\" class=\"node\">\n<title>140601425579816</title>\n<polygon fill=\"#e41a1c\" stroke=\"#000000\" stroke-width=\".5\" points=\"877,-260.5 1003,-260.5 1003,-328.5 877,-328.5 877,-260.5\"/>\n<polygon fill=\"none\" stroke=\"#000000\" points=\"1003,-328.5 877,-328.5 877,-260.5 1003,-260.5 1003,-328.5\"/>\n<text text-anchor=\"middle\" x=\"940\" y=\"-313.3\" font-family=\"Times,serif\" font-size=\"14.00\" fill=\"#000000\">e:1.000</text>\n<text text-anchor=\"middle\" x=\"940\" y=\"-298.3\" font-family=\"Times,serif\" font-size=\"14.00\" fill=\"#000000\">num_samples = 48</text>\n<text text-anchor=\"middle\" x=\"940\" y=\"-283.3\" font-family=\"Times,serif\" font-size=\"14.00\" fill=\"#000000\">entropy = &#45;0.0</text>\n<text text-anchor=\"middle\" x=\"940\" y=\"-268.3\" font-family=\"Times,serif\" font-size=\"14.00\" fill=\"#000000\">gini = 0.0</text>\n</g>\n<!-- 140601427071664&#45;&gt;140601425579816 -->\n<g id=\"edge10\" class=\"edge\">\n<title>140601427071664&#45;&gt;140601425579816</title>\n<path fill=\"none\" stroke=\"#000000\" d=\"M887.6303,-386.8361C896.518,-371.1656 906.6357,-353.3265 915.5929,-337.5336\"/>\n<polygon fill=\"#000000\" stroke=\"#000000\" points=\"918.8255,-338.9284 920.7145,-328.5033 912.7366,-335.475 918.8255,-338.9284\"/>\n<text text-anchor=\"middle\" x=\"909\" y=\"-357.8\" font-family=\"Times,serif\" font-size=\"14.00\" fill=\"#000000\">o</text>\n</g>\n<!-- 140601425576512 -->\n<g id=\"node13\" class=\"node\">\n<title>140601425576512</title>\n<polygon fill=\"#377eb8\" stroke=\"#000000\" stroke-width=\".5\" points=\"1021,-260.5 1147,-260.5 1147,-328.5 1021,-328.5 1021,-260.5\"/>\n<polygon fill=\"none\" stroke=\"#000000\" points=\"1147,-328.5 1021,-328.5 1021,-260.5 1147,-260.5 1147,-328.5\"/>\n<text text-anchor=\"middle\" x=\"1084\" y=\"-313.3\" font-family=\"Times,serif\" font-size=\"14.00\" fill=\"#000000\">p:1.000</text>\n<text text-anchor=\"middle\" x=\"1084\" y=\"-298.3\" font-family=\"Times,serif\" font-size=\"14.00\" fill=\"#000000\">num_samples = 72</text>\n<text text-anchor=\"middle\" x=\"1084\" y=\"-283.3\" font-family=\"Times,serif\" font-size=\"14.00\" fill=\"#000000\">entropy = &#45;0.0</text>\n<text text-anchor=\"middle\" x=\"1084\" y=\"-268.3\" font-family=\"Times,serif\" font-size=\"14.00\" fill=\"#000000\">gini = 0.0</text>\n</g>\n<!-- 140601427071664&#45;&gt;140601425576512 -->\n<g id=\"edge11\" class=\"edge\">\n<title>140601427071664&#45;&gt;140601425576512</title>\n<path fill=\"none\" stroke=\"#000000\" d=\"M932.4034,-386.8361C960.175,-369.9207 992.0949,-350.4785 1019.46,-333.8108\"/>\n<polygon fill=\"#000000\" stroke=\"#000000\" points=\"1021.4538,-336.6945 1028.1736,-328.5033 1017.8124,-330.7161 1021.4538,-336.6945\"/>\n<text text-anchor=\"middle\" x=\"983.5\" y=\"-357.8\" font-family=\"Times,serif\" font-size=\"14.00\" fill=\"#000000\">r</text>\n</g>\n<!-- 140601425576792 -->\n<g id=\"node14\" class=\"node\">\n<title>140601425576792</title>\n<polygon fill=\"#e41a1c\" stroke=\"#000000\" stroke-width=\".5\" points=\"1165.5,-253 1363.9615,-253 1363.9615,-336 1165.5,-336 1165.5,-253\"/>\n<polygon fill=\"#377eb8\" stroke=\"#000000\" stroke-width=\".5\" points=\"1363.9615,-253 1380.5,-253 1380.5,-336 1363.9615,-336 1363.9615,-253\"/>\n<polygon fill=\"none\" stroke=\"#000000\" points=\"1380.5,-336 1165.5,-336 1165.5,-253 1380.5,-253 1380.5,-336\"/>\n<text text-anchor=\"middle\" x=\"1273\" y=\"-320.8\" font-family=\"Times,serif\" font-size=\"14.00\" fill=\"#000000\">e:0.923 p:0.077</text>\n<text text-anchor=\"middle\" x=\"1273\" y=\"-305.8\" font-family=\"Times,serif\" font-size=\"14.00\" fill=\"#000000\">num_samples = 624</text>\n<text text-anchor=\"middle\" x=\"1273\" y=\"-290.8\" font-family=\"Times,serif\" font-size=\"14.00\" fill=\"#000000\">entropy = 0.39124356362925566</text>\n<text text-anchor=\"middle\" x=\"1273\" y=\"-275.8\" font-family=\"Times,serif\" font-size=\"14.00\" fill=\"#000000\">gini = 0.14201183431952646</text>\n<text text-anchor=\"middle\" x=\"1273\" y=\"-260.8\" font-family=\"Times,serif\" font-size=\"14.00\" fill=\"#000000\">split by: habitat</text>\n</g>\n<!-- 140601427071664&#45;&gt;140601425576792 -->\n<g id=\"edge23\" class=\"edge\">\n<title>140601427071664&#45;&gt;140601425576792</title>\n<path fill=\"none\" stroke=\"#000000\" d=\"M967.6518,-390.0933C970.7983,-389.0365 973.9198,-388.0029 977,-387 1052.7385,-362.3405 1075.5239,-361.2237 1155.8016,-336.0001\"/>\n<polygon fill=\"#000000\" stroke=\"#000000\" points=\"1156.8714,-339.3327 1165.3457,-332.9737 1154.7555,-332.6601 1156.8714,-339.3327\"/>\n<text text-anchor=\"middle\" x=\"1100.5\" y=\"-357.8\" font-family=\"Times,serif\" font-size=\"14.00\" fill=\"#000000\">w</text>\n</g>\n<!-- 140601425579200 -->\n<g id=\"node26\" class=\"node\">\n<title>140601425579200</title>\n<polygon fill=\"#e41a1c\" stroke=\"#000000\" stroke-width=\".5\" points=\"1399,-260.5 1525,-260.5 1525,-328.5 1399,-328.5 1399,-260.5\"/>\n<polygon fill=\"none\" stroke=\"#000000\" points=\"1525,-328.5 1399,-328.5 1399,-260.5 1525,-260.5 1525,-328.5\"/>\n<text text-anchor=\"middle\" x=\"1462\" y=\"-313.3\" font-family=\"Times,serif\" font-size=\"14.00\" fill=\"#000000\">e:1.000</text>\n<text text-anchor=\"middle\" x=\"1462\" y=\"-298.3\" font-family=\"Times,serif\" font-size=\"14.00\" fill=\"#000000\">num_samples = 48</text>\n<text text-anchor=\"middle\" x=\"1462\" y=\"-283.3\" font-family=\"Times,serif\" font-size=\"14.00\" fill=\"#000000\">entropy = &#45;0.0</text>\n<text text-anchor=\"middle\" x=\"1462\" y=\"-268.3\" font-family=\"Times,serif\" font-size=\"14.00\" fill=\"#000000\">gini = 0.0</text>\n</g>\n<!-- 140601427071664&#45;&gt;140601425579200 -->\n<g id=\"edge24\" class=\"edge\">\n<title>140601427071664&#45;&gt;140601425579200</title>\n<path fill=\"none\" stroke=\"#000000\" d=\"M967.7806,-389.371C970.8752,-388.5307 973.9531,-387.7373 977,-387 1066.8809,-365.2508 1302.3034,-365.3414 1390,-336 1392.916,-335.0244 1395.8456,-333.9235 1398.7661,-332.7251\"/>\n<polygon fill=\"#000000\" stroke=\"#000000\" points=\"1400.3227,-335.8634 1408.0355,-328.5995 1397.4763,-329.4682 1400.3227,-335.8634\"/>\n<text text-anchor=\"middle\" x=\"1293\" y=\"-357.8\" font-family=\"Times,serif\" font-size=\"14.00\" fill=\"#000000\">y</text>\n</g>\n<!-- 140601427309064 -->\n<g id=\"node15\" class=\"node\">\n<title>140601427309064</title>\n<polygon fill=\"#e41a1c\" stroke=\"#000000\" stroke-width=\".5\" points=\"791,-119 832.6,-119 832.6,-202 791,-202 791,-119\"/>\n<polygon fill=\"#377eb8\" stroke=\"#000000\" stroke-width=\".5\" points=\"832.6,-119 999,-119 999,-202 832.6,-202 832.6,-119\"/>\n<polygon fill=\"none\" stroke=\"#000000\" points=\"999,-202 791,-202 791,-119 999,-119 999,-202\"/>\n<text text-anchor=\"middle\" x=\"895\" y=\"-186.8\" font-family=\"Times,serif\" font-size=\"14.00\" fill=\"#000000\">e:0.200 p:0.800</text>\n<text text-anchor=\"middle\" x=\"895\" y=\"-171.8\" font-family=\"Times,serif\" font-size=\"14.00\" fill=\"#000000\">num_samples = 40</text>\n<text text-anchor=\"middle\" x=\"895\" y=\"-156.8\" font-family=\"Times,serif\" font-size=\"14.00\" fill=\"#000000\">entropy = 0.7219280948873623</text>\n<text text-anchor=\"middle\" x=\"895\" y=\"-141.8\" font-family=\"Times,serif\" font-size=\"14.00\" fill=\"#000000\">gini = 0.31999999999999984</text>\n<text text-anchor=\"middle\" x=\"895\" y=\"-126.8\" font-family=\"Times,serif\" font-size=\"14.00\" fill=\"#000000\">split by: gill&#45;size</text>\n</g>\n<!-- 140601425576792&#45;&gt;140601427309064 -->\n<g id=\"edge14\" class=\"edge\">\n<title>140601425576792&#45;&gt;140601427309064</title>\n<path fill=\"none\" stroke=\"#000000\" d=\"M1165.2717,-256.2476C1162.1475,-255.1514 1159.0517,-254.067 1156,-253 1093.2752,-231.0689 1075.1526,-225.7871 1008.7317,-202.2419\"/>\n<polygon fill=\"#000000\" stroke=\"#000000\" points=\"1009.6239,-198.8446 999.0292,-198.7947 1007.2804,-205.4407 1009.6239,-198.8446\"/>\n<text text-anchor=\"middle\" x=\"1107\" y=\"-223.8\" font-family=\"Times,serif\" font-size=\"14.00\" fill=\"#000000\">d</text>\n</g>\n<!-- 140601427309568 -->\n<g id=\"node18\" class=\"node\">\n<title>140601427309568</title>\n<polygon fill=\"#e41a1c\" stroke=\"#000000\" stroke-width=\".5\" points=\"1017,-126.5 1151,-126.5 1151,-194.5 1017,-194.5 1017,-126.5\"/>\n<polygon fill=\"none\" stroke=\"#000000\" points=\"1151,-194.5 1017,-194.5 1017,-126.5 1151,-126.5 1151,-194.5\"/>\n<text text-anchor=\"middle\" x=\"1084\" y=\"-179.3\" font-family=\"Times,serif\" font-size=\"14.00\" fill=\"#000000\">e:1.000</text>\n<text text-anchor=\"middle\" x=\"1084\" y=\"-164.3\" font-family=\"Times,serif\" font-size=\"14.00\" fill=\"#000000\">num_samples = 288</text>\n<text text-anchor=\"middle\" x=\"1084\" y=\"-149.3\" font-family=\"Times,serif\" font-size=\"14.00\" fill=\"#000000\">entropy = &#45;0.0</text>\n<text text-anchor=\"middle\" x=\"1084\" y=\"-134.3\" font-family=\"Times,serif\" font-size=\"14.00\" fill=\"#000000\">gini = 0.0</text>\n</g>\n<!-- 140601425576792&#45;&gt;140601427309568 -->\n<g id=\"edge15\" class=\"edge\">\n<title>140601425576792&#45;&gt;140601427309568</title>\n<path fill=\"none\" stroke=\"#000000\" d=\"M1214.2352,-252.8361C1190.6868,-236.1404 1163.6665,-216.9831 1140.3637,-200.4615\"/>\n<polygon fill=\"#000000\" stroke=\"#000000\" points=\"1142.142,-197.4319 1131.9599,-194.5033 1138.0933,-203.1423 1142.142,-197.4319\"/>\n<text text-anchor=\"middle\" x=\"1189\" y=\"-223.8\" font-family=\"Times,serif\" font-size=\"14.00\" fill=\"#000000\">g</text>\n</g>\n<!-- 140601427310072 -->\n<g id=\"node19\" class=\"node\">\n<title>140601427310072</title>\n<polygon fill=\"#e41a1c\" stroke=\"#000000\" stroke-width=\".5\" points=\"1169.5,-119 1324.75,-119 1324.75,-202 1169.5,-202 1169.5,-119\"/>\n<polygon fill=\"#377eb8\" stroke=\"#000000\" stroke-width=\".5\" points=\"1324.75,-119 1376.5,-119 1376.5,-202 1324.75,-202 1324.75,-119\"/>\n<polygon fill=\"none\" stroke=\"#000000\" points=\"1376.5,-202 1169.5,-202 1169.5,-119 1376.5,-119 1376.5,-202\"/>\n<text text-anchor=\"middle\" x=\"1273\" y=\"-186.8\" font-family=\"Times,serif\" font-size=\"14.00\" fill=\"#000000\">e:0.750 p:0.250</text>\n<text text-anchor=\"middle\" x=\"1273\" y=\"-171.8\" font-family=\"Times,serif\" font-size=\"14.00\" fill=\"#000000\">num_samples = 64</text>\n<text text-anchor=\"middle\" x=\"1273\" y=\"-156.8\" font-family=\"Times,serif\" font-size=\"14.00\" fill=\"#000000\">entropy = 0.8112781244591328</text>\n<text text-anchor=\"middle\" x=\"1273\" y=\"-141.8\" font-family=\"Times,serif\" font-size=\"14.00\" fill=\"#000000\">gini = 0.375</text>\n<text text-anchor=\"middle\" x=\"1273\" y=\"-126.8\" font-family=\"Times,serif\" font-size=\"14.00\" fill=\"#000000\">split by: cap&#45;color</text>\n</g>\n<!-- 140601425576792&#45;&gt;140601427310072 -->\n<g id=\"edge20\" class=\"edge\">\n<title>140601425576792&#45;&gt;140601427310072</title>\n<path fill=\"none\" stroke=\"#000000\" d=\"M1273,-252.8361C1273,-239.9794 1273,-225.663 1273,-212.2145\"/>\n<polygon fill=\"#000000\" stroke=\"#000000\" points=\"1276.5001,-212.1381 1273,-202.1381 1269.5001,-212.1382 1276.5001,-212.1381\"/>\n<text text-anchor=\"middle\" x=\"1275\" y=\"-223.8\" font-family=\"Times,serif\" font-size=\"14.00\" fill=\"#000000\">l</text>\n</g>\n<!-- 140601427312144 -->\n<g id=\"node24\" class=\"node\">\n<title>140601427312144</title>\n<polygon fill=\"#e41a1c\" stroke=\"#000000\" stroke-width=\".5\" points=\"1395,-126.5 1521,-126.5 1521,-194.5 1395,-194.5 1395,-126.5\"/>\n<polygon fill=\"none\" stroke=\"#000000\" points=\"1521,-194.5 1395,-194.5 1395,-126.5 1521,-126.5 1521,-194.5\"/>\n<text text-anchor=\"middle\" x=\"1458\" y=\"-179.3\" font-family=\"Times,serif\" font-size=\"14.00\" fill=\"#000000\">e:1.000</text>\n<text text-anchor=\"middle\" x=\"1458\" y=\"-164.3\" font-family=\"Times,serif\" font-size=\"14.00\" fill=\"#000000\">num_samples = 40</text>\n<text text-anchor=\"middle\" x=\"1458\" y=\"-149.3\" font-family=\"Times,serif\" font-size=\"14.00\" fill=\"#000000\">entropy = &#45;0.0</text>\n<text text-anchor=\"middle\" x=\"1458\" y=\"-134.3\" font-family=\"Times,serif\" font-size=\"14.00\" fill=\"#000000\">gini = 0.0</text>\n</g>\n<!-- 140601425576792&#45;&gt;140601427312144 -->\n<g id=\"edge21\" class=\"edge\">\n<title>140601425576792&#45;&gt;140601427312144</title>\n<path fill=\"none\" stroke=\"#000000\" d=\"M1330.5211,-252.8361C1353.5711,-236.1404 1380.0196,-216.9831 1402.8292,-200.4615\"/>\n<polygon fill=\"#000000\" stroke=\"#000000\" points=\"1405.0095,-203.204 1411.0551,-194.5033 1400.9032,-197.5349 1405.0095,-203.204\"/>\n<text text-anchor=\"middle\" x=\"1375\" y=\"-223.8\" font-family=\"Times,serif\" font-size=\"14.00\" fill=\"#000000\">p</text>\n</g>\n<!-- 140601427312480 -->\n<g id=\"node25\" class=\"node\">\n<title>140601427312480</title>\n<polygon fill=\"#e41a1c\" stroke=\"#000000\" stroke-width=\".5\" points=\"1539,-126.5 1673,-126.5 1673,-194.5 1539,-194.5 1539,-126.5\"/>\n<polygon fill=\"none\" stroke=\"#000000\" points=\"1673,-194.5 1539,-194.5 1539,-126.5 1673,-126.5 1673,-194.5\"/>\n<text text-anchor=\"middle\" x=\"1606\" y=\"-179.3\" font-family=\"Times,serif\" font-size=\"14.00\" fill=\"#000000\">e:1.000</text>\n<text text-anchor=\"middle\" x=\"1606\" y=\"-164.3\" font-family=\"Times,serif\" font-size=\"14.00\" fill=\"#000000\">num_samples = 192</text>\n<text text-anchor=\"middle\" x=\"1606\" y=\"-149.3\" font-family=\"Times,serif\" font-size=\"14.00\" fill=\"#000000\">entropy = &#45;0.0</text>\n<text text-anchor=\"middle\" x=\"1606\" y=\"-134.3\" font-family=\"Times,serif\" font-size=\"14.00\" fill=\"#000000\">gini = 0.0</text>\n</g>\n<!-- 140601425576792&#45;&gt;140601427312480 -->\n<g id=\"edge22\" class=\"edge\">\n<title>140601425576792&#45;&gt;140601427312480</title>\n<path fill=\"none\" stroke=\"#000000\" d=\"M1380.6298,-256.1857C1447.634,-232.2625 1522.4993,-205.3735 1530,-202 1532.0609,-201.0731 1534.1417,-200.112 1536.2332,-199.1239\"/>\n<polygon fill=\"#000000\" stroke=\"#000000\" points=\"1537.9824,-202.1651 1545.4413,-194.6408 1534.9182,-195.8714 1537.9824,-202.1651\"/>\n<text text-anchor=\"middle\" x=\"1486.5\" y=\"-223.8\" font-family=\"Times,serif\" font-size=\"14.00\" fill=\"#000000\">w</text>\n</g>\n<!-- 140601425305672 -->\n<g id=\"node16\" class=\"node\">\n<title>140601425305672</title>\n<polygon fill=\"#e41a1c\" stroke=\"#000000\" stroke-width=\".5\" points=\"739.5,0 858.5,0 858.5,-68 739.5,-68 739.5,0\"/>\n<polygon fill=\"none\" stroke=\"#000000\" points=\"858.5,-68 739.5,-68 739.5,0 858.5,0 858.5,-68\"/>\n<text text-anchor=\"middle\" x=\"799\" y=\"-52.8\" font-family=\"Times,serif\" font-size=\"14.00\" fill=\"#000000\">e:1.000</text>\n<text text-anchor=\"middle\" x=\"799\" y=\"-37.8\" font-family=\"Times,serif\" font-size=\"14.00\" fill=\"#000000\">num_samples = 8</text>\n<text text-anchor=\"middle\" x=\"799\" y=\"-22.8\" font-family=\"Times,serif\" font-size=\"14.00\" fill=\"#000000\">entropy = &#45;0.0</text>\n<text text-anchor=\"middle\" x=\"799\" y=\"-7.8\" font-family=\"Times,serif\" font-size=\"14.00\" fill=\"#000000\">gini = 0.0</text>\n</g>\n<!-- 140601427309064&#45;&gt;140601425305672 -->\n<g id=\"edge12\" class=\"edge\">\n<title>140601427309064&#45;&gt;140601425305672</title>\n<path fill=\"none\" stroke=\"#000000\" d=\"M863.3,-118.7286C852.988,-105.1405 841.5372,-90.0516 831.1899,-76.4168\"/>\n<polygon fill=\"#000000\" stroke=\"#000000\" points=\"833.7431,-73.9916 824.9098,-68.1416 828.167,-78.2233 833.7431,-73.9916\"/>\n<text text-anchor=\"middle\" x=\"851\" y=\"-89.8\" font-family=\"Times,serif\" font-size=\"14.00\" fill=\"#000000\">b</text>\n</g>\n<!-- 140601425306344 -->\n<g id=\"node17\" class=\"node\">\n<title>140601425306344</title>\n<polygon fill=\"#377eb8\" stroke=\"#000000\" stroke-width=\".5\" points=\"877,0 1003,0 1003,-68 877,-68 877,0\"/>\n<polygon fill=\"none\" stroke=\"#000000\" points=\"1003,-68 877,-68 877,0 1003,0 1003,-68\"/>\n<text text-anchor=\"middle\" x=\"940\" y=\"-52.8\" font-family=\"Times,serif\" font-size=\"14.00\" fill=\"#000000\">p:1.000</text>\n<text text-anchor=\"middle\" x=\"940\" y=\"-37.8\" font-family=\"Times,serif\" font-size=\"14.00\" fill=\"#000000\">num_samples = 32</text>\n<text text-anchor=\"middle\" x=\"940\" y=\"-22.8\" font-family=\"Times,serif\" font-size=\"14.00\" fill=\"#000000\">entropy = &#45;0.0</text>\n<text text-anchor=\"middle\" x=\"940\" y=\"-7.8\" font-family=\"Times,serif\" font-size=\"14.00\" fill=\"#000000\">gini = 0.0</text>\n</g>\n<!-- 140601427309064&#45;&gt;140601425306344 -->\n<g id=\"edge13\" class=\"edge\">\n<title>140601427309064&#45;&gt;140601425306344</title>\n<path fill=\"none\" stroke=\"#000000\" d=\"M909.8594,-118.7286C914.5563,-105.5251 919.7573,-90.9045 924.498,-77.5779\"/>\n<polygon fill=\"#000000\" stroke=\"#000000\" points=\"927.8007,-78.7363 927.8548,-68.1416 921.2056,-76.3901 927.8007,-78.7363\"/>\n<text text-anchor=\"middle\" x=\"925\" y=\"-89.8\" font-family=\"Times,serif\" font-size=\"14.00\" fill=\"#000000\">n</text>\n</g>\n<!-- 140601425307576 -->\n<g id=\"node20\" class=\"node\">\n<title>140601425307576</title>\n<polygon fill=\"#e41a1c\" stroke=\"#000000\" stroke-width=\".5\" points=\"1043,0 1169,0 1169,-68 1043,-68 1043,0\"/>\n<polygon fill=\"none\" stroke=\"#000000\" points=\"1169,-68 1043,-68 1043,0 1169,0 1169,-68\"/>\n<text text-anchor=\"middle\" x=\"1106\" y=\"-52.8\" font-family=\"Times,serif\" font-size=\"14.00\" fill=\"#000000\">e:1.000</text>\n<text text-anchor=\"middle\" x=\"1106\" y=\"-37.8\" font-family=\"Times,serif\" font-size=\"14.00\" fill=\"#000000\">num_samples = 24</text>\n<text text-anchor=\"middle\" x=\"1106\" y=\"-22.8\" font-family=\"Times,serif\" font-size=\"14.00\" fill=\"#000000\">entropy = &#45;0.0</text>\n<text text-anchor=\"middle\" x=\"1106\" y=\"-7.8\" font-family=\"Times,serif\" font-size=\"14.00\" fill=\"#000000\">gini = 0.0</text>\n</g>\n<!-- 140601427310072&#45;&gt;140601425307576 -->\n<g id=\"edge16\" class=\"edge\">\n<title>140601427310072&#45;&gt;140601425307576</title>\n<path fill=\"none\" stroke=\"#000000\" d=\"M1217.8551,-118.7286C1198.9859,-104.4354 1177.9246,-88.4818 1159.2111,-74.3066\"/>\n<polygon fill=\"#000000\" stroke=\"#000000\" points=\"1161.1569,-71.3898 1151.0723,-68.1416 1156.9302,-76.9697 1161.1569,-71.3898\"/>\n<text text-anchor=\"middle\" x=\"1193.5\" y=\"-89.8\" font-family=\"Times,serif\" font-size=\"14.00\" fill=\"#000000\">c</text>\n</g>\n<!-- 140601425308304 -->\n<g id=\"node21\" class=\"node\">\n<title>140601425308304</title>\n<polygon fill=\"#e41a1c\" stroke=\"#000000\" stroke-width=\".5\" points=\"1187,0 1313,0 1313,-68 1187,-68 1187,0\"/>\n<polygon fill=\"none\" stroke=\"#000000\" points=\"1313,-68 1187,-68 1187,0 1313,0 1313,-68\"/>\n<text text-anchor=\"middle\" x=\"1250\" y=\"-52.8\" font-family=\"Times,serif\" font-size=\"14.00\" fill=\"#000000\">e:1.000</text>\n<text text-anchor=\"middle\" x=\"1250\" y=\"-37.8\" font-family=\"Times,serif\" font-size=\"14.00\" fill=\"#000000\">num_samples = 24</text>\n<text text-anchor=\"middle\" x=\"1250\" y=\"-22.8\" font-family=\"Times,serif\" font-size=\"14.00\" fill=\"#000000\">entropy = &#45;0.0</text>\n<text text-anchor=\"middle\" x=\"1250\" y=\"-7.8\" font-family=\"Times,serif\" font-size=\"14.00\" fill=\"#000000\">gini = 0.0</text>\n</g>\n<!-- 140601427310072&#45;&gt;140601425308304 -->\n<g id=\"edge17\" class=\"edge\">\n<title>140601427310072&#45;&gt;140601425308304</title>\n<path fill=\"none\" stroke=\"#000000\" d=\"M1265.4052,-118.7286C1263.0512,-105.7814 1260.4494,-91.4718 1258.0647,-78.3557\"/>\n<polygon fill=\"#000000\" stroke=\"#000000\" points=\"1261.44,-77.3541 1256.2076,-68.1416 1254.5529,-78.6064 1261.44,-77.3541\"/>\n<text text-anchor=\"middle\" x=\"1266\" y=\"-89.8\" font-family=\"Times,serif\" font-size=\"14.00\" fill=\"#000000\">n</text>\n</g>\n<!-- 140601425308248 -->\n<g id=\"node22\" class=\"node\">\n<title>140601425308248</title>\n<polygon fill=\"#377eb8\" stroke=\"#000000\" stroke-width=\".5\" points=\"1331.5,0 1450.5,0 1450.5,-68 1331.5,-68 1331.5,0\"/>\n<polygon fill=\"none\" stroke=\"#000000\" points=\"1450.5,-68 1331.5,-68 1331.5,0 1450.5,0 1450.5,-68\"/>\n<text text-anchor=\"middle\" x=\"1391\" y=\"-52.8\" font-family=\"Times,serif\" font-size=\"14.00\" fill=\"#000000\">p:1.000</text>\n<text text-anchor=\"middle\" x=\"1391\" y=\"-37.8\" font-family=\"Times,serif\" font-size=\"14.00\" fill=\"#000000\">num_samples = 8</text>\n<text text-anchor=\"middle\" x=\"1391\" y=\"-22.8\" font-family=\"Times,serif\" font-size=\"14.00\" fill=\"#000000\">entropy = &#45;0.0</text>\n<text text-anchor=\"middle\" x=\"1391\" y=\"-7.8\" font-family=\"Times,serif\" font-size=\"14.00\" fill=\"#000000\">gini = 0.0</text>\n</g>\n<!-- 140601427310072&#45;&gt;140601425308248 -->\n<g id=\"edge18\" class=\"edge\">\n<title>140601427310072&#45;&gt;140601425308248</title>\n<path fill=\"none\" stroke=\"#000000\" d=\"M1311.9646,-118.7286C1324.8789,-104.8841 1339.2463,-89.4817 1352.1518,-75.6466\"/>\n<polygon fill=\"#000000\" stroke=\"#000000\" points=\"1354.8908,-77.8415 1359.1525,-68.1416 1349.772,-73.0667 1354.8908,-77.8415\"/>\n<text text-anchor=\"middle\" x=\"1344.5\" y=\"-89.8\" font-family=\"Times,serif\" font-size=\"14.00\" fill=\"#000000\">w</text>\n</g>\n<!-- 140601425308584 -->\n<g id=\"node23\" class=\"node\">\n<title>140601425308584</title>\n<polygon fill=\"#377eb8\" stroke=\"#000000\" stroke-width=\".5\" points=\"1468.5,0 1587.5,0 1587.5,-68 1468.5,-68 1468.5,0\"/>\n<polygon fill=\"none\" stroke=\"#000000\" points=\"1587.5,-68 1468.5,-68 1468.5,0 1587.5,0 1587.5,-68\"/>\n<text text-anchor=\"middle\" x=\"1528\" y=\"-52.8\" font-family=\"Times,serif\" font-size=\"14.00\" fill=\"#000000\">p:1.000</text>\n<text text-anchor=\"middle\" x=\"1528\" y=\"-37.8\" font-family=\"Times,serif\" font-size=\"14.00\" fill=\"#000000\">num_samples = 8</text>\n<text text-anchor=\"middle\" x=\"1528\" y=\"-22.8\" font-family=\"Times,serif\" font-size=\"14.00\" fill=\"#000000\">entropy = &#45;0.0</text>\n<text text-anchor=\"middle\" x=\"1528\" y=\"-7.8\" font-family=\"Times,serif\" font-size=\"14.00\" fill=\"#000000\">gini = 0.0</text>\n</g>\n<!-- 140601427310072&#45;&gt;140601425308584 -->\n<g id=\"edge19\" class=\"edge\">\n<title>140601427310072&#45;&gt;140601425308584</title>\n<path fill=\"none\" stroke=\"#000000\" d=\"M1357.2831,-118.9046C1387.0563,-104.1878 1420.9699,-87.3984 1459.0613,-68.4622\"/>\n<polygon fill=\"#000000\" stroke=\"#000000\" points=\"1460.9075,-71.4531 1468.3031,-63.8665 1457.7907,-65.1852 1460.9075,-71.4531\"/>\n<text text-anchor=\"middle\" x=\"1423\" y=\"-89.8\" font-family=\"Times,serif\" font-size=\"14.00\" fill=\"#000000\">y</text>\n</g>\n</g>\n</svg>\n"
          },
          "metadata": {
            "tags": []
          },
          "execution_count": 23
        }
      ]
    },
    {
      "cell_type": "markdown",
      "metadata": {
        "id": "6mRYRwJ7Vg-R"
      },
      "source": [
        "#### Tree for criterion = \"mean_err_rate\"\n"
      ]
    },
    {
      "cell_type": "code",
      "metadata": {
        "colab": {
          "base_uri": "https://localhost:8080/"
        },
        "id": "SXwdEXu_VHnx",
        "outputId": "cef83b87-020e-458b-dfc7-047459c57a42"
      },
      "source": [
        "mushroom_tree = Tree(mushroom_df, criterion = 'mean_err_rate')\n",
        "mushroom_tree.draw()"
      ],
      "execution_count": null,
      "outputs": [
        {
          "output_type": "execute_result",
          "data": {
            "text/plain": [
              "<graphviz.dot.Digraph at 0x7fe052256f28>"
            ],
            "image/svg+xml": "<?xml version=\"1.0\" encoding=\"UTF-8\" standalone=\"no\"?>\n<!DOCTYPE svg PUBLIC \"-//W3C//DTD SVG 1.1//EN\"\n \"http://www.w3.org/Graphics/SVG/1.1/DTD/svg11.dtd\">\n<!-- Generated by graphviz version 2.40.1 (20161225.0304)\n -->\n<!-- Title: %3 Pages: 1 -->\n<svg width=\"1697pt\" height=\"612pt\"\n viewBox=\"0.00 0.00 1697.00 612.00\" xmlns=\"http://www.w3.org/2000/svg\" xmlns:xlink=\"http://www.w3.org/1999/xlink\">\n<g id=\"graph0\" class=\"graph\" transform=\"scale(1 1) rotate(0) translate(4 608)\">\n<title>%3</title>\n<polygon fill=\"#ffffff\" stroke=\"transparent\" points=\"-4,4 -4,-608 1693,-608 1693,4 -4,4\"/>\n<!-- 140601424888384 -->\n<g id=\"node1\" class=\"node\">\n<title>140601424888384</title>\n<polygon fill=\"#e41a1c\" stroke=\"#000000\" stroke-width=\".5\" points=\"575,-521 682.7381,-521 682.7381,-604 575,-604 575,-521\"/>\n<polygon fill=\"#377eb8\" stroke=\"#000000\" stroke-width=\".5\" points=\"682.7381,-521 783,-521 783,-604 682.7381,-604 682.7381,-521\"/>\n<polygon fill=\"none\" stroke=\"#000000\" points=\"783,-604 575,-604 575,-521 783,-521 783,-604\"/>\n<text text-anchor=\"middle\" x=\"679\" y=\"-588.8\" font-family=\"Times,serif\" font-size=\"14.00\" fill=\"#000000\">e:0.518 p:0.482</text>\n<text text-anchor=\"middle\" x=\"679\" y=\"-573.8\" font-family=\"Times,serif\" font-size=\"14.00\" fill=\"#000000\">num_samples = 8124</text>\n<text text-anchor=\"middle\" x=\"679\" y=\"-558.8\" font-family=\"Times,serif\" font-size=\"14.00\" fill=\"#000000\">entropy = 0.9990678968724603</text>\n<text text-anchor=\"middle\" x=\"679\" y=\"-543.8\" font-family=\"Times,serif\" font-size=\"14.00\" fill=\"#000000\">gini = 0.49935405449893955</text>\n<text text-anchor=\"middle\" x=\"679\" y=\"-528.8\" font-family=\"Times,serif\" font-size=\"14.00\" fill=\"#000000\">split by: odor</text>\n</g>\n<!-- 140601424772848 -->\n<g id=\"node2\" class=\"node\">\n<title>140601424772848</title>\n<polygon fill=\"#e41a1c\" stroke=\"#000000\" stroke-width=\".5\" points=\"0,-394.5 134,-394.5 134,-462.5 0,-462.5 0,-394.5\"/>\n<polygon fill=\"none\" stroke=\"#000000\" points=\"134,-462.5 0,-462.5 0,-394.5 134,-394.5 134,-462.5\"/>\n<text text-anchor=\"middle\" x=\"67\" y=\"-447.3\" font-family=\"Times,serif\" font-size=\"14.00\" fill=\"#000000\">e:1.000</text>\n<text text-anchor=\"middle\" x=\"67\" y=\"-432.3\" font-family=\"Times,serif\" font-size=\"14.00\" fill=\"#000000\">num_samples = 400</text>\n<text text-anchor=\"middle\" x=\"67\" y=\"-417.3\" font-family=\"Times,serif\" font-size=\"14.00\" fill=\"#000000\">entropy = &#45;0.0</text>\n<text text-anchor=\"middle\" x=\"67\" y=\"-402.3\" font-family=\"Times,serif\" font-size=\"14.00\" fill=\"#000000\">gini = 0.0</text>\n</g>\n<!-- 140601424888384&#45;&gt;140601424772848 -->\n<g id=\"edge1\" class=\"edge\">\n<title>140601424888384&#45;&gt;140601424772848</title>\n<path fill=\"none\" stroke=\"#000000\" d=\"M574.9696,-554.7299C465.0881,-544.1962 288.0141,-520.5393 143,-470 140.112,-468.9935 137.2031,-467.8849 134.2947,-466.6967\"/>\n<polygon fill=\"#000000\" stroke=\"#000000\" points=\"135.6005,-463.4479 125.035,-462.6593 132.8027,-469.8645 135.6005,-463.4479\"/>\n<text text-anchor=\"middle\" x=\"246.5\" y=\"-491.8\" font-family=\"Times,serif\" font-size=\"14.00\" fill=\"#000000\">a</text>\n</g>\n<!-- 140601424740872 -->\n<g id=\"node3\" class=\"node\">\n<title>140601424740872</title>\n<polygon fill=\"#377eb8\" stroke=\"#000000\" stroke-width=\".5\" points=\"152,-394.5 286,-394.5 286,-462.5 152,-462.5 152,-394.5\"/>\n<polygon fill=\"none\" stroke=\"#000000\" points=\"286,-462.5 152,-462.5 152,-394.5 286,-394.5 286,-462.5\"/>\n<text text-anchor=\"middle\" x=\"219\" y=\"-447.3\" font-family=\"Times,serif\" font-size=\"14.00\" fill=\"#000000\">p:1.000</text>\n<text text-anchor=\"middle\" x=\"219\" y=\"-432.3\" font-family=\"Times,serif\" font-size=\"14.00\" fill=\"#000000\">num_samples = 192</text>\n<text text-anchor=\"middle\" x=\"219\" y=\"-417.3\" font-family=\"Times,serif\" font-size=\"14.00\" fill=\"#000000\">entropy = &#45;0.0</text>\n<text text-anchor=\"middle\" x=\"219\" y=\"-402.3\" font-family=\"Times,serif\" font-size=\"14.00\" fill=\"#000000\">gini = 0.0</text>\n</g>\n<!-- 140601424888384&#45;&gt;140601424740872 -->\n<g id=\"edge2\" class=\"edge\">\n<title>140601424888384&#45;&gt;140601424740872</title>\n<path fill=\"none\" stroke=\"#000000\" d=\"M574.8962,-545.1244C496.3514,-530.1861 386.8115,-505.4092 295,-470 292.4577,-469.0195 289.8945,-467.9698 287.3259,-466.8657\"/>\n<polygon fill=\"#000000\" stroke=\"#000000\" points=\"288.584,-463.5933 278.0307,-462.6557 285.6959,-469.9697 288.584,-463.5933\"/>\n<text text-anchor=\"middle\" x=\"391.5\" y=\"-491.8\" font-family=\"Times,serif\" font-size=\"14.00\" fill=\"#000000\">c</text>\n</g>\n<!-- 140601424772400 -->\n<g id=\"node4\" class=\"node\">\n<title>140601424772400</title>\n<polygon fill=\"#377eb8\" stroke=\"#000000\" stroke-width=\".5\" points=\"304.5,-394.5 445.5,-394.5 445.5,-462.5 304.5,-462.5 304.5,-394.5\"/>\n<polygon fill=\"none\" stroke=\"#000000\" points=\"445.5,-462.5 304.5,-462.5 304.5,-394.5 445.5,-394.5 445.5,-462.5\"/>\n<text text-anchor=\"middle\" x=\"375\" y=\"-447.3\" font-family=\"Times,serif\" font-size=\"14.00\" fill=\"#000000\">p:1.000</text>\n<text text-anchor=\"middle\" x=\"375\" y=\"-432.3\" font-family=\"Times,serif\" font-size=\"14.00\" fill=\"#000000\">num_samples = 2160</text>\n<text text-anchor=\"middle\" x=\"375\" y=\"-417.3\" font-family=\"Times,serif\" font-size=\"14.00\" fill=\"#000000\">entropy = &#45;0.0</text>\n<text text-anchor=\"middle\" x=\"375\" y=\"-402.3\" font-family=\"Times,serif\" font-size=\"14.00\" fill=\"#000000\">gini = 0.0</text>\n</g>\n<!-- 140601424888384&#45;&gt;140601424772400 -->\n<g id=\"edge3\" class=\"edge\">\n<title>140601424888384&#45;&gt;140601424772400</title>\n<path fill=\"none\" stroke=\"#000000\" d=\"M574.7508,-521.6457C536.7443,-506.1768 493.6314,-487.9551 455,-470 452.9249,-469.0355 450.8258,-468.0458 448.7122,-467.0369\"/>\n<polygon fill=\"#000000\" stroke=\"#000000\" points=\"449.9064,-463.7261 439.3818,-462.5088 446.8502,-470.0237 449.9064,-463.7261\"/>\n<text text-anchor=\"middle\" x=\"531.5\" y=\"-491.8\" font-family=\"Times,serif\" font-size=\"14.00\" fill=\"#000000\">f</text>\n</g>\n<!-- 140601424773072 -->\n<g id=\"node5\" class=\"node\">\n<title>140601424773072</title>\n<polygon fill=\"#e41a1c\" stroke=\"#000000\" stroke-width=\".5\" points=\"464,-394.5 598,-394.5 598,-462.5 464,-462.5 464,-394.5\"/>\n<polygon fill=\"none\" stroke=\"#000000\" points=\"598,-462.5 464,-462.5 464,-394.5 598,-394.5 598,-462.5\"/>\n<text text-anchor=\"middle\" x=\"531\" y=\"-447.3\" font-family=\"Times,serif\" font-size=\"14.00\" fill=\"#000000\">e:1.000</text>\n<text text-anchor=\"middle\" x=\"531\" y=\"-432.3\" font-family=\"Times,serif\" font-size=\"14.00\" fill=\"#000000\">num_samples = 400</text>\n<text text-anchor=\"middle\" x=\"531\" y=\"-417.3\" font-family=\"Times,serif\" font-size=\"14.00\" fill=\"#000000\">entropy = &#45;0.0</text>\n<text text-anchor=\"middle\" x=\"531\" y=\"-402.3\" font-family=\"Times,serif\" font-size=\"14.00\" fill=\"#000000\">gini = 0.0</text>\n</g>\n<!-- 140601424888384&#45;&gt;140601424773072 -->\n<g id=\"edge4\" class=\"edge\">\n<title>140601424888384&#45;&gt;140601424773072</title>\n<path fill=\"none\" stroke=\"#000000\" d=\"M632.9832,-520.8361C614.8666,-504.4333 594.1259,-485.6545 576.0997,-469.3335\"/>\n<polygon fill=\"#000000\" stroke=\"#000000\" points=\"578.3181,-466.6206 568.5559,-462.5033 573.6198,-471.8097 578.3181,-466.6206\"/>\n<text text-anchor=\"middle\" x=\"612\" y=\"-491.8\" font-family=\"Times,serif\" font-size=\"14.00\" fill=\"#000000\">l</text>\n</g>\n<!-- 140601424772792 -->\n<g id=\"node6\" class=\"node\">\n<title>140601424772792</title>\n<polygon fill=\"#377eb8\" stroke=\"#000000\" stroke-width=\".5\" points=\"616,-394.5 742,-394.5 742,-462.5 616,-462.5 616,-394.5\"/>\n<polygon fill=\"none\" stroke=\"#000000\" points=\"742,-462.5 616,-462.5 616,-394.5 742,-394.5 742,-462.5\"/>\n<text text-anchor=\"middle\" x=\"679\" y=\"-447.3\" font-family=\"Times,serif\" font-size=\"14.00\" fill=\"#000000\">p:1.000</text>\n<text text-anchor=\"middle\" x=\"679\" y=\"-432.3\" font-family=\"Times,serif\" font-size=\"14.00\" fill=\"#000000\">num_samples = 36</text>\n<text text-anchor=\"middle\" x=\"679\" y=\"-417.3\" font-family=\"Times,serif\" font-size=\"14.00\" fill=\"#000000\">entropy = &#45;0.0</text>\n<text text-anchor=\"middle\" x=\"679\" y=\"-402.3\" font-family=\"Times,serif\" font-size=\"14.00\" fill=\"#000000\">gini = 0.0</text>\n</g>\n<!-- 140601424888384&#45;&gt;140601424772792 -->\n<g id=\"edge5\" class=\"edge\">\n<title>140601424888384&#45;&gt;140601424772792</title>\n<path fill=\"none\" stroke=\"#000000\" d=\"M679,-520.8361C679,-505.6049 679,-488.3251 679,-472.8667\"/>\n<polygon fill=\"#000000\" stroke=\"#000000\" points=\"682.5001,-472.5033 679,-462.5033 675.5001,-472.5034 682.5001,-472.5033\"/>\n<text text-anchor=\"middle\" x=\"685\" y=\"-491.8\" font-family=\"Times,serif\" font-size=\"14.00\" fill=\"#000000\">m</text>\n</g>\n<!-- 140601424772624 -->\n<g id=\"node7\" class=\"node\">\n<title>140601424772624</title>\n<polygon fill=\"#e41a1c\" stroke=\"#000000\" stroke-width=\".5\" points=\"760.5,-387 960.4592,-387 960.4592,-470 760.5,-470 760.5,-387\"/>\n<polygon fill=\"#377eb8\" stroke=\"#000000\" stroke-width=\".5\" points=\"960.4592,-387 967.5,-387 967.5,-470 960.4592,-470 960.4592,-387\"/>\n<polygon fill=\"none\" stroke=\"#000000\" points=\"967.5,-470 760.5,-470 760.5,-387 967.5,-387 967.5,-470\"/>\n<text text-anchor=\"middle\" x=\"864\" y=\"-454.8\" font-family=\"Times,serif\" font-size=\"14.00\" fill=\"#000000\">e:0.966 p:0.034</text>\n<text text-anchor=\"middle\" x=\"864\" y=\"-439.8\" font-family=\"Times,serif\" font-size=\"14.00\" fill=\"#000000\">num_samples = 3528</text>\n<text text-anchor=\"middle\" x=\"864\" y=\"-424.8\" font-family=\"Times,serif\" font-size=\"14.00\" fill=\"#000000\">entropy = 0.2141367567812511</text>\n<text text-anchor=\"middle\" x=\"864\" y=\"-409.8\" font-family=\"Times,serif\" font-size=\"14.00\" fill=\"#000000\">gini = 0.06571336017400164</text>\n<text text-anchor=\"middle\" x=\"864\" y=\"-394.8\" font-family=\"Times,serif\" font-size=\"14.00\" fill=\"#000000\">split by: spore&#45;print&#45;color</text>\n</g>\n<!-- 140601424888384&#45;&gt;140601424772624 -->\n<g id=\"edge22\" class=\"edge\">\n<title>140601424888384&#45;&gt;140601424772624</title>\n<path fill=\"none\" stroke=\"#000000\" d=\"M736.5211,-520.8361C756.0982,-506.6559 778.1268,-490.7 798.2954,-476.0915\"/>\n<polygon fill=\"#000000\" stroke=\"#000000\" points=\"800.4689,-478.8388 806.5145,-470.1381 796.3626,-473.1697 800.4689,-478.8388\"/>\n<text text-anchor=\"middle\" x=\"782\" y=\"-491.8\" font-family=\"Times,serif\" font-size=\"14.00\" fill=\"#000000\">n</text>\n</g>\n<!-- 140601424771000 -->\n<g id=\"node24\" class=\"node\">\n<title>140601424771000</title>\n<polygon fill=\"#377eb8\" stroke=\"#000000\" stroke-width=\".5\" points=\"986,-394.5 1120,-394.5 1120,-462.5 986,-462.5 986,-394.5\"/>\n<polygon fill=\"none\" stroke=\"#000000\" points=\"1120,-462.5 986,-462.5 986,-394.5 1120,-394.5 1120,-462.5\"/>\n<text text-anchor=\"middle\" x=\"1053\" y=\"-447.3\" font-family=\"Times,serif\" font-size=\"14.00\" fill=\"#000000\">p:1.000</text>\n<text text-anchor=\"middle\" x=\"1053\" y=\"-432.3\" font-family=\"Times,serif\" font-size=\"14.00\" fill=\"#000000\">num_samples = 256</text>\n<text text-anchor=\"middle\" x=\"1053\" y=\"-417.3\" font-family=\"Times,serif\" font-size=\"14.00\" fill=\"#000000\">entropy = &#45;0.0</text>\n<text text-anchor=\"middle\" x=\"1053\" y=\"-402.3\" font-family=\"Times,serif\" font-size=\"14.00\" fill=\"#000000\">gini = 0.0</text>\n</g>\n<!-- 140601424888384&#45;&gt;140601424771000 -->\n<g id=\"edge23\" class=\"edge\">\n<title>140601424888384&#45;&gt;140601424771000</title>\n<path fill=\"none\" stroke=\"#000000\" d=\"M783.1449,-535.38C840.926,-519.0203 913.5241,-496.2766 976,-470 978.3272,-469.0212 980.6769,-467.9945 983.0363,-466.9303\"/>\n<polygon fill=\"#000000\" stroke=\"#000000\" points=\"984.5846,-470.0701 992.1582,-462.6612 981.6174,-463.73 984.5846,-470.0701\"/>\n<text text-anchor=\"middle\" x=\"933\" y=\"-491.8\" font-family=\"Times,serif\" font-size=\"14.00\" fill=\"#000000\">p</text>\n</g>\n<!-- 140601424772232 -->\n<g id=\"node25\" class=\"node\">\n<title>140601424772232</title>\n<polygon fill=\"#377eb8\" stroke=\"#000000\" stroke-width=\".5\" points=\"1138,-394.5 1272,-394.5 1272,-462.5 1138,-462.5 1138,-394.5\"/>\n<polygon fill=\"none\" stroke=\"#000000\" points=\"1272,-462.5 1138,-462.5 1138,-394.5 1272,-394.5 1272,-462.5\"/>\n<text text-anchor=\"middle\" x=\"1205\" y=\"-447.3\" font-family=\"Times,serif\" font-size=\"14.00\" fill=\"#000000\">p:1.000</text>\n<text text-anchor=\"middle\" x=\"1205\" y=\"-432.3\" font-family=\"Times,serif\" font-size=\"14.00\" fill=\"#000000\">num_samples = 576</text>\n<text text-anchor=\"middle\" x=\"1205\" y=\"-417.3\" font-family=\"Times,serif\" font-size=\"14.00\" fill=\"#000000\">entropy = &#45;0.0</text>\n<text text-anchor=\"middle\" x=\"1205\" y=\"-402.3\" font-family=\"Times,serif\" font-size=\"14.00\" fill=\"#000000\">gini = 0.0</text>\n</g>\n<!-- 140601424888384&#45;&gt;140601424772232 -->\n<g id=\"edge24\" class=\"edge\">\n<title>140601424888384&#45;&gt;140601424772232</title>\n<path fill=\"none\" stroke=\"#000000\" d=\"M783.276,-550.0193C876.063,-536.8287 1014.4212,-511.9895 1129,-470 1131.7128,-469.0058 1134.4466,-467.9271 1137.183,-466.782\"/>\n<polygon fill=\"#000000\" stroke=\"#000000\" points=\"1138.7498,-469.9159 1146.4698,-462.6598 1135.9098,-463.5179 1138.7498,-469.9159\"/>\n<text text-anchor=\"middle\" x=\"1073\" y=\"-491.8\" font-family=\"Times,serif\" font-size=\"14.00\" fill=\"#000000\">s</text>\n</g>\n<!-- 140601427074128 -->\n<g id=\"node26\" class=\"node\">\n<title>140601427074128</title>\n<polygon fill=\"#377eb8\" stroke=\"#000000\" stroke-width=\".5\" points=\"1290,-394.5 1424,-394.5 1424,-462.5 1290,-462.5 1290,-394.5\"/>\n<polygon fill=\"none\" stroke=\"#000000\" points=\"1424,-462.5 1290,-462.5 1290,-394.5 1424,-394.5 1424,-462.5\"/>\n<text text-anchor=\"middle\" x=\"1357\" y=\"-447.3\" font-family=\"Times,serif\" font-size=\"14.00\" fill=\"#000000\">p:1.000</text>\n<text text-anchor=\"middle\" x=\"1357\" y=\"-432.3\" font-family=\"Times,serif\" font-size=\"14.00\" fill=\"#000000\">num_samples = 576</text>\n<text text-anchor=\"middle\" x=\"1357\" y=\"-417.3\" font-family=\"Times,serif\" font-size=\"14.00\" fill=\"#000000\">entropy = &#45;0.0</text>\n<text text-anchor=\"middle\" x=\"1357\" y=\"-402.3\" font-family=\"Times,serif\" font-size=\"14.00\" fill=\"#000000\">gini = 0.0</text>\n</g>\n<!-- 140601424888384&#45;&gt;140601427074128 -->\n<g id=\"edge25\" class=\"edge\">\n<title>140601424888384&#45;&gt;140601427074128</title>\n<path fill=\"none\" stroke=\"#000000\" d=\"M783.1318,-557.7599C905.3269,-549.6553 1112.6394,-527.9062 1281,-470 1284.0565,-468.9488 1287.1356,-467.7814 1290.212,-466.5248\"/>\n<polygon fill=\"#000000\" stroke=\"#000000\" points=\"1291.6408,-469.7201 1299.4078,-462.5143 1288.8424,-463.3038 1291.6408,-469.7201\"/>\n<text text-anchor=\"middle\" x=\"1223\" y=\"-491.8\" font-family=\"Times,serif\" font-size=\"14.00\" fill=\"#000000\">y</text>\n</g>\n<!-- 140601425675600 -->\n<g id=\"node8\" class=\"node\">\n<title>140601425675600</title>\n<polygon fill=\"#e41a1c\" stroke=\"#000000\" stroke-width=\".5\" points=\"270,-260.5 396,-260.5 396,-328.5 270,-328.5 270,-260.5\"/>\n<polygon fill=\"none\" stroke=\"#000000\" points=\"396,-328.5 270,-328.5 270,-260.5 396,-260.5 396,-328.5\"/>\n<text text-anchor=\"middle\" x=\"333\" y=\"-313.3\" font-family=\"Times,serif\" font-size=\"14.00\" fill=\"#000000\">e:1.000</text>\n<text text-anchor=\"middle\" x=\"333\" y=\"-298.3\" font-family=\"Times,serif\" font-size=\"14.00\" fill=\"#000000\">num_samples = 48</text>\n<text text-anchor=\"middle\" x=\"333\" y=\"-283.3\" font-family=\"Times,serif\" font-size=\"14.00\" fill=\"#000000\">entropy = &#45;0.0</text>\n<text text-anchor=\"middle\" x=\"333\" y=\"-268.3\" font-family=\"Times,serif\" font-size=\"14.00\" fill=\"#000000\">gini = 0.0</text>\n</g>\n<!-- 140601424772624&#45;&gt;140601425675600 -->\n<g id=\"edge6\" class=\"edge\">\n<title>140601424772624&#45;&gt;140601425675600</title>\n<path fill=\"none\" stroke=\"#000000\" d=\"M760.2299,-389.3271C757.1322,-388.4996 754.0509,-387.7208 751,-387 681.3574,-370.5469 661.821,-379.2556 591,-369 507.909,-356.9676 483.8895,-364.7285 405,-336 402.42,-335.0605 399.8256,-334.0312 397.2334,-332.9309\"/>\n<polygon fill=\"#000000\" stroke=\"#000000\" points=\"398.4363,-329.6328 387.8855,-328.6686 395.5322,-336.002 398.4363,-329.6328\"/>\n<text text-anchor=\"middle\" x=\"595\" y=\"-357.8\" font-family=\"Times,serif\" font-size=\"14.00\" fill=\"#000000\">b</text>\n</g>\n<!-- 140601425675936 -->\n<g id=\"node9\" class=\"node\">\n<title>140601425675936</title>\n<polygon fill=\"#e41a1c\" stroke=\"#000000\" stroke-width=\".5\" points=\"414,-260.5 540,-260.5 540,-328.5 414,-328.5 414,-260.5\"/>\n<polygon fill=\"none\" stroke=\"#000000\" points=\"540,-328.5 414,-328.5 414,-260.5 540,-260.5 540,-328.5\"/>\n<text text-anchor=\"middle\" x=\"477\" y=\"-313.3\" font-family=\"Times,serif\" font-size=\"14.00\" fill=\"#000000\">e:1.000</text>\n<text text-anchor=\"middle\" x=\"477\" y=\"-298.3\" font-family=\"Times,serif\" font-size=\"14.00\" fill=\"#000000\">num_samples = 48</text>\n<text text-anchor=\"middle\" x=\"477\" y=\"-283.3\" font-family=\"Times,serif\" font-size=\"14.00\" fill=\"#000000\">entropy = &#45;0.0</text>\n<text text-anchor=\"middle\" x=\"477\" y=\"-268.3\" font-family=\"Times,serif\" font-size=\"14.00\" fill=\"#000000\">gini = 0.0</text>\n</g>\n<!-- 140601424772624&#45;&gt;140601425675936 -->\n<g id=\"edge7\" class=\"edge\">\n<title>140601424772624&#45;&gt;140601425675936</title>\n<path fill=\"none\" stroke=\"#000000\" d=\"M760.3874,-389.9697C757.2296,-388.9487 754.095,-387.9562 751,-387 662.5307,-359.6685 634.8137,-370.7828 549,-336 546.6601,-335.0516 544.3036,-334.0388 541.9437,-332.9751\"/>\n<polygon fill=\"#000000\" stroke=\"#000000\" points=\"543.3865,-329.7856 532.853,-328.647 540.3774,-336.1059 543.3865,-329.7856\"/>\n<text text-anchor=\"middle\" x=\"678\" y=\"-357.8\" font-family=\"Times,serif\" font-size=\"14.00\" fill=\"#000000\">h</text>\n</g>\n<!-- 140601425676664 -->\n<g id=\"node10\" class=\"node\">\n<title>140601425676664</title>\n<polygon fill=\"#e41a1c\" stroke=\"#000000\" stroke-width=\".5\" points=\"558.5,-260.5 699.5,-260.5 699.5,-328.5 558.5,-328.5 558.5,-260.5\"/>\n<polygon fill=\"none\" stroke=\"#000000\" points=\"699.5,-328.5 558.5,-328.5 558.5,-260.5 699.5,-260.5 699.5,-328.5\"/>\n<text text-anchor=\"middle\" x=\"629\" y=\"-313.3\" font-family=\"Times,serif\" font-size=\"14.00\" fill=\"#000000\">e:1.000</text>\n<text text-anchor=\"middle\" x=\"629\" y=\"-298.3\" font-family=\"Times,serif\" font-size=\"14.00\" fill=\"#000000\">num_samples = 1296</text>\n<text text-anchor=\"middle\" x=\"629\" y=\"-283.3\" font-family=\"Times,serif\" font-size=\"14.00\" fill=\"#000000\">entropy = &#45;0.0</text>\n<text text-anchor=\"middle\" x=\"629\" y=\"-268.3\" font-family=\"Times,serif\" font-size=\"14.00\" fill=\"#000000\">gini = 0.0</text>\n</g>\n<!-- 140601424772624&#45;&gt;140601425676664 -->\n<g id=\"edge8\" class=\"edge\">\n<title>140601424772624&#45;&gt;140601425676664</title>\n<path fill=\"none\" stroke=\"#000000\" d=\"M790.9327,-386.8361C761.1392,-369.8475 726.876,-350.3102 697.5612,-333.5944\"/>\n<polygon fill=\"#000000\" stroke=\"#000000\" points=\"699.0534,-330.4164 688.6327,-328.5033 695.586,-336.4973 699.0534,-330.4164\"/>\n<text text-anchor=\"middle\" x=\"758\" y=\"-357.8\" font-family=\"Times,serif\" font-size=\"14.00\" fill=\"#000000\">k</text>\n</g>\n<!-- 140601425675880 -->\n<g id=\"node11\" class=\"node\">\n<title>140601425675880</title>\n<polygon fill=\"#e41a1c\" stroke=\"#000000\" stroke-width=\".5\" points=\"717.5,-260.5 858.5,-260.5 858.5,-328.5 717.5,-328.5 717.5,-260.5\"/>\n<polygon fill=\"none\" stroke=\"#000000\" points=\"858.5,-328.5 717.5,-328.5 717.5,-260.5 858.5,-260.5 858.5,-328.5\"/>\n<text text-anchor=\"middle\" x=\"788\" y=\"-313.3\" font-family=\"Times,serif\" font-size=\"14.00\" fill=\"#000000\">e:1.000</text>\n<text text-anchor=\"middle\" x=\"788\" y=\"-298.3\" font-family=\"Times,serif\" font-size=\"14.00\" fill=\"#000000\">num_samples = 1344</text>\n<text text-anchor=\"middle\" x=\"788\" y=\"-283.3\" font-family=\"Times,serif\" font-size=\"14.00\" fill=\"#000000\">entropy = &#45;0.0</text>\n<text text-anchor=\"middle\" x=\"788\" y=\"-268.3\" font-family=\"Times,serif\" font-size=\"14.00\" fill=\"#000000\">gini = 0.0</text>\n</g>\n<!-- 140601424772624&#45;&gt;140601425675880 -->\n<g id=\"edge9\" class=\"edge\">\n<title>140601424772624&#45;&gt;140601425675880</title>\n<path fill=\"none\" stroke=\"#000000\" d=\"M840.3697,-386.8361C831.482,-371.1656 821.3643,-353.3265 812.4071,-337.5336\"/>\n<polygon fill=\"#000000\" stroke=\"#000000\" points=\"815.2634,-335.475 807.2855,-328.5033 809.1745,-338.9284 815.2634,-335.475\"/>\n<text text-anchor=\"middle\" x=\"833\" y=\"-357.8\" font-family=\"Times,serif\" font-size=\"14.00\" fill=\"#000000\">n</text>\n</g>\n<!-- 140601425675656 -->\n<g id=\"node12\" class=\"node\">\n<title>140601425675656</title>\n<polygon fill=\"#e41a1c\" stroke=\"#000000\" stroke-width=\".5\" points=\"877,-260.5 1003,-260.5 1003,-328.5 877,-328.5 877,-260.5\"/>\n<polygon fill=\"none\" stroke=\"#000000\" points=\"1003,-328.5 877,-328.5 877,-260.5 1003,-260.5 1003,-328.5\"/>\n<text text-anchor=\"middle\" x=\"940\" y=\"-313.3\" font-family=\"Times,serif\" font-size=\"14.00\" fill=\"#000000\">e:1.000</text>\n<text text-anchor=\"middle\" x=\"940\" y=\"-298.3\" font-family=\"Times,serif\" font-size=\"14.00\" fill=\"#000000\">num_samples = 48</text>\n<text text-anchor=\"middle\" x=\"940\" y=\"-283.3\" font-family=\"Times,serif\" font-size=\"14.00\" fill=\"#000000\">entropy = &#45;0.0</text>\n<text text-anchor=\"middle\" x=\"940\" y=\"-268.3\" font-family=\"Times,serif\" font-size=\"14.00\" fill=\"#000000\">gini = 0.0</text>\n</g>\n<!-- 140601424772624&#45;&gt;140601425675656 -->\n<g id=\"edge10\" class=\"edge\">\n<title>140601424772624&#45;&gt;140601425675656</title>\n<path fill=\"none\" stroke=\"#000000\" d=\"M887.6303,-386.8361C896.518,-371.1656 906.6357,-353.3265 915.5929,-337.5336\"/>\n<polygon fill=\"#000000\" stroke=\"#000000\" points=\"918.8255,-338.9284 920.7145,-328.5033 912.7366,-335.475 918.8255,-338.9284\"/>\n<text text-anchor=\"middle\" x=\"909\" y=\"-357.8\" font-family=\"Times,serif\" font-size=\"14.00\" fill=\"#000000\">o</text>\n</g>\n<!-- 140601425576904 -->\n<g id=\"node13\" class=\"node\">\n<title>140601425576904</title>\n<polygon fill=\"#377eb8\" stroke=\"#000000\" stroke-width=\".5\" points=\"1021,-260.5 1147,-260.5 1147,-328.5 1021,-328.5 1021,-260.5\"/>\n<polygon fill=\"none\" stroke=\"#000000\" points=\"1147,-328.5 1021,-328.5 1021,-260.5 1147,-260.5 1147,-328.5\"/>\n<text text-anchor=\"middle\" x=\"1084\" y=\"-313.3\" font-family=\"Times,serif\" font-size=\"14.00\" fill=\"#000000\">p:1.000</text>\n<text text-anchor=\"middle\" x=\"1084\" y=\"-298.3\" font-family=\"Times,serif\" font-size=\"14.00\" fill=\"#000000\">num_samples = 72</text>\n<text text-anchor=\"middle\" x=\"1084\" y=\"-283.3\" font-family=\"Times,serif\" font-size=\"14.00\" fill=\"#000000\">entropy = &#45;0.0</text>\n<text text-anchor=\"middle\" x=\"1084\" y=\"-268.3\" font-family=\"Times,serif\" font-size=\"14.00\" fill=\"#000000\">gini = 0.0</text>\n</g>\n<!-- 140601424772624&#45;&gt;140601425576904 -->\n<g id=\"edge11\" class=\"edge\">\n<title>140601424772624&#45;&gt;140601425576904</title>\n<path fill=\"none\" stroke=\"#000000\" d=\"M932.4034,-386.8361C960.175,-369.9207 992.0949,-350.4785 1019.46,-333.8108\"/>\n<polygon fill=\"#000000\" stroke=\"#000000\" points=\"1021.4538,-336.6945 1028.1736,-328.5033 1017.8124,-330.7161 1021.4538,-336.6945\"/>\n<text text-anchor=\"middle\" x=\"983.5\" y=\"-357.8\" font-family=\"Times,serif\" font-size=\"14.00\" fill=\"#000000\">r</text>\n</g>\n<!-- 140601425577968 -->\n<g id=\"node14\" class=\"node\">\n<title>140601425577968</title>\n<polygon fill=\"#e41a1c\" stroke=\"#000000\" stroke-width=\".5\" points=\"1165.5,-253 1363.9615,-253 1363.9615,-336 1165.5,-336 1165.5,-253\"/>\n<polygon fill=\"#377eb8\" stroke=\"#000000\" stroke-width=\".5\" points=\"1363.9615,-253 1380.5,-253 1380.5,-336 1363.9615,-336 1363.9615,-253\"/>\n<polygon fill=\"none\" stroke=\"#000000\" points=\"1380.5,-336 1165.5,-336 1165.5,-253 1380.5,-253 1380.5,-336\"/>\n<text text-anchor=\"middle\" x=\"1273\" y=\"-320.8\" font-family=\"Times,serif\" font-size=\"14.00\" fill=\"#000000\">e:0.923 p:0.077</text>\n<text text-anchor=\"middle\" x=\"1273\" y=\"-305.8\" font-family=\"Times,serif\" font-size=\"14.00\" fill=\"#000000\">num_samples = 624</text>\n<text text-anchor=\"middle\" x=\"1273\" y=\"-290.8\" font-family=\"Times,serif\" font-size=\"14.00\" fill=\"#000000\">entropy = 0.39124356362925566</text>\n<text text-anchor=\"middle\" x=\"1273\" y=\"-275.8\" font-family=\"Times,serif\" font-size=\"14.00\" fill=\"#000000\">gini = 0.14201183431952646</text>\n<text text-anchor=\"middle\" x=\"1273\" y=\"-260.8\" font-family=\"Times,serif\" font-size=\"14.00\" fill=\"#000000\">split by: stalk&#45;color&#45;below&#45;ring</text>\n</g>\n<!-- 140601424772624&#45;&gt;140601425577968 -->\n<g id=\"edge20\" class=\"edge\">\n<title>140601424772624&#45;&gt;140601425577968</title>\n<path fill=\"none\" stroke=\"#000000\" d=\"M967.6518,-390.0933C970.7983,-389.0365 973.9198,-388.0029 977,-387 1052.7385,-362.3405 1075.5239,-361.2237 1155.8016,-336.0001\"/>\n<polygon fill=\"#000000\" stroke=\"#000000\" points=\"1156.8714,-339.3327 1165.3457,-332.9737 1154.7555,-332.6601 1156.8714,-339.3327\"/>\n<text text-anchor=\"middle\" x=\"1100.5\" y=\"-357.8\" font-family=\"Times,serif\" font-size=\"14.00\" fill=\"#000000\">w</text>\n</g>\n<!-- 140601425578360 -->\n<g id=\"node23\" class=\"node\">\n<title>140601425578360</title>\n<polygon fill=\"#e41a1c\" stroke=\"#000000\" stroke-width=\".5\" points=\"1399,-260.5 1525,-260.5 1525,-328.5 1399,-328.5 1399,-260.5\"/>\n<polygon fill=\"none\" stroke=\"#000000\" points=\"1525,-328.5 1399,-328.5 1399,-260.5 1525,-260.5 1525,-328.5\"/>\n<text text-anchor=\"middle\" x=\"1462\" y=\"-313.3\" font-family=\"Times,serif\" font-size=\"14.00\" fill=\"#000000\">e:1.000</text>\n<text text-anchor=\"middle\" x=\"1462\" y=\"-298.3\" font-family=\"Times,serif\" font-size=\"14.00\" fill=\"#000000\">num_samples = 48</text>\n<text text-anchor=\"middle\" x=\"1462\" y=\"-283.3\" font-family=\"Times,serif\" font-size=\"14.00\" fill=\"#000000\">entropy = &#45;0.0</text>\n<text text-anchor=\"middle\" x=\"1462\" y=\"-268.3\" font-family=\"Times,serif\" font-size=\"14.00\" fill=\"#000000\">gini = 0.0</text>\n</g>\n<!-- 140601424772624&#45;&gt;140601425578360 -->\n<g id=\"edge21\" class=\"edge\">\n<title>140601424772624&#45;&gt;140601425578360</title>\n<path fill=\"none\" stroke=\"#000000\" d=\"M967.7806,-389.371C970.8752,-388.5307 973.9531,-387.7373 977,-387 1066.8809,-365.2508 1302.3034,-365.3414 1390,-336 1392.916,-335.0244 1395.8456,-333.9235 1398.7661,-332.7251\"/>\n<polygon fill=\"#000000\" stroke=\"#000000\" points=\"1400.3227,-335.8634 1408.0355,-328.5995 1397.4763,-329.4682 1400.3227,-335.8634\"/>\n<text text-anchor=\"middle\" x=\"1293\" y=\"-357.8\" font-family=\"Times,serif\" font-size=\"14.00\" fill=\"#000000\">y</text>\n</g>\n<!-- 140601424949144 -->\n<g id=\"node15\" class=\"node\">\n<title>140601424949144</title>\n<polygon fill=\"#e41a1c\" stroke=\"#000000\" stroke-width=\".5\" points=\"959,-126.5 1085,-126.5 1085,-194.5 959,-194.5 959,-126.5\"/>\n<polygon fill=\"none\" stroke=\"#000000\" points=\"1085,-194.5 959,-194.5 959,-126.5 1085,-126.5 1085,-194.5\"/>\n<text text-anchor=\"middle\" x=\"1022\" y=\"-179.3\" font-family=\"Times,serif\" font-size=\"14.00\" fill=\"#000000\">e:1.000</text>\n<text text-anchor=\"middle\" x=\"1022\" y=\"-164.3\" font-family=\"Times,serif\" font-size=\"14.00\" fill=\"#000000\">num_samples = 96</text>\n<text text-anchor=\"middle\" x=\"1022\" y=\"-149.3\" font-family=\"Times,serif\" font-size=\"14.00\" fill=\"#000000\">entropy = &#45;0.0</text>\n<text text-anchor=\"middle\" x=\"1022\" y=\"-134.3\" font-family=\"Times,serif\" font-size=\"14.00\" fill=\"#000000\">gini = 0.0</text>\n</g>\n<!-- 140601425577968&#45;&gt;140601424949144 -->\n<g id=\"edge12\" class=\"edge\">\n<title>140601425577968&#45;&gt;140601424949144</title>\n<path fill=\"none\" stroke=\"#000000\" d=\"M1190.6005,-252.9201C1160.0908,-237.2622 1125.3136,-219.1035 1094,-202 1092.6547,-201.2652 1091.297,-200.5199 1089.9302,-199.7662\"/>\n<polygon fill=\"#000000\" stroke=\"#000000\" points=\"1091.2548,-196.4979 1080.8148,-194.6934 1087.8509,-202.6145 1091.2548,-196.4979\"/>\n<text text-anchor=\"middle\" x=\"1156.5\" y=\"-223.8\" font-family=\"Times,serif\" font-size=\"14.00\" fill=\"#000000\">e</text>\n</g>\n<!-- 140601424947408 -->\n<g id=\"node16\" class=\"node\">\n<title>140601424947408</title>\n<polygon fill=\"#e41a1c\" stroke=\"#000000\" stroke-width=\".5\" points=\"1103,-119 1269.4,-119 1269.4,-202 1103,-202 1103,-119\"/>\n<polygon fill=\"#377eb8\" stroke=\"#000000\" stroke-width=\".5\" points=\"1269.4,-119 1311,-119 1311,-202 1269.4,-202 1269.4,-119\"/>\n<polygon fill=\"none\" stroke=\"#000000\" points=\"1311,-202 1103,-202 1103,-119 1311,-119 1311,-202\"/>\n<text text-anchor=\"middle\" x=\"1207\" y=\"-186.8\" font-family=\"Times,serif\" font-size=\"14.00\" fill=\"#000000\">e:0.800 p:0.200</text>\n<text text-anchor=\"middle\" x=\"1207\" y=\"-171.8\" font-family=\"Times,serif\" font-size=\"14.00\" fill=\"#000000\">num_samples = 80</text>\n<text text-anchor=\"middle\" x=\"1207\" y=\"-156.8\" font-family=\"Times,serif\" font-size=\"14.00\" fill=\"#000000\">entropy = 0.7219280948873623</text>\n<text text-anchor=\"middle\" x=\"1207\" y=\"-141.8\" font-family=\"Times,serif\" font-size=\"14.00\" fill=\"#000000\">gini = 0.31999999999999984</text>\n<text text-anchor=\"middle\" x=\"1207\" y=\"-126.8\" font-family=\"Times,serif\" font-size=\"14.00\" fill=\"#000000\">split by: stalk&#45;root</text>\n</g>\n<!-- 140601425577968&#45;&gt;140601424947408 -->\n<g id=\"edge15\" class=\"edge\">\n<title>140601425577968&#45;&gt;140601424947408</title>\n<path fill=\"none\" stroke=\"#000000\" d=\"M1252.479,-252.8361C1246.0224,-239.7273 1238.8184,-225.101 1232.0822,-211.4245\"/>\n<polygon fill=\"#000000\" stroke=\"#000000\" points=\"1235.0667,-209.5625 1227.5083,-202.1381 1228.7871,-212.6555 1235.0667,-209.5625\"/>\n<text text-anchor=\"middle\" x=\"1246\" y=\"-223.8\" font-family=\"Times,serif\" font-size=\"14.00\" fill=\"#000000\">n</text>\n</g>\n<!-- 140601424946680 -->\n<g id=\"node19\" class=\"node\">\n<title>140601424946680</title>\n<polygon fill=\"#e41a1c\" stroke=\"#000000\" stroke-width=\".5\" points=\"1329.5,-119 1540.4434,-119 1540.4434,-202 1329.5,-202 1329.5,-119\"/>\n<polygon fill=\"#377eb8\" stroke=\"#000000\" stroke-width=\".5\" points=\"1540.4434,-119 1544.5,-119 1544.5,-202 1540.4434,-202 1540.4434,-119\"/>\n<polygon fill=\"none\" stroke=\"#000000\" points=\"1544.5,-202 1329.5,-202 1329.5,-119 1544.5,-119 1544.5,-202\"/>\n<text text-anchor=\"middle\" x=\"1437\" y=\"-186.8\" font-family=\"Times,serif\" font-size=\"14.00\" fill=\"#000000\">e:0.981 p:0.019</text>\n<text text-anchor=\"middle\" x=\"1437\" y=\"-171.8\" font-family=\"Times,serif\" font-size=\"14.00\" fill=\"#000000\">num_samples = 424</text>\n<text text-anchor=\"middle\" x=\"1437\" y=\"-156.8\" font-family=\"Times,serif\" font-size=\"14.00\" fill=\"#000000\">entropy = 0.13503620280212764</text>\n<text text-anchor=\"middle\" x=\"1437\" y=\"-141.8\" font-family=\"Times,serif\" font-size=\"14.00\" fill=\"#000000\">gini = 0.03702385190459245</text>\n<text text-anchor=\"middle\" x=\"1437\" y=\"-126.8\" font-family=\"Times,serif\" font-size=\"14.00\" fill=\"#000000\">split by: gill&#45;size</text>\n</g>\n<!-- 140601425577968&#45;&gt;140601424946680 -->\n<g id=\"edge18\" class=\"edge\">\n<title>140601425577968&#45;&gt;140601424946680</title>\n<path fill=\"none\" stroke=\"#000000\" d=\"M1323.9916,-252.8361C1341.1151,-238.845 1360.3542,-223.1252 1378.0377,-208.6765\"/>\n<polygon fill=\"#000000\" stroke=\"#000000\" points=\"1380.5106,-211.1757 1386.0399,-202.1381 1376.0815,-205.7551 1380.5106,-211.1757\"/>\n<text text-anchor=\"middle\" x=\"1364.5\" y=\"-223.8\" font-family=\"Times,serif\" font-size=\"14.00\" fill=\"#000000\">w</text>\n</g>\n<!-- 140601424946624 -->\n<g id=\"node22\" class=\"node\">\n<title>140601424946624</title>\n<polygon fill=\"#377eb8\" stroke=\"#000000\" stroke-width=\".5\" points=\"1563,-126.5 1689,-126.5 1689,-194.5 1563,-194.5 1563,-126.5\"/>\n<polygon fill=\"none\" stroke=\"#000000\" points=\"1689,-194.5 1563,-194.5 1563,-126.5 1689,-126.5 1689,-194.5\"/>\n<text text-anchor=\"middle\" x=\"1626\" y=\"-179.3\" font-family=\"Times,serif\" font-size=\"14.00\" fill=\"#000000\">p:1.000</text>\n<text text-anchor=\"middle\" x=\"1626\" y=\"-164.3\" font-family=\"Times,serif\" font-size=\"14.00\" fill=\"#000000\">num_samples = 24</text>\n<text text-anchor=\"middle\" x=\"1626\" y=\"-149.3\" font-family=\"Times,serif\" font-size=\"14.00\" fill=\"#000000\">entropy = &#45;0.0</text>\n<text text-anchor=\"middle\" x=\"1626\" y=\"-134.3\" font-family=\"Times,serif\" font-size=\"14.00\" fill=\"#000000\">gini = 0.0</text>\n</g>\n<!-- 140601425577968&#45;&gt;140601424946624 -->\n<g id=\"edge19\" class=\"edge\">\n<title>140601425577968&#45;&gt;140601424946624</title>\n<path fill=\"none\" stroke=\"#000000\" d=\"M1380.6862,-256.1241C1383.8227,-255.064 1386.9324,-254.0206 1390,-253 1462.4287,-228.9033 1484.0611,-232.5796 1554,-202 1556.0944,-201.0842 1558.2054,-200.1229 1560.3229,-199.125\"/>\n<polygon fill=\"#000000\" stroke=\"#000000\" points=\"1562.1942,-202.1048 1569.6171,-194.545 1559.0999,-195.8258 1562.1942,-202.1048\"/>\n<text text-anchor=\"middle\" x=\"1508\" y=\"-223.8\" font-family=\"Times,serif\" font-size=\"14.00\" fill=\"#000000\">y</text>\n</g>\n<!-- 140601427310688 -->\n<g id=\"node17\" class=\"node\">\n<title>140601427310688</title>\n<polygon fill=\"#377eb8\" stroke=\"#000000\" stroke-width=\".5\" points=\"1020,0 1146,0 1146,-68 1020,-68 1020,0\"/>\n<polygon fill=\"none\" stroke=\"#000000\" points=\"1146,-68 1020,-68 1020,0 1146,0 1146,-68\"/>\n<text text-anchor=\"middle\" x=\"1083\" y=\"-52.8\" font-family=\"Times,serif\" font-size=\"14.00\" fill=\"#000000\">p:1.000</text>\n<text text-anchor=\"middle\" x=\"1083\" y=\"-37.8\" font-family=\"Times,serif\" font-size=\"14.00\" fill=\"#000000\">num_samples = 16</text>\n<text text-anchor=\"middle\" x=\"1083\" y=\"-22.8\" font-family=\"Times,serif\" font-size=\"14.00\" fill=\"#000000\">entropy = &#45;0.0</text>\n<text text-anchor=\"middle\" x=\"1083\" y=\"-7.8\" font-family=\"Times,serif\" font-size=\"14.00\" fill=\"#000000\">gini = 0.0</text>\n</g>\n<!-- 140601424947408&#45;&gt;140601427310688 -->\n<g id=\"edge13\" class=\"edge\">\n<title>140601424947408&#45;&gt;140601427310688</title>\n<path fill=\"none\" stroke=\"#000000\" d=\"M1166.0541,-118.7286C1152.4832,-104.8841 1137.3852,-89.4817 1123.8236,-75.6466\"/>\n<polygon fill=\"#000000\" stroke=\"#000000\" points=\"1125.9665,-72.8328 1116.4668,-68.1416 1120.9675,-77.7329 1125.9665,-72.8328\"/>\n<text text-anchor=\"middle\" x=\"1148.5\" y=\"-89.8\" font-family=\"Times,serif\" font-size=\"14.00\" fill=\"#000000\">?</text>\n</g>\n<!-- 140601427309960 -->\n<g id=\"node18\" class=\"node\">\n<title>140601427309960</title>\n<polygon fill=\"#e41a1c\" stroke=\"#000000\" stroke-width=\".5\" points=\"1164,0 1290,0 1290,-68 1164,-68 1164,0\"/>\n<polygon fill=\"none\" stroke=\"#000000\" points=\"1290,-68 1164,-68 1164,0 1290,0 1290,-68\"/>\n<text text-anchor=\"middle\" x=\"1227\" y=\"-52.8\" font-family=\"Times,serif\" font-size=\"14.00\" fill=\"#000000\">e:1.000</text>\n<text text-anchor=\"middle\" x=\"1227\" y=\"-37.8\" font-family=\"Times,serif\" font-size=\"14.00\" fill=\"#000000\">num_samples = 64</text>\n<text text-anchor=\"middle\" x=\"1227\" y=\"-22.8\" font-family=\"Times,serif\" font-size=\"14.00\" fill=\"#000000\">entropy = &#45;0.0</text>\n<text text-anchor=\"middle\" x=\"1227\" y=\"-7.8\" font-family=\"Times,serif\" font-size=\"14.00\" fill=\"#000000\">gini = 0.0</text>\n</g>\n<!-- 140601424947408&#45;&gt;140601427309960 -->\n<g id=\"edge14\" class=\"edge\">\n<title>140601424947408&#45;&gt;140601427309960</title>\n<path fill=\"none\" stroke=\"#000000\" d=\"M1213.6042,-118.7286C1215.6512,-105.7814 1217.9136,-91.4718 1219.9872,-78.3557\"/>\n<polygon fill=\"#000000\" stroke=\"#000000\" points=\"1223.4975,-78.5655 1221.6021,-68.1416 1216.5834,-77.4723 1223.4975,-78.5655\"/>\n<text text-anchor=\"middle\" x=\"1223\" y=\"-89.8\" font-family=\"Times,serif\" font-size=\"14.00\" fill=\"#000000\">b</text>\n</g>\n<!-- 140601425308024 -->\n<g id=\"node20\" class=\"node\">\n<title>140601425308024</title>\n<polygon fill=\"#e41a1c\" stroke=\"#000000\" stroke-width=\".5\" points=\"1349,0 1483,0 1483,-68 1349,-68 1349,0\"/>\n<polygon fill=\"none\" stroke=\"#000000\" points=\"1483,-68 1349,-68 1349,0 1483,0 1483,-68\"/>\n<text text-anchor=\"middle\" x=\"1416\" y=\"-52.8\" font-family=\"Times,serif\" font-size=\"14.00\" fill=\"#000000\">e:1.000</text>\n<text text-anchor=\"middle\" x=\"1416\" y=\"-37.8\" font-family=\"Times,serif\" font-size=\"14.00\" fill=\"#000000\">num_samples = 416</text>\n<text text-anchor=\"middle\" x=\"1416\" y=\"-22.8\" font-family=\"Times,serif\" font-size=\"14.00\" fill=\"#000000\">entropy = &#45;0.0</text>\n<text text-anchor=\"middle\" x=\"1416\" y=\"-7.8\" font-family=\"Times,serif\" font-size=\"14.00\" fill=\"#000000\">gini = 0.0</text>\n</g>\n<!-- 140601424946680&#45;&gt;140601425308024 -->\n<g id=\"edge16\" class=\"edge\">\n<title>140601424946680&#45;&gt;140601425308024</title>\n<path fill=\"none\" stroke=\"#000000\" d=\"M1430.0656,-118.7286C1427.9163,-105.7814 1425.5408,-91.4718 1423.3634,-78.3557\"/>\n<polygon fill=\"#000000\" stroke=\"#000000\" points=\"1426.7583,-77.4333 1421.6678,-68.1416 1419.8528,-78.5798 1426.7583,-77.4333\"/>\n<text text-anchor=\"middle\" x=\"1430\" y=\"-89.8\" font-family=\"Times,serif\" font-size=\"14.00\" fill=\"#000000\">b</text>\n</g>\n<!-- 140601425306624 -->\n<g id=\"node21\" class=\"node\">\n<title>140601425306624</title>\n<polygon fill=\"#377eb8\" stroke=\"#000000\" stroke-width=\".5\" points=\"1501.5,0 1620.5,0 1620.5,-68 1501.5,-68 1501.5,0\"/>\n<polygon fill=\"none\" stroke=\"#000000\" points=\"1620.5,-68 1501.5,-68 1501.5,0 1620.5,0 1620.5,-68\"/>\n<text text-anchor=\"middle\" x=\"1561\" y=\"-52.8\" font-family=\"Times,serif\" font-size=\"14.00\" fill=\"#000000\">p:1.000</text>\n<text text-anchor=\"middle\" x=\"1561\" y=\"-37.8\" font-family=\"Times,serif\" font-size=\"14.00\" fill=\"#000000\">num_samples = 8</text>\n<text text-anchor=\"middle\" x=\"1561\" y=\"-22.8\" font-family=\"Times,serif\" font-size=\"14.00\" fill=\"#000000\">entropy = &#45;0.0</text>\n<text text-anchor=\"middle\" x=\"1561\" y=\"-7.8\" font-family=\"Times,serif\" font-size=\"14.00\" fill=\"#000000\">gini = 0.0</text>\n</g>\n<!-- 140601424946680&#45;&gt;140601425306624 -->\n<g id=\"edge17\" class=\"edge\">\n<title>140601424946680&#45;&gt;140601425306624</title>\n<path fill=\"none\" stroke=\"#000000\" d=\"M1477.9459,-118.7286C1491.5168,-104.8841 1506.6148,-89.4817 1520.1764,-75.6466\"/>\n<polygon fill=\"#000000\" stroke=\"#000000\" points=\"1523.0325,-77.7329 1527.5332,-68.1416 1518.0335,-72.8328 1523.0325,-77.7329\"/>\n<text text-anchor=\"middle\" x=\"1510\" y=\"-89.8\" font-family=\"Times,serif\" font-size=\"14.00\" fill=\"#000000\">n</text>\n</g>\n</g>\n</svg>\n"
          },
          "metadata": {
            "tags": []
          },
          "execution_count": 24
        }
      ]
    },
    {
      "cell_type": "markdown",
      "metadata": {
        "id": "1MK8aKSJXO86"
      },
      "source": [
        "#### Tree for infogain ratio"
      ]
    },
    {
      "cell_type": "code",
      "metadata": {
        "colab": {
          "base_uri": "https://localhost:8080/"
        },
        "id": "wiHCPKGzXTJg",
        "outputId": "a89eaa78-0dbb-4f26-dc45-14cde8be94c8"
      },
      "source": [
        "mushroom_tree = Tree(mushroom_df, criterion = 'infogain_ratio')\n",
        "mushroom_tree.draw()"
      ],
      "execution_count": null,
      "outputs": [
        {
          "output_type": "execute_result",
          "data": {
            "text/plain": [
              "<graphviz.dot.Digraph at 0x7fe0520d02b0>"
            ],
            "image/svg+xml": "<?xml version=\"1.0\" encoding=\"UTF-8\" standalone=\"no\"?>\n<!DOCTYPE svg PUBLIC \"-//W3C//DTD SVG 1.1//EN\"\n \"http://www.w3.org/Graphics/SVG/1.1/DTD/svg11.dtd\">\n<!-- Generated by graphviz version 2.40.1 (20161225.0304)\n -->\n<!-- Title: %3 Pages: 1 -->\n<svg width=\"1589pt\" height=\"880pt\"\n viewBox=\"0.00 0.00 1588.50 880.00\" xmlns=\"http://www.w3.org/2000/svg\" xmlns:xlink=\"http://www.w3.org/1999/xlink\">\n<g id=\"graph0\" class=\"graph\" transform=\"scale(1 1) rotate(0) translate(4 876)\">\n<title>%3</title>\n<polygon fill=\"#ffffff\" stroke=\"transparent\" points=\"-4,4 -4,-876 1584.5,-876 1584.5,4 -4,4\"/>\n<!-- 140601424771560 -->\n<g id=\"node1\" class=\"node\">\n<title>140601424771560</title>\n<polygon fill=\"#e41a1c\" stroke=\"#000000\" stroke-width=\".5\" points=\"575,-789 682.7381,-789 682.7381,-872 575,-872 575,-789\"/>\n<polygon fill=\"#377eb8\" stroke=\"#000000\" stroke-width=\".5\" points=\"682.7381,-789 783,-789 783,-872 682.7381,-872 682.7381,-789\"/>\n<polygon fill=\"none\" stroke=\"#000000\" points=\"783,-872 575,-872 575,-789 783,-789 783,-872\"/>\n<text text-anchor=\"middle\" x=\"679\" y=\"-856.8\" font-family=\"Times,serif\" font-size=\"14.00\" fill=\"#000000\">e:0.518 p:0.482</text>\n<text text-anchor=\"middle\" x=\"679\" y=\"-841.8\" font-family=\"Times,serif\" font-size=\"14.00\" fill=\"#000000\">num_samples = 8124</text>\n<text text-anchor=\"middle\" x=\"679\" y=\"-826.8\" font-family=\"Times,serif\" font-size=\"14.00\" fill=\"#000000\">entropy = 0.9990678968724603</text>\n<text text-anchor=\"middle\" x=\"679\" y=\"-811.8\" font-family=\"Times,serif\" font-size=\"14.00\" fill=\"#000000\">gini = 0.49935405449893955</text>\n<text text-anchor=\"middle\" x=\"679\" y=\"-796.8\" font-family=\"Times,serif\" font-size=\"14.00\" fill=\"#000000\">split by: odor</text>\n</g>\n<!-- 140601424891128 -->\n<g id=\"node2\" class=\"node\">\n<title>140601424891128</title>\n<polygon fill=\"#e41a1c\" stroke=\"#000000\" stroke-width=\".5\" points=\"0,-662.5 134,-662.5 134,-730.5 0,-730.5 0,-662.5\"/>\n<polygon fill=\"none\" stroke=\"#000000\" points=\"134,-730.5 0,-730.5 0,-662.5 134,-662.5 134,-730.5\"/>\n<text text-anchor=\"middle\" x=\"67\" y=\"-715.3\" font-family=\"Times,serif\" font-size=\"14.00\" fill=\"#000000\">e:1.000</text>\n<text text-anchor=\"middle\" x=\"67\" y=\"-700.3\" font-family=\"Times,serif\" font-size=\"14.00\" fill=\"#000000\">num_samples = 400</text>\n<text text-anchor=\"middle\" x=\"67\" y=\"-685.3\" font-family=\"Times,serif\" font-size=\"14.00\" fill=\"#000000\">entropy = &#45;0.0</text>\n<text text-anchor=\"middle\" x=\"67\" y=\"-670.3\" font-family=\"Times,serif\" font-size=\"14.00\" fill=\"#000000\">gini = 0.0</text>\n</g>\n<!-- 140601424771560&#45;&gt;140601424891128 -->\n<g id=\"edge1\" class=\"edge\">\n<title>140601424771560&#45;&gt;140601424891128</title>\n<path fill=\"none\" stroke=\"#000000\" d=\"M574.9696,-822.7299C465.0881,-812.1962 288.0141,-788.5393 143,-738 140.112,-736.9935 137.2031,-735.8849 134.2947,-734.6967\"/>\n<polygon fill=\"#000000\" stroke=\"#000000\" points=\"135.6005,-731.4479 125.035,-730.6593 132.8027,-737.8645 135.6005,-731.4479\"/>\n<text text-anchor=\"middle\" x=\"246.5\" y=\"-759.8\" font-family=\"Times,serif\" font-size=\"14.00\" fill=\"#000000\">a</text>\n</g>\n<!-- 140601424891688 -->\n<g id=\"node3\" class=\"node\">\n<title>140601424891688</title>\n<polygon fill=\"#377eb8\" stroke=\"#000000\" stroke-width=\".5\" points=\"152,-662.5 286,-662.5 286,-730.5 152,-730.5 152,-662.5\"/>\n<polygon fill=\"none\" stroke=\"#000000\" points=\"286,-730.5 152,-730.5 152,-662.5 286,-662.5 286,-730.5\"/>\n<text text-anchor=\"middle\" x=\"219\" y=\"-715.3\" font-family=\"Times,serif\" font-size=\"14.00\" fill=\"#000000\">p:1.000</text>\n<text text-anchor=\"middle\" x=\"219\" y=\"-700.3\" font-family=\"Times,serif\" font-size=\"14.00\" fill=\"#000000\">num_samples = 192</text>\n<text text-anchor=\"middle\" x=\"219\" y=\"-685.3\" font-family=\"Times,serif\" font-size=\"14.00\" fill=\"#000000\">entropy = &#45;0.0</text>\n<text text-anchor=\"middle\" x=\"219\" y=\"-670.3\" font-family=\"Times,serif\" font-size=\"14.00\" fill=\"#000000\">gini = 0.0</text>\n</g>\n<!-- 140601424771560&#45;&gt;140601424891688 -->\n<g id=\"edge2\" class=\"edge\">\n<title>140601424771560&#45;&gt;140601424891688</title>\n<path fill=\"none\" stroke=\"#000000\" d=\"M574.8962,-813.1244C496.3514,-798.1861 386.8115,-773.4092 295,-738 292.4577,-737.0195 289.8945,-735.9698 287.3259,-734.8657\"/>\n<polygon fill=\"#000000\" stroke=\"#000000\" points=\"288.584,-731.5933 278.0307,-730.6557 285.6959,-737.9697 288.584,-731.5933\"/>\n<text text-anchor=\"middle\" x=\"391.5\" y=\"-759.8\" font-family=\"Times,serif\" font-size=\"14.00\" fill=\"#000000\">c</text>\n</g>\n<!-- 140601424888104 -->\n<g id=\"node4\" class=\"node\">\n<title>140601424888104</title>\n<polygon fill=\"#377eb8\" stroke=\"#000000\" stroke-width=\".5\" points=\"304.5,-662.5 445.5,-662.5 445.5,-730.5 304.5,-730.5 304.5,-662.5\"/>\n<polygon fill=\"none\" stroke=\"#000000\" points=\"445.5,-730.5 304.5,-730.5 304.5,-662.5 445.5,-662.5 445.5,-730.5\"/>\n<text text-anchor=\"middle\" x=\"375\" y=\"-715.3\" font-family=\"Times,serif\" font-size=\"14.00\" fill=\"#000000\">p:1.000</text>\n<text text-anchor=\"middle\" x=\"375\" y=\"-700.3\" font-family=\"Times,serif\" font-size=\"14.00\" fill=\"#000000\">num_samples = 2160</text>\n<text text-anchor=\"middle\" x=\"375\" y=\"-685.3\" font-family=\"Times,serif\" font-size=\"14.00\" fill=\"#000000\">entropy = &#45;0.0</text>\n<text text-anchor=\"middle\" x=\"375\" y=\"-670.3\" font-family=\"Times,serif\" font-size=\"14.00\" fill=\"#000000\">gini = 0.0</text>\n</g>\n<!-- 140601424771560&#45;&gt;140601424888104 -->\n<g id=\"edge3\" class=\"edge\">\n<title>140601424771560&#45;&gt;140601424888104</title>\n<path fill=\"none\" stroke=\"#000000\" d=\"M574.7508,-789.6457C536.7443,-774.1768 493.6314,-755.9551 455,-738 452.9249,-737.0355 450.8258,-736.0458 448.7122,-735.0369\"/>\n<polygon fill=\"#000000\" stroke=\"#000000\" points=\"449.9064,-731.7261 439.3818,-730.5088 446.8502,-738.0237 449.9064,-731.7261\"/>\n<text text-anchor=\"middle\" x=\"531.5\" y=\"-759.8\" font-family=\"Times,serif\" font-size=\"14.00\" fill=\"#000000\">f</text>\n</g>\n<!-- 140601424742552 -->\n<g id=\"node5\" class=\"node\">\n<title>140601424742552</title>\n<polygon fill=\"#e41a1c\" stroke=\"#000000\" stroke-width=\".5\" points=\"464,-662.5 598,-662.5 598,-730.5 464,-730.5 464,-662.5\"/>\n<polygon fill=\"none\" stroke=\"#000000\" points=\"598,-730.5 464,-730.5 464,-662.5 598,-662.5 598,-730.5\"/>\n<text text-anchor=\"middle\" x=\"531\" y=\"-715.3\" font-family=\"Times,serif\" font-size=\"14.00\" fill=\"#000000\">e:1.000</text>\n<text text-anchor=\"middle\" x=\"531\" y=\"-700.3\" font-family=\"Times,serif\" font-size=\"14.00\" fill=\"#000000\">num_samples = 400</text>\n<text text-anchor=\"middle\" x=\"531\" y=\"-685.3\" font-family=\"Times,serif\" font-size=\"14.00\" fill=\"#000000\">entropy = &#45;0.0</text>\n<text text-anchor=\"middle\" x=\"531\" y=\"-670.3\" font-family=\"Times,serif\" font-size=\"14.00\" fill=\"#000000\">gini = 0.0</text>\n</g>\n<!-- 140601424771560&#45;&gt;140601424742552 -->\n<g id=\"edge4\" class=\"edge\">\n<title>140601424771560&#45;&gt;140601424742552</title>\n<path fill=\"none\" stroke=\"#000000\" d=\"M632.9832,-788.8361C614.8666,-772.4333 594.1259,-753.6545 576.0997,-737.3335\"/>\n<polygon fill=\"#000000\" stroke=\"#000000\" points=\"578.3181,-734.6206 568.5559,-730.5033 573.6198,-739.8097 578.3181,-734.6206\"/>\n<text text-anchor=\"middle\" x=\"612\" y=\"-759.8\" font-family=\"Times,serif\" font-size=\"14.00\" fill=\"#000000\">l</text>\n</g>\n<!-- 140601424743840 -->\n<g id=\"node6\" class=\"node\">\n<title>140601424743840</title>\n<polygon fill=\"#377eb8\" stroke=\"#000000\" stroke-width=\".5\" points=\"616,-662.5 742,-662.5 742,-730.5 616,-730.5 616,-662.5\"/>\n<polygon fill=\"none\" stroke=\"#000000\" points=\"742,-730.5 616,-730.5 616,-662.5 742,-662.5 742,-730.5\"/>\n<text text-anchor=\"middle\" x=\"679\" y=\"-715.3\" font-family=\"Times,serif\" font-size=\"14.00\" fill=\"#000000\">p:1.000</text>\n<text text-anchor=\"middle\" x=\"679\" y=\"-700.3\" font-family=\"Times,serif\" font-size=\"14.00\" fill=\"#000000\">num_samples = 36</text>\n<text text-anchor=\"middle\" x=\"679\" y=\"-685.3\" font-family=\"Times,serif\" font-size=\"14.00\" fill=\"#000000\">entropy = &#45;0.0</text>\n<text text-anchor=\"middle\" x=\"679\" y=\"-670.3\" font-family=\"Times,serif\" font-size=\"14.00\" fill=\"#000000\">gini = 0.0</text>\n</g>\n<!-- 140601424771560&#45;&gt;140601424743840 -->\n<g id=\"edge5\" class=\"edge\">\n<title>140601424771560&#45;&gt;140601424743840</title>\n<path fill=\"none\" stroke=\"#000000\" d=\"M679,-788.8361C679,-773.6049 679,-756.3251 679,-740.8667\"/>\n<polygon fill=\"#000000\" stroke=\"#000000\" points=\"682.5001,-740.5033 679,-730.5033 675.5001,-740.5034 682.5001,-740.5033\"/>\n<text text-anchor=\"middle\" x=\"685\" y=\"-759.8\" font-family=\"Times,serif\" font-size=\"14.00\" fill=\"#000000\">m</text>\n</g>\n<!-- 140601424742384 -->\n<g id=\"node7\" class=\"node\">\n<title>140601424742384</title>\n<polygon fill=\"#e41a1c\" stroke=\"#000000\" stroke-width=\".5\" points=\"760.5,-655 960.4592,-655 960.4592,-738 760.5,-738 760.5,-655\"/>\n<polygon fill=\"#377eb8\" stroke=\"#000000\" stroke-width=\".5\" points=\"960.4592,-655 967.5,-655 967.5,-738 960.4592,-738 960.4592,-655\"/>\n<polygon fill=\"none\" stroke=\"#000000\" points=\"967.5,-738 760.5,-738 760.5,-655 967.5,-655 967.5,-738\"/>\n<text text-anchor=\"middle\" x=\"864\" y=\"-722.8\" font-family=\"Times,serif\" font-size=\"14.00\" fill=\"#000000\">e:0.966 p:0.034</text>\n<text text-anchor=\"middle\" x=\"864\" y=\"-707.8\" font-family=\"Times,serif\" font-size=\"14.00\" fill=\"#000000\">num_samples = 3528</text>\n<text text-anchor=\"middle\" x=\"864\" y=\"-692.8\" font-family=\"Times,serif\" font-size=\"14.00\" fill=\"#000000\">entropy = 0.2141367567812511</text>\n<text text-anchor=\"middle\" x=\"864\" y=\"-677.8\" font-family=\"Times,serif\" font-size=\"14.00\" fill=\"#000000\">gini = 0.06571336017400164</text>\n<text text-anchor=\"middle\" x=\"864\" y=\"-662.8\" font-family=\"Times,serif\" font-size=\"14.00\" fill=\"#000000\">split by: spore&#45;print&#45;color</text>\n</g>\n<!-- 140601424771560&#45;&gt;140601424742384 -->\n<g id=\"edge22\" class=\"edge\">\n<title>140601424771560&#45;&gt;140601424742384</title>\n<path fill=\"none\" stroke=\"#000000\" d=\"M736.5211,-788.8361C756.0982,-774.6559 778.1268,-758.7 798.2954,-744.0915\"/>\n<polygon fill=\"#000000\" stroke=\"#000000\" points=\"800.4689,-746.8388 806.5145,-738.1381 796.3626,-741.1697 800.4689,-746.8388\"/>\n<text text-anchor=\"middle\" x=\"782\" y=\"-759.8\" font-family=\"Times,serif\" font-size=\"14.00\" fill=\"#000000\">n</text>\n</g>\n<!-- 140601424888160 -->\n<g id=\"node24\" class=\"node\">\n<title>140601424888160</title>\n<polygon fill=\"#377eb8\" stroke=\"#000000\" stroke-width=\".5\" points=\"986,-662.5 1120,-662.5 1120,-730.5 986,-730.5 986,-662.5\"/>\n<polygon fill=\"none\" stroke=\"#000000\" points=\"1120,-730.5 986,-730.5 986,-662.5 1120,-662.5 1120,-730.5\"/>\n<text text-anchor=\"middle\" x=\"1053\" y=\"-715.3\" font-family=\"Times,serif\" font-size=\"14.00\" fill=\"#000000\">p:1.000</text>\n<text text-anchor=\"middle\" x=\"1053\" y=\"-700.3\" font-family=\"Times,serif\" font-size=\"14.00\" fill=\"#000000\">num_samples = 256</text>\n<text text-anchor=\"middle\" x=\"1053\" y=\"-685.3\" font-family=\"Times,serif\" font-size=\"14.00\" fill=\"#000000\">entropy = &#45;0.0</text>\n<text text-anchor=\"middle\" x=\"1053\" y=\"-670.3\" font-family=\"Times,serif\" font-size=\"14.00\" fill=\"#000000\">gini = 0.0</text>\n</g>\n<!-- 140601424771560&#45;&gt;140601424888160 -->\n<g id=\"edge23\" class=\"edge\">\n<title>140601424771560&#45;&gt;140601424888160</title>\n<path fill=\"none\" stroke=\"#000000\" d=\"M783.1449,-803.38C840.926,-787.0203 913.5241,-764.2766 976,-738 978.3272,-737.0212 980.6769,-735.9945 983.0363,-734.9303\"/>\n<polygon fill=\"#000000\" stroke=\"#000000\" points=\"984.5846,-738.0701 992.1582,-730.6612 981.6174,-731.73 984.5846,-738.0701\"/>\n<text text-anchor=\"middle\" x=\"933\" y=\"-759.8\" font-family=\"Times,serif\" font-size=\"14.00\" fill=\"#000000\">p</text>\n</g>\n<!-- 140601424770440 -->\n<g id=\"node25\" class=\"node\">\n<title>140601424770440</title>\n<polygon fill=\"#377eb8\" stroke=\"#000000\" stroke-width=\".5\" points=\"1138,-662.5 1272,-662.5 1272,-730.5 1138,-730.5 1138,-662.5\"/>\n<polygon fill=\"none\" stroke=\"#000000\" points=\"1272,-730.5 1138,-730.5 1138,-662.5 1272,-662.5 1272,-730.5\"/>\n<text text-anchor=\"middle\" x=\"1205\" y=\"-715.3\" font-family=\"Times,serif\" font-size=\"14.00\" fill=\"#000000\">p:1.000</text>\n<text text-anchor=\"middle\" x=\"1205\" y=\"-700.3\" font-family=\"Times,serif\" font-size=\"14.00\" fill=\"#000000\">num_samples = 576</text>\n<text text-anchor=\"middle\" x=\"1205\" y=\"-685.3\" font-family=\"Times,serif\" font-size=\"14.00\" fill=\"#000000\">entropy = &#45;0.0</text>\n<text text-anchor=\"middle\" x=\"1205\" y=\"-670.3\" font-family=\"Times,serif\" font-size=\"14.00\" fill=\"#000000\">gini = 0.0</text>\n</g>\n<!-- 140601424771560&#45;&gt;140601424770440 -->\n<g id=\"edge24\" class=\"edge\">\n<title>140601424771560&#45;&gt;140601424770440</title>\n<path fill=\"none\" stroke=\"#000000\" d=\"M783.276,-818.0193C876.063,-804.8287 1014.4212,-779.9895 1129,-738 1131.7128,-737.0058 1134.4466,-735.9271 1137.183,-734.782\"/>\n<polygon fill=\"#000000\" stroke=\"#000000\" points=\"1138.7498,-737.9159 1146.4698,-730.6598 1135.9098,-731.5179 1138.7498,-737.9159\"/>\n<text text-anchor=\"middle\" x=\"1073\" y=\"-759.8\" font-family=\"Times,serif\" font-size=\"14.00\" fill=\"#000000\">s</text>\n</g>\n<!-- 140601427552744 -->\n<g id=\"node26\" class=\"node\">\n<title>140601427552744</title>\n<polygon fill=\"#377eb8\" stroke=\"#000000\" stroke-width=\".5\" points=\"1290,-662.5 1424,-662.5 1424,-730.5 1290,-730.5 1290,-662.5\"/>\n<polygon fill=\"none\" stroke=\"#000000\" points=\"1424,-730.5 1290,-730.5 1290,-662.5 1424,-662.5 1424,-730.5\"/>\n<text text-anchor=\"middle\" x=\"1357\" y=\"-715.3\" font-family=\"Times,serif\" font-size=\"14.00\" fill=\"#000000\">p:1.000</text>\n<text text-anchor=\"middle\" x=\"1357\" y=\"-700.3\" font-family=\"Times,serif\" font-size=\"14.00\" fill=\"#000000\">num_samples = 576</text>\n<text text-anchor=\"middle\" x=\"1357\" y=\"-685.3\" font-family=\"Times,serif\" font-size=\"14.00\" fill=\"#000000\">entropy = &#45;0.0</text>\n<text text-anchor=\"middle\" x=\"1357\" y=\"-670.3\" font-family=\"Times,serif\" font-size=\"14.00\" fill=\"#000000\">gini = 0.0</text>\n</g>\n<!-- 140601424771560&#45;&gt;140601427552744 -->\n<g id=\"edge25\" class=\"edge\">\n<title>140601424771560&#45;&gt;140601427552744</title>\n<path fill=\"none\" stroke=\"#000000\" d=\"M783.1318,-825.7599C905.3269,-817.6553 1112.6394,-795.9062 1281,-738 1284.0565,-736.9488 1287.1356,-735.7814 1290.212,-734.5248\"/>\n<polygon fill=\"#000000\" stroke=\"#000000\" points=\"1291.6408,-737.7201 1299.4078,-730.5143 1288.8424,-731.3038 1291.6408,-737.7201\"/>\n<text text-anchor=\"middle\" x=\"1223\" y=\"-759.8\" font-family=\"Times,serif\" font-size=\"14.00\" fill=\"#000000\">y</text>\n</g>\n<!-- 140601425578864 -->\n<g id=\"node8\" class=\"node\">\n<title>140601425578864</title>\n<polygon fill=\"#e41a1c\" stroke=\"#000000\" stroke-width=\".5\" points=\"270,-528.5 396,-528.5 396,-596.5 270,-596.5 270,-528.5\"/>\n<polygon fill=\"none\" stroke=\"#000000\" points=\"396,-596.5 270,-596.5 270,-528.5 396,-528.5 396,-596.5\"/>\n<text text-anchor=\"middle\" x=\"333\" y=\"-581.3\" font-family=\"Times,serif\" font-size=\"14.00\" fill=\"#000000\">e:1.000</text>\n<text text-anchor=\"middle\" x=\"333\" y=\"-566.3\" font-family=\"Times,serif\" font-size=\"14.00\" fill=\"#000000\">num_samples = 48</text>\n<text text-anchor=\"middle\" x=\"333\" y=\"-551.3\" font-family=\"Times,serif\" font-size=\"14.00\" fill=\"#000000\">entropy = &#45;0.0</text>\n<text text-anchor=\"middle\" x=\"333\" y=\"-536.3\" font-family=\"Times,serif\" font-size=\"14.00\" fill=\"#000000\">gini = 0.0</text>\n</g>\n<!-- 140601424742384&#45;&gt;140601425578864 -->\n<g id=\"edge6\" class=\"edge\">\n<title>140601424742384&#45;&gt;140601425578864</title>\n<path fill=\"none\" stroke=\"#000000\" d=\"M760.2299,-657.3271C757.1322,-656.4996 754.0509,-655.7208 751,-655 681.3574,-638.5469 661.821,-647.2556 591,-637 507.909,-624.9676 483.8895,-632.7285 405,-604 402.42,-603.0605 399.8256,-602.0312 397.2334,-600.9309\"/>\n<polygon fill=\"#000000\" stroke=\"#000000\" points=\"398.4363,-597.6328 387.8855,-596.6686 395.5322,-604.002 398.4363,-597.6328\"/>\n<text text-anchor=\"middle\" x=\"595\" y=\"-625.8\" font-family=\"Times,serif\" font-size=\"14.00\" fill=\"#000000\">b</text>\n</g>\n<!-- 140601425579200 -->\n<g id=\"node9\" class=\"node\">\n<title>140601425579200</title>\n<polygon fill=\"#e41a1c\" stroke=\"#000000\" stroke-width=\".5\" points=\"414,-528.5 540,-528.5 540,-596.5 414,-596.5 414,-528.5\"/>\n<polygon fill=\"none\" stroke=\"#000000\" points=\"540,-596.5 414,-596.5 414,-528.5 540,-528.5 540,-596.5\"/>\n<text text-anchor=\"middle\" x=\"477\" y=\"-581.3\" font-family=\"Times,serif\" font-size=\"14.00\" fill=\"#000000\">e:1.000</text>\n<text text-anchor=\"middle\" x=\"477\" y=\"-566.3\" font-family=\"Times,serif\" font-size=\"14.00\" fill=\"#000000\">num_samples = 48</text>\n<text text-anchor=\"middle\" x=\"477\" y=\"-551.3\" font-family=\"Times,serif\" font-size=\"14.00\" fill=\"#000000\">entropy = &#45;0.0</text>\n<text text-anchor=\"middle\" x=\"477\" y=\"-536.3\" font-family=\"Times,serif\" font-size=\"14.00\" fill=\"#000000\">gini = 0.0</text>\n</g>\n<!-- 140601424742384&#45;&gt;140601425579200 -->\n<g id=\"edge7\" class=\"edge\">\n<title>140601424742384&#45;&gt;140601425579200</title>\n<path fill=\"none\" stroke=\"#000000\" d=\"M760.3874,-657.9697C757.2296,-656.9487 754.095,-655.9562 751,-655 662.5307,-627.6685 634.8137,-638.7828 549,-604 546.6601,-603.0516 544.3036,-602.0388 541.9437,-600.9751\"/>\n<polygon fill=\"#000000\" stroke=\"#000000\" points=\"543.3865,-597.7856 532.853,-596.647 540.3774,-604.1059 543.3865,-597.7856\"/>\n<text text-anchor=\"middle\" x=\"678\" y=\"-625.8\" font-family=\"Times,serif\" font-size=\"14.00\" fill=\"#000000\">h</text>\n</g>\n<!-- 140601425579480 -->\n<g id=\"node10\" class=\"node\">\n<title>140601425579480</title>\n<polygon fill=\"#e41a1c\" stroke=\"#000000\" stroke-width=\".5\" points=\"558.5,-528.5 699.5,-528.5 699.5,-596.5 558.5,-596.5 558.5,-528.5\"/>\n<polygon fill=\"none\" stroke=\"#000000\" points=\"699.5,-596.5 558.5,-596.5 558.5,-528.5 699.5,-528.5 699.5,-596.5\"/>\n<text text-anchor=\"middle\" x=\"629\" y=\"-581.3\" font-family=\"Times,serif\" font-size=\"14.00\" fill=\"#000000\">e:1.000</text>\n<text text-anchor=\"middle\" x=\"629\" y=\"-566.3\" font-family=\"Times,serif\" font-size=\"14.00\" fill=\"#000000\">num_samples = 1296</text>\n<text text-anchor=\"middle\" x=\"629\" y=\"-551.3\" font-family=\"Times,serif\" font-size=\"14.00\" fill=\"#000000\">entropy = &#45;0.0</text>\n<text text-anchor=\"middle\" x=\"629\" y=\"-536.3\" font-family=\"Times,serif\" font-size=\"14.00\" fill=\"#000000\">gini = 0.0</text>\n</g>\n<!-- 140601424742384&#45;&gt;140601425579480 -->\n<g id=\"edge8\" class=\"edge\">\n<title>140601424742384&#45;&gt;140601425579480</title>\n<path fill=\"none\" stroke=\"#000000\" d=\"M790.9327,-654.8361C761.1392,-637.8475 726.876,-618.3102 697.5612,-601.5944\"/>\n<polygon fill=\"#000000\" stroke=\"#000000\" points=\"699.0534,-598.4164 688.6327,-596.5033 695.586,-604.4973 699.0534,-598.4164\"/>\n<text text-anchor=\"middle\" x=\"758\" y=\"-625.8\" font-family=\"Times,serif\" font-size=\"14.00\" fill=\"#000000\">k</text>\n</g>\n<!-- 140601425579816 -->\n<g id=\"node11\" class=\"node\">\n<title>140601425579816</title>\n<polygon fill=\"#e41a1c\" stroke=\"#000000\" stroke-width=\".5\" points=\"717.5,-528.5 858.5,-528.5 858.5,-596.5 717.5,-596.5 717.5,-528.5\"/>\n<polygon fill=\"none\" stroke=\"#000000\" points=\"858.5,-596.5 717.5,-596.5 717.5,-528.5 858.5,-528.5 858.5,-596.5\"/>\n<text text-anchor=\"middle\" x=\"788\" y=\"-581.3\" font-family=\"Times,serif\" font-size=\"14.00\" fill=\"#000000\">e:1.000</text>\n<text text-anchor=\"middle\" x=\"788\" y=\"-566.3\" font-family=\"Times,serif\" font-size=\"14.00\" fill=\"#000000\">num_samples = 1344</text>\n<text text-anchor=\"middle\" x=\"788\" y=\"-551.3\" font-family=\"Times,serif\" font-size=\"14.00\" fill=\"#000000\">entropy = &#45;0.0</text>\n<text text-anchor=\"middle\" x=\"788\" y=\"-536.3\" font-family=\"Times,serif\" font-size=\"14.00\" fill=\"#000000\">gini = 0.0</text>\n</g>\n<!-- 140601424742384&#45;&gt;140601425579816 -->\n<g id=\"edge9\" class=\"edge\">\n<title>140601424742384&#45;&gt;140601425579816</title>\n<path fill=\"none\" stroke=\"#000000\" d=\"M840.3697,-654.8361C831.482,-639.1656 821.3643,-621.3265 812.4071,-605.5336\"/>\n<polygon fill=\"#000000\" stroke=\"#000000\" points=\"815.2634,-603.475 807.2855,-596.5033 809.1745,-606.9284 815.2634,-603.475\"/>\n<text text-anchor=\"middle\" x=\"833\" y=\"-625.8\" font-family=\"Times,serif\" font-size=\"14.00\" fill=\"#000000\">n</text>\n</g>\n<!-- 140601425576624 -->\n<g id=\"node12\" class=\"node\">\n<title>140601425576624</title>\n<polygon fill=\"#e41a1c\" stroke=\"#000000\" stroke-width=\".5\" points=\"877,-528.5 1003,-528.5 1003,-596.5 877,-596.5 877,-528.5\"/>\n<polygon fill=\"none\" stroke=\"#000000\" points=\"1003,-596.5 877,-596.5 877,-528.5 1003,-528.5 1003,-596.5\"/>\n<text text-anchor=\"middle\" x=\"940\" y=\"-581.3\" font-family=\"Times,serif\" font-size=\"14.00\" fill=\"#000000\">e:1.000</text>\n<text text-anchor=\"middle\" x=\"940\" y=\"-566.3\" font-family=\"Times,serif\" font-size=\"14.00\" fill=\"#000000\">num_samples = 48</text>\n<text text-anchor=\"middle\" x=\"940\" y=\"-551.3\" font-family=\"Times,serif\" font-size=\"14.00\" fill=\"#000000\">entropy = &#45;0.0</text>\n<text text-anchor=\"middle\" x=\"940\" y=\"-536.3\" font-family=\"Times,serif\" font-size=\"14.00\" fill=\"#000000\">gini = 0.0</text>\n</g>\n<!-- 140601424742384&#45;&gt;140601425576624 -->\n<g id=\"edge10\" class=\"edge\">\n<title>140601424742384&#45;&gt;140601425576624</title>\n<path fill=\"none\" stroke=\"#000000\" d=\"M887.6303,-654.8361C896.518,-639.1656 906.6357,-621.3265 915.5929,-605.5336\"/>\n<polygon fill=\"#000000\" stroke=\"#000000\" points=\"918.8255,-606.9284 920.7145,-596.5033 912.7366,-603.475 918.8255,-606.9284\"/>\n<text text-anchor=\"middle\" x=\"909\" y=\"-625.8\" font-family=\"Times,serif\" font-size=\"14.00\" fill=\"#000000\">o</text>\n</g>\n<!-- 140601425579032 -->\n<g id=\"node13\" class=\"node\">\n<title>140601425579032</title>\n<polygon fill=\"#377eb8\" stroke=\"#000000\" stroke-width=\".5\" points=\"1021,-528.5 1147,-528.5 1147,-596.5 1021,-596.5 1021,-528.5\"/>\n<polygon fill=\"none\" stroke=\"#000000\" points=\"1147,-596.5 1021,-596.5 1021,-528.5 1147,-528.5 1147,-596.5\"/>\n<text text-anchor=\"middle\" x=\"1084\" y=\"-581.3\" font-family=\"Times,serif\" font-size=\"14.00\" fill=\"#000000\">p:1.000</text>\n<text text-anchor=\"middle\" x=\"1084\" y=\"-566.3\" font-family=\"Times,serif\" font-size=\"14.00\" fill=\"#000000\">num_samples = 72</text>\n<text text-anchor=\"middle\" x=\"1084\" y=\"-551.3\" font-family=\"Times,serif\" font-size=\"14.00\" fill=\"#000000\">entropy = &#45;0.0</text>\n<text text-anchor=\"middle\" x=\"1084\" y=\"-536.3\" font-family=\"Times,serif\" font-size=\"14.00\" fill=\"#000000\">gini = 0.0</text>\n</g>\n<!-- 140601424742384&#45;&gt;140601425579032 -->\n<g id=\"edge11\" class=\"edge\">\n<title>140601424742384&#45;&gt;140601425579032</title>\n<path fill=\"none\" stroke=\"#000000\" d=\"M932.4034,-654.8361C960.175,-637.9207 992.0949,-618.4785 1019.46,-601.8108\"/>\n<polygon fill=\"#000000\" stroke=\"#000000\" points=\"1021.4538,-604.6945 1028.1736,-596.5033 1017.8124,-598.7161 1021.4538,-604.6945\"/>\n<text text-anchor=\"middle\" x=\"983.5\" y=\"-625.8\" font-family=\"Times,serif\" font-size=\"14.00\" fill=\"#000000\">r</text>\n</g>\n<!-- 140601424947352 -->\n<g id=\"node14\" class=\"node\">\n<title>140601424947352</title>\n<polygon fill=\"#e41a1c\" stroke=\"#000000\" stroke-width=\".5\" points=\"1165.5,-521 1363.9615,-521 1363.9615,-604 1165.5,-604 1165.5,-521\"/>\n<polygon fill=\"#377eb8\" stroke=\"#000000\" stroke-width=\".5\" points=\"1363.9615,-521 1380.5,-521 1380.5,-604 1363.9615,-604 1363.9615,-521\"/>\n<polygon fill=\"none\" stroke=\"#000000\" points=\"1380.5,-604 1165.5,-604 1165.5,-521 1380.5,-521 1380.5,-604\"/>\n<text text-anchor=\"middle\" x=\"1273\" y=\"-588.8\" font-family=\"Times,serif\" font-size=\"14.00\" fill=\"#000000\">e:0.923 p:0.077</text>\n<text text-anchor=\"middle\" x=\"1273\" y=\"-573.8\" font-family=\"Times,serif\" font-size=\"14.00\" fill=\"#000000\">num_samples = 624</text>\n<text text-anchor=\"middle\" x=\"1273\" y=\"-558.8\" font-family=\"Times,serif\" font-size=\"14.00\" fill=\"#000000\">entropy = 0.39124356362925566</text>\n<text text-anchor=\"middle\" x=\"1273\" y=\"-543.8\" font-family=\"Times,serif\" font-size=\"14.00\" fill=\"#000000\">gini = 0.14201183431952646</text>\n<text text-anchor=\"middle\" x=\"1273\" y=\"-528.8\" font-family=\"Times,serif\" font-size=\"14.00\" fill=\"#000000\">split by: veil&#45;color</text>\n</g>\n<!-- 140601424742384&#45;&gt;140601424947352 -->\n<g id=\"edge20\" class=\"edge\">\n<title>140601424742384&#45;&gt;140601424947352</title>\n<path fill=\"none\" stroke=\"#000000\" d=\"M967.6518,-658.0933C970.7983,-657.0365 973.9198,-656.0029 977,-655 1052.7385,-630.3405 1075.5239,-629.2237 1155.8016,-604.0001\"/>\n<polygon fill=\"#000000\" stroke=\"#000000\" points=\"1156.8714,-607.3327 1165.3457,-600.9737 1154.7555,-600.6601 1156.8714,-607.3327\"/>\n<text text-anchor=\"middle\" x=\"1100.5\" y=\"-625.8\" font-family=\"Times,serif\" font-size=\"14.00\" fill=\"#000000\">w</text>\n</g>\n<!-- 140601427072056 -->\n<g id=\"node23\" class=\"node\">\n<title>140601427072056</title>\n<polygon fill=\"#e41a1c\" stroke=\"#000000\" stroke-width=\".5\" points=\"1399,-528.5 1525,-528.5 1525,-596.5 1399,-596.5 1399,-528.5\"/>\n<polygon fill=\"none\" stroke=\"#000000\" points=\"1525,-596.5 1399,-596.5 1399,-528.5 1525,-528.5 1525,-596.5\"/>\n<text text-anchor=\"middle\" x=\"1462\" y=\"-581.3\" font-family=\"Times,serif\" font-size=\"14.00\" fill=\"#000000\">e:1.000</text>\n<text text-anchor=\"middle\" x=\"1462\" y=\"-566.3\" font-family=\"Times,serif\" font-size=\"14.00\" fill=\"#000000\">num_samples = 48</text>\n<text text-anchor=\"middle\" x=\"1462\" y=\"-551.3\" font-family=\"Times,serif\" font-size=\"14.00\" fill=\"#000000\">entropy = &#45;0.0</text>\n<text text-anchor=\"middle\" x=\"1462\" y=\"-536.3\" font-family=\"Times,serif\" font-size=\"14.00\" fill=\"#000000\">gini = 0.0</text>\n</g>\n<!-- 140601424742384&#45;&gt;140601427072056 -->\n<g id=\"edge21\" class=\"edge\">\n<title>140601424742384&#45;&gt;140601427072056</title>\n<path fill=\"none\" stroke=\"#000000\" d=\"M967.7806,-657.371C970.8752,-656.5307 973.9531,-655.7373 977,-655 1066.8809,-633.2508 1302.3034,-633.3414 1390,-604 1392.916,-603.0244 1395.8456,-601.9235 1398.7661,-600.7251\"/>\n<polygon fill=\"#000000\" stroke=\"#000000\" points=\"1400.3227,-603.8634 1408.0355,-596.5995 1397.4763,-597.4682 1400.3227,-603.8634\"/>\n<text text-anchor=\"middle\" x=\"1293\" y=\"-625.8\" font-family=\"Times,serif\" font-size=\"14.00\" fill=\"#000000\">y</text>\n</g>\n<!-- 140601427310800 -->\n<g id=\"node15\" class=\"node\">\n<title>140601427310800</title>\n<polygon fill=\"#e41a1c\" stroke=\"#000000\" stroke-width=\".5\" points=\"1041,-387 1235.4935,-387 1235.4935,-470 1041,-470 1041,-387\"/>\n<polygon fill=\"#377eb8\" stroke=\"#000000\" stroke-width=\".5\" points=\"1235.4935,-387 1249,-387 1249,-470 1235.4935,-470 1235.4935,-387\"/>\n<polygon fill=\"none\" stroke=\"#000000\" points=\"1249,-470 1041,-470 1041,-387 1249,-387 1249,-470\"/>\n<text text-anchor=\"middle\" x=\"1145\" y=\"-454.8\" font-family=\"Times,serif\" font-size=\"14.00\" fill=\"#000000\">e:0.935 p:0.065</text>\n<text text-anchor=\"middle\" x=\"1145\" y=\"-439.8\" font-family=\"Times,serif\" font-size=\"14.00\" fill=\"#000000\">num_samples = 616</text>\n<text text-anchor=\"middle\" x=\"1145\" y=\"-424.8\" font-family=\"Times,serif\" font-size=\"14.00\" fill=\"#000000\">entropy = 0.3467314682496637</text>\n<text text-anchor=\"middle\" x=\"1145\" y=\"-409.8\" font-family=\"Times,serif\" font-size=\"14.00\" fill=\"#000000\">gini = 0.12143700455388773</text>\n<text text-anchor=\"middle\" x=\"1145\" y=\"-394.8\" font-family=\"Times,serif\" font-size=\"14.00\" fill=\"#000000\">split by: gill&#45;size</text>\n</g>\n<!-- 140601424947352&#45;&gt;140601427310800 -->\n<g id=\"edge18\" class=\"edge\">\n<title>140601424947352&#45;&gt;140601427310800</title>\n<path fill=\"none\" stroke=\"#000000\" d=\"M1233.2016,-520.8361C1220.0778,-507.0971 1205.3617,-491.6911 1191.7666,-477.4587\"/>\n<polygon fill=\"#000000\" stroke=\"#000000\" points=\"1194.212,-474.9517 1184.7737,-470.1381 1189.1502,-479.7868 1194.212,-474.9517\"/>\n<text text-anchor=\"middle\" x=\"1218.5\" y=\"-491.8\" font-family=\"Times,serif\" font-size=\"14.00\" fill=\"#000000\">w</text>\n</g>\n<!-- 140601427074016 -->\n<g id=\"node22\" class=\"node\">\n<title>140601427074016</title>\n<polygon fill=\"#377eb8\" stroke=\"#000000\" stroke-width=\".5\" points=\"1267.5,-394.5 1386.5,-394.5 1386.5,-462.5 1267.5,-462.5 1267.5,-394.5\"/>\n<polygon fill=\"none\" stroke=\"#000000\" points=\"1386.5,-462.5 1267.5,-462.5 1267.5,-394.5 1386.5,-394.5 1386.5,-462.5\"/>\n<text text-anchor=\"middle\" x=\"1327\" y=\"-447.3\" font-family=\"Times,serif\" font-size=\"14.00\" fill=\"#000000\">p:1.000</text>\n<text text-anchor=\"middle\" x=\"1327\" y=\"-432.3\" font-family=\"Times,serif\" font-size=\"14.00\" fill=\"#000000\">num_samples = 8</text>\n<text text-anchor=\"middle\" x=\"1327\" y=\"-417.3\" font-family=\"Times,serif\" font-size=\"14.00\" fill=\"#000000\">entropy = &#45;0.0</text>\n<text text-anchor=\"middle\" x=\"1327\" y=\"-402.3\" font-family=\"Times,serif\" font-size=\"14.00\" fill=\"#000000\">gini = 0.0</text>\n</g>\n<!-- 140601424947352&#45;&gt;140601427074016 -->\n<g id=\"edge19\" class=\"edge\">\n<title>140601424947352&#45;&gt;140601427074016</title>\n<path fill=\"none\" stroke=\"#000000\" d=\"M1289.7899,-520.8361C1296.0459,-505.312 1303.1595,-487.6597 1309.4794,-471.9769\"/>\n<polygon fill=\"#000000\" stroke=\"#000000\" points=\"1312.8057,-473.0868 1313.2972,-462.5033 1306.313,-470.4703 1312.8057,-473.0868\"/>\n<text text-anchor=\"middle\" x=\"1306\" y=\"-491.8\" font-family=\"Times,serif\" font-size=\"14.00\" fill=\"#000000\">y</text>\n</g>\n<!-- 140601425297480 -->\n<g id=\"node16\" class=\"node\">\n<title>140601425297480</title>\n<polygon fill=\"#e41a1c\" stroke=\"#000000\" stroke-width=\".5\" points=\"1063,-260.5 1197,-260.5 1197,-328.5 1063,-328.5 1063,-260.5\"/>\n<polygon fill=\"none\" stroke=\"#000000\" points=\"1197,-328.5 1063,-328.5 1063,-260.5 1197,-260.5 1197,-328.5\"/>\n<text text-anchor=\"middle\" x=\"1130\" y=\"-313.3\" font-family=\"Times,serif\" font-size=\"14.00\" fill=\"#000000\">e:1.000</text>\n<text text-anchor=\"middle\" x=\"1130\" y=\"-298.3\" font-family=\"Times,serif\" font-size=\"14.00\" fill=\"#000000\">num_samples = 528</text>\n<text text-anchor=\"middle\" x=\"1130\" y=\"-283.3\" font-family=\"Times,serif\" font-size=\"14.00\" fill=\"#000000\">entropy = &#45;0.0</text>\n<text text-anchor=\"middle\" x=\"1130\" y=\"-268.3\" font-family=\"Times,serif\" font-size=\"14.00\" fill=\"#000000\">gini = 0.0</text>\n</g>\n<!-- 140601427310800&#45;&gt;140601425297480 -->\n<g id=\"edge12\" class=\"edge\">\n<title>140601427310800&#45;&gt;140601425297480</title>\n<path fill=\"none\" stroke=\"#000000\" d=\"M1140.3361,-386.8361C1138.6311,-371.6049 1136.6968,-354.3251 1134.9664,-338.8667\"/>\n<polygon fill=\"#000000\" stroke=\"#000000\" points=\"1138.3972,-338.0519 1133.8063,-328.5033 1131.4406,-338.8307 1138.3972,-338.0519\"/>\n<text text-anchor=\"middle\" x=\"1142\" y=\"-357.8\" font-family=\"Times,serif\" font-size=\"14.00\" fill=\"#000000\">b</text>\n</g>\n<!-- 140601425300056 -->\n<g id=\"node17\" class=\"node\">\n<title>140601425300056</title>\n<polygon fill=\"#e41a1c\" stroke=\"#000000\" stroke-width=\".5\" points=\"1215.5,-253 1328.4091,-253 1328.4091,-336 1215.5,-336 1215.5,-253\"/>\n<polygon fill=\"#377eb8\" stroke=\"#000000\" stroke-width=\".5\" points=\"1328.4091,-253 1422.5,-253 1422.5,-336 1328.4091,-336 1328.4091,-253\"/>\n<polygon fill=\"none\" stroke=\"#000000\" points=\"1422.5,-336 1215.5,-336 1215.5,-253 1422.5,-253 1422.5,-336\"/>\n<text text-anchor=\"middle\" x=\"1319\" y=\"-320.8\" font-family=\"Times,serif\" font-size=\"14.00\" fill=\"#000000\">e:0.545 p:0.455</text>\n<text text-anchor=\"middle\" x=\"1319\" y=\"-305.8\" font-family=\"Times,serif\" font-size=\"14.00\" fill=\"#000000\">num_samples = 88</text>\n<text text-anchor=\"middle\" x=\"1319\" y=\"-290.8\" font-family=\"Times,serif\" font-size=\"14.00\" fill=\"#000000\">entropy = 0.9940302114769565</text>\n<text text-anchor=\"middle\" x=\"1319\" y=\"-275.8\" font-family=\"Times,serif\" font-size=\"14.00\" fill=\"#000000\">gini = 0.49586776859504145</text>\n<text text-anchor=\"middle\" x=\"1319\" y=\"-260.8\" font-family=\"Times,serif\" font-size=\"14.00\" fill=\"#000000\">split by: gill&#45;spacing</text>\n</g>\n<!-- 140601427310800&#45;&gt;140601425300056 -->\n<g id=\"edge17\" class=\"edge\">\n<title>140601427310800&#45;&gt;140601425300056</title>\n<path fill=\"none\" stroke=\"#000000\" d=\"M1199.1009,-386.8361C1217.4321,-372.7189 1238.0487,-356.8418 1256.9491,-342.2863\"/>\n<polygon fill=\"#000000\" stroke=\"#000000\" points=\"1259.1452,-345.0127 1264.9326,-336.1381 1254.8742,-339.4667 1259.1452,-345.0127\"/>\n<text text-anchor=\"middle\" x=\"1242\" y=\"-357.8\" font-family=\"Times,serif\" font-size=\"14.00\" fill=\"#000000\">n</text>\n</g>\n<!-- 140601425364808 -->\n<g id=\"node18\" class=\"node\">\n<title>140601425364808</title>\n<polygon fill=\"#377eb8\" stroke=\"#000000\" stroke-width=\".5\" points=\"1202,-126.5 1328,-126.5 1328,-194.5 1202,-194.5 1202,-126.5\"/>\n<polygon fill=\"none\" stroke=\"#000000\" points=\"1328,-194.5 1202,-194.5 1202,-126.5 1328,-126.5 1328,-194.5\"/>\n<text text-anchor=\"middle\" x=\"1265\" y=\"-179.3\" font-family=\"Times,serif\" font-size=\"14.00\" fill=\"#000000\">p:1.000</text>\n<text text-anchor=\"middle\" x=\"1265\" y=\"-164.3\" font-family=\"Times,serif\" font-size=\"14.00\" fill=\"#000000\">num_samples = 32</text>\n<text text-anchor=\"middle\" x=\"1265\" y=\"-149.3\" font-family=\"Times,serif\" font-size=\"14.00\" fill=\"#000000\">entropy = &#45;0.0</text>\n<text text-anchor=\"middle\" x=\"1265\" y=\"-134.3\" font-family=\"Times,serif\" font-size=\"14.00\" fill=\"#000000\">gini = 0.0</text>\n</g>\n<!-- 140601425300056&#45;&gt;140601425364808 -->\n<g id=\"edge13\" class=\"edge\">\n<title>140601425300056&#45;&gt;140601425364808</title>\n<path fill=\"none\" stroke=\"#000000\" d=\"M1302.2101,-252.8361C1295.9541,-237.312 1288.8405,-219.6597 1282.5206,-203.9769\"/>\n<polygon fill=\"#000000\" stroke=\"#000000\" points=\"1285.687,-202.4703 1278.7028,-194.5033 1279.1943,-205.0868 1285.687,-202.4703\"/>\n<text text-anchor=\"middle\" x=\"1297.5\" y=\"-223.8\" font-family=\"Times,serif\" font-size=\"14.00\" fill=\"#000000\">c</text>\n</g>\n<!-- 140601425365144 -->\n<g id=\"node19\" class=\"node\">\n<title>140601425365144</title>\n<polygon fill=\"#e41a1c\" stroke=\"#000000\" stroke-width=\".5\" points=\"1346,-119 1524.2857,-119 1524.2857,-202 1346,-202 1346,-119\"/>\n<polygon fill=\"#377eb8\" stroke=\"#000000\" stroke-width=\".5\" points=\"1524.2857,-119 1554,-119 1554,-202 1524.2857,-202 1524.2857,-119\"/>\n<polygon fill=\"none\" stroke=\"#000000\" points=\"1554,-202 1346,-202 1346,-119 1554,-119 1554,-202\"/>\n<text text-anchor=\"middle\" x=\"1450\" y=\"-186.8\" font-family=\"Times,serif\" font-size=\"14.00\" fill=\"#000000\">e:0.857 p:0.143</text>\n<text text-anchor=\"middle\" x=\"1450\" y=\"-171.8\" font-family=\"Times,serif\" font-size=\"14.00\" fill=\"#000000\">num_samples = 56</text>\n<text text-anchor=\"middle\" x=\"1450\" y=\"-156.8\" font-family=\"Times,serif\" font-size=\"14.00\" fill=\"#000000\">entropy = 0.5916727785823275</text>\n<text text-anchor=\"middle\" x=\"1450\" y=\"-141.8\" font-family=\"Times,serif\" font-size=\"14.00\" fill=\"#000000\">gini = 0.24489795918367352</text>\n<text text-anchor=\"middle\" x=\"1450\" y=\"-126.8\" font-family=\"Times,serif\" font-size=\"14.00\" fill=\"#000000\">split by: bruises?</text>\n</g>\n<!-- 140601425300056&#45;&gt;140601425365144 -->\n<g id=\"edge16\" class=\"edge\">\n<title>140601425300056&#45;&gt;140601425365144</title>\n<path fill=\"none\" stroke=\"#000000\" d=\"M1359.7311,-252.8361C1373.1626,-239.0971 1388.2236,-223.6911 1402.1374,-209.4587\"/>\n<polygon fill=\"#000000\" stroke=\"#000000\" points=\"1404.8062,-211.7355 1409.2941,-202.1381 1399.8007,-206.8421 1404.8062,-211.7355\"/>\n<text text-anchor=\"middle\" x=\"1393.5\" y=\"-223.8\" font-family=\"Times,serif\" font-size=\"14.00\" fill=\"#000000\">w</text>\n</g>\n<!-- 140601425432760 -->\n<g id=\"node20\" class=\"node\">\n<title>140601425432760</title>\n<polygon fill=\"#e41a1c\" stroke=\"#000000\" stroke-width=\".5\" points=\"1317,0 1443,0 1443,-68 1317,-68 1317,0\"/>\n<polygon fill=\"none\" stroke=\"#000000\" points=\"1443,-68 1317,-68 1317,0 1443,0 1443,-68\"/>\n<text text-anchor=\"middle\" x=\"1380\" y=\"-52.8\" font-family=\"Times,serif\" font-size=\"14.00\" fill=\"#000000\">e:1.000</text>\n<text text-anchor=\"middle\" x=\"1380\" y=\"-37.8\" font-family=\"Times,serif\" font-size=\"14.00\" fill=\"#000000\">num_samples = 48</text>\n<text text-anchor=\"middle\" x=\"1380\" y=\"-22.8\" font-family=\"Times,serif\" font-size=\"14.00\" fill=\"#000000\">entropy = &#45;0.0</text>\n<text text-anchor=\"middle\" x=\"1380\" y=\"-7.8\" font-family=\"Times,serif\" font-size=\"14.00\" fill=\"#000000\">gini = 0.0</text>\n</g>\n<!-- 140601425365144&#45;&gt;140601425432760 -->\n<g id=\"edge14\" class=\"edge\">\n<title>140601425365144&#45;&gt;140601425432760</title>\n<path fill=\"none\" stroke=\"#000000\" d=\"M1426.8854,-118.7286C1419.5081,-105.3969 1411.3315,-90.6205 1403.8997,-77.1902\"/>\n<polygon fill=\"#000000\" stroke=\"#000000\" points=\"1406.7968,-75.1967 1398.8926,-68.1416 1400.672,-78.5859 1406.7968,-75.1967\"/>\n<text text-anchor=\"middle\" x=\"1417.5\" y=\"-89.8\" font-family=\"Times,serif\" font-size=\"14.00\" fill=\"#000000\">f</text>\n</g>\n<!-- 140601425433208 -->\n<g id=\"node21\" class=\"node\">\n<title>140601425433208</title>\n<polygon fill=\"#377eb8\" stroke=\"#000000\" stroke-width=\".5\" points=\"1461.5,0 1580.5,0 1580.5,-68 1461.5,-68 1461.5,0\"/>\n<polygon fill=\"none\" stroke=\"#000000\" points=\"1580.5,-68 1461.5,-68 1461.5,0 1580.5,0 1580.5,-68\"/>\n<text text-anchor=\"middle\" x=\"1521\" y=\"-52.8\" font-family=\"Times,serif\" font-size=\"14.00\" fill=\"#000000\">p:1.000</text>\n<text text-anchor=\"middle\" x=\"1521\" y=\"-37.8\" font-family=\"Times,serif\" font-size=\"14.00\" fill=\"#000000\">num_samples = 8</text>\n<text text-anchor=\"middle\" x=\"1521\" y=\"-22.8\" font-family=\"Times,serif\" font-size=\"14.00\" fill=\"#000000\">entropy = &#45;0.0</text>\n<text text-anchor=\"middle\" x=\"1521\" y=\"-7.8\" font-family=\"Times,serif\" font-size=\"14.00\" fill=\"#000000\">gini = 0.0</text>\n</g>\n<!-- 140601425365144&#45;&gt;140601425433208 -->\n<g id=\"edge15\" class=\"edge\">\n<title>140601425365144&#45;&gt;140601425433208</title>\n<path fill=\"none\" stroke=\"#000000\" d=\"M1473.4448,-118.7286C1480.9275,-105.3969 1489.2209,-90.6205 1496.7589,-77.1902\"/>\n<polygon fill=\"#000000\" stroke=\"#000000\" points=\"1499.9952,-78.575 1501.8375,-68.1416 1493.8909,-75.1489 1499.9952,-78.575\"/>\n<text text-anchor=\"middle\" x=\"1491\" y=\"-89.8\" font-family=\"Times,serif\" font-size=\"14.00\" fill=\"#000000\">t</text>\n</g>\n</g>\n</svg>\n"
          },
          "metadata": {
            "tags": []
          },
          "execution_count": 25
        }
      ]
    },
    {
      "cell_type": "markdown",
      "metadata": {
        "id": "IeCqP2qAV3_i"
      },
      "source": [
        "#### Questions:\n"
      ]
    },
    {
      "cell_type": "markdown",
      "metadata": {
        "id": "Q0Kv-kB99PkQ"
      },
      "source": [
        "**Answer the questions below**\n",
        "1. How many samples are classified correctly by a tree with only one split?\n",
        "2. Is the tree different when different purity functions are used?\n"
      ]
    },
    {
      "cell_type": "markdown",
      "metadata": {
        "id": "y8Lak7IGR5yB"
      },
      "source": [
        "1. Tree with only one split classifies correctly about 8004 out of 8124 samples. \n",
        "2. Trees differ for different purity functions. For mean_err_rate splits on lower part of the tree are completely different than for gini or entropy.\n",
        "Tree created using infogain ratio promotes splits that create less subtrees (differences also occur in the lower part of the tree).\n"
      ]
    },
    {
      "cell_type": "markdown",
      "metadata": {
        "id": "GABxeo7x2agz"
      },
      "source": [
        "## Decision Tree Task 3: Numerical Splits [1p]\n",
        "A numerical split requires to search for the best threshold. Implement the selection of splits for numerical attributes below."
      ]
    },
    {
      "cell_type": "code",
      "metadata": {
        "id": "4dqmM69UE64U"
      },
      "source": [
        "class NumericalSplit(AbstractSplit):\n",
        "    def __init__(self, attr, th):\n",
        "        super(NumericalSplit, self).__init__(attr)\n",
        "        self.th = th\n",
        "\n",
        "    def build_subtrees(self, df, subtree_kwargs):\n",
        "        self.subtrees = (\n",
        "            Tree(df[df[self.attr] <= self.th], **subtree_kwargs),\n",
        "            Tree(df[df[self.attr] > self.th], **subtree_kwargs),\n",
        "        )\n",
        "\n",
        "    def __call__(self, x):\n",
        "        # return the sobtree for the data sample `x`\n",
        "        if x[self.attr] <= self.th:\n",
        "            return self.subtrees[0]\n",
        "        else:\n",
        "            return self.subtrees[1]\n",
        "\n",
        "\n",
        "    def __str__(self):\n",
        "        return f\"NumericalSplit: {self.attr} <= {self.th}\"\n",
        "\n",
        "    def iter_subtrees(self):\n",
        "        return self.subtrees\n",
        "\n",
        "    def add_to_graphviz(self, dot, parent, print_info):\n",
        "        self.subtrees[0].add_to_graphviz(dot, print_info)\n",
        "        dot.edge(f\"{id(parent)}\", f\"{id(self.subtrees[0])}\", label=f\"<= {self.th:.2f}\")\n",
        "        self.subtrees[1].add_to_graphviz(dot, print_info)\n",
        "        dot.edge(f\"{id(parent)}\", f\"{id(self.subtrees[1])}\", label=f\"> {self.th:.2f}\")\n",
        "\n",
        "\n",
        "def get_numerical_split_and_purity(\n",
        "    df, parent_purity, purity_fun, attr, normalize_by_split_entropy=False\n",
        "):\n",
        "    \"\"\"Find best split thereshold and compute the average purity after a split.\n",
        "    Args:\n",
        "        df: a dataframe\n",
        "        parent_purity: purity of the parent node\n",
        "        purity_fun: function to compute the purity\n",
        "        attr: attribute over whihc to split the dataframe\n",
        "        normalize_by_split_entropy: if True, divide the purity gain by the split\n",
        "            entropy (to compute https://en.wikipedia.org/wiki/Information_gain_ratio)\n",
        "    \n",
        "    Returns:\n",
        "        pair of (split, purity_gain)\n",
        "    \"\"\"\n",
        "    attr_df = df[[attr, \"target\"]].sort_values(attr)\n",
        "    targets = attr_df[\"target\"]\n",
        "    values = attr_df[attr]\n",
        "    # Start with a split that puts all the samples into the right subtree\n",
        "    right_counts = targets.value_counts()\n",
        "    left_counts = right_counts * 0\n",
        "\n",
        "    best_split = None  # Will be None, or NumericalSplit(attr, best_threshold)\n",
        "    best_purity_gain = -1\n",
        "    N = len(attr_df)\n",
        "    for row_i in range(N - 1):\n",
        "        # Update the counts of targets in the left and right subtree and compute\n",
        "        # the purity of the split for all possible thresholds!\n",
        "        # Return the best split found.\n",
        "\n",
        "        # Remember that the attribute may have duplicate values and all samples\n",
        "        # with the same attribute value must end in the same subtree!\n",
        "        row_target = targets.iloc[row_i]\n",
        "        attribute_value = values.iloc[row_i]\n",
        "        next_attribute_value = values.iloc[row_i + 1]\n",
        "        split_threshold = (attribute_value + next_attribute_value) / 2.0\n",
        "\n",
        "        # Consider the split at threshold, i.e. NumericalSplit(attr, split_threshold)\n",
        "\n",
        "        # the loop should return the best possible split.\n",
        "\n",
        "        # TODO: update left_counts and right_counts\n",
        "        left_counts[row_target] += 1\n",
        "        right_counts[row_target] -= 1\n",
        "\n",
        "        # The split is possible if attribute_value != next_attribute_value\n",
        "        if attribute_value == next_attribute_value:\n",
        "            continue\n",
        "\n",
        "        # TODO: now consider the split at split_threshold and save it if it the best one\n",
        "        mean_child_purity = ((purity_fun(left_counts) * left_counts.sum() + purity_fun(right_counts) * right_counts.sum()) /\n",
        "                             (left_counts.sum() + right_counts.sum()))\n",
        "        \n",
        "        # Note: when purity is measured by entropy, this corresponds to Mutual Information\n",
        "        purity_gain = parent_purity - mean_child_purity\n",
        "        \n",
        "        if normalize_by_split_entropy:\n",
        "            purity_gain /= entropy(df[attr].value_counts())\n",
        "\n",
        "        if purity_gain > best_purity_gain:\n",
        "            best_split = NumericalSplit(attr, split_threshold)\n",
        "            best_purity_gain = purity_gain\n",
        "    best_split.purity_gain = best_purity_gain\n",
        "    return best_split, best_purity_gain"
      ],
      "execution_count": null,
      "outputs": []
    },
    {
      "cell_type": "code",
      "metadata": {
        "colab": {
          "base_uri": "https://localhost:8080/",
          "height": 1000
        },
        "id": "bKBwWQiABhID",
        "outputId": "18f7c6df-bca6-47ed-b8d1-1a4e67d57f5b"
      },
      "source": [
        "# TODO: apply the tree to Iris with petal_length and petal_width attributes\n",
        "iris2d = iris_df[[\"petal_length\", \"petal_width\", \"target\"]]\n",
        "iris_tree = Tree(iris2d)\n",
        "iris_tree.draw()\n",
        "#TODO: build and draw the tree\n"
      ],
      "execution_count": null,
      "outputs": [
        {
          "output_type": "execute_result",
          "data": {
            "text/plain": [
              "<graphviz.dot.Digraph at 0x7fe05206ce10>"
            ],
            "image/svg+xml": "<?xml version=\"1.0\" encoding=\"UTF-8\" standalone=\"no\"?>\n<!DOCTYPE svg PUBLIC \"-//W3C//DTD SVG 1.1//EN\"\n \"http://www.w3.org/Graphics/SVG/1.1/DTD/svg11.dtd\">\n<!-- Generated by graphviz version 2.40.1 (20161225.0304)\n -->\n<!-- Title: %3 Pages: 1 -->\n<svg width=\"961pt\" height=\"746pt\"\n viewBox=\"0.00 0.00 961.00 746.00\" xmlns=\"http://www.w3.org/2000/svg\" xmlns:xlink=\"http://www.w3.org/1999/xlink\">\n<g id=\"graph0\" class=\"graph\" transform=\"scale(1 1) rotate(0) translate(4 742)\">\n<title>%3</title>\n<polygon fill=\"#ffffff\" stroke=\"transparent\" points=\"-4,4 -4,-742 957,-742 957,4 -4,4\"/>\n<!-- 140601427074968 -->\n<g id=\"node1\" class=\"node\">\n<title>140601427074968</title>\n<polygon fill=\"#e41a1c\" stroke=\"#000000\" stroke-width=\".5\" points=\"233.5,-655 348.1667,-655 348.1667,-738 233.5,-738 233.5,-655\"/>\n<polygon fill=\"#377eb8\" stroke=\"#000000\" stroke-width=\".5\" points=\"348.1667,-655 462.8333,-655 462.8333,-738 348.1667,-738 348.1667,-655\"/>\n<polygon fill=\"#4daf4a\" stroke=\"#000000\" stroke-width=\".5\" points=\"462.8333,-655 577.5,-655 577.5,-738 462.8333,-738 462.8333,-655\"/>\n<polygon fill=\"none\" stroke=\"#000000\" points=\"577.5,-738 233.5,-738 233.5,-655 577.5,-655 577.5,-738\"/>\n<text text-anchor=\"middle\" x=\"405.5\" y=\"-722.8\" font-family=\"Times,serif\" font-size=\"14.00\" fill=\"#000000\">Iris&#45;setosa:0.333 Iris&#45;versicolor:0.333 Iris&#45;virginica:0.333</text>\n<text text-anchor=\"middle\" x=\"405.5\" y=\"-707.8\" font-family=\"Times,serif\" font-size=\"14.00\" fill=\"#000000\">num_samples = 150</text>\n<text text-anchor=\"middle\" x=\"405.5\" y=\"-692.8\" font-family=\"Times,serif\" font-size=\"14.00\" fill=\"#000000\">entropy = 1.584962500721156</text>\n<text text-anchor=\"middle\" x=\"405.5\" y=\"-677.8\" font-family=\"Times,serif\" font-size=\"14.00\" fill=\"#000000\">gini = 0.6666666666666667</text>\n<text text-anchor=\"middle\" x=\"405.5\" y=\"-662.8\" font-family=\"Times,serif\" font-size=\"14.00\" fill=\"#000000\">split by: petal_length</text>\n</g>\n<!-- 140601444465800 -->\n<g id=\"node2\" class=\"node\">\n<title>140601444465800</title>\n<polygon fill=\"#e41a1c\" stroke=\"#000000\" stroke-width=\".5\" points=\"307.5,-528.5 433.5,-528.5 433.5,-596.5 307.5,-596.5 307.5,-528.5\"/>\n<polygon fill=\"none\" stroke=\"#000000\" points=\"433.5,-596.5 307.5,-596.5 307.5,-528.5 433.5,-528.5 433.5,-596.5\"/>\n<text text-anchor=\"middle\" x=\"370.5\" y=\"-581.3\" font-family=\"Times,serif\" font-size=\"14.00\" fill=\"#000000\">Iris&#45;setosa:1.000</text>\n<text text-anchor=\"middle\" x=\"370.5\" y=\"-566.3\" font-family=\"Times,serif\" font-size=\"14.00\" fill=\"#000000\">num_samples = 50</text>\n<text text-anchor=\"middle\" x=\"370.5\" y=\"-551.3\" font-family=\"Times,serif\" font-size=\"14.00\" fill=\"#000000\">entropy = &#45;0.0</text>\n<text text-anchor=\"middle\" x=\"370.5\" y=\"-536.3\" font-family=\"Times,serif\" font-size=\"14.00\" fill=\"#000000\">gini = 0.0</text>\n</g>\n<!-- 140601427074968&#45;&gt;140601444465800 -->\n<g id=\"edge1\" class=\"edge\">\n<title>140601427074968&#45;&gt;140601444465800</title>\n<path fill=\"none\" stroke=\"#000000\" d=\"M394.6176,-654.8361C390.6011,-639.4585 386.0391,-621.9926 381.972,-606.4213\"/>\n<polygon fill=\"#000000\" stroke=\"#000000\" points=\"385.2951,-605.2942 379.3815,-596.5033 378.5223,-607.0633 385.2951,-605.2942\"/>\n<text text-anchor=\"middle\" x=\"413\" y=\"-625.8\" font-family=\"Times,serif\" font-size=\"14.00\" fill=\"#000000\">&lt;= 2.45</text>\n</g>\n<!-- 140601424769768 -->\n<g id=\"node3\" class=\"node\">\n<title>140601424769768</title>\n<polygon fill=\"#377eb8\" stroke=\"#000000\" stroke-width=\".5\" points=\"452,-521 575.5,-521 575.5,-604 452,-604 452,-521\"/>\n<polygon fill=\"#4daf4a\" stroke=\"#000000\" stroke-width=\".5\" points=\"575.5,-521 699,-521 699,-604 575.5,-604 575.5,-521\"/>\n<polygon fill=\"none\" stroke=\"#000000\" points=\"699,-604 452,-604 452,-521 699,-521 699,-604\"/>\n<text text-anchor=\"middle\" x=\"575.5\" y=\"-588.8\" font-family=\"Times,serif\" font-size=\"14.00\" fill=\"#000000\">Iris&#45;versicolor:0.500 Iris&#45;virginica:0.500</text>\n<text text-anchor=\"middle\" x=\"575.5\" y=\"-573.8\" font-family=\"Times,serif\" font-size=\"14.00\" fill=\"#000000\">num_samples = 100</text>\n<text text-anchor=\"middle\" x=\"575.5\" y=\"-558.8\" font-family=\"Times,serif\" font-size=\"14.00\" fill=\"#000000\">entropy = 1.0</text>\n<text text-anchor=\"middle\" x=\"575.5\" y=\"-543.8\" font-family=\"Times,serif\" font-size=\"14.00\" fill=\"#000000\">gini = 0.5</text>\n<text text-anchor=\"middle\" x=\"575.5\" y=\"-528.8\" font-family=\"Times,serif\" font-size=\"14.00\" fill=\"#000000\">split by: petal_width</text>\n</g>\n<!-- 140601427074968&#45;&gt;140601424769768 -->\n<g id=\"edge14\" class=\"edge\">\n<title>140601427074968&#45;&gt;140601424769768</title>\n<path fill=\"none\" stroke=\"#000000\" d=\"M458.3572,-654.8361C476.1071,-640.845 496.0501,-625.1252 514.3805,-610.6765\"/>\n<polygon fill=\"#000000\" stroke=\"#000000\" points=\"516.9886,-613.0774 522.6755,-604.1381 512.6553,-607.5799 516.9886,-613.0774\"/>\n<text text-anchor=\"middle\" x=\"516\" y=\"-625.8\" font-family=\"Times,serif\" font-size=\"14.00\" fill=\"#000000\">&gt; 2.45</text>\n</g>\n<!-- 140601427074408 -->\n<g id=\"node4\" class=\"node\">\n<title>140601427074408</title>\n<polygon fill=\"#377eb8\" stroke=\"#000000\" stroke-width=\".5\" points=\"296,-387 520.1296,-387 520.1296,-470 296,-470 296,-387\"/>\n<polygon fill=\"#4daf4a\" stroke=\"#000000\" stroke-width=\".5\" points=\"520.1296,-387 543,-387 543,-470 520.1296,-470 520.1296,-387\"/>\n<polygon fill=\"none\" stroke=\"#000000\" points=\"543,-470 296,-470 296,-387 543,-387 543,-470\"/>\n<text text-anchor=\"middle\" x=\"419.5\" y=\"-454.8\" font-family=\"Times,serif\" font-size=\"14.00\" fill=\"#000000\">Iris&#45;versicolor:0.907 Iris&#45;virginica:0.093</text>\n<text text-anchor=\"middle\" x=\"419.5\" y=\"-439.8\" font-family=\"Times,serif\" font-size=\"14.00\" fill=\"#000000\">num_samples = 54</text>\n<text text-anchor=\"middle\" x=\"419.5\" y=\"-424.8\" font-family=\"Times,serif\" font-size=\"14.00\" fill=\"#000000\">entropy = 0.44506485705083865</text>\n<text text-anchor=\"middle\" x=\"419.5\" y=\"-409.8\" font-family=\"Times,serif\" font-size=\"14.00\" fill=\"#000000\">gini = 0.16803840877914955</text>\n<text text-anchor=\"middle\" x=\"419.5\" y=\"-394.8\" font-family=\"Times,serif\" font-size=\"14.00\" fill=\"#000000\">split by: petal_length</text>\n</g>\n<!-- 140601424769768&#45;&gt;140601427074408 -->\n<g id=\"edge10\" class=\"edge\">\n<title>140601424769768&#45;&gt;140601427074408</title>\n<path fill=\"none\" stroke=\"#000000\" d=\"M526.9958,-520.8361C510.7076,-506.845 492.407,-491.1252 475.5861,-476.6765\"/>\n<polygon fill=\"#000000\" stroke=\"#000000\" points=\"477.8406,-473.9991 467.9742,-470.1381 473.2794,-479.3091 477.8406,-473.9991\"/>\n<text text-anchor=\"middle\" x=\"526\" y=\"-491.8\" font-family=\"Times,serif\" font-size=\"14.00\" fill=\"#000000\">&lt;= 1.75</text>\n</g>\n<!-- 140601424888776 -->\n<g id=\"node13\" class=\"node\">\n<title>140601424888776</title>\n<polygon fill=\"#377eb8\" stroke=\"#000000\" stroke-width=\".5\" points=\"561,-387 566.3696,-387 566.3696,-470 561,-470 561,-387\"/>\n<polygon fill=\"#4daf4a\" stroke=\"#000000\" stroke-width=\".5\" points=\"566.3696,-387 808,-387 808,-470 566.3696,-470 566.3696,-387\"/>\n<polygon fill=\"none\" stroke=\"#000000\" points=\"808,-470 561,-470 561,-387 808,-387 808,-470\"/>\n<text text-anchor=\"middle\" x=\"684.5\" y=\"-454.8\" font-family=\"Times,serif\" font-size=\"14.00\" fill=\"#000000\">Iris&#45;versicolor:0.022 Iris&#45;virginica:0.978</text>\n<text text-anchor=\"middle\" x=\"684.5\" y=\"-439.8\" font-family=\"Times,serif\" font-size=\"14.00\" fill=\"#000000\">num_samples = 46</text>\n<text text-anchor=\"middle\" x=\"684.5\" y=\"-424.8\" font-family=\"Times,serif\" font-size=\"14.00\" fill=\"#000000\">entropy = 0.15109697051711368</text>\n<text text-anchor=\"middle\" x=\"684.5\" y=\"-409.8\" font-family=\"Times,serif\" font-size=\"14.00\" fill=\"#000000\">gini = 0.04253308128544431</text>\n<text text-anchor=\"middle\" x=\"684.5\" y=\"-394.8\" font-family=\"Times,serif\" font-size=\"14.00\" fill=\"#000000\">split by: petal_length</text>\n</g>\n<!-- 140601424769768&#45;&gt;140601424888776 -->\n<g id=\"edge13\" class=\"edge\">\n<title>140601424769768&#45;&gt;140601424888776</title>\n<path fill=\"none\" stroke=\"#000000\" d=\"M609.3908,-520.8361C620.3615,-507.3492 632.6388,-492.2559 644.0371,-478.2433\"/>\n<polygon fill=\"#000000\" stroke=\"#000000\" points=\"647.035,-480.1044 650.6302,-470.1381 641.6047,-475.6871 647.035,-480.1044\"/>\n<text text-anchor=\"middle\" x=\"653\" y=\"-491.8\" font-family=\"Times,serif\" font-size=\"14.00\" fill=\"#000000\">&gt; 1.75</text>\n</g>\n<!-- 140601427583776 -->\n<g id=\"node5\" class=\"node\">\n<title>140601427583776</title>\n<polygon fill=\"#377eb8\" stroke=\"#000000\" stroke-width=\".5\" points=\"31,-253 272.8542,-253 272.8542,-336 31,-336 31,-253\"/>\n<polygon fill=\"#4daf4a\" stroke=\"#000000\" stroke-width=\".5\" points=\"272.8542,-253 278,-253 278,-336 272.8542,-336 272.8542,-253\"/>\n<polygon fill=\"none\" stroke=\"#000000\" points=\"278,-336 31,-336 31,-253 278,-253 278,-336\"/>\n<text text-anchor=\"middle\" x=\"154.5\" y=\"-320.8\" font-family=\"Times,serif\" font-size=\"14.00\" fill=\"#000000\">Iris&#45;versicolor:0.979 Iris&#45;virginica:0.021</text>\n<text text-anchor=\"middle\" x=\"154.5\" y=\"-305.8\" font-family=\"Times,serif\" font-size=\"14.00\" fill=\"#000000\">num_samples = 48</text>\n<text text-anchor=\"middle\" x=\"154.5\" y=\"-290.8\" font-family=\"Times,serif\" font-size=\"14.00\" fill=\"#000000\">entropy = 0.1460942501201363</text>\n<text text-anchor=\"middle\" x=\"154.5\" y=\"-275.8\" font-family=\"Times,serif\" font-size=\"14.00\" fill=\"#000000\">gini = 0.04079861111111116</text>\n<text text-anchor=\"middle\" x=\"154.5\" y=\"-260.8\" font-family=\"Times,serif\" font-size=\"14.00\" fill=\"#000000\">split by: petal_width</text>\n</g>\n<!-- 140601427074408&#45;&gt;140601427583776 -->\n<g id=\"edge4\" class=\"edge\">\n<title>140601427074408&#45;&gt;140601427583776</title>\n<path fill=\"none\" stroke=\"#000000\" d=\"M337.105,-386.8361C308.1896,-372.2147 275.5407,-355.7055 245.9289,-340.732\"/>\n<polygon fill=\"#000000\" stroke=\"#000000\" points=\"247.3475,-337.5273 236.8441,-336.1381 244.1887,-343.7741 247.3475,-337.5273\"/>\n<text text-anchor=\"middle\" x=\"319\" y=\"-357.8\" font-family=\"Times,serif\" font-size=\"14.00\" fill=\"#000000\">&lt;= 4.95</text>\n</g>\n<!-- 140601424742440 -->\n<g id=\"node8\" class=\"node\">\n<title>140601424742440</title>\n<polygon fill=\"#377eb8\" stroke=\"#000000\" stroke-width=\".5\" points=\"296,-253 378.3333,-253 378.3333,-336 296,-336 296,-253\"/>\n<polygon fill=\"#4daf4a\" stroke=\"#000000\" stroke-width=\".5\" points=\"378.3333,-253 543,-253 543,-336 378.3333,-336 378.3333,-253\"/>\n<polygon fill=\"none\" stroke=\"#000000\" points=\"543,-336 296,-336 296,-253 543,-253 543,-336\"/>\n<text text-anchor=\"middle\" x=\"419.5\" y=\"-320.8\" font-family=\"Times,serif\" font-size=\"14.00\" fill=\"#000000\">Iris&#45;versicolor:0.333 Iris&#45;virginica:0.667</text>\n<text text-anchor=\"middle\" x=\"419.5\" y=\"-305.8\" font-family=\"Times,serif\" font-size=\"14.00\" fill=\"#000000\">num_samples = 6</text>\n<text text-anchor=\"middle\" x=\"419.5\" y=\"-290.8\" font-family=\"Times,serif\" font-size=\"14.00\" fill=\"#000000\">entropy = 0.9182958340544896</text>\n<text text-anchor=\"middle\" x=\"419.5\" y=\"-275.8\" font-family=\"Times,serif\" font-size=\"14.00\" fill=\"#000000\">gini = 0.4444444444444444</text>\n<text text-anchor=\"middle\" x=\"419.5\" y=\"-260.8\" font-family=\"Times,serif\" font-size=\"14.00\" fill=\"#000000\">split by: petal_width</text>\n</g>\n<!-- 140601427074408&#45;&gt;140601424742440 -->\n<g id=\"edge9\" class=\"edge\">\n<title>140601427074408&#45;&gt;140601424742440</title>\n<path fill=\"none\" stroke=\"#000000\" d=\"M419.5,-386.8361C419.5,-373.9794 419.5,-359.663 419.5,-346.2145\"/>\n<polygon fill=\"#000000\" stroke=\"#000000\" points=\"423.0001,-346.1381 419.5,-336.1381 416.0001,-346.1382 423.0001,-346.1381\"/>\n<text text-anchor=\"middle\" x=\"439\" y=\"-357.8\" font-family=\"Times,serif\" font-size=\"14.00\" fill=\"#000000\">&gt; 4.95</text>\n</g>\n<!-- 140601425577576 -->\n<g id=\"node6\" class=\"node\">\n<title>140601425577576</title>\n<polygon fill=\"#377eb8\" stroke=\"#000000\" stroke-width=\".5\" points=\"0,-126.5 133,-126.5 133,-194.5 0,-194.5 0,-126.5\"/>\n<polygon fill=\"none\" stroke=\"#000000\" points=\"133,-194.5 0,-194.5 0,-126.5 133,-126.5 133,-194.5\"/>\n<text text-anchor=\"middle\" x=\"66.5\" y=\"-179.3\" font-family=\"Times,serif\" font-size=\"14.00\" fill=\"#000000\">Iris&#45;versicolor:1.000</text>\n<text text-anchor=\"middle\" x=\"66.5\" y=\"-164.3\" font-family=\"Times,serif\" font-size=\"14.00\" fill=\"#000000\">num_samples = 47</text>\n<text text-anchor=\"middle\" x=\"66.5\" y=\"-149.3\" font-family=\"Times,serif\" font-size=\"14.00\" fill=\"#000000\">entropy = &#45;0.0</text>\n<text text-anchor=\"middle\" x=\"66.5\" y=\"-134.3\" font-family=\"Times,serif\" font-size=\"14.00\" fill=\"#000000\">gini = 0.0</text>\n</g>\n<!-- 140601427583776&#45;&gt;140601425577576 -->\n<g id=\"edge2\" class=\"edge\">\n<title>140601427583776&#45;&gt;140601425577576</title>\n<path fill=\"none\" stroke=\"#000000\" d=\"M127.1386,-252.8361C116.7514,-237.0191 104.9132,-218.9928 94.4705,-203.0914\"/>\n<polygon fill=\"#000000\" stroke=\"#000000\" points=\"97.2454,-200.9408 88.8306,-194.5033 91.3943,-204.7833 97.2454,-200.9408\"/>\n<text text-anchor=\"middle\" x=\"137\" y=\"-223.8\" font-family=\"Times,serif\" font-size=\"14.00\" fill=\"#000000\">&lt;= 1.65</text>\n</g>\n<!-- 140601424743616 -->\n<g id=\"node7\" class=\"node\">\n<title>140601424743616</title>\n<polygon fill=\"#4daf4a\" stroke=\"#000000\" stroke-width=\".5\" points=\"151,-126.5 278,-126.5 278,-194.5 151,-194.5 151,-126.5\"/>\n<polygon fill=\"none\" stroke=\"#000000\" points=\"278,-194.5 151,-194.5 151,-126.5 278,-126.5 278,-194.5\"/>\n<text text-anchor=\"middle\" x=\"214.5\" y=\"-179.3\" font-family=\"Times,serif\" font-size=\"14.00\" fill=\"#000000\">Iris&#45;virginica:1.000</text>\n<text text-anchor=\"middle\" x=\"214.5\" y=\"-164.3\" font-family=\"Times,serif\" font-size=\"14.00\" fill=\"#000000\">num_samples = 1</text>\n<text text-anchor=\"middle\" x=\"214.5\" y=\"-149.3\" font-family=\"Times,serif\" font-size=\"14.00\" fill=\"#000000\">entropy = &#45;0.0</text>\n<text text-anchor=\"middle\" x=\"214.5\" y=\"-134.3\" font-family=\"Times,serif\" font-size=\"14.00\" fill=\"#000000\">gini = 0.0</text>\n</g>\n<!-- 140601427583776&#45;&gt;140601424743616 -->\n<g id=\"edge3\" class=\"edge\">\n<title>140601427583776&#45;&gt;140601424743616</title>\n<path fill=\"none\" stroke=\"#000000\" d=\"M173.1555,-252.8361C180.1066,-237.312 188.0106,-219.6597 195.0327,-203.9769\"/>\n<polygon fill=\"#000000\" stroke=\"#000000\" points=\"198.3823,-205.0605 199.2746,-194.5033 191.9935,-202.1998 198.3823,-205.0605\"/>\n<text text-anchor=\"middle\" x=\"206\" y=\"-223.8\" font-family=\"Times,serif\" font-size=\"14.00\" fill=\"#000000\">&gt; 1.65</text>\n</g>\n<!-- 140601427460336 -->\n<g id=\"node9\" class=\"node\">\n<title>140601427460336</title>\n<polygon fill=\"#4daf4a\" stroke=\"#000000\" stroke-width=\".5\" points=\"308,-126.5 435,-126.5 435,-194.5 308,-194.5 308,-126.5\"/>\n<polygon fill=\"none\" stroke=\"#000000\" points=\"435,-194.5 308,-194.5 308,-126.5 435,-126.5 435,-194.5\"/>\n<text text-anchor=\"middle\" x=\"371.5\" y=\"-179.3\" font-family=\"Times,serif\" font-size=\"14.00\" fill=\"#000000\">Iris&#45;virginica:1.000</text>\n<text text-anchor=\"middle\" x=\"371.5\" y=\"-164.3\" font-family=\"Times,serif\" font-size=\"14.00\" fill=\"#000000\">num_samples = 3</text>\n<text text-anchor=\"middle\" x=\"371.5\" y=\"-149.3\" font-family=\"Times,serif\" font-size=\"14.00\" fill=\"#000000\">entropy = &#45;0.0</text>\n<text text-anchor=\"middle\" x=\"371.5\" y=\"-134.3\" font-family=\"Times,serif\" font-size=\"14.00\" fill=\"#000000\">gini = 0.0</text>\n</g>\n<!-- 140601424742440&#45;&gt;140601427460336 -->\n<g id=\"edge5\" class=\"edge\">\n<title>140601424742440&#45;&gt;140601427460336</title>\n<path fill=\"none\" stroke=\"#000000\" d=\"M404.0165,-252.9236C401.8115,-246.9161 399.5856,-240.8041 397.5,-235 393.9192,-225.0349 390.1304,-214.2955 386.5856,-204.1579\"/>\n<polygon fill=\"#000000\" stroke=\"#000000\" points=\"389.8739,-202.9578 383.2766,-194.6676 383.2642,-205.2625 389.8739,-202.9578\"/>\n<text text-anchor=\"middle\" x=\"421\" y=\"-223.8\" font-family=\"Times,serif\" font-size=\"14.00\" fill=\"#000000\">&lt;= 1.55</text>\n</g>\n<!-- 140601425576736 -->\n<g id=\"node10\" class=\"node\">\n<title>140601425576736</title>\n<polygon fill=\"#377eb8\" stroke=\"#000000\" stroke-width=\".5\" points=\"453,-119 617.6667,-119 617.6667,-202 453,-202 453,-119\"/>\n<polygon fill=\"#4daf4a\" stroke=\"#000000\" stroke-width=\".5\" points=\"617.6667,-119 700,-119 700,-202 617.6667,-202 617.6667,-119\"/>\n<polygon fill=\"none\" stroke=\"#000000\" points=\"700,-202 453,-202 453,-119 700,-119 700,-202\"/>\n<text text-anchor=\"middle\" x=\"576.5\" y=\"-186.8\" font-family=\"Times,serif\" font-size=\"14.00\" fill=\"#000000\">Iris&#45;versicolor:0.667 Iris&#45;virginica:0.333</text>\n<text text-anchor=\"middle\" x=\"576.5\" y=\"-171.8\" font-family=\"Times,serif\" font-size=\"14.00\" fill=\"#000000\">num_samples = 3</text>\n<text text-anchor=\"middle\" x=\"576.5\" y=\"-156.8\" font-family=\"Times,serif\" font-size=\"14.00\" fill=\"#000000\">entropy = 0.9182958340544896</text>\n<text text-anchor=\"middle\" x=\"576.5\" y=\"-141.8\" font-family=\"Times,serif\" font-size=\"14.00\" fill=\"#000000\">gini = 0.4444444444444444</text>\n<text text-anchor=\"middle\" x=\"576.5\" y=\"-126.8\" font-family=\"Times,serif\" font-size=\"14.00\" fill=\"#000000\">split by: petal_length</text>\n</g>\n<!-- 140601424742440&#45;&gt;140601425576736 -->\n<g id=\"edge8\" class=\"edge\">\n<title>140601424742440&#45;&gt;140601425576736</title>\n<path fill=\"none\" stroke=\"#000000\" d=\"M468.3152,-252.8361C484.7078,-238.845 503.1257,-223.1252 520.0544,-208.6765\"/>\n<polygon fill=\"#000000\" stroke=\"#000000\" points=\"522.381,-211.2923 527.715,-202.1381 517.8366,-205.9679 522.381,-211.2923\"/>\n<text text-anchor=\"middle\" x=\"523\" y=\"-223.8\" font-family=\"Times,serif\" font-size=\"14.00\" fill=\"#000000\">&gt; 1.55</text>\n</g>\n<!-- 140601424740872 -->\n<g id=\"node11\" class=\"node\">\n<title>140601424740872</title>\n<polygon fill=\"#377eb8\" stroke=\"#000000\" stroke-width=\".5\" points=\"436,0 569,0 569,-68 436,-68 436,0\"/>\n<polygon fill=\"none\" stroke=\"#000000\" points=\"569,-68 436,-68 436,0 569,0 569,-68\"/>\n<text text-anchor=\"middle\" x=\"502.5\" y=\"-52.8\" font-family=\"Times,serif\" font-size=\"14.00\" fill=\"#000000\">Iris&#45;versicolor:1.000</text>\n<text text-anchor=\"middle\" x=\"502.5\" y=\"-37.8\" font-family=\"Times,serif\" font-size=\"14.00\" fill=\"#000000\">num_samples = 2</text>\n<text text-anchor=\"middle\" x=\"502.5\" y=\"-22.8\" font-family=\"Times,serif\" font-size=\"14.00\" fill=\"#000000\">entropy = &#45;0.0</text>\n<text text-anchor=\"middle\" x=\"502.5\" y=\"-7.8\" font-family=\"Times,serif\" font-size=\"14.00\" fill=\"#000000\">gini = 0.0</text>\n</g>\n<!-- 140601425576736&#45;&gt;140601424740872 -->\n<g id=\"edge6\" class=\"edge\">\n<title>140601425576736&#45;&gt;140601424740872</title>\n<path fill=\"none\" stroke=\"#000000\" d=\"M552.0645,-118.7286C544.1908,-105.2687 535.4556,-90.3362 527.539,-76.8031\"/>\n<polygon fill=\"#000000\" stroke=\"#000000\" points=\"530.5426,-75.0059 522.4721,-68.1416 524.5004,-78.5404 530.5426,-75.0059\"/>\n<text text-anchor=\"middle\" x=\"563\" y=\"-89.8\" font-family=\"Times,serif\" font-size=\"14.00\" fill=\"#000000\">&lt;= 5.45</text>\n</g>\n<!-- 140601425879224 -->\n<g id=\"node12\" class=\"node\">\n<title>140601425879224</title>\n<polygon fill=\"#4daf4a\" stroke=\"#000000\" stroke-width=\".5\" points=\"587,0 714,0 714,-68 587,-68 587,0\"/>\n<polygon fill=\"none\" stroke=\"#000000\" points=\"714,-68 587,-68 587,0 714,0 714,-68\"/>\n<text text-anchor=\"middle\" x=\"650.5\" y=\"-52.8\" font-family=\"Times,serif\" font-size=\"14.00\" fill=\"#000000\">Iris&#45;virginica:1.000</text>\n<text text-anchor=\"middle\" x=\"650.5\" y=\"-37.8\" font-family=\"Times,serif\" font-size=\"14.00\" fill=\"#000000\">num_samples = 1</text>\n<text text-anchor=\"middle\" x=\"650.5\" y=\"-22.8\" font-family=\"Times,serif\" font-size=\"14.00\" fill=\"#000000\">entropy = &#45;0.0</text>\n<text text-anchor=\"middle\" x=\"650.5\" y=\"-7.8\" font-family=\"Times,serif\" font-size=\"14.00\" fill=\"#000000\">gini = 0.0</text>\n</g>\n<!-- 140601425576736&#45;&gt;140601425879224 -->\n<g id=\"edge7\" class=\"edge\">\n<title>140601425576736&#45;&gt;140601425879224</title>\n<path fill=\"none\" stroke=\"#000000\" d=\"M600.9355,-118.7286C608.8092,-105.2687 617.5444,-90.3362 625.461,-76.8031\"/>\n<polygon fill=\"#000000\" stroke=\"#000000\" points=\"628.4996,-78.5404 630.5279,-68.1416 622.4574,-75.0059 628.4996,-78.5404\"/>\n<text text-anchor=\"middle\" x=\"638\" y=\"-89.8\" font-family=\"Times,serif\" font-size=\"14.00\" fill=\"#000000\">&gt; 5.45</text>\n</g>\n<!-- 140601427073512 -->\n<g id=\"node14\" class=\"node\">\n<title>140601427073512</title>\n<polygon fill=\"#377eb8\" stroke=\"#000000\" stroke-width=\".5\" points=\"561,-260.5 643.3333,-260.5 643.3333,-328.5 561,-328.5 561,-260.5\"/>\n<polygon fill=\"#4daf4a\" stroke=\"#000000\" stroke-width=\".5\" points=\"643.3333,-260.5 808,-260.5 808,-328.5 643.3333,-328.5 643.3333,-260.5\"/>\n<polygon fill=\"none\" stroke=\"#000000\" points=\"808,-328.5 561,-328.5 561,-260.5 808,-260.5 808,-328.5\"/>\n<text text-anchor=\"middle\" x=\"684.5\" y=\"-313.3\" font-family=\"Times,serif\" font-size=\"14.00\" fill=\"#000000\">Iris&#45;versicolor:0.333 Iris&#45;virginica:0.667</text>\n<text text-anchor=\"middle\" x=\"684.5\" y=\"-298.3\" font-family=\"Times,serif\" font-size=\"14.00\" fill=\"#000000\">num_samples = 3</text>\n<text text-anchor=\"middle\" x=\"684.5\" y=\"-283.3\" font-family=\"Times,serif\" font-size=\"14.00\" fill=\"#000000\">entropy = 0.9182958340544896</text>\n<text text-anchor=\"middle\" x=\"684.5\" y=\"-268.3\" font-family=\"Times,serif\" font-size=\"14.00\" fill=\"#000000\">gini = 0.4444444444444444</text>\n</g>\n<!-- 140601424888776&#45;&gt;140601427073512 -->\n<g id=\"edge11\" class=\"edge\">\n<title>140601424888776&#45;&gt;140601427073512</title>\n<path fill=\"none\" stroke=\"#000000\" d=\"M684.5,-386.8361C684.5,-371.6049 684.5,-354.3251 684.5,-338.8667\"/>\n<polygon fill=\"#000000\" stroke=\"#000000\" points=\"688.0001,-338.5033 684.5,-328.5033 681.0001,-338.5034 688.0001,-338.5033\"/>\n<text text-anchor=\"middle\" x=\"708\" y=\"-357.8\" font-family=\"Times,serif\" font-size=\"14.00\" fill=\"#000000\">&lt;= 4.85</text>\n</g>\n<!-- 140601424741712 -->\n<g id=\"node15\" class=\"node\">\n<title>140601424741712</title>\n<polygon fill=\"#4daf4a\" stroke=\"#000000\" stroke-width=\".5\" points=\"826,-260.5 953,-260.5 953,-328.5 826,-328.5 826,-260.5\"/>\n<polygon fill=\"none\" stroke=\"#000000\" points=\"953,-328.5 826,-328.5 826,-260.5 953,-260.5 953,-328.5\"/>\n<text text-anchor=\"middle\" x=\"889.5\" y=\"-313.3\" font-family=\"Times,serif\" font-size=\"14.00\" fill=\"#000000\">Iris&#45;virginica:1.000</text>\n<text text-anchor=\"middle\" x=\"889.5\" y=\"-298.3\" font-family=\"Times,serif\" font-size=\"14.00\" fill=\"#000000\">num_samples = 43</text>\n<text text-anchor=\"middle\" x=\"889.5\" y=\"-283.3\" font-family=\"Times,serif\" font-size=\"14.00\" fill=\"#000000\">entropy = &#45;0.0</text>\n<text text-anchor=\"middle\" x=\"889.5\" y=\"-268.3\" font-family=\"Times,serif\" font-size=\"14.00\" fill=\"#000000\">gini = 0.0</text>\n</g>\n<!-- 140601424888776&#45;&gt;140601424741712 -->\n<g id=\"edge12\" class=\"edge\">\n<title>140601424888776&#45;&gt;140601424741712</title>\n<path fill=\"none\" stroke=\"#000000\" d=\"M748.2396,-386.8361C774.0056,-369.9939 803.6037,-350.6468 829.029,-334.0274\"/>\n<polygon fill=\"#000000\" stroke=\"#000000\" points=\"831.0245,-336.9044 837.48,-328.5033 827.1945,-331.0451 831.0245,-336.9044\"/>\n<text text-anchor=\"middle\" x=\"813\" y=\"-357.8\" font-family=\"Times,serif\" font-size=\"14.00\" fill=\"#000000\">&gt; 4.85</text>\n</g>\n</g>\n</svg>\n"
          },
          "metadata": {
            "tags": []
          },
          "execution_count": 27
        }
      ]
    },
    {
      "cell_type": "code",
      "metadata": {
        "colab": {
          "base_uri": "https://localhost:8080/",
          "height": 1000
        },
        "id": "LdatEZNFcBdu",
        "outputId": "82ef4707-651a-4a05-c9eb-d7e6a09a3805"
      },
      "source": [
        "# TODO: to verify the tree building algorithm draw Iris2D decision boundary\n",
        "# for different splitting criteria.\n",
        "mesh_x, mesh_y = np.meshgrid(\n",
        "    np.linspace(iris2d.petal_length.min(), iris2d.petal_length.max(), 100),\n",
        "    np.linspace(iris2d.petal_width.min(), iris2d.petal_width.max(), 100),\n",
        ")\n",
        "\n",
        "mesh_data = np.hstack([mesh_x.reshape(-1, 1), mesh_y.reshape(-1, 1)])\n",
        "mesh_data = pd.DataFrame(mesh_data, columns=iris2d.columns[:-1])\n",
        "\n",
        "preds = np.empty((len(mesh_data),))\n",
        "\n",
        "for criterion in [\"infogain\", \"infogain_ratio\", \"gini\", \"mean_err_rate\"]:\n",
        "    iris2d_tree = Tree(iris2d, criterion=criterion)\n",
        "    for i, (_, r) in enumerate(mesh_data.iterrows()):\n",
        "        preds[i] = iris2d_tree.all_targets.index(iris2d_tree.classify(r))\n",
        "\n",
        "    plt.figure()\n",
        "    plt.title(f\"Iris2D decision boundary for {criterion}.\")\n",
        "    plt.contourf(\n",
        "        mesh_x, mesh_y, preds.reshape(mesh_x.shape), cmap=\"Set1\", vmin=0, vmax=7\n",
        "    )\n",
        "    sns.scatterplot(\n",
        "        x=\"petal_length\", y=\"petal_width\", hue=\"target\", data=iris_df, palette=\"Set1\",\n",
        "    )"
      ],
      "execution_count": null,
      "outputs": [
        {
          "output_type": "display_data",
          "data": {
            "image/png": "[encoded data removed]",
            "text/plain": [
              "<Figure size 432x288 with 1 Axes>"
            ]
          },
          "metadata": {
            "tags": []
          }
        },
        {
          "output_type": "display_data",
          "data": {
            "image/png": "[encoded data removed]",
            "text/plain": [
              "<Figure size 432x288 with 1 Axes>"
            ]
          },
          "metadata": {
            "tags": []
          }
        },
        {
          "output_type": "display_data",
          "data": {
            "image/png": "[encoded data removed]",
            "text/plain": [
              "<Figure size 432x288 with 1 Axes>"
            ]
          },
          "metadata": {
            "tags": []
          }
        },
        {
          "output_type": "display_data",
          "data": {
            "image/png": "[encoded data removed]",
            "text/plain": [
              "<Figure size 432x288 with 1 Axes>"
            ]
          },
          "metadata": {
            "tags": []
          }
        }
      ]
    },
    {
      "cell_type": "markdown",
      "metadata": {
        "id": "BhkqiysXQEWy"
      },
      "source": [
        "## NOT SOLVED: Decision Tree Task 4: Handling missing data [2bp]\n",
        "\n",
        "Implement support for missing values. A possible strategy does the following:\n",
        "each time (both during training and testing) we encounter a split for which the smaple misses attribute's value, we a weighted copy of the sample down each subtree, with the weight equal to the probaiblity that the child subtree is selected (i.e. proportional to number of samples put into the subtree.)."
      ]
    },
    {
      "cell_type": "markdown",
      "metadata": {
        "id": "b2Q2ltNeSZGn"
      },
      "source": [
        "##NOT SOLVED:  Decision Tree Task 5: Pruning [2-4bp]\n",
        "\n",
        "Tree pruning tries to remove splits that don't result in a decrease of the error rate.\n",
        "\n",
        "There are two possible strategies:\n",
        "\n",
        "### 1. Reduced Error Rate Pruning\n",
        "Build a tree using all the data. Then split the training set into 10 crossvalidation subsets. Then in a loop over the tesintg crossvalidation subset:\n",
        "- put the data from the remaining 9 subsets through the tree, remember distributions at each node (leaf and internal nodes)\n",
        "- classify the samples in the testing subset, record the error rate for all nodes \n",
        "- remove leaf nodes that have a higher error rate than their parents.\n",
        "\n",
        "### 2. Confidence-interval Pruning\n",
        "Build the deicision tree and record the class distribution in each node. For each node, estimate the upper confidence interval on the error rate. Remove nodes that have a higher upper bound on the error rate than their parents.\n",
        "\n",
        "As you can see, the two strategies are quite similar: both estimate the error rate for all nodes in the tree and remove subtrees that do not improve it. The difference stems from the way in which the error rates are computed.\n",
        "\n",
        "### Task: \n",
        "\n",
        "Split the voting dataset into a training and testing set using a 70%-30% ratio.\n",
        "\n",
        "Train a decision tree and prune it using either method 1. or 2.\n",
        "\n",
        "Compare the error rates on the test set of the original and pruned tree.\n",
        "\n",
        "**Implementation hint**: you can store the information related to pruning in the `Tree.info` field. In this way, it will be printed by `Tree.draw` method."
      ]
    },
    {
      "cell_type": "code",
      "metadata": {
        "id": "x28vJNM1SpHy",
        "colab": {
          "base_uri": "https://localhost:8080/",
          "height": 129
        },
        "outputId": "3ba81e72-f129-4658-e7a5-ba7d7f0a7f53"
      },
      "source": [
        "vote_train_df, vote_test_df = sklearn.model_selection.train_test_split(\n",
        "    vote_df, test_size=0.3\n",
        "TODO\n",
        "\n",
        "# TODO: Build and draw the tree\n"
      ],
      "execution_count": null,
      "outputs": [
        {
          "output_type": "error",
          "ename": "SyntaxError",
          "evalue": "ignored",
          "traceback": [
            "\u001b[0;36m  File \u001b[0;32m\"<ipython-input-29-778f495cfccb>\"\u001b[0;36m, line \u001b[0;32m3\u001b[0m\n\u001b[0;31m    TODO\u001b[0m\n\u001b[0m       ^\u001b[0m\n\u001b[0;31mSyntaxError\u001b[0m\u001b[0;31m:\u001b[0m invalid syntax\n"
          ]
        }
      ]
    },
    {
      "cell_type": "code",
      "metadata": {
        "id": "7hi_eo5XToE_"
      },
      "source": [
        "# TODO: implement a pruning method of your choice\n",
        "\n"
      ],
      "execution_count": null,
      "outputs": []
    },
    {
      "cell_type": "code",
      "metadata": {
        "id": "fm_yL3oJSqJl"
      },
      "source": [
        ""
      ],
      "execution_count": null,
      "outputs": []
    },
    {
      "cell_type": "markdown",
      "metadata": {
        "id": "mBdvPmXKGon3"
      },
      "source": [
        "# Problem 4: Random Forest [3p]\n",
        "\n",
        "We will use the german credit dataset. Please split it into a training and testing set using a 70%-30% ratio.\n",
        "\n",
        "Next train and test a regular decision tree on it.\n",
        "\n",
        "Then:\n",
        "1. Implement randomized tree bulding, by restricting the set of attrbutes considered for data spltting in the tree building code below (the `nattrs` argument). Alternatively, you can use trees from sklearn (se below).\n",
        "2. Build a forest of at least 20 Random Trees, each selecting splits out of 1-3 attributes on the German Credit data. After adding each random tree:\n",
        "    - Compute the tree's test error rate and its OOB error rate\n",
        "    - Record the accurracy of the RF after adding the tree to it. \n",
        "    \n",
        "    At the end ot training record the forest's OOB error rate.\n",
        "\n",
        "What is the mean accurracy of individual trees in the forest? What is the final forest accurracy? \n",
        "\n",
        "Define the agreement between two trees to be the fraction of test samples on which the answer of the two trees is identical. What is the mean aggreement of trees in the forest? How does it change with the number of attributes considered for each split? What is the impact of training each tree in the forest on a bootstrap sample, rather than on the full train set?\n",
        "\n",
        "**Note:** This assignment assumes that you use either your own implementation of the decision tree from Problem 3, or the implementation of [trees from sklearn](https://scikit-learn.org/stable/modules/generated/sklearn.tree.DecisionTreeClassifier.html). Since sklearn's trees don't support categorical attributes, use the numerical variant of the German Credit dataset (cf. last year's AdaBoost demo at https://github.com/janchorowski/ml_uwr/blob/fall2019/lectures/05_adabost_demo.ipynb), or try to encode the categorical variables using the [1-Hot Encoder](https://scikit-learn.org/stable/modules/generated/sklearn.preprocessing.OneHotEncoder.html)."
      ]
    },
    {
      "cell_type": "markdown",
      "metadata": {
        "id": "DT3I9u-gWMub"
      },
      "source": [
        "#### Spliting the data into train and test samples"
      ]
    },
    {
      "cell_type": "code",
      "metadata": {
        "colab": {
          "base_uri": "https://localhost:8080/",
          "height": 204
        },
        "id": "ymqtlptLRVLF",
        "outputId": "e7c1f6dd-5867-4ee5-ed50-f48e7a0b1a6a"
      },
      "source": [
        "german_df.head()"
      ],
      "execution_count": null,
      "outputs": [
        {
          "output_type": "execute_result",
          "data": {
            "text/html": [
              "<div>\n",
              "<style scoped>\n",
              "    .dataframe tbody tr th:only-of-type {\n",
              "        vertical-align: middle;\n",
              "    }\n",
              "\n",
              "    .dataframe tbody tr th {\n",
              "        vertical-align: top;\n",
              "    }\n",
              "\n",
              "    .dataframe thead th {\n",
              "        text-align: right;\n",
              "    }\n",
              "</style>\n",
              "<table border=\"1\" class=\"dataframe\">\n",
              "  <thead>\n",
              "    <tr style=\"text-align: right;\">\n",
              "      <th></th>\n",
              "      <th>A1</th>\n",
              "      <th>A2</th>\n",
              "      <th>A3</th>\n",
              "      <th>A4</th>\n",
              "      <th>A5</th>\n",
              "      <th>A6</th>\n",
              "      <th>A7</th>\n",
              "      <th>A8</th>\n",
              "      <th>A9</th>\n",
              "      <th>A10</th>\n",
              "      <th>A11</th>\n",
              "      <th>A12</th>\n",
              "      <th>A13</th>\n",
              "      <th>A14</th>\n",
              "      <th>A15</th>\n",
              "      <th>A16</th>\n",
              "      <th>A17</th>\n",
              "      <th>A18</th>\n",
              "      <th>A19</th>\n",
              "      <th>A20</th>\n",
              "      <th>target</th>\n",
              "    </tr>\n",
              "  </thead>\n",
              "  <tbody>\n",
              "    <tr>\n",
              "      <th>0</th>\n",
              "      <td>A11</td>\n",
              "      <td>6</td>\n",
              "      <td>A34</td>\n",
              "      <td>A43</td>\n",
              "      <td>1169</td>\n",
              "      <td>A65</td>\n",
              "      <td>A75</td>\n",
              "      <td>4</td>\n",
              "      <td>A93</td>\n",
              "      <td>A101</td>\n",
              "      <td>4</td>\n",
              "      <td>A121</td>\n",
              "      <td>67</td>\n",
              "      <td>A143</td>\n",
              "      <td>A152</td>\n",
              "      <td>2</td>\n",
              "      <td>A173</td>\n",
              "      <td>1</td>\n",
              "      <td>A192</td>\n",
              "      <td>A201</td>\n",
              "      <td>1</td>\n",
              "    </tr>\n",
              "    <tr>\n",
              "      <th>1</th>\n",
              "      <td>A12</td>\n",
              "      <td>48</td>\n",
              "      <td>A32</td>\n",
              "      <td>A43</td>\n",
              "      <td>5951</td>\n",
              "      <td>A61</td>\n",
              "      <td>A73</td>\n",
              "      <td>2</td>\n",
              "      <td>A92</td>\n",
              "      <td>A101</td>\n",
              "      <td>2</td>\n",
              "      <td>A121</td>\n",
              "      <td>22</td>\n",
              "      <td>A143</td>\n",
              "      <td>A152</td>\n",
              "      <td>1</td>\n",
              "      <td>A173</td>\n",
              "      <td>1</td>\n",
              "      <td>A191</td>\n",
              "      <td>A201</td>\n",
              "      <td>2</td>\n",
              "    </tr>\n",
              "    <tr>\n",
              "      <th>2</th>\n",
              "      <td>A14</td>\n",
              "      <td>12</td>\n",
              "      <td>A34</td>\n",
              "      <td>A46</td>\n",
              "      <td>2096</td>\n",
              "      <td>A61</td>\n",
              "      <td>A74</td>\n",
              "      <td>2</td>\n",
              "      <td>A93</td>\n",
              "      <td>A101</td>\n",
              "      <td>3</td>\n",
              "      <td>A121</td>\n",
              "      <td>49</td>\n",
              "      <td>A143</td>\n",
              "      <td>A152</td>\n",
              "      <td>1</td>\n",
              "      <td>A172</td>\n",
              "      <td>2</td>\n",
              "      <td>A191</td>\n",
              "      <td>A201</td>\n",
              "      <td>1</td>\n",
              "    </tr>\n",
              "    <tr>\n",
              "      <th>3</th>\n",
              "      <td>A11</td>\n",
              "      <td>42</td>\n",
              "      <td>A32</td>\n",
              "      <td>A42</td>\n",
              "      <td>7882</td>\n",
              "      <td>A61</td>\n",
              "      <td>A74</td>\n",
              "      <td>2</td>\n",
              "      <td>A93</td>\n",
              "      <td>A103</td>\n",
              "      <td>4</td>\n",
              "      <td>A122</td>\n",
              "      <td>45</td>\n",
              "      <td>A143</td>\n",
              "      <td>A153</td>\n",
              "      <td>1</td>\n",
              "      <td>A173</td>\n",
              "      <td>2</td>\n",
              "      <td>A191</td>\n",
              "      <td>A201</td>\n",
              "      <td>1</td>\n",
              "    </tr>\n",
              "    <tr>\n",
              "      <th>4</th>\n",
              "      <td>A11</td>\n",
              "      <td>24</td>\n",
              "      <td>A33</td>\n",
              "      <td>A40</td>\n",
              "      <td>4870</td>\n",
              "      <td>A61</td>\n",
              "      <td>A73</td>\n",
              "      <td>3</td>\n",
              "      <td>A93</td>\n",
              "      <td>A101</td>\n",
              "      <td>4</td>\n",
              "      <td>A124</td>\n",
              "      <td>53</td>\n",
              "      <td>A143</td>\n",
              "      <td>A153</td>\n",
              "      <td>2</td>\n",
              "      <td>A173</td>\n",
              "      <td>2</td>\n",
              "      <td>A191</td>\n",
              "      <td>A201</td>\n",
              "      <td>2</td>\n",
              "    </tr>\n",
              "  </tbody>\n",
              "</table>\n",
              "</div>"
            ],
            "text/plain": [
              "    A1  A2   A3   A4    A5   A6   A7  ...   A15 A16   A17  A18   A19   A20 target\n",
              "0  A11   6  A34  A43  1169  A65  A75  ...  A152   2  A173    1  A192  A201      1\n",
              "1  A12  48  A32  A43  5951  A61  A73  ...  A152   1  A173    1  A191  A201      2\n",
              "2  A14  12  A34  A46  2096  A61  A74  ...  A152   1  A172    2  A191  A201      1\n",
              "3  A11  42  A32  A42  7882  A61  A74  ...  A153   1  A173    2  A191  A201      1\n",
              "4  A11  24  A33  A40  4870  A61  A73  ...  A153   2  A173    2  A191  A201      2\n",
              "\n",
              "[5 rows x 21 columns]"
            ]
          },
          "metadata": {
            "tags": []
          },
          "execution_count": 29
        }
      ]
    },
    {
      "cell_type": "code",
      "metadata": {
        "id": "u5T5kjgZDJXY"
      },
      "source": [
        "def generate_train_test_df(df, f = 0.7):\n",
        "    train_data = df.sample(frac = f, replace = False)\n",
        "    test_data = df.drop(train_data.index)\n",
        "    train_data = train_data.reset_index().drop('index', axis = 1)\n",
        "    test_data = test_data.reset_index().drop('index', axis = 1)\n",
        "    return train_data, test_data"
      ],
      "execution_count": null,
      "outputs": []
    },
    {
      "cell_type": "code",
      "metadata": {
        "id": "43DPNZbIVgMt"
      },
      "source": [
        "train_data, test_data = generate_train_test_df(german_df)"
      ],
      "execution_count": null,
      "outputs": []
    },
    {
      "cell_type": "code",
      "metadata": {
        "colab": {
          "base_uri": "https://localhost:8080/",
          "height": 297
        },
        "id": "QyIu_6sQWBfU",
        "outputId": "66b97936-2619-4301-a833-aa131c9d286e"
      },
      "source": [
        "train_data.describe()"
      ],
      "execution_count": null,
      "outputs": [
        {
          "output_type": "execute_result",
          "data": {
            "text/html": [
              "<div>\n",
              "<style scoped>\n",
              "    .dataframe tbody tr th:only-of-type {\n",
              "        vertical-align: middle;\n",
              "    }\n",
              "\n",
              "    .dataframe tbody tr th {\n",
              "        vertical-align: top;\n",
              "    }\n",
              "\n",
              "    .dataframe thead th {\n",
              "        text-align: right;\n",
              "    }\n",
              "</style>\n",
              "<table border=\"1\" class=\"dataframe\">\n",
              "  <thead>\n",
              "    <tr style=\"text-align: right;\">\n",
              "      <th></th>\n",
              "      <th>A2</th>\n",
              "      <th>A5</th>\n",
              "      <th>A8</th>\n",
              "      <th>A11</th>\n",
              "      <th>A13</th>\n",
              "      <th>A16</th>\n",
              "      <th>A18</th>\n",
              "      <th>target</th>\n",
              "    </tr>\n",
              "  </thead>\n",
              "  <tbody>\n",
              "    <tr>\n",
              "      <th>count</th>\n",
              "      <td>700.000000</td>\n",
              "      <td>700.000000</td>\n",
              "      <td>700.000000</td>\n",
              "      <td>700.000000</td>\n",
              "      <td>700.000000</td>\n",
              "      <td>700.000000</td>\n",
              "      <td>700.000000</td>\n",
              "      <td>700.000000</td>\n",
              "    </tr>\n",
              "    <tr>\n",
              "      <th>mean</th>\n",
              "      <td>20.645714</td>\n",
              "      <td>3265.345714</td>\n",
              "      <td>2.955714</td>\n",
              "      <td>2.837143</td>\n",
              "      <td>35.367143</td>\n",
              "      <td>1.397143</td>\n",
              "      <td>1.148571</td>\n",
              "      <td>1.304286</td>\n",
              "    </tr>\n",
              "    <tr>\n",
              "      <th>std</th>\n",
              "      <td>11.909899</td>\n",
              "      <td>2776.465055</td>\n",
              "      <td>1.138246</td>\n",
              "      <td>1.097164</td>\n",
              "      <td>11.262675</td>\n",
              "      <td>0.570614</td>\n",
              "      <td>0.355920</td>\n",
              "      <td>0.460433</td>\n",
              "    </tr>\n",
              "    <tr>\n",
              "      <th>min</th>\n",
              "      <td>4.000000</td>\n",
              "      <td>276.000000</td>\n",
              "      <td>1.000000</td>\n",
              "      <td>1.000000</td>\n",
              "      <td>19.000000</td>\n",
              "      <td>1.000000</td>\n",
              "      <td>1.000000</td>\n",
              "      <td>1.000000</td>\n",
              "    </tr>\n",
              "    <tr>\n",
              "      <th>25%</th>\n",
              "      <td>12.000000</td>\n",
              "      <td>1373.500000</td>\n",
              "      <td>2.000000</td>\n",
              "      <td>2.000000</td>\n",
              "      <td>27.000000</td>\n",
              "      <td>1.000000</td>\n",
              "      <td>1.000000</td>\n",
              "      <td>1.000000</td>\n",
              "    </tr>\n",
              "    <tr>\n",
              "      <th>50%</th>\n",
              "      <td>18.000000</td>\n",
              "      <td>2330.000000</td>\n",
              "      <td>3.000000</td>\n",
              "      <td>3.000000</td>\n",
              "      <td>33.000000</td>\n",
              "      <td>1.000000</td>\n",
              "      <td>1.000000</td>\n",
              "      <td>1.000000</td>\n",
              "    </tr>\n",
              "    <tr>\n",
              "      <th>75%</th>\n",
              "      <td>24.000000</td>\n",
              "      <td>3951.500000</td>\n",
              "      <td>4.000000</td>\n",
              "      <td>4.000000</td>\n",
              "      <td>42.000000</td>\n",
              "      <td>2.000000</td>\n",
              "      <td>1.000000</td>\n",
              "      <td>2.000000</td>\n",
              "    </tr>\n",
              "    <tr>\n",
              "      <th>max</th>\n",
              "      <td>60.000000</td>\n",
              "      <td>15945.000000</td>\n",
              "      <td>4.000000</td>\n",
              "      <td>4.000000</td>\n",
              "      <td>75.000000</td>\n",
              "      <td>4.000000</td>\n",
              "      <td>2.000000</td>\n",
              "      <td>2.000000</td>\n",
              "    </tr>\n",
              "  </tbody>\n",
              "</table>\n",
              "</div>"
            ],
            "text/plain": [
              "               A2            A5          A8  ...         A16         A18      target\n",
              "count  700.000000    700.000000  700.000000  ...  700.000000  700.000000  700.000000\n",
              "mean    20.645714   3265.345714    2.955714  ...    1.397143    1.148571    1.304286\n",
              "std     11.909899   2776.465055    1.138246  ...    0.570614    0.355920    0.460433\n",
              "min      4.000000    276.000000    1.000000  ...    1.000000    1.000000    1.000000\n",
              "25%     12.000000   1373.500000    2.000000  ...    1.000000    1.000000    1.000000\n",
              "50%     18.000000   2330.000000    3.000000  ...    1.000000    1.000000    1.000000\n",
              "75%     24.000000   3951.500000    4.000000  ...    2.000000    1.000000    2.000000\n",
              "max     60.000000  15945.000000    4.000000  ...    4.000000    2.000000    2.000000\n",
              "\n",
              "[8 rows x 8 columns]"
            ]
          },
          "metadata": {
            "tags": []
          },
          "execution_count": 430
        }
      ]
    },
    {
      "cell_type": "code",
      "metadata": {
        "colab": {
          "base_uri": "https://localhost:8080/",
          "height": 297
        },
        "id": "teZM1H2FWGr0",
        "outputId": "92703f1b-29d4-4d3c-bbd8-b55c02926a3a"
      },
      "source": [
        "test_data.describe()"
      ],
      "execution_count": null,
      "outputs": [
        {
          "output_type": "execute_result",
          "data": {
            "text/html": [
              "<div>\n",
              "<style scoped>\n",
              "    .dataframe tbody tr th:only-of-type {\n",
              "        vertical-align: middle;\n",
              "    }\n",
              "\n",
              "    .dataframe tbody tr th {\n",
              "        vertical-align: top;\n",
              "    }\n",
              "\n",
              "    .dataframe thead th {\n",
              "        text-align: right;\n",
              "    }\n",
              "</style>\n",
              "<table border=\"1\" class=\"dataframe\">\n",
              "  <thead>\n",
              "    <tr style=\"text-align: right;\">\n",
              "      <th></th>\n",
              "      <th>A2</th>\n",
              "      <th>A5</th>\n",
              "      <th>A8</th>\n",
              "      <th>A11</th>\n",
              "      <th>A13</th>\n",
              "      <th>A16</th>\n",
              "      <th>A18</th>\n",
              "      <th>target</th>\n",
              "    </tr>\n",
              "  </thead>\n",
              "  <tbody>\n",
              "    <tr>\n",
              "      <th>count</th>\n",
              "      <td>300.000000</td>\n",
              "      <td>300.000000</td>\n",
              "      <td>300.000000</td>\n",
              "      <td>300.000000</td>\n",
              "      <td>300.000000</td>\n",
              "      <td>300.000000</td>\n",
              "      <td>300.000000</td>\n",
              "      <td>300.000000</td>\n",
              "    </tr>\n",
              "    <tr>\n",
              "      <th>mean</th>\n",
              "      <td>20.286667</td>\n",
              "      <td>3303.433333</td>\n",
              "      <td>2.986667</td>\n",
              "      <td>2.966667</td>\n",
              "      <td>35.590000</td>\n",
              "      <td>1.423333</td>\n",
              "      <td>1.156667</td>\n",
              "      <td>1.283333</td>\n",
              "    </tr>\n",
              "    <tr>\n",
              "      <th>std</th>\n",
              "      <td>11.820472</td>\n",
              "      <td>2890.927280</td>\n",
              "      <td>1.109320</td>\n",
              "      <td>1.099812</td>\n",
              "      <td>11.797705</td>\n",
              "      <td>0.615401</td>\n",
              "      <td>0.364094</td>\n",
              "      <td>0.451370</td>\n",
              "    </tr>\n",
              "    <tr>\n",
              "      <th>min</th>\n",
              "      <td>4.000000</td>\n",
              "      <td>250.000000</td>\n",
              "      <td>1.000000</td>\n",
              "      <td>1.000000</td>\n",
              "      <td>19.000000</td>\n",
              "      <td>1.000000</td>\n",
              "      <td>1.000000</td>\n",
              "      <td>1.000000</td>\n",
              "    </tr>\n",
              "    <tr>\n",
              "      <th>25%</th>\n",
              "      <td>12.000000</td>\n",
              "      <td>1322.750000</td>\n",
              "      <td>2.000000</td>\n",
              "      <td>2.000000</td>\n",
              "      <td>27.000000</td>\n",
              "      <td>1.000000</td>\n",
              "      <td>1.000000</td>\n",
              "      <td>1.000000</td>\n",
              "    </tr>\n",
              "    <tr>\n",
              "      <th>50%</th>\n",
              "      <td>18.000000</td>\n",
              "      <td>2373.500000</td>\n",
              "      <td>3.000000</td>\n",
              "      <td>3.000000</td>\n",
              "      <td>33.000000</td>\n",
              "      <td>1.000000</td>\n",
              "      <td>1.000000</td>\n",
              "      <td>1.000000</td>\n",
              "    </tr>\n",
              "    <tr>\n",
              "      <th>75%</th>\n",
              "      <td>24.000000</td>\n",
              "      <td>3956.500000</td>\n",
              "      <td>4.000000</td>\n",
              "      <td>4.000000</td>\n",
              "      <td>42.000000</td>\n",
              "      <td>2.000000</td>\n",
              "      <td>1.000000</td>\n",
              "      <td>2.000000</td>\n",
              "    </tr>\n",
              "    <tr>\n",
              "      <th>max</th>\n",
              "      <td>60.000000</td>\n",
              "      <td>15653.000000</td>\n",
              "      <td>4.000000</td>\n",
              "      <td>4.000000</td>\n",
              "      <td>75.000000</td>\n",
              "      <td>4.000000</td>\n",
              "      <td>2.000000</td>\n",
              "      <td>2.000000</td>\n",
              "    </tr>\n",
              "  </tbody>\n",
              "</table>\n",
              "</div>"
            ],
            "text/plain": [
              "               A2            A5          A8  ...         A16         A18      target\n",
              "count  300.000000    300.000000  300.000000  ...  300.000000  300.000000  300.000000\n",
              "mean    20.286667   3303.433333    2.986667  ...    1.423333    1.156667    1.283333\n",
              "std     11.820472   2890.927280    1.109320  ...    0.615401    0.364094    0.451370\n",
              "min      4.000000    250.000000    1.000000  ...    1.000000    1.000000    1.000000\n",
              "25%     12.000000   1322.750000    2.000000  ...    1.000000    1.000000    1.000000\n",
              "50%     18.000000   2373.500000    3.000000  ...    1.000000    1.000000    1.000000\n",
              "75%     24.000000   3956.500000    4.000000  ...    2.000000    1.000000    2.000000\n",
              "max     60.000000  15653.000000    4.000000  ...    4.000000    2.000000    2.000000\n",
              "\n",
              "[8 rows x 8 columns]"
            ]
          },
          "metadata": {
            "tags": []
          },
          "execution_count": 32
        }
      ]
    },
    {
      "cell_type": "markdown",
      "metadata": {
        "id": "49DSkwaMbDbj"
      },
      "source": [
        "#### Regular decision tree for german credit data"
      ]
    },
    {
      "cell_type": "code",
      "metadata": {
        "id": "cG03liQFY7d_"
      },
      "source": [
        "german_tree = Tree(train_data, criterion = 'infogain_ratio')"
      ],
      "execution_count": null,
      "outputs": []
    },
    {
      "cell_type": "code",
      "metadata": {
        "colab": {
          "base_uri": "https://localhost:8080/"
        },
        "id": "ZdEOz_GyZJ2P",
        "outputId": "d7e6cb06-b32b-4efc-ff25-7c06806afa28"
      },
      "source": [
        "errors = 0\n",
        "for index, sample in test_data.iterrows():\n",
        "    target_val = german_tree.classify(sample)\n",
        "    if target_val != sample['target']:\n",
        "        errors += 1\n",
        "\n",
        "print(f\"Test dataset size: {test_data.shape[0]}, number of misclassified samples: {errors}, error rate: {errors/test_data.shape[0] * 100:.3f}%\")"
      ],
      "execution_count": null,
      "outputs": [
        {
          "output_type": "stream",
          "text": [
            "Test dataset size: 300, number of misclassified samples: 100, error rate: 33.333%\n"
          ],
          "name": "stdout"
        }
      ]
    },
    {
      "cell_type": "markdown",
      "metadata": {
        "id": "ZRUoIyZizrS4"
      },
      "source": [
        "#### Random forest:"
      ]
    },
    {
      "cell_type": "code",
      "metadata": {
        "id": "J_WYSpJd2Gw9"
      },
      "source": [
        "class RandomForest():\n",
        "    def __init__(self, train_df, test_df, criterion = \"infogain\", no_trees = 5, nattrs = 3, verbose = True, train_method = 'bootstrap'):\n",
        "        self.criterion = criterion\n",
        "        self.no_trees = no_trees\n",
        "        self.nattrs = nattrs\n",
        "        self.verbose = verbose\n",
        "        self.train_method = train_method\n",
        "        self.train_df = train_df\n",
        "        self.test_df = test_df\n",
        "        self.trees = []\n",
        "        self.trees_errors = []\n",
        "        self.trees_OOB_errors = []\n",
        "        self.bootstrap_dfs = []\n",
        "        self.forest_partial_errors = []\n",
        "        self.variable_importance = {attribute: 0 for attribute in train_df.columns}\n",
        "        self.variable_occurence_count = {attribute: 0 for attribute in train_df.columns}\n",
        "\n",
        "    def generate_trees(self):\n",
        "        for i in range(self.no_trees):\n",
        "            if self.train_method == 'bootstrap':\n",
        "                self.bootstrap()\n",
        "            else:\n",
        "                self.tree_train_df = self.train_df\n",
        "            self.trees.append(Tree(self.tree_train_df, criterion = self.criterion, nattrs = self.nattrs))\n",
        "            if self.verbose:\n",
        "                self.calculate_errors(i)\n",
        "\n",
        "    def bootstrap(self):\n",
        "        self.tree_train_df = self.train_df.sample(n = self.train_df.shape[0], replace = True)\n",
        "        self.bootstrap_test_df = self.train_df.drop(self.tree_train_df.index)\n",
        "        self.bootstrap_dfs.append(self.tree_train_df.copy())\n",
        "\n",
        "    def calculate_errors(self, i):\n",
        "        self.trees_errors.append(self.calculate_tree_errors(i, self.test_df))\n",
        "        self.trees_OOB_errors.append(self.calculate_tree_errors(i, self.bootstrap_test_df))\n",
        "        self.forest_partial_errors.append(self.calculate_forest_errors(i, self.test_df))\n",
        "\n",
        "    def calculate_variable_importance(self):\n",
        "        for i in range(self.no_trees):\n",
        "            self.__update_tree_var_importance(i)\n",
        "        res = self.variable_importance.copy()\n",
        "        for variable_name in self.variable_importance.keys():\n",
        "            if self.variable_occurence_count[variable_name] != 0:\n",
        "                res[variable_name] /= self.variable_occurence_count[variable_name]\n",
        "        return res\n",
        "\n",
        "    def __update_tree_var_importance(self, tree_index):\n",
        "        def dfs(node):\n",
        "            if node.split == None:\n",
        "                return\n",
        "            else:\n",
        "                assert node.split.purity_gain != None \n",
        "                self.variable_importance[node.split.attr] += node.split.purity_gain\n",
        "                self.variable_occurence_count[node.split.attr] += 1\n",
        "                for subtree in node.split.iter_subtrees():\n",
        "                    dfs(subtree)\n",
        "        dfs(self.trees[tree_index])\n",
        "\n",
        "    def calculate_tree_errors(self, tree_index, test_df):\n",
        "        errors = 0\n",
        "        for sample_index, sample in test_df.iterrows():\n",
        "            target_val = self.trees[tree_index].classify(sample)\n",
        "            if target_val != sample['target']:\n",
        "                errors += 1\n",
        "        return errors\n",
        "\n",
        "    def calculate_forest_errors(self, ntrees, test_df):\n",
        "        errors = 0 \n",
        "        for sample_index, sample in test_df.iterrows():\n",
        "            forest_counts = {}\n",
        "            for tree_index in range(ntrees + 1):\n",
        "                target_from_tree = self.trees[tree_index].classify(sample)\n",
        "                forest_counts[target_from_tree] = forest_counts.get(target_from_tree, 0) + 1\n",
        "            max_key = max(forest_counts, key=forest_counts.get)\n",
        "            if max_key != sample['target']:\n",
        "                errors += 1\n",
        "        return errors\n",
        "\n",
        "    def calculate_forest_OOB_error(self):\n",
        "        N = len(self.trees)\n",
        "        errors = 0\n",
        "        for sample_index, sample in self.train_df.iterrows():\n",
        "            forest_counts = {}\n",
        "            #iterating over all trees\n",
        "            for i in range(N):\n",
        "                if sample_index not in self.bootstrap_dfs[i].index:\n",
        "                    target_from_tree = self.trees[i].classify(sample)\n",
        "                    forest_counts[target_from_tree] = forest_counts.get(target_from_tree, 0) + 1\n",
        "            if forest_counts:\n",
        "                max_key = max(forest_counts, key=forest_counts.get)\n",
        "                if max_key != sample['target']:\n",
        "                    # if sample is misclassified \n",
        "                    errors += 1\n",
        "        return errors\n",
        "\n",
        "    def calculate_agreement(self):\n",
        "        #works only for numerical targets!\n",
        "        no_samples = self.test_df.shape[0]\n",
        "        results = np.zeros(shape = (self.no_trees, no_samples))\n",
        "        for i in range(self.no_trees):\n",
        "            print(i, no_samples)\n",
        "            results[i:i+1] = np.array([self.trees[i].classify(self.test_df.loc[j]) for j in range(no_samples)])\n",
        "        agreement = 0\n",
        "        for i in range(self.no_trees - 1):\n",
        "            for j in range(i+1, self.no_trees):\n",
        "                current_agreement = 0\n",
        "                for sample_index in range(no_samples):\n",
        "                    if results[i][sample_index] == results[j][sample_index]:\n",
        "                        current_agreement += 1\n",
        "                agreement += current_agreement / no_samples\n",
        "        return agreement * 100 / ((self.no_trees-1) * self.no_trees / 2)\n",
        "\n",
        "    def show_details(self, print_all = True, print_agreement = True):\n",
        "        print(f\"nattrs = {self.nattrs}, number of trees = {self.no_trees}\")\n",
        "        if not self.verbose or self.train_method != 'bootstrap': \n",
        "            return\n",
        "        test_size = self.test_df.shape[0]\n",
        "        train_size = self.train_df.shape[0]\n",
        "        forest_error_rates = np.array(self.forest_partial_errors)/test_size * 100\n",
        "        trees_error_rates = np.array(self.trees_errors)/test_size * 100\n",
        "        trees_oob_errors = np.array(self.trees_OOB_errors)/test_size * 100\n",
        "        forest_OOB_error = self.calculate_forest_OOB_error()/train_size * 100\n",
        "        if print_all:\n",
        "            for i in range(self.no_trees):\n",
        "                print(f\"{i}. Forest error rate: {forest_error_rates[i]:.3f}%   Tree {i} error rate: {trees_error_rates[i]:.3f}%    \" +\n",
        "                    f\"Tree {i} OOB error: {trees_oob_errors[i]:.3f}%\")\n",
        "        print(f\"\\nForest OOB error: {forest_OOB_error:.3f}%\")\n",
        "        print(f\"Forest error rate: {forest_error_rates[-1]:.3f}%\")\n",
        "        print(f\"Mean trees error rate: {np.mean(trees_error_rates):.3f}%\")\n",
        "        if print_agreement:\n",
        "            print(f\"Mean trees agreement: {self.calculate_agreement():.3f}%\")\n",
        "\n",
        "    def get_forest_error_rate(self):\n",
        "        test_size = self.test_df.shape[0]\n",
        "        forest_error_rates = np.array(self.forest_partial_errors)/test_size * 100\n",
        "        return forest_error_rates[-1]"
      ],
      "execution_count": null,
      "outputs": []
    },
    {
      "cell_type": "code",
      "metadata": {
        "id": "IZkV6W9rA9Sl",
        "colab": {
          "base_uri": "https://localhost:8080/"
        },
        "outputId": "f6d644c5-51a6-4e21-a7e0-283b685a0c8f"
      },
      "source": [
        "randomForest_ = RandomForest(train_data, test_data, no_trees = 25, nattrs = 1, criterion = \"infogain_ratio\")\n",
        "randomForest_.generate_trees()\n",
        "randomForest_.show_details()"
      ],
      "execution_count": null,
      "outputs": [
        {
          "output_type": "stream",
          "text": [
            "nattrs = 1, number of trees = 25\n",
            "0. Forest error rate: 38.667%   Tree 0 error rate: 38.667%    Tree 0 OOB error: 38.000%\n",
            "1. Forest error rate: 38.667%   Tree 1 error rate: 33.000%    Tree 1 OOB error: 30.667%\n",
            "2. Forest error rate: 31.000%   Tree 2 error rate: 34.667%    Tree 2 OOB error: 27.667%\n",
            "3. Forest error rate: 31.000%   Tree 3 error rate: 33.000%    Tree 3 OOB error: 26.000%\n",
            "4. Forest error rate: 29.333%   Tree 4 error rate: 39.333%    Tree 4 OOB error: 32.333%\n",
            "5. Forest error rate: 30.000%   Tree 5 error rate: 35.000%    Tree 5 OOB error: 30.667%\n",
            "6. Forest error rate: 27.667%   Tree 6 error rate: 36.333%    Tree 6 OOB error: 25.667%\n",
            "7. Forest error rate: 29.333%   Tree 7 error rate: 41.333%    Tree 7 OOB error: 34.333%\n",
            "8. Forest error rate: 28.000%   Tree 8 error rate: 35.333%    Tree 8 OOB error: 32.667%\n",
            "9. Forest error rate: 28.333%   Tree 9 error rate: 31.333%    Tree 9 OOB error: 33.000%\n",
            "10. Forest error rate: 27.333%   Tree 10 error rate: 40.333%    Tree 10 OOB error: 29.000%\n",
            "11. Forest error rate: 26.667%   Tree 11 error rate: 32.000%    Tree 11 OOB error: 31.333%\n",
            "12. Forest error rate: 26.333%   Tree 12 error rate: 33.333%    Tree 12 OOB error: 33.000%\n",
            "13. Forest error rate: 27.667%   Tree 13 error rate: 41.333%    Tree 13 OOB error: 30.000%\n",
            "14. Forest error rate: 27.667%   Tree 14 error rate: 32.333%    Tree 14 OOB error: 33.667%\n",
            "15. Forest error rate: 26.333%   Tree 15 error rate: 37.667%    Tree 15 OOB error: 30.000%\n",
            "16. Forest error rate: 26.667%   Tree 16 error rate: 37.333%    Tree 16 OOB error: 33.667%\n",
            "17. Forest error rate: 26.667%   Tree 17 error rate: 40.667%    Tree 17 OOB error: 30.000%\n",
            "18. Forest error rate: 25.667%   Tree 18 error rate: 32.000%    Tree 18 OOB error: 29.333%\n",
            "19. Forest error rate: 26.333%   Tree 19 error rate: 35.000%    Tree 19 OOB error: 33.667%\n",
            "20. Forest error rate: 25.000%   Tree 20 error rate: 37.333%    Tree 20 OOB error: 31.000%\n",
            "21. Forest error rate: 25.333%   Tree 21 error rate: 36.333%    Tree 21 OOB error: 36.000%\n",
            "22. Forest error rate: 25.333%   Tree 22 error rate: 39.000%    Tree 22 OOB error: 32.667%\n",
            "23. Forest error rate: 25.667%   Tree 23 error rate: 36.000%    Tree 23 OOB error: 33.667%\n",
            "24. Forest error rate: 25.667%   Tree 24 error rate: 34.000%    Tree 24 OOB error: 33.333%\n",
            "\n",
            "Forest OOB error: 30.286%\n",
            "Forest error rate: 25.667%\n",
            "Mean trees error rate: 36.107%\n",
            "Mean trees agreement: 61.627%\n"
          ],
          "name": "stdout"
        }
      ]
    },
    {
      "cell_type": "code",
      "metadata": {
        "id": "FQP7HIFoSHZa",
        "colab": {
          "base_uri": "https://localhost:8080/"
        },
        "outputId": "2f07048e-515d-467f-c5c5-532d9a67279d"
      },
      "source": [
        "randomForest_ = RandomForest(train_data, test_data, no_trees = 25, nattrs = 2, criterion = \"infogain_ratio\")\n",
        "randomForest_.generate_trees()\n",
        "randomForest_.show_details()"
      ],
      "execution_count": null,
      "outputs": [
        {
          "output_type": "stream",
          "text": [
            "nattrs = 2, number of trees = 25\n",
            "0. Forest error rate: 32.000%   Tree 0 error rate: 32.000%    Tree 0 OOB error: 31.333%\n",
            "1. Forest error rate: 32.000%   Tree 1 error rate: 33.333%    Tree 1 OOB error: 34.333%\n",
            "2. Forest error rate: 28.333%   Tree 2 error rate: 36.000%    Tree 2 OOB error: 26.667%\n",
            "3. Forest error rate: 27.333%   Tree 3 error rate: 36.000%    Tree 3 OOB error: 36.333%\n",
            "4. Forest error rate: 28.000%   Tree 4 error rate: 34.000%    Tree 4 OOB error: 33.000%\n",
            "5. Forest error rate: 28.000%   Tree 5 error rate: 36.000%    Tree 5 OOB error: 29.000%\n",
            "6. Forest error rate: 28.000%   Tree 6 error rate: 40.333%    Tree 6 OOB error: 30.333%\n",
            "7. Forest error rate: 28.333%   Tree 7 error rate: 39.000%    Tree 7 OOB error: 33.333%\n",
            "8. Forest error rate: 26.333%   Tree 8 error rate: 35.333%    Tree 8 OOB error: 32.333%\n",
            "9. Forest error rate: 26.000%   Tree 9 error rate: 34.000%    Tree 9 OOB error: 28.667%\n",
            "10. Forest error rate: 26.667%   Tree 10 error rate: 32.667%    Tree 10 OOB error: 27.333%\n",
            "11. Forest error rate: 25.000%   Tree 11 error rate: 37.667%    Tree 11 OOB error: 32.333%\n",
            "12. Forest error rate: 28.000%   Tree 12 error rate: 37.333%    Tree 12 OOB error: 31.667%\n",
            "13. Forest error rate: 27.000%   Tree 13 error rate: 35.000%    Tree 13 OOB error: 30.333%\n",
            "14. Forest error rate: 28.667%   Tree 14 error rate: 32.333%    Tree 14 OOB error: 30.333%\n",
            "15. Forest error rate: 24.333%   Tree 15 error rate: 32.333%    Tree 15 OOB error: 25.333%\n",
            "16. Forest error rate: 27.333%   Tree 16 error rate: 36.333%    Tree 16 OOB error: 34.000%\n",
            "17. Forest error rate: 24.667%   Tree 17 error rate: 33.000%    Tree 17 OOB error: 31.000%\n",
            "18. Forest error rate: 25.667%   Tree 18 error rate: 31.333%    Tree 18 OOB error: 31.667%\n",
            "19. Forest error rate: 25.000%   Tree 19 error rate: 40.000%    Tree 19 OOB error: 34.333%\n",
            "20. Forest error rate: 25.667%   Tree 20 error rate: 36.333%    Tree 20 OOB error: 35.000%\n",
            "21. Forest error rate: 25.667%   Tree 21 error rate: 35.333%    Tree 21 OOB error: 34.333%\n",
            "22. Forest error rate: 26.333%   Tree 22 error rate: 38.000%    Tree 22 OOB error: 28.000%\n",
            "23. Forest error rate: 25.333%   Tree 23 error rate: 33.000%    Tree 23 OOB error: 30.333%\n",
            "24. Forest error rate: 25.667%   Tree 24 error rate: 36.000%    Tree 24 OOB error: 30.667%\n",
            "\n",
            "Forest OOB error: 30.571%\n",
            "Forest error rate: 25.667%\n",
            "Mean trees error rate: 35.307%\n",
            "Mean trees agreement: 61.196%\n"
          ],
          "name": "stdout"
        }
      ]
    },
    {
      "cell_type": "code",
      "metadata": {
        "colab": {
          "base_uri": "https://localhost:8080/"
        },
        "id": "LLQIlN1BbjvN",
        "outputId": "5da618b1-1f49-48ba-a26e-b089129856ce"
      },
      "source": [
        "randomForest_ = RandomForest(train_data, test_data, no_trees = 25, nattrs = 3, criterion = \"infogain_ratio\")\n",
        "randomForest_.generate_trees()\n",
        "randomForest_.show_details()"
      ],
      "execution_count": null,
      "outputs": [
        {
          "output_type": "stream",
          "text": [
            "nattrs = 3, number of trees = 25\n",
            "0. Forest error rate: 35.667%   Tree 0 error rate: 35.667%    Tree 0 OOB error: 30.333%\n",
            "1. Forest error rate: 35.667%   Tree 1 error rate: 38.667%    Tree 1 OOB error: 30.333%\n",
            "2. Forest error rate: 35.000%   Tree 2 error rate: 36.333%    Tree 2 OOB error: 30.667%\n",
            "3. Forest error rate: 33.667%   Tree 3 error rate: 36.000%    Tree 3 OOB error: 36.000%\n",
            "4. Forest error rate: 33.000%   Tree 4 error rate: 36.667%    Tree 4 OOB error: 32.667%\n",
            "5. Forest error rate: 32.000%   Tree 5 error rate: 33.667%    Tree 5 OOB error: 30.667%\n",
            "6. Forest error rate: 28.000%   Tree 6 error rate: 26.333%    Tree 6 OOB error: 26.667%\n",
            "7. Forest error rate: 28.000%   Tree 7 error rate: 36.333%    Tree 7 OOB error: 31.667%\n",
            "8. Forest error rate: 26.333%   Tree 8 error rate: 35.333%    Tree 8 OOB error: 33.667%\n",
            "9. Forest error rate: 26.000%   Tree 9 error rate: 27.667%    Tree 9 OOB error: 28.333%\n",
            "10. Forest error rate: 23.333%   Tree 10 error rate: 28.667%    Tree 10 OOB error: 28.333%\n",
            "11. Forest error rate: 24.667%   Tree 11 error rate: 36.667%    Tree 11 OOB error: 33.333%\n",
            "12. Forest error rate: 24.667%   Tree 12 error rate: 35.667%    Tree 12 OOB error: 29.333%\n",
            "13. Forest error rate: 25.333%   Tree 13 error rate: 35.667%    Tree 13 OOB error: 33.000%\n",
            "14. Forest error rate: 24.667%   Tree 14 error rate: 38.667%    Tree 14 OOB error: 30.000%\n",
            "15. Forest error rate: 24.667%   Tree 15 error rate: 34.333%    Tree 15 OOB error: 30.333%\n",
            "16. Forest error rate: 24.333%   Tree 16 error rate: 34.000%    Tree 16 OOB error: 32.000%\n",
            "17. Forest error rate: 24.000%   Tree 17 error rate: 39.333%    Tree 17 OOB error: 33.000%\n",
            "18. Forest error rate: 24.667%   Tree 18 error rate: 35.000%    Tree 18 OOB error: 31.000%\n",
            "19. Forest error rate: 25.333%   Tree 19 error rate: 34.333%    Tree 19 OOB error: 31.333%\n",
            "20. Forest error rate: 26.000%   Tree 20 error rate: 39.000%    Tree 20 OOB error: 30.333%\n",
            "21. Forest error rate: 25.333%   Tree 21 error rate: 34.333%    Tree 21 OOB error: 30.667%\n",
            "22. Forest error rate: 24.667%   Tree 22 error rate: 33.000%    Tree 22 OOB error: 27.333%\n",
            "23. Forest error rate: 25.000%   Tree 23 error rate: 35.667%    Tree 23 OOB error: 30.000%\n",
            "24. Forest error rate: 24.000%   Tree 24 error rate: 30.333%    Tree 24 OOB error: 27.333%\n",
            "\n",
            "Forest OOB error: 28.143%\n",
            "Forest error rate: 24.000%\n",
            "Mean trees error rate: 34.693%\n",
            "Mean trees agreement: 62.422%\n"
          ],
          "name": "stdout"
        }
      ]
    },
    {
      "cell_type": "markdown",
      "metadata": {
        "id": "zqXHNa4x06zk"
      },
      "source": [
        "*Define the agreement between two trees to be the fraction of test samples on which the answer of the two trees is identical. What is the mean aggreement of trees in the forest? How does it change with the number of attributes considered for each split? What is the impact of training each tree in the forest on a bootstrap sample, rather than on the full train set?*\n",
        "\n",
        "Mean agreement slightly increases as the number of attributes increases. The reason of that is probably the fact that the bigger the number of attributes is, the less random the trees are and they become more similar. Due to training each tree in the forest on a boostrap sample the chances of overfitting the model are smaller than if we would train them on the full train set."
      ]
    },
    {
      "cell_type": "markdown",
      "metadata": {
        "id": "nVRow7mXYL4_"
      },
      "source": [
        "# Problem 5: Implement Variable importance using Random Forests [2p]\n",
        "\n",
        "Implement the two measures of variable importance in a Random Forest:\n",
        "1. Total purity inclreas for all splits using this variable\n",
        "2. Forest performance decrease on replacing an attribute with random data.\n",
        "\n",
        "Then analyze the variable importance on some datasets (e.g. mushroom and german credit)."
      ]
    },
    {
      "cell_type": "markdown",
      "metadata": {
        "id": "3zaqr2mtbb5S"
      },
      "source": [
        "#### 1. Total purity increase for all splits using given variable.\n",
        "Forests with 400 trees, nattrs = 1, criterion = infogain_ratio. Variables are sorted in ascending order based on their importance. "
      ]
    },
    {
      "cell_type": "markdown",
      "metadata": {
        "id": "JCaNDrMA-9HI"
      },
      "source": [
        "##### German credit df"
      ]
    },
    {
      "cell_type": "code",
      "metadata": {
        "colab": {
          "base_uri": "https://localhost:8080/"
        },
        "id": "SgVAaoMVgDnf",
        "outputId": "f86c237d-e7a3-4826-c355-6e2324ec18a6"
      },
      "source": [
        "%%time\n",
        "train_data, test_data = generate_train_test_df(german_df)\n",
        "\n",
        "forest = RandomForest(train_data, test_data, no_trees = 400, nattrs = 1, criterion = \"infogain_ratio\", verbose = False)\n",
        "forest.generate_trees()"
      ],
      "execution_count": null,
      "outputs": [
        {
          "output_type": "stream",
          "text": [
            "CPU times: user 52min 39s, sys: 5.16 s, total: 52min 44s\n",
            "Wall time: 52min 39s\n"
          ],
          "name": "stdout"
        }
      ]
    },
    {
      "cell_type": "code",
      "metadata": {
        "colab": {
          "base_uri": "https://localhost:8080/"
        },
        "id": "CGnTy0PIAOGB",
        "outputId": "cb5aec06-5449-49d3-a813-54e83a4c35bc"
      },
      "source": [
        "var_imp = forest.calculate_variable_importance()\n",
        "var_imp.pop('target', None)\n",
        "sorted(var_imp.items(), key=lambda x: x[1])"
      ],
      "execution_count": null,
      "outputs": [
        {
          "output_type": "execute_result",
          "data": {
            "text/plain": [
              "[('A20', 0.21603583077626315),\n",
              " ('A10', 0.28338445000806756),\n",
              " ('A18', 0.2853302777047332),\n",
              " ('A16', 0.32311862771699),\n",
              " ('A19', 0.3265623286274245),\n",
              " ('A15', 0.3571654964077068),\n",
              " ('A17', 0.36074868952373673),\n",
              " ('A9', 0.36775757112516977),\n",
              " ('A8', 0.36832106609522286),\n",
              " ('A11', 0.38061506431986203),\n",
              " ('A14', 0.3842730688016078),\n",
              " ('A3', 0.39929018297439106),\n",
              " ('A6', 0.3998397048835015),\n",
              " ('A12', 0.40272492733006043),\n",
              " ('A2', 0.415928207129965),\n",
              " ('A7', 0.4303340473248484),\n",
              " ('A13', 0.4352509076334342),\n",
              " ('A4', 0.4365816900575375),\n",
              " ('A5', 0.4535617219674011),\n",
              " ('A1', 0.4631652226085116)]"
            ]
          },
          "metadata": {
            "tags": []
          },
          "execution_count": 212
        }
      ]
    },
    {
      "cell_type": "markdown",
      "metadata": {
        "id": "dnQUrN2s_BOI"
      },
      "source": [
        "##### Mushroom df\n",
        "400 trees, nattrs = 1, variables sorted in ascending order"
      ]
    },
    {
      "cell_type": "code",
      "metadata": {
        "colab": {
          "base_uri": "https://localhost:8080/"
        },
        "id": "H8Ehm-iu_Ijp",
        "outputId": "4986df18-9f76-49cf-c416-40be03426268"
      },
      "source": [
        "%%time\n",
        "train_data, test_data = generate_train_test_df(mushroom_df)\n",
        "\n",
        "forest_mushroom = RandomForest(train_data, test_data, no_trees = 400, nattrs = 1, criterion = \"infogain_ratio\", verbose = False)\n",
        "forest_mushroom.generate_trees()"
      ],
      "execution_count": null,
      "outputs": [
        {
          "output_type": "stream",
          "text": [
            "CPU times: user 14min, sys: 1.57 s, total: 14min 2s\n",
            "Wall time: 14min 1s\n"
          ],
          "name": "stdout"
        }
      ]
    },
    {
      "cell_type": "code",
      "metadata": {
        "colab": {
          "base_uri": "https://localhost:8080/"
        },
        "id": "dMnTRXxmZTIE",
        "outputId": "c7ce37ca-f92b-45f1-8a34-b97da3321589"
      },
      "source": [
        "var_imp = forest_mushroom.calculate_variable_importance()\n",
        "var_imp.pop('target', None)\n",
        "sorted(var_imp.items(), key=lambda x: x[1])"
      ],
      "execution_count": null,
      "outputs": [
        {
          "output_type": "execute_result",
          "data": {
            "text/plain": [
              "[('veil-type', 0),\n",
              " ('cap-shape', 0.16536424752889828),\n",
              " ('gill-color', 0.21177449072600443),\n",
              " ('stalk-color-above-ring', 0.22858054533716582),\n",
              " ('cap-color', 0.24182503597398888),\n",
              " ('cap-surface', 0.248159922407753),\n",
              " ('stalk-color-below-ring', 0.2637558305605225),\n",
              " ('gill-attachment', 0.29019219075086566),\n",
              " ('veil-color', 0.2954998738987876),\n",
              " ('population', 0.31858487672324937),\n",
              " ('stalk-surface-above-ring', 0.3661100395527055),\n",
              " ('stalk-surface-below-ring', 0.3973914937436698),\n",
              " ('spore-print-color', 0.42988713147969654),\n",
              " ('habitat', 0.45958902540891),\n",
              " ('ring-number', 0.4668257370261126),\n",
              " ('gill-spacing', 0.4860848647270391),\n",
              " ('stalk-shape', 0.5790013559111821),\n",
              " ('ring-type', 0.6187669702265892),\n",
              " ('stalk-root', 0.6846001165369254),\n",
              " ('odor', 0.6980087482865988),\n",
              " ('bruises?', 0.7002598885026743),\n",
              " ('gill-size', 0.7188907284484639)]"
            ]
          },
          "metadata": {
            "tags": []
          },
          "execution_count": 219
        }
      ]
    },
    {
      "cell_type": "markdown",
      "metadata": {
        "id": "ndtbKYx_atj0"
      },
      "source": [
        "#### 2. Forest performance decrease on replacing an attribute with random data. "
      ]
    },
    {
      "cell_type": "code",
      "metadata": {
        "id": "Pqs2na7eDGgg"
      },
      "source": [
        "def var_importance_random_data(train_data, test_data, no_trees = 20, nattrs = 2, criterion = 'infogain_ratio'):\n",
        "    var_vals = {}\n",
        "    all_forests = []\n",
        "    i = 0\n",
        "    for column in train_data.columns:\n",
        "        if column != 'target':\n",
        "            train_data_copy = train_data.copy()\n",
        "            test_data_copy = test_data.copy()\n",
        "            train_data_copy[column] = np.array([np.random.randint(0, 2) for _ in range(train_data_copy.shape[0])])\n",
        "            test_data_copy[column] = np.array([np.random.randint(0, 2) for _ in range(test_data_copy.shape[0])])\n",
        "            all_forests.append(RandomForest(train_data_copy, test_data_copy, criterion = criterion, no_trees = no_trees, nattrs = nattrs, verbose = True))\n",
        "            all_forests[i].generate_trees()\n",
        "            var_vals[column] = all_forests[i].get_forest_error_rate()\n",
        "            i += 1\n",
        "    return var_vals, all_forests"
      ],
      "execution_count": null,
      "outputs": []
    },
    {
      "cell_type": "markdown",
      "metadata": {
        "id": "ZYSkqmZ4a4U1"
      },
      "source": [
        "##### German credit df\n",
        "I'm creating 5 forests, each consisting of 20 trees. Next, iterating over every attribute I replace its values with random data (0 or 1), create a forest consisting of 20 trees and compare its error rate with the average error rate of originally created 5 forests."
      ]
    },
    {
      "cell_type": "code",
      "metadata": {
        "id": "DFSDgiaUDw4o"
      },
      "source": [
        "train_data, test_data = generate_train_test_df(german_df)"
      ],
      "execution_count": null,
      "outputs": []
    },
    {
      "cell_type": "code",
      "metadata": {
        "id": "6GlLJQ9HlpPV"
      },
      "source": [
        "base_forests = []\n",
        "for i in range(5):\n",
        "    base_forests.append(RandomForest(train_data, test_data, criterion='infogain_ratio', no_trees = 20, nattrs = 2, verbose = True))\n",
        "    base_forests[i].generate_trees()"
      ],
      "execution_count": null,
      "outputs": []
    },
    {
      "cell_type": "code",
      "metadata": {
        "colab": {
          "base_uri": "https://localhost:8080/"
        },
        "id": "YrVHmhgJmsyv",
        "outputId": "3ddd5c58-1423-48da-cc38-e58eb31a0c82"
      },
      "source": [
        "base_error_rate = np.mean([base_forests[i].get_forest_error_rate() for i in range(5)])\n",
        "print(f\"base error rate: {base_error_rate:.3f}%\")"
      ],
      "execution_count": null,
      "outputs": [
        {
          "output_type": "stream",
          "text": [
            "base error rate: 24.267%\n"
          ],
          "name": "stdout"
        }
      ]
    },
    {
      "cell_type": "code",
      "metadata": {
        "id": "XHKxwPolwJV1"
      },
      "source": [
        "var_vals, forests = var_importance_random_data(train_data, test_data)"
      ],
      "execution_count": null,
      "outputs": []
    },
    {
      "cell_type": "markdown",
      "metadata": {
        "id": "WAfWKRNSFSNY"
      },
      "source": [
        "**Variables importance in ascending order:**<br/>\n",
        "(difference between average error rate of 5 forests and error rate of a forest without given variable - the bigger the value, the greater is the importance)"
      ]
    },
    {
      "cell_type": "code",
      "metadata": {
        "colab": {
          "base_uri": "https://localhost:8080/"
        },
        "id": "QLVyUC_FEkYi",
        "outputId": "ac235388-fb48-40a2-a095-83e6b1aa5b12"
      },
      "source": [
        "var_vals_subtracted = {key: var_vals[key] - base_error_rate for key in var_vals}\n",
        "sorted(var_vals_subtracted.items(), key=lambda x: x[1])"
      ],
      "execution_count": null,
      "outputs": [
        {
          "output_type": "execute_result",
          "data": {
            "text/plain": [
              "[('A9', -2.5999999999999943),\n",
              " ('A4', -1.2666666666666622),\n",
              " ('A18', -0.93333333333333),\n",
              " ('A19', -0.93333333333333),\n",
              " ('A13', -0.5999999999999943),\n",
              " ('A14', -0.5999999999999943),\n",
              " ('A17', -0.5999999999999943),\n",
              " ('A5', -0.26666666666666217),\n",
              " ('A12', 0.06666666666667354),\n",
              " ('A6', 0.4000000000000057),\n",
              " ('A10', 0.7333333333333378),\n",
              " ('A20', 0.7333333333333378),\n",
              " ('A7', 1.0666666666666735),\n",
              " ('A16', 1.0666666666666735),\n",
              " ('A15', 1.4000000000000021),\n",
              " ('A11', 1.7333333333333378),\n",
              " ('A2', 2.4000000000000057),\n",
              " ('A3', 2.4000000000000057),\n",
              " ('A8', 2.733333333333338),\n",
              " ('A1', 3.4000000000000057)]"
            ]
          },
          "metadata": {
            "tags": []
          },
          "execution_count": 361
        }
      ]
    },
    {
      "cell_type": "markdown",
      "metadata": {
        "id": "zPS_RGYv1NHE"
      },
      "source": [
        "##### Mushroom df"
      ]
    },
    {
      "cell_type": "code",
      "metadata": {
        "id": "Em_cNIHq1tSv"
      },
      "source": [
        "train_data, test_data = generate_train_test_df(mushroom_df)"
      ],
      "execution_count": null,
      "outputs": []
    },
    {
      "cell_type": "code",
      "metadata": {
        "id": "sV5uZwg01W5n"
      },
      "source": [
        "base_forests_mushroom = []\n",
        "for i in range(5):\n",
        "    base_forests_mushroom.append(RandomForest(train_data, test_data, criterion='infogain_ratio', no_trees = 20, nattrs = 2, verbose = True))\n",
        "    base_forests_mushroom[i].generate_trees()"
      ],
      "execution_count": null,
      "outputs": []
    },
    {
      "cell_type": "code",
      "metadata": {
        "colab": {
          "base_uri": "https://localhost:8080/"
        },
        "id": "qiQaekgM1ZnG",
        "outputId": "a4015f9c-1b67-4003-dc8d-576f145dfa2e"
      },
      "source": [
        "base_error_rate_mushroom = np.mean([base_forests_mushroom[i].get_forest_error_rate() for i in range(5)])\n",
        "print(f\"{base_error_rate_mushroom:.3f}%\")"
      ],
      "execution_count": null,
      "outputs": [
        {
          "output_type": "stream",
          "text": [
            "0.000%\n"
          ],
          "name": "stdout"
        }
      ]
    },
    {
      "cell_type": "code",
      "metadata": {
        "colab": {
          "base_uri": "https://localhost:8080/"
        },
        "id": "zSqVYTdr1cJv",
        "outputId": "d5c199f3-8cc6-4eb7-d2c4-9fa29ab71cf0"
      },
      "source": [
        "var_vals_mushroom, forests_mushroom = var_importance_random_data(train_data, test_data)"
      ],
      "execution_count": null,
      "outputs": [
        {
          "output_type": "stream",
          "text": [
            "100%|██████████| 23/23 [31:42<00:00, 82.72s/it]\n"
          ],
          "name": "stderr"
        }
      ]
    },
    {
      "cell_type": "markdown",
      "metadata": {
        "id": "UvkGCcukKoWr"
      },
      "source": [
        "**Variables importance in ascending order:**\n",
        "(difference between average error rate of 5 forests and error rate of a forest without given variable)"
      ]
    },
    {
      "cell_type": "code",
      "metadata": {
        "colab": {
          "base_uri": "https://localhost:8080/"
        },
        "id": "PjCtBbhwKqdQ",
        "outputId": "40ee3d8c-81ab-461a-96f9-0b0f06e053d4"
      },
      "source": [
        "var_vals_subtracted = {key: var_vals_mushroom[key] - base_error_rate_mushroom for key in var_vals_mushroom}\n",
        "sorted(var_vals_subtracted.items(), key=lambda x: x[1])"
      ],
      "execution_count": null,
      "outputs": [
        {
          "output_type": "execute_result",
          "data": {
            "text/plain": [
              "[('cap-shape', 0.0),\n",
              " ('cap-surface', 0.0),\n",
              " ('cap-color', 0.0),\n",
              " ('bruises?', 0.0),\n",
              " ('odor', 0.0),\n",
              " ('gill-attachment', 0.0),\n",
              " ('gill-spacing', 0.0),\n",
              " ('gill-size', 0.0),\n",
              " ('gill-color', 0.0),\n",
              " ('stalk-shape', 0.0),\n",
              " ('stalk-root', 0.0),\n",
              " ('stalk-surface-above-ring', 0.0),\n",
              " ('stalk-surface-below-ring', 0.0),\n",
              " ('stalk-color-above-ring', 0.0),\n",
              " ('stalk-color-below-ring', 0.0),\n",
              " ('veil-type', 0.0),\n",
              " ('veil-color', 0.0),\n",
              " ('ring-number', 0.0),\n",
              " ('ring-type', 0.0),\n",
              " ('spore-print-color', 0.0),\n",
              " ('population', 0.0),\n",
              " ('habitat', 0.0)]"
            ]
          },
          "metadata": {
            "tags": []
          },
          "execution_count": 382
        }
      ]
    },
    {
      "cell_type": "markdown",
      "metadata": {
        "id": "n8FjZ_wYjdW7"
      },
      "source": [
        "I've tried lowering the number of trees in the forest and changing the criterion but it turns out mushrooms are too easy to classify for decision trees - error rates are 0% or very close to 0% even for forests with only one tree. Eventually I've reduced the size of the training data - now it's 5% of all data and testing data is 95%. Criterion is infogain, number of trees in a forest is 5 and number of attributes is 1."
      ]
    },
    {
      "cell_type": "code",
      "metadata": {
        "id": "se5MRQMFqcZ9"
      },
      "source": [
        "base_forests_mushroom = []\n",
        "for i in range(5):\n",
        "    base_forests_mushroom.append(RandomForest(train_data, test_data, criterion='infogain', no_trees = 5, nattrs = 1))\n",
        "    base_forests_mushroom[i].generate_trees()"
      ],
      "execution_count": null,
      "outputs": []
    },
    {
      "cell_type": "code",
      "metadata": {
        "id": "AOUQ0dlksCv9",
        "colab": {
          "base_uri": "https://localhost:8080/"
        },
        "outputId": "d56ba338-b92c-46fc-fd46-2059deac333b"
      },
      "source": [
        "base_error_rate_mushroom = np.mean([base_forests_mushroom[i].get_forest_error_rate() for i in range(5)])\n",
        "print(f\"base error rate: {base_error_rate_mushroom:.3f}%\")"
      ],
      "execution_count": null,
      "outputs": [
        {
          "output_type": "stream",
          "text": [
            "base error rate: 1.016%\n"
          ],
          "name": "stdout"
        }
      ]
    },
    {
      "cell_type": "code",
      "metadata": {
        "id": "p4xWIESKqyg0"
      },
      "source": [
        "var_vals_mushroom, forests_mushroom = var_importance_random_data(train_data, test_data, nattrs = 1, no_trees = 5, criterion = 'infogain')"
      ],
      "execution_count": null,
      "outputs": []
    },
    {
      "cell_type": "code",
      "metadata": {
        "id": "7qw8m9_6q1CE",
        "colab": {
          "base_uri": "https://localhost:8080/"
        },
        "outputId": "a75e922f-dda5-4362-ee1d-02cb13d0c92f"
      },
      "source": [
        "var_vals_subtracted = {key: var_vals_mushroom[key] - base_error_rate_mushroom for key in var_vals_mushroom}\n",
        "sorted(var_vals_subtracted.items(), key=lambda x: x[1])"
      ],
      "execution_count": null,
      "outputs": [
        {
          "output_type": "execute_result",
          "data": {
            "text/plain": [
              "[('cap-shape', -0.34205752785695764),\n",
              " ('veil-color', -0.2643171806167399),\n",
              " ('stalk-root', -0.1995335579165587),\n",
              " ('cap-color', 0.0596009328841669),\n",
              " ('habitat', 0.09847110650427582),\n",
              " ('ring-number', 0.11142783104431198),\n",
              " ('gill-color', 0.16325472920445727),\n",
              " ('gill-spacing', 0.17621145374449365),\n",
              " ('population', 0.34464887276496503),\n",
              " ('stalk-surface-below-ring', 0.3576055973050014),\n",
              " ('gill-attachment', 0.4483026690852552),\n",
              " ('bruises?', 0.46125939362529156),\n",
              " ('stalk-surface-above-ring', 0.6037833635656908),\n",
              " ('cap-surface', 0.7074371598859808),\n",
              " ('stalk-shape', 0.8499611298263798),\n",
              " ('ring-type', 0.9795283752267427),\n",
              " ('odor', 1.0443119979269242),\n",
              " ('stalk-color-above-ring', 1.122052345167142),\n",
              " ('gill-size', 1.1479657942472148),\n",
              " ('spore-print-color', 1.3034464887276496),\n",
              " ('stalk-color-below-ring', 1.4071002850479402),\n",
              " ('veil-type', 1.5625809795283754)]"
            ]
          },
          "metadata": {
            "tags": []
          },
          "execution_count": 457
        }
      ]
    },
    {
      "cell_type": "markdown",
      "metadata": {
        "id": "nHW2hwFqmIdg"
      },
      "source": [
        "#NOT SOLVED: Problem 5: More analysis using Random Forests [3bp]\n",
        "\n",
        "Implement the following extra analysis using a Random Forest:\n",
        "- data clustering\n",
        "- data visualizatoin using MultiDimensional Scaling (https://en.wikipedia.org/wiki/Multidimensional_scaling, https://scikit-learn.org/stable/modules/generated/sklearn.manifold.MDS.html).\n",
        "\n",
        "For details see https://www.stat.berkeley.edu/~breiman/Using_random_forests_v4.0.pdf."
      ]
    },
    {
      "cell_type": "code",
      "metadata": {
        "id": "4ybLlgywVfuR"
      },
      "source": [
        ""
      ],
      "execution_count": null,
      "outputs": []
    },
    {
      "cell_type": "code",
      "metadata": {
        "id": "Dw59Nq9lbU1X"
      },
      "source": [
        ""
      ],
      "execution_count": null,
      "outputs": []
    }
  ]
}