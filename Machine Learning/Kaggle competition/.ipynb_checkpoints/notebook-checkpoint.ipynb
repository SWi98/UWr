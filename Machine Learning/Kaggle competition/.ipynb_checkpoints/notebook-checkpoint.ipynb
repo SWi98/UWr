{
 "cells": [
  {
   "cell_type": "code",
   "execution_count": 125,
   "metadata": {},
   "outputs": [],
   "source": [
    "import numpy as np\n",
    "import sys\n",
    "from sklearn.svm import LinearSVC\n",
    "from sklearn.datasets import load_iris\n",
    "from sklearn.feature_selection import SelectFromModel\n",
    "from sklearn.feature_selection import RFE\n",
    "from sklearn.datasets import make_classification\n",
    "from sklearn.ensemble import ExtraTreesClassifier\n",
    "from sklearn.preprocessing import LabelEncoder\n",
    "from sklearn import *\n",
    "from sklearn import linear_model\n",
    "import pandas as pd\n",
    "import scipy.stats as sstats\n",
    "import seaborn as sns\n",
    "import sklearn.ensemble\n",
    "import sklearn.tree\n",
    "from sklearn import preprocessing\n",
    "from sklearn.feature_selection import SelectKBest, chi2, f_classif\n",
    "label_encoder = LabelEncoder()"
   ]
  },
  {
   "cell_type": "markdown",
   "metadata": {},
   "source": [
    "# Data read"
   ]
  },
  {
   "cell_type": "code",
   "execution_count": 84,
   "metadata": {},
   "outputs": [],
   "source": [
    "def normalize(series):\n",
    "    if series.max() == series.min():\n",
    "        if np.sum(series) == 0:\n",
    "            return series\n",
    "        else:\n",
    "            return series/np.sum(series)\n",
    "    else:\n",
    "        return (series - series.min()) / (series.max() - series.min())"
   ]
  },
  {
   "cell_type": "code",
   "execution_count": 110,
   "metadata": {},
   "outputs": [],
   "source": [
    "def normalize_df(df):\n",
    "    res = df.apply(normalize, axis = 0)\n",
    "    res['target'] = df['target']\n",
    "    return res"
   ]
  },
  {
   "cell_type": "code",
   "execution_count": 111,
   "metadata": {},
   "outputs": [],
   "source": [
    "df = pd.read_csv(\"https://raw.githubusercontent.com/SWi98/UWr/master/Machine%20Learning/Kaggle%20competition/public_data.csv\")\n",
    "df['target'] = df['target'].apply(lambda x : 0 if x == 0 else 1)"
   ]
  },
  {
   "cell_type": "code",
   "execution_count": 112,
   "metadata": {},
   "outputs": [],
   "source": [
    "for x,y in enumerate(df.dtypes):\n",
    "    if y == object:\n",
    "        df[str(x)] = label_encoder.fit_transform(df[str(x)])\n",
    "        \n",
    "new_df = df.copy()\n",
    "for column in df.columns:\n",
    "    if df[column].var() == 0:\n",
    "        new_df = new_df.drop(columns = [column])\n",
    "df = normalize_df(new_df)"
   ]
  },
  {
   "cell_type": "code",
   "execution_count": 113,
   "metadata": {
    "scrolled": true
   },
   "outputs": [
    {
     "data": {
      "text/html": [
       "<div>\n",
       "<style scoped>\n",
       "    .dataframe tbody tr th:only-of-type {\n",
       "        vertical-align: middle;\n",
       "    }\n",
       "\n",
       "    .dataframe tbody tr th {\n",
       "        vertical-align: top;\n",
       "    }\n",
       "\n",
       "    .dataframe thead th {\n",
       "        text-align: right;\n",
       "    }\n",
       "</style>\n",
       "<table border=\"1\" class=\"dataframe\">\n",
       "  <thead>\n",
       "    <tr style=\"text-align: right;\">\n",
       "      <th></th>\n",
       "      <th>target</th>\n",
       "      <th>1</th>\n",
       "      <th>2</th>\n",
       "      <th>3</th>\n",
       "      <th>4</th>\n",
       "      <th>5</th>\n",
       "      <th>6</th>\n",
       "      <th>7</th>\n",
       "      <th>8</th>\n",
       "      <th>9</th>\n",
       "      <th>...</th>\n",
       "      <th>84</th>\n",
       "      <th>85</th>\n",
       "      <th>86</th>\n",
       "      <th>87</th>\n",
       "      <th>88</th>\n",
       "      <th>89</th>\n",
       "      <th>90</th>\n",
       "      <th>91</th>\n",
       "      <th>92</th>\n",
       "      <th>93</th>\n",
       "    </tr>\n",
       "  </thead>\n",
       "  <tbody>\n",
       "    <tr>\n",
       "      <th>0</th>\n",
       "      <td>0</td>\n",
       "      <td>0.560880</td>\n",
       "      <td>0.486848</td>\n",
       "      <td>0.193378</td>\n",
       "      <td>0.156993</td>\n",
       "      <td>0.837331</td>\n",
       "      <td>0.046318</td>\n",
       "      <td>0.188749</td>\n",
       "      <td>0.736078</td>\n",
       "      <td>0.441067</td>\n",
       "      <td>...</td>\n",
       "      <td>0.0</td>\n",
       "      <td>0.0</td>\n",
       "      <td>0.0</td>\n",
       "      <td>0.0</td>\n",
       "      <td>1.0</td>\n",
       "      <td>0.0</td>\n",
       "      <td>0.0</td>\n",
       "      <td>0.0</td>\n",
       "      <td>1.0</td>\n",
       "      <td>0.0</td>\n",
       "    </tr>\n",
       "    <tr>\n",
       "      <th>1</th>\n",
       "      <td>0</td>\n",
       "      <td>0.423642</td>\n",
       "      <td>0.499371</td>\n",
       "      <td>0.266511</td>\n",
       "      <td>0.220076</td>\n",
       "      <td>0.842890</td>\n",
       "      <td>0.050709</td>\n",
       "      <td>0.778227</td>\n",
       "      <td>0.928951</td>\n",
       "      <td>0.649959</td>\n",
       "      <td>...</td>\n",
       "      <td>0.0</td>\n",
       "      <td>0.0</td>\n",
       "      <td>0.0</td>\n",
       "      <td>1.0</td>\n",
       "      <td>1.0</td>\n",
       "      <td>0.0</td>\n",
       "      <td>0.0</td>\n",
       "      <td>1.0</td>\n",
       "      <td>0.0</td>\n",
       "      <td>0.0</td>\n",
       "    </tr>\n",
       "    <tr>\n",
       "      <th>2</th>\n",
       "      <td>0</td>\n",
       "      <td>0.399282</td>\n",
       "      <td>0.171443</td>\n",
       "      <td>0.236797</td>\n",
       "      <td>0.132421</td>\n",
       "      <td>0.218262</td>\n",
       "      <td>0.015060</td>\n",
       "      <td>0.478113</td>\n",
       "      <td>0.667013</td>\n",
       "      <td>0.204753</td>\n",
       "      <td>...</td>\n",
       "      <td>0.0</td>\n",
       "      <td>0.0</td>\n",
       "      <td>0.0</td>\n",
       "      <td>1.0</td>\n",
       "      <td>0.0</td>\n",
       "      <td>0.0</td>\n",
       "      <td>0.0</td>\n",
       "      <td>1.0</td>\n",
       "      <td>1.0</td>\n",
       "      <td>1.0</td>\n",
       "    </tr>\n",
       "    <tr>\n",
       "      <th>3</th>\n",
       "      <td>0</td>\n",
       "      <td>0.375238</td>\n",
       "      <td>0.233658</td>\n",
       "      <td>0.360073</td>\n",
       "      <td>0.331727</td>\n",
       "      <td>0.932510</td>\n",
       "      <td>0.042414</td>\n",
       "      <td>0.530401</td>\n",
       "      <td>0.462207</td>\n",
       "      <td>0.659867</td>\n",
       "      <td>...</td>\n",
       "      <td>0.0</td>\n",
       "      <td>0.0</td>\n",
       "      <td>0.0</td>\n",
       "      <td>0.0</td>\n",
       "      <td>1.0</td>\n",
       "      <td>0.0</td>\n",
       "      <td>0.0</td>\n",
       "      <td>1.0</td>\n",
       "      <td>1.0</td>\n",
       "      <td>1.0</td>\n",
       "    </tr>\n",
       "    <tr>\n",
       "      <th>4</th>\n",
       "      <td>0</td>\n",
       "      <td>0.506671</td>\n",
       "      <td>0.175119</td>\n",
       "      <td>0.237503</td>\n",
       "      <td>0.413926</td>\n",
       "      <td>0.197257</td>\n",
       "      <td>0.042699</td>\n",
       "      <td>0.388853</td>\n",
       "      <td>0.606791</td>\n",
       "      <td>0.355147</td>\n",
       "      <td>...</td>\n",
       "      <td>0.0</td>\n",
       "      <td>0.0</td>\n",
       "      <td>0.0</td>\n",
       "      <td>0.0</td>\n",
       "      <td>0.0</td>\n",
       "      <td>0.0</td>\n",
       "      <td>1.0</td>\n",
       "      <td>1.0</td>\n",
       "      <td>0.0</td>\n",
       "      <td>1.0</td>\n",
       "    </tr>\n",
       "    <tr>\n",
       "      <th>...</th>\n",
       "      <td>...</td>\n",
       "      <td>...</td>\n",
       "      <td>...</td>\n",
       "      <td>...</td>\n",
       "      <td>...</td>\n",
       "      <td>...</td>\n",
       "      <td>...</td>\n",
       "      <td>...</td>\n",
       "      <td>...</td>\n",
       "      <td>...</td>\n",
       "      <td>...</td>\n",
       "      <td>...</td>\n",
       "      <td>...</td>\n",
       "      <td>...</td>\n",
       "      <td>...</td>\n",
       "      <td>...</td>\n",
       "      <td>...</td>\n",
       "      <td>...</td>\n",
       "      <td>...</td>\n",
       "      <td>...</td>\n",
       "      <td>...</td>\n",
       "    </tr>\n",
       "    <tr>\n",
       "      <th>1016</th>\n",
       "      <td>1</td>\n",
       "      <td>0.366906</td>\n",
       "      <td>0.202684</td>\n",
       "      <td>0.359456</td>\n",
       "      <td>0.503119</td>\n",
       "      <td>0.867354</td>\n",
       "      <td>0.221396</td>\n",
       "      <td>0.275971</td>\n",
       "      <td>0.618822</td>\n",
       "      <td>0.734802</td>\n",
       "      <td>...</td>\n",
       "      <td>0.0</td>\n",
       "      <td>0.0</td>\n",
       "      <td>0.0</td>\n",
       "      <td>0.0</td>\n",
       "      <td>1.0</td>\n",
       "      <td>1.0</td>\n",
       "      <td>0.0</td>\n",
       "      <td>1.0</td>\n",
       "      <td>1.0</td>\n",
       "      <td>1.0</td>\n",
       "    </tr>\n",
       "    <tr>\n",
       "      <th>1017</th>\n",
       "      <td>0</td>\n",
       "      <td>0.473336</td>\n",
       "      <td>0.344834</td>\n",
       "      <td>0.162879</td>\n",
       "      <td>0.518355</td>\n",
       "      <td>0.413926</td>\n",
       "      <td>1.000000</td>\n",
       "      <td>0.515186</td>\n",
       "      <td>0.527635</td>\n",
       "      <td>0.563206</td>\n",
       "      <td>...</td>\n",
       "      <td>0.0</td>\n",
       "      <td>0.0</td>\n",
       "      <td>0.0</td>\n",
       "      <td>0.0</td>\n",
       "      <td>0.0</td>\n",
       "      <td>1.0</td>\n",
       "      <td>0.0</td>\n",
       "      <td>1.0</td>\n",
       "      <td>1.0</td>\n",
       "      <td>1.0</td>\n",
       "    </tr>\n",
       "    <tr>\n",
       "      <th>1018</th>\n",
       "      <td>0</td>\n",
       "      <td>0.643612</td>\n",
       "      <td>0.303509</td>\n",
       "      <td>0.233210</td>\n",
       "      <td>0.354637</td>\n",
       "      <td>0.122668</td>\n",
       "      <td>0.061363</td>\n",
       "      <td>0.372192</td>\n",
       "      <td>0.706580</td>\n",
       "      <td>0.351083</td>\n",
       "      <td>...</td>\n",
       "      <td>0.0</td>\n",
       "      <td>0.0</td>\n",
       "      <td>0.0</td>\n",
       "      <td>1.0</td>\n",
       "      <td>1.0</td>\n",
       "      <td>1.0</td>\n",
       "      <td>0.0</td>\n",
       "      <td>1.0</td>\n",
       "      <td>0.0</td>\n",
       "      <td>1.0</td>\n",
       "    </tr>\n",
       "    <tr>\n",
       "      <th>1019</th>\n",
       "      <td>0</td>\n",
       "      <td>0.467666</td>\n",
       "      <td>0.406235</td>\n",
       "      <td>0.111943</td>\n",
       "      <td>0.932510</td>\n",
       "      <td>0.298328</td>\n",
       "      <td>0.126440</td>\n",
       "      <td>0.559553</td>\n",
       "      <td>0.363296</td>\n",
       "      <td>0.295642</td>\n",
       "      <td>...</td>\n",
       "      <td>0.0</td>\n",
       "      <td>0.0</td>\n",
       "      <td>0.0</td>\n",
       "      <td>0.0</td>\n",
       "      <td>0.0</td>\n",
       "      <td>1.0</td>\n",
       "      <td>0.0</td>\n",
       "      <td>0.0</td>\n",
       "      <td>1.0</td>\n",
       "      <td>1.0</td>\n",
       "    </tr>\n",
       "    <tr>\n",
       "      <th>1020</th>\n",
       "      <td>0</td>\n",
       "      <td>0.654803</td>\n",
       "      <td>0.277809</td>\n",
       "      <td>0.265935</td>\n",
       "      <td>0.383124</td>\n",
       "      <td>0.413926</td>\n",
       "      <td>0.035765</td>\n",
       "      <td>0.518101</td>\n",
       "      <td>0.749736</td>\n",
       "      <td>0.442555</td>\n",
       "      <td>...</td>\n",
       "      <td>0.0</td>\n",
       "      <td>0.0</td>\n",
       "      <td>0.0</td>\n",
       "      <td>0.0</td>\n",
       "      <td>0.0</td>\n",
       "      <td>0.0</td>\n",
       "      <td>0.0</td>\n",
       "      <td>1.0</td>\n",
       "      <td>1.0</td>\n",
       "      <td>1.0</td>\n",
       "    </tr>\n",
       "  </tbody>\n",
       "</table>\n",
       "<p>1021 rows × 93 columns</p>\n",
       "</div>"
      ],
      "text/plain": [
       "      target         1         2         3         4         5         6  \\\n",
       "0          0  0.560880  0.486848  0.193378  0.156993  0.837331  0.046318   \n",
       "1          0  0.423642  0.499371  0.266511  0.220076  0.842890  0.050709   \n",
       "2          0  0.399282  0.171443  0.236797  0.132421  0.218262  0.015060   \n",
       "3          0  0.375238  0.233658  0.360073  0.331727  0.932510  0.042414   \n",
       "4          0  0.506671  0.175119  0.237503  0.413926  0.197257  0.042699   \n",
       "...      ...       ...       ...       ...       ...       ...       ...   \n",
       "1016       1  0.366906  0.202684  0.359456  0.503119  0.867354  0.221396   \n",
       "1017       0  0.473336  0.344834  0.162879  0.518355  0.413926  1.000000   \n",
       "1018       0  0.643612  0.303509  0.233210  0.354637  0.122668  0.061363   \n",
       "1019       0  0.467666  0.406235  0.111943  0.932510  0.298328  0.126440   \n",
       "1020       0  0.654803  0.277809  0.265935  0.383124  0.413926  0.035765   \n",
       "\n",
       "             7         8         9  ...   84   85   86   87   88   89   90  \\\n",
       "0     0.188749  0.736078  0.441067  ...  0.0  0.0  0.0  0.0  1.0  0.0  0.0   \n",
       "1     0.778227  0.928951  0.649959  ...  0.0  0.0  0.0  1.0  1.0  0.0  0.0   \n",
       "2     0.478113  0.667013  0.204753  ...  0.0  0.0  0.0  1.0  0.0  0.0  0.0   \n",
       "3     0.530401  0.462207  0.659867  ...  0.0  0.0  0.0  0.0  1.0  0.0  0.0   \n",
       "4     0.388853  0.606791  0.355147  ...  0.0  0.0  0.0  0.0  0.0  0.0  1.0   \n",
       "...        ...       ...       ...  ...  ...  ...  ...  ...  ...  ...  ...   \n",
       "1016  0.275971  0.618822  0.734802  ...  0.0  0.0  0.0  0.0  1.0  1.0  0.0   \n",
       "1017  0.515186  0.527635  0.563206  ...  0.0  0.0  0.0  0.0  0.0  1.0  0.0   \n",
       "1018  0.372192  0.706580  0.351083  ...  0.0  0.0  0.0  1.0  1.0  1.0  0.0   \n",
       "1019  0.559553  0.363296  0.295642  ...  0.0  0.0  0.0  0.0  0.0  1.0  0.0   \n",
       "1020  0.518101  0.749736  0.442555  ...  0.0  0.0  0.0  0.0  0.0  0.0  0.0   \n",
       "\n",
       "       91   92   93  \n",
       "0     0.0  1.0  0.0  \n",
       "1     1.0  0.0  0.0  \n",
       "2     1.0  1.0  1.0  \n",
       "3     1.0  1.0  1.0  \n",
       "4     1.0  0.0  1.0  \n",
       "...   ...  ...  ...  \n",
       "1016  1.0  1.0  1.0  \n",
       "1017  1.0  1.0  1.0  \n",
       "1018  1.0  0.0  1.0  \n",
       "1019  0.0  1.0  1.0  \n",
       "1020  1.0  1.0  1.0  \n",
       "\n",
       "[1021 rows x 93 columns]"
      ]
     },
     "execution_count": 113,
     "metadata": {},
     "output_type": "execute_result"
    }
   ],
   "source": [
    "df"
   ]
  },
  {
   "cell_type": "markdown",
   "metadata": {},
   "source": [
    "## Features to np.array"
   ]
  },
  {
   "cell_type": "code",
   "execution_count": 114,
   "metadata": {},
   "outputs": [],
   "source": [
    "target = np.array(df['target'])\n",
    "df = df.drop(columns=['target'])"
   ]
  },
  {
   "cell_type": "code",
   "execution_count": 115,
   "metadata": {},
   "outputs": [
    {
     "data": {
      "text/plain": [
       "(1021, 92)"
      ]
     },
     "execution_count": 115,
     "metadata": {},
     "output_type": "execute_result"
    }
   ],
   "source": [
    "df.shape"
   ]
  },
  {
   "cell_type": "code",
   "execution_count": 116,
   "metadata": {},
   "outputs": [],
   "source": [
    "features = np.array([np.array(df.iloc[:, i]) for i in range(0, len(df.columns))]).T.astype(np.float64)"
   ]
  },
  {
   "cell_type": "markdown",
   "metadata": {},
   "source": [
    "# Random Forest"
   ]
  },
  {
   "cell_type": "code",
   "execution_count": 119,
   "metadata": {},
   "outputs": [
    {
     "data": {
      "text/plain": [
       "ExtraTreesClassifier(n_estimators=500, random_state=0)"
      ]
     },
     "execution_count": 119,
     "metadata": {},
     "output_type": "execute_result"
    }
   ],
   "source": [
    "forest = ExtraTreesClassifier(n_estimators = 500, random_state = 0)\n",
    "forest.fit(features, target)"
   ]
  },
  {
   "cell_type": "code",
   "execution_count": 10,
   "metadata": {
    "collapsed": true
   },
   "outputs": [
    {
     "name": "stdout",
     "output_type": "stream",
     "text": [
      "Feature ranking:\n",
      "1. feature 21 (0.118990)\n",
      "2. feature 22 (0.017081)\n",
      "3. feature 10 (0.015547)\n",
      "4. feature 52 (0.015428)\n",
      "5. feature 16 (0.015262)\n",
      "6. feature 11 (0.015257)\n",
      "7. feature 14 (0.015240)\n",
      "8. feature 30 (0.015171)\n",
      "9. feature 19 (0.014400)\n",
      "10. feature 3 (0.014128)\n",
      "11. feature 25 (0.014078)\n",
      "12. feature 46 (0.014045)\n",
      "13. feature 33 (0.013919)\n",
      "14. feature 24 (0.013837)\n",
      "15. feature 64 (0.013771)\n",
      "16. feature 23 (0.013739)\n",
      "17. feature 4 (0.013529)\n",
      "18. feature 2 (0.013422)\n",
      "19. feature 7 (0.013003)\n",
      "20. feature 60 (0.012964)\n",
      "21. feature 9 (0.012917)\n",
      "22. feature 29 (0.012916)\n",
      "23. feature 8 (0.012864)\n",
      "24. feature 34 (0.012748)\n",
      "25. feature 28 (0.012672)\n",
      "26. feature 40 (0.012575)\n",
      "27. feature 12 (0.012567)\n",
      "28. feature 6 (0.012559)\n",
      "29. feature 0 (0.012538)\n",
      "30. feature 5 (0.012516)\n",
      "31. feature 32 (0.012473)\n",
      "32. feature 18 (0.012428)\n",
      "33. feature 1 (0.012352)\n",
      "34. feature 17 (0.012280)\n",
      "35. feature 31 (0.012224)\n",
      "36. feature 13 (0.012145)\n",
      "37. feature 35 (0.012059)\n",
      "38. feature 47 (0.012021)\n",
      "39. feature 27 (0.012008)\n",
      "40. feature 26 (0.011998)\n",
      "41. feature 15 (0.011889)\n",
      "42. feature 20 (0.011780)\n",
      "43. feature 39 (0.011460)\n",
      "44. feature 58 (0.010785)\n",
      "45. feature 66 (0.010207)\n",
      "46. feature 86 (0.010079)\n",
      "47. feature 70 (0.009633)\n",
      "48. feature 80 (0.009552)\n",
      "49. feature 88 (0.009404)\n",
      "50. feature 76 (0.009366)\n",
      "51. feature 49 (0.009355)\n",
      "52. feature 57 (0.009206)\n",
      "53. feature 87 (0.009157)\n",
      "54. feature 45 (0.009109)\n",
      "55. feature 77 (0.009039)\n",
      "56. feature 54 (0.009023)\n",
      "57. feature 90 (0.008903)\n",
      "58. feature 44 (0.008461)\n",
      "59. feature 78 (0.008382)\n",
      "60. feature 56 (0.008365)\n",
      "61. feature 36 (0.008346)\n",
      "62. feature 59 (0.008065)\n",
      "63. feature 38 (0.007909)\n",
      "64. feature 91 (0.007872)\n",
      "65. feature 37 (0.007591)\n",
      "66. feature 83 (0.007499)\n",
      "67. feature 43 (0.007384)\n",
      "68. feature 68 (0.006984)\n",
      "69. feature 92 (0.006946)\n",
      "70. feature 65 (0.006870)\n",
      "71. feature 62 (0.006808)\n",
      "72. feature 75 (0.006789)\n",
      "73. feature 48 (0.006511)\n",
      "74. feature 51 (0.006509)\n",
      "75. feature 42 (0.006256)\n",
      "76. feature 63 (0.006028)\n",
      "77. feature 71 (0.006025)\n",
      "78. feature 67 (0.005969)\n",
      "79. feature 74 (0.005443)\n",
      "80. feature 53 (0.005107)\n",
      "81. feature 61 (0.004436)\n",
      "82. feature 55 (0.003954)\n",
      "83. feature 50 (0.003544)\n",
      "84. feature 85 (0.002728)\n",
      "85. feature 84 (0.002606)\n",
      "86. feature 81 (0.002301)\n",
      "87. feature 73 (0.002235)\n",
      "88. feature 41 (0.002110)\n",
      "89. feature 89 (0.001981)\n",
      "90. feature 72 (0.001239)\n",
      "91. feature 69 (0.001114)\n",
      "92. feature 79 (0.000013)\n",
      "93. feature 82 (0.000000)\n"
     ]
    }
   ],
   "source": [
    "importances = forest.feature_importances_\n",
    "std = np.std([tree.feature_importances_ for tree in forest.estimators_],\n",
    "             axis=0)\n",
    "indices = np.argsort(importances)[::-1]\n",
    "\n",
    "# Print the feature ranking\n",
    "print(\"Feature ranking:\")\n",
    "\n",
    "for f in range(features.shape[1]):\n",
    "    print(\"%d. feature %d (%f)\" % (f + 1, indices[f], importances[indices[f]]))"
   ]
  },
  {
   "cell_type": "code",
   "execution_count": 13,
   "metadata": {
    "collapsed": true
   },
   "outputs": [
    {
     "name": "stdout",
     "output_type": "stream",
     "text": [
      "1,21\n",
      "1,22\n",
      "1,10\n",
      "1,52\n",
      "1,16\n",
      "1,11\n",
      "1,14\n",
      "1,30\n",
      "1,19\n",
      "1,3\n",
      "1,25\n",
      "1,46\n",
      "1,33\n",
      "1,24\n",
      "1,64\n",
      "1,23\n",
      "1,4\n",
      "1,2\n",
      "1,7\n",
      "1,60\n",
      "1,9\n",
      "1,29\n",
      "1,8\n",
      "1,34\n",
      "1,28\n",
      "1,40\n",
      "1,12\n",
      "1,6\n",
      "1,0\n",
      "1,5\n",
      "1,32\n",
      "1,18\n",
      "1,1\n",
      "1,17\n",
      "1,31\n",
      "1,13\n",
      "1,35\n",
      "1,47\n",
      "1,27\n",
      "1,26\n",
      "1,15\n",
      "1,20\n",
      "1,39\n",
      "1,58\n",
      "1,66\n",
      "1,86\n",
      "1,70\n",
      "1,80\n",
      "1,88\n",
      "1,76\n",
      "1,49\n",
      "1,57\n",
      "1,87\n",
      "1,45\n",
      "1,77\n",
      "1,54\n",
      "1,90\n",
      "1,44\n",
      "1,78\n",
      "1,56\n",
      "1,36\n",
      "1,59\n",
      "1,38\n",
      "1,91\n",
      "1,37\n",
      "1,83\n",
      "1,43\n",
      "1,68\n",
      "1,92\n",
      "1,65\n",
      "1,62\n",
      "1,75\n",
      "1,48\n",
      "1,51\n",
      "1,42\n",
      "1,63\n",
      "1,71\n",
      "1,67\n",
      "1,74\n",
      "1,53\n",
      "1,61\n",
      "1,55\n",
      "1,50\n",
      "1,85\n",
      "1,84\n",
      "1,81\n",
      "1,73\n",
      "1,41\n",
      "1,89\n",
      "1,72\n",
      "1,69\n",
      "1,79\n",
      "1,82\n"
     ]
    }
   ],
   "source": [
    "for f in range(features.shape[1]):\n",
    "    print(f\"1,{indices[f]}\")"
   ]
  },
  {
   "cell_type": "markdown",
   "metadata": {},
   "source": [
    "# RFE"
   ]
  },
  {
   "cell_type": "code",
   "execution_count": 258,
   "metadata": {},
   "outputs": [
    {
     "data": {
      "text/plain": [
       "array([32, 22, 18,  8, 12, 33, 26, 20, 13, 27,  2, 10, 35, 37,  6, 40,  5,\n",
       "       38, 28, 11, 41,  1,  3, 17,  7,  9, 34, 14, 30, 19,  4, 36, 23, 24,\n",
       "       21, 43, 54, 64, 58, 42, 29, 88, 70, 67, 60, 46, 16, 39, 73, 47, 83,\n",
       "       74, 15, 80, 44, 82, 62, 57, 45, 65, 25, 81, 69, 78, 31, 75, 50, 76,\n",
       "       66, 91, 51, 77, 90, 87, 79, 72, 52, 56, 61, 92, 48, 86, 93, 68, 85,\n",
       "       84, 49, 55, 53, 89, 59, 63, 71])"
      ]
     },
     "execution_count": 258,
     "metadata": {},
     "output_type": "execute_result"
    }
   ],
   "source": [
    "estimator = ExtraTreesClassifier(n_estimators=10000, random_state = 0)\n",
    "selector = RFE(estimator, n_features_to_select = 1, step = 1)\n",
    "selector = selector.fit(features, target)\n",
    "selector.support_\n",
    "selector.ranking_"
   ]
  },
  {
   "cell_type": "code",
   "execution_count": 260,
   "metadata": {},
   "outputs": [
    {
     "data": {
      "text/plain": [
       "array([21, 10, 22, 30, 16, 14, 24,  3, 25, 11, 19,  4,  8, 27, 52, 46, 23,\n",
       "        2, 29,  7, 34,  1, 32, 33, 60,  6,  9, 18, 40, 28, 64,  0,  5, 26,\n",
       "       12, 31, 13, 17, 47, 15, 20, 39, 35, 54, 58, 45, 49, 80, 86, 66, 70,\n",
       "       76, 88, 36, 87, 77, 57, 38, 90, 44, 78, 56, 91, 37, 59, 68, 43, 83,\n",
       "       62, 42, 92, 75, 48, 51, 65, 67, 71, 63, 74, 53, 61, 55, 50, 85, 84,\n",
       "       81, 73, 41, 89, 72, 69, 79, 82], dtype=int64)"
      ]
     },
     "execution_count": 260,
     "metadata": {},
     "output_type": "execute_result"
    }
   ],
   "source": [
    "np.argsort(selector.ranking_)"
   ]
  },
  {
   "cell_type": "code",
   "execution_count": 77,
   "metadata": {},
   "outputs": [
    {
     "data": {
      "text/plain": [
       "array([32, 22, 18,  8, 12, 33, 26, 20, 13, 27,  2, 10, 35, 37,  6, 40,  5,\n",
       "       38, 28, 11, 41,  1,  3, 17,  7,  9, 34, 14, 30, 19,  4, 36, 23, 24,\n",
       "       21, 43, 54, 64, 58, 42, 29, 88, 70, 67, 60, 46, 16, 39, 73, 47, 83,\n",
       "       74, 15, 80, 44, 82, 62, 57, 45, 65, 25, 81, 69, 78, 31, 75, 50, 76,\n",
       "       66, 91, 51, 77, 90, 87, 79, 72, 52, 56, 61, 92, 48, 86, 93, 68, 85,\n",
       "       84, 49, 55, 53, 89, 59, 63, 71])"
      ]
     },
     "execution_count": 77,
     "metadata": {},
     "output_type": "execute_result"
    }
   ],
   "source": [
    "estimator = ExtraTreesClassifier(n_estimators=10000, random_state = 0)\n",
    "selector = RFE(estimator, n_features_to_select = 1, step = 1)\n",
    "selector = selector.fit(features, target)\n",
    "selector.support_\n",
    "selector.ranking_"
   ]
  },
  {
   "cell_type": "code",
   "execution_count": 80,
   "metadata": {},
   "outputs": [
    {
     "data": {
      "text/plain": [
       "array([21, 10, 22, 30, 16, 14, 24,  3, 25, 11, 19,  4,  8, 27, 52, 46, 23,\n",
       "        2, 29,  7, 34,  1, 32, 33, 60,  6,  9, 18, 40, 28, 64,  0,  5, 26,\n",
       "       12, 31, 13, 17, 47, 15, 20, 39, 35, 54, 58, 45, 49, 80, 86, 66, 70,\n",
       "       76, 88, 36, 87, 77, 57, 38, 90, 44, 78, 56, 91, 37, 59, 68, 43, 83,\n",
       "       62, 42, 92, 75, 48, 51, 65, 67, 71, 63, 74, 53, 61, 55, 50, 85, 84,\n",
       "       81, 73, 41, 89, 72, 69, 79, 82], dtype=int64)"
      ]
     },
     "execution_count": 80,
     "metadata": {},
     "output_type": "execute_result"
    }
   ],
   "source": [
    "np.argsort(selector.ranking_)"
   ]
  },
  {
   "cell_type": "code",
   "execution_count": 81,
   "metadata": {},
   "outputs": [
    {
     "name": "stdout",
     "output_type": "stream",
     "text": [
      "1,21\n",
      "1,10\n",
      "1,22\n",
      "1,30\n",
      "1,16\n",
      "1,14\n",
      "1,24\n",
      "1,3\n",
      "1,25\n",
      "1,11\n",
      "1,19\n",
      "1,4\n",
      "1,8\n",
      "1,27\n",
      "1,52\n"
     ]
    }
   ],
   "source": [
    "best = np.argsort(selector.ranking_)\n",
    "for i in range(15):\n",
    "     print(f\"1,{best[i]}\")"
   ]
  },
  {
   "cell_type": "markdown",
   "metadata": {},
   "source": [
    "# Lasso"
   ]
  },
  {
   "cell_type": "code",
   "execution_count": 74,
   "metadata": {},
   "outputs": [],
   "source": [
    "fun = np.vectorize(lambda x: 1 if x != 0 else 0)"
   ]
  },
  {
   "cell_type": "code",
   "execution_count": 68,
   "metadata": {},
   "outputs": [],
   "source": [
    "result = np.zeros(93)\n",
    "for alpha in np.arange(0.0001, 0.1, 0.0001):\n",
    "    clf = linear_model.Lasso(alpha=alpha)\n",
    "    clf.fit(features, target)\n",
    "    result += fun(clf.coef_)"
   ]
  },
  {
   "cell_type": "code",
   "execution_count": 82,
   "metadata": {
    "collapsed": true
   },
   "outputs": [
    {
     "data": {
      "text/plain": [
       "array([1.02630080e-02, 8.51924026e-01, 6.16417233e-02, 1.67736866e+00,\n",
       "       3.49024736e-01, 6.36557644e-03, 7.45027005e-02, 5.14889755e-01,\n",
       "       3.26231665e-01, 6.43798255e-02, 1.57425387e+00, 2.30540763e-02,\n",
       "       9.83050400e-03, 1.36893341e-02, 2.50368067e-02, 2.83836602e-01,\n",
       "       4.67229513e-01, 2.40907319e-01, 2.82110753e-01, 3.33046856e-02,\n",
       "       1.52220301e-01, 1.76017456e+02, 1.21456694e+00, 1.28780663e+00,\n",
       "       6.19423251e-02, 7.02842516e-01, 6.79386347e-02, 1.99625214e-02,\n",
       "       1.00492303e-02, 1.20545939e+00, 1.09716137e+00, 9.29732345e-02,\n",
       "       1.38762998e-01, 6.64517012e+02, 2.89667634e+02, 5.91312598e+00,\n",
       "       1.16394238e+00, 8.18208481e-02, 1.85477768e+00, 2.66473075e-01,\n",
       "       9.88702863e-01, 1.60870729e-02, 2.43971248e-02, 1.35815421e-02,\n",
       "       4.28461865e-01, 1.70530818e-01, 2.87353801e+02, 3.73329481e-02,\n",
       "       1.99972837e-02, 7.50276199e-02, 0.00000000e+00, 1.94565671e-01,\n",
       "       4.90715334e+02, 3.43739557e-01, 7.91621242e-01, 3.00722401e-01,\n",
       "       1.04033465e-01, 1.19008081e-01, 4.38224948e-01, 1.57911539e-01,\n",
       "       2.34865022e+02, 0.00000000e+00, 5.49230165e-03, 6.52651339e-03,\n",
       "       4.80832808e-02, 1.11153306e-01, 1.39150660e-02, 2.50154497e-01,\n",
       "       1.90357059e-01, 1.06299769e+00, 1.33524331e-01, 5.78107532e-01,\n",
       "       6.18866018e-02, 7.81583381e-03, 2.18401554e-01, 1.39181436e-01,\n",
       "       2.13905779e-01, 1.73470875e-01, 9.24953102e-01, 0.00000000e+00,\n",
       "       1.93155864e-01, 9.97919994e-02, 0.00000000e+00, 1.50963237e-02,\n",
       "       2.61005039e-01, 1.79889044e-01, 1.56162564e-01, 2.75261805e-01,\n",
       "       3.50791547e-02, 5.33251787e-01, 2.52981694e-01, 2.08335774e-01,\n",
       "       1.42563660e-02])"
      ]
     },
     "execution_count": 82,
     "metadata": {},
     "output_type": "execute_result"
    }
   ],
   "source": [
    "result"
   ]
  },
  {
   "cell_type": "code",
   "execution_count": 89,
   "metadata": {},
   "outputs": [],
   "source": [
    "result = np.zeros(93)\n",
    "for alpha in np.arange(0.0001, 0.2, 0.0001):\n",
    "    clf = linear_model.Lasso(alpha=alpha)\n",
    "    clf.fit(features, target)\n",
    "    temp = np.abs(clf.coef_)\n",
    "    min_val = np.min(temp)\n",
    "    max_val = np.max(temp)\n",
    "    temp = (temp - min_val)/(max_val - min_val)\n",
    "    result += temp"
   ]
  },
  {
   "cell_type": "code",
   "execution_count": 90,
   "metadata": {
    "collapsed": true
   },
   "outputs": [
    {
     "data": {
      "text/plain": [
       "array([1.02630080e-02, 8.51924026e-01, 6.16417233e-02, 1.67736866e+00,\n",
       "       3.49024736e-01, 6.36557644e-03, 7.45027005e-02, 5.14889755e-01,\n",
       "       3.26231665e-01, 6.43798255e-02, 1.57425387e+00, 2.30540763e-02,\n",
       "       9.83050400e-03, 1.36893341e-02, 2.50368067e-02, 2.83836602e-01,\n",
       "       4.67229513e-01, 2.40907319e-01, 2.82110753e-01, 3.33046856e-02,\n",
       "       1.52220301e-01, 1.76017456e+02, 1.21456694e+00, 1.28780663e+00,\n",
       "       6.19423251e-02, 7.02842516e-01, 6.79386347e-02, 1.99625214e-02,\n",
       "       1.00492303e-02, 1.20545939e+00, 1.09716137e+00, 9.29732345e-02,\n",
       "       1.38762998e-01, 1.66551701e+03, 6.92837148e+02, 5.91312598e+00,\n",
       "       1.16394238e+00, 8.18208481e-02, 1.85477768e+00, 2.66473075e-01,\n",
       "       9.88702863e-01, 1.60870729e-02, 2.43971248e-02, 1.35815421e-02,\n",
       "       4.28461865e-01, 1.70530818e-01, 4.62849320e+02, 3.73329481e-02,\n",
       "       1.99972837e-02, 7.50276199e-02, 0.00000000e+00, 1.94565671e-01,\n",
       "       4.90715334e+02, 3.43739557e-01, 7.91621242e-01, 3.00722401e-01,\n",
       "       1.04033465e-01, 1.19008081e-01, 4.38224948e-01, 1.57911539e-01,\n",
       "       2.40553997e+02, 0.00000000e+00, 5.49230165e-03, 6.52651339e-03,\n",
       "       4.80832808e-02, 1.11153306e-01, 1.39150660e-02, 2.50154497e-01,\n",
       "       1.90357059e-01, 1.06299769e+00, 1.33524331e-01, 5.78107532e-01,\n",
       "       6.18866018e-02, 7.81583381e-03, 2.18401554e-01, 1.39181436e-01,\n",
       "       2.13905779e-01, 1.73470875e-01, 9.24953102e-01, 0.00000000e+00,\n",
       "       1.93155864e-01, 9.97919994e-02, 0.00000000e+00, 1.50963237e-02,\n",
       "       2.61005039e-01, 1.79889044e-01, 1.56162564e-01, 2.75261805e-01,\n",
       "       3.50791547e-02, 5.33251787e-01, 2.52981694e-01, 2.08335774e-01,\n",
       "       1.42563660e-02])"
      ]
     },
     "execution_count": 90,
     "metadata": {},
     "output_type": "execute_result"
    }
   ],
   "source": [
    "result"
   ]
  },
  {
   "cell_type": "code",
   "execution_count": 91,
   "metadata": {
    "collapsed": true
   },
   "outputs": [
    {
     "data": {
      "text/plain": [
       "array([33, 34, 52, 46, 60, 21, 35, 38,  3, 10, 23, 22, 29, 36, 30, 69, 40,\n",
       "       78,  1, 54, 25, 71, 89,  7, 16, 58, 44,  4, 53,  8, 55, 15, 18, 87,\n",
       "       39, 84, 90, 67, 17, 74, 76, 91, 51, 80, 68, 85, 77, 45, 59, 86, 20,\n",
       "       75, 32, 70, 57, 65, 56, 81, 31, 37, 49,  6, 26,  9, 24, 72,  2, 64,\n",
       "       47, 88, 19, 14, 42, 11, 48, 27, 41, 83, 92, 66, 13, 43,  0, 28, 12,\n",
       "       73, 63,  5, 62, 50, 61, 79, 82], dtype=int64)"
      ]
     },
     "execution_count": 91,
     "metadata": {},
     "output_type": "execute_result"
    }
   ],
   "source": [
    "res_sort = np.argsort(result)[::-1]\n",
    "res_sort"
   ]
  },
  {
   "cell_type": "code",
   "execution_count": 92,
   "metadata": {
    "collapsed": true
   },
   "outputs": [
    {
     "name": "stdout",
     "output_type": "stream",
     "text": [
      "1,33\n",
      "1,34\n",
      "1,52\n",
      "1,46\n",
      "1,60\n",
      "1,21\n",
      "1,35\n",
      "1,38\n",
      "1,3\n",
      "1,10\n",
      "1,23\n",
      "1,22\n",
      "1,29\n",
      "1,36\n",
      "1,30\n"
     ]
    }
   ],
   "source": [
    "for i in range(15):\n",
    "    print(f\"1,{res_sort[i]}\")"
   ]
  },
  {
   "cell_type": "markdown",
   "metadata": {},
   "source": [
    "# SelectKBest"
   ]
  },
  {
   "cell_type": "code",
   "execution_count": 120,
   "metadata": {},
   "outputs": [
    {
     "data": {
      "text/plain": [
       "array([4.84987488e-03, 2.00517937e-01, 3.29505664e-05, 1.03463394e+00,\n",
       "       3.10707397e-01, 3.11461045e-02, 6.07854743e-02, 2.96958420e-03,\n",
       "       8.54282068e-02, 1.49384826e-02, 2.55120448e-01, 3.48112874e-01,\n",
       "       1.95812696e-03, 1.26362846e-02, 2.34033599e-01, 6.07656902e-02,\n",
       "       1.42580707e-01, 2.29542044e-04, 3.95476134e-03, 7.19011449e-02,\n",
       "       5.73001772e-04, 3.07802780e+01, 6.33834258e-01, 7.79013961e-03,\n",
       "       1.27171647e-01, 5.09198916e-01, 2.03077982e-01, 5.34801666e-03,\n",
       "       5.07407040e-03, 2.89206363e-01, 2.30935019e-01, 2.60578325e-05,\n",
       "       8.17130618e-02, 6.81048221e-01, 7.20066204e-01, 1.45623196e+01,\n",
       "       3.27530087e-01, 1.05837417e+00, 1.39191877e+00, 1.58235015e-01,\n",
       "       1.40050988e-01, 1.31073347e-04, 2.97110364e-01, 1.05171534e-01,\n",
       "       1.28766386e-01, 2.40226264e-02, 5.22569693e-01, 1.35394958e-01,\n",
       "       2.51009089e-01, 4.35753611e-02, 8.37844773e-02, 8.87962868e-03,\n",
       "       3.05788467e+00, 6.40142553e-02, 2.54872899e-01, 8.27529913e-04,\n",
       "       9.38980882e-02, 1.58531082e-01, 2.19890619e-01, 1.14052404e+01,\n",
       "       1.94982605e-01, 3.31940496e-02, 1.86180214e-01, 9.42533426e-03,\n",
       "       3.64205966e-01, 1.12285971e+00, 1.44472224e-01, 3.30003093e-02,\n",
       "       4.81239500e-01, 2.40079125e-02, 2.48732703e-01, 9.48060309e-04,\n",
       "       4.38814576e-02, 4.38814576e-02, 1.13169835e+00, 1.08517846e+00,\n",
       "       6.00165147e-01, 1.46268516e+00, 2.77779206e+00, 1.95550351e-01,\n",
       "       2.00876191e+00, 5.35760499e-02, 4.60987535e-01, 2.26339670e-01,\n",
       "       1.89597386e+00, 8.03651648e-01, 1.29958192e+00, 1.08410235e-01,\n",
       "       3.08832826e+00, 3.80479728e-02, 8.57457018e-03, 1.56514932e-01])"
      ]
     },
     "execution_count": 120,
     "metadata": {},
     "output_type": "execute_result"
    }
   ],
   "source": [
    "selector = SelectKBest(chi2, k = 15)\n",
    "selector.fit(features, target)\n",
    "selector.scores_"
   ]
  },
  {
   "cell_type": "code",
   "execution_count": 121,
   "metadata": {},
   "outputs": [
    {
     "data": {
      "text/plain": [
       "array([21, 35, 59, 88, 52, 78, 80, 84, 77, 38, 86, 74, 65, 75, 37,  3, 85,\n",
       "       34, 33, 22, 76, 46, 25, 68, 82, 64, 11, 36,  4, 42, 29, 10, 54, 48,\n",
       "       70, 14, 30, 83, 58, 26,  1, 79, 60, 62, 57, 39, 91, 66, 16, 40, 47,\n",
       "       44, 24, 87, 43, 56,  8, 50, 32, 19, 53,  6, 15, 81, 72, 73, 49, 89,\n",
       "       61, 67,  5, 45, 69,  9, 13, 63, 51, 90, 23, 27, 28,  0, 18,  7, 12,\n",
       "       71, 55, 20, 17, 41,  2, 31], dtype=int64)"
      ]
     },
     "execution_count": 121,
     "metadata": {},
     "output_type": "execute_result"
    }
   ],
   "source": [
    "sorted_features = np.argsort(selector.scores_)[::-1]\n",
    "sorted_features"
   ]
  },
  {
   "cell_type": "code",
   "execution_count": 122,
   "metadata": {},
   "outputs": [
    {
     "data": {
      "text/plain": [
       "Index(['22', '36', '60', '90', '53', '79', '81', '86', '78', '39', '88', '75',\n",
       "       '66', '76', '38'],\n",
       "      dtype='object')"
      ]
     },
     "execution_count": 122,
     "metadata": {},
     "output_type": "execute_result"
    }
   ],
   "source": [
    "df.columns[sorted_features[0:15]]"
   ]
  },
  {
   "cell_type": "code",
   "execution_count": 77,
   "metadata": {},
   "outputs": [
    {
     "data": {
      "text/plain": [
       "Index(['22', '53', '35', '34', '47', '36', '60', '61', '41', '48', '65', '90',\n",
       "       '79', '81', '86'],\n",
       "      dtype='object')"
      ]
     },
     "execution_count": 77,
     "metadata": {},
     "output_type": "execute_result"
    }
   ],
   "source": [
    "#OLD\n",
    "df.columns[sorted_features[0:15]]"
   ]
  },
  {
   "cell_type": "code",
   "execution_count": 126,
   "metadata": {},
   "outputs": [
    {
     "data": {
      "text/plain": [
       "array([1.01754448e-01, 3.41835633e+00, 6.90655298e-04, 6.54700273e+00,\n",
       "       1.95730905e+00, 2.65068894e-01, 1.11083853e+00, 6.64906022e-02,\n",
       "       1.41445048e+00, 2.84062669e-01, 6.02782278e+00, 5.24427544e+00,\n",
       "       3.93023757e-02, 2.93333959e-01, 4.72569005e+00, 1.44190222e+00,\n",
       "       4.00882536e+00, 4.00345727e-03, 5.92763685e-02, 1.44514855e+00,\n",
       "       1.75809715e-02, 3.05723350e+02, 4.86574789e+00, 6.62850462e-02,\n",
       "       8.53701988e-01, 8.72569750e+00, 1.37864260e+00, 3.62585043e-02,\n",
       "       1.55704891e-01, 1.94351402e+00, 4.86357786e+00, 7.29776333e-04,\n",
       "       1.90943967e+00, 6.00307351e+00, 2.83185117e+00, 1.58971551e+01,\n",
       "       4.05381152e+00, 2.65674473e+00, 4.18881091e+00, 4.03070775e-01,\n",
       "       6.10571475e-01, 9.24034255e-03, 2.48766041e+00, 3.02829497e-01,\n",
       "       4.24814400e-01, 5.51359927e-02, 2.05357851e+00, 1.01196708e+00,\n",
       "       3.17061468e-01, 1.15408113e-01, 1.61342571e+00, 7.41721332e-02,\n",
       "       7.84619833e+00, 1.20333546e+00, 7.18398856e-01, 1.59106820e-02,\n",
       "       8.48342989e-01, 3.64787816e-01, 6.19735899e-01, 1.22131189e+01,\n",
       "       1.71147080e+00, 3.51255478e-02, 2.61539602e-01, 1.19020218e-02,\n",
       "       1.03214902e+00, 3.71639817e+00, 3.31678187e-01, 4.06986018e-01,\n",
       "       6.67017571e+00, 1.69529810e+00, 6.23129279e-01, 6.00049157e-03,\n",
       "       4.44063097e-02, 4.44063097e-02, 1.18292965e+00, 1.28295374e+00,\n",
       "       1.15959135e+00, 1.75859653e+00, 3.67978210e+00, 1.95396096e-01,\n",
       "       2.65837881e+00, 5.46515745e-02, 5.44608755e-01, 2.27956245e-01,\n",
       "       1.91267168e+00, 1.55335110e+00, 2.51428314e+00, 1.48104672e-01,\n",
       "       3.23462714e+00, 1.71581472e-01, 3.86629139e-02, 6.67754096e-01])"
      ]
     },
     "execution_count": 126,
     "metadata": {},
     "output_type": "execute_result"
    }
   ],
   "source": [
    "selector = SelectKBest(f_classif, k = 15)\n",
    "selector.fit(features, target)\n",
    "selector.scores_"
   ]
  },
  {
   "cell_type": "code",
   "execution_count": 127,
   "metadata": {},
   "outputs": [
    {
     "data": {
      "text/plain": [
       "array([21, 35, 59, 25, 52, 68,  3, 10, 33, 11, 22, 30, 14, 38, 36, 16, 65,\n",
       "       78,  1, 88, 34, 80, 37, 86, 42, 46,  4, 29, 84, 32, 77, 60, 69, 50,\n",
       "       85, 19, 15,  8, 26, 75, 53, 74, 76,  6, 64, 47, 24, 56, 54, 91, 70,\n",
       "       58, 40, 82, 44, 67, 39, 57, 66, 48, 43, 13,  9,  5, 62, 83, 79, 89,\n",
       "       28, 87, 49,  0, 51,  7, 23, 18, 45, 81, 73, 72, 12, 90, 27, 61, 20,\n",
       "       55, 63, 41, 71, 17, 31,  2], dtype=int64)"
      ]
     },
     "execution_count": 127,
     "metadata": {},
     "output_type": "execute_result"
    }
   ],
   "source": [
    "sorted_features = np.argsort(selector.scores_)[::-1]\n",
    "sorted_features"
   ]
  },
  {
   "cell_type": "code",
   "execution_count": 128,
   "metadata": {},
   "outputs": [
    {
     "data": {
      "text/plain": [
       "Index(['22', '36', '60', '26', '53', '69', '4', '11', '34', '12', '23', '31',\n",
       "       '15', '39', '37'],\n",
       "      dtype='object')"
      ]
     },
     "execution_count": 128,
     "metadata": {},
     "output_type": "execute_result"
    }
   ],
   "source": [
    "df.columns[sorted_features[0:15]]"
   ]
  },
  {
   "cell_type": "markdown",
   "metadata": {},
   "source": [
    "## For df with '83' column and getting indexes instead of columns names"
   ]
  },
  {
   "cell_type": "code",
   "execution_count": 33,
   "metadata": {},
   "outputs": [
    {
     "data": {
      "text/plain": [
       "SelectKBest(k=15, score_func=<function chi2 at 0x0000024533F98B70>)"
      ]
     },
     "execution_count": 33,
     "metadata": {},
     "output_type": "execute_result"
    }
   ],
   "source": [
    "selector = SelectKBest(chi2, k = 15)\n",
    "selector.fit(features, target)"
   ]
  },
  {
   "cell_type": "code",
   "execution_count": 34,
   "metadata": {},
   "outputs": [
    {
     "data": {
      "text/plain": [
       "array([4.84987488e-03, 2.00517937e-01, 3.29505664e-05, 1.03463394e+00,\n",
       "       3.10707397e-01, 3.11461045e-02, 6.07854743e-02, 2.96958420e-03,\n",
       "       8.54282068e-02, 1.49384826e-02, 2.55120448e-01, 3.48112874e-01,\n",
       "       1.95812696e-03, 1.26362846e-02, 2.34033599e-01, 6.07656902e-02,\n",
       "       1.42580707e-01, 2.29542044e-04, 3.95476134e-03, 7.19011449e-02,\n",
       "       5.73001772e-04, 3.07802780e+01, 6.33834258e-01, 7.79013961e-03,\n",
       "       1.27171647e-01, 5.09198916e-01, 2.03077982e-01, 5.34801666e-03,\n",
       "       5.07407040e-03, 2.89206363e-01, 2.30935019e-01, 2.60578325e-05,\n",
       "       8.17130618e-02, 1.83883020e+01, 2.16019861e+01, 1.45623196e+01,\n",
       "       6.55060174e-01, 1.05837417e+00, 1.39191877e+00, 1.42411514e+00,\n",
       "       4.20152963e+00, 5.24293387e-04, 2.97110364e-01, 1.05171534e-01,\n",
       "       1.28766386e-01, 2.40226264e-02, 1.56770908e+01, 3.65566388e+00,\n",
       "       1.00403636e+00, 8.71507222e-02, 8.37844773e-02, 8.87962868e-03,\n",
       "       2.75209621e+01, 2.56057021e-01, 5.09745797e-01, 8.27529913e-04,\n",
       "       1.87796176e-01, 1.58531082e-01, 4.39781239e-01, 1.14052404e+01,\n",
       "       5.26453032e+00, 3.31940496e-02, 7.44720856e-01, 3.77013370e-02,\n",
       "       3.27785369e+00, 1.12285971e+00, 1.44472224e-01, 6.60006185e-02,\n",
       "       4.81239500e-01, 9.60316500e-02, 2.48732703e-01, 9.48060309e-04,\n",
       "       4.38814576e-02, 4.38814576e-02, 1.13169835e+00, 1.08517846e+00,\n",
       "       6.00165147e-01, 1.46268516e+00, 2.77779206e+00, 1.95550351e-01,\n",
       "       2.00876191e+00, 5.35760499e-02,            nan, 4.60987535e-01,\n",
       "       2.26339670e-01, 1.89597386e+00, 8.03651648e-01, 1.29958192e+00,\n",
       "       1.08410235e-01, 3.08832826e+00, 3.80479728e-02, 8.57457018e-03,\n",
       "       1.56514932e-01])"
      ]
     },
     "execution_count": 34,
     "metadata": {},
     "output_type": "execute_result"
    }
   ],
   "source": [
    "selector.scores_"
   ]
  },
  {
   "cell_type": "code",
   "execution_count": 35,
   "metadata": {
    "scrolled": true
   },
   "outputs": [
    {
     "data": {
      "text/plain": [
       "array([83, 22, 53, 35, 34, 47, 36, 60, 61, 41, 48, 65, 90, 79, 81, 86, 78,\n",
       "       40, 39, 88, 75, 66, 76, 38,  4, 49, 87, 63, 37, 23, 77, 55, 26, 69,\n",
       "       84, 59, 12,  5, 43, 30, 54, 11, 71, 15, 31, 85, 27,  2, 80, 57, 58,\n",
       "       93, 67, 17, 45, 25, 89, 44, 70, 50,  9, 51, 33, 20, 68,  7, 16, 82,\n",
       "       74, 73, 91, 64, 62,  6, 46, 10, 14, 52, 92, 24, 28, 29,  1, 19,  8,\n",
       "       13, 72, 56, 21, 42, 18,  3, 32], dtype=int64)"
      ]
     },
     "execution_count": 35,
     "metadata": {},
     "output_type": "execute_result"
    }
   ],
   "source": [
    "sorted_features = np.argsort(selector.scores_)[::-1] + 1\n",
    "sorted_features"
   ]
  },
  {
   "cell_type": "code",
   "execution_count": 36,
   "metadata": {},
   "outputs": [
    {
     "name": "stdout",
     "output_type": "stream",
     "text": [
      "1,22\n",
      "1,53\n",
      "1,35\n",
      "1,34\n",
      "1,47\n",
      "1,36\n",
      "1,60\n",
      "1,61\n",
      "1,41\n",
      "1,48\n",
      "1,65\n",
      "1,90\n",
      "1,79\n",
      "1,81\n",
      "1,86\n"
     ]
    }
   ],
   "source": [
    "for i in range(1, 16):\n",
    "    print(f\"1,{sorted_features[i]}\")"
   ]
  }
 ],
 "metadata": {
  "kernelspec": {
   "display_name": "Python 3",
   "language": "python",
   "name": "python3"
  },
  "language_info": {
   "codemirror_mode": {
    "name": "ipython",
    "version": 3
   },
   "file_extension": ".py",
   "mimetype": "text/x-python",
   "name": "python",
   "nbconvert_exporter": "python",
   "pygments_lexer": "ipython3",
   "version": "3.7.2"
  }
 },
 "nbformat": 4,
 "nbformat_minor": 4
}
