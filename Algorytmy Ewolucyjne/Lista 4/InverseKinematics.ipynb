{
 "cells": [
  {
   "cell_type": "code",
   "execution_count": 2,
   "metadata": {},
   "outputs": [],
   "source": [
    "import numpy as np\n",
    "import matplotlib.pyplot as plt\n",
    "\n",
    "from mpl_toolkits.mplot3d import Axes3D\n",
    "from matplotlib import cm\n",
    "\n",
    "%matplotlib inline"
   ]
  },
  {
   "cell_type": "code",
   "execution_count": 44,
   "metadata": {},
   "outputs": [],
   "source": [
    "def generate_arms_lengths(N, max_length = 20, max_length_change = 0, epsilon = 5):\n",
    "    \"\"\"\n",
    "    Args:\n",
    "        N - number of arms\n",
    "        max_length - max length of a single arm\n",
    "        max_length_change - difference between the maximum length of the arms in subsequent iterations,\n",
    "            e.g. for max_length = 10, max_length_change = 1, the 3th arm will have max_length = 8\n",
    "        epsilon - single number defining the randomness of an arm's length. For epsilon = 5, max_length = 15,\n",
    "            the length will be uniformly sampled from range [10, 20]\n",
    "    \"\"\"\n",
    "    lengths = np.zeros(N)\n",
    "    for i in range(N):\n",
    "        lengths[i] = max_length + np.random.uniform(-epsilon, epsilon)\n",
    "        if max_length - max_length_change > epsilon:\n",
    "            max_length -= max_length_change\n",
    "    return lengths"
   ]
  },
  {
   "cell_type": "code",
   "execution_count": 47,
   "metadata": {},
   "outputs": [],
   "source": [
    "def generate_angles_restrictions(N):\n",
    "    return np.array([[-150, 150] for i in range(N)])"
   ]
  },
  {
   "cell_type": "code",
   "execution_count": 46,
   "metadata": {},
   "outputs": [
    {
     "data": {
      "text/plain": [
       "array([99.47511424, 97.57042452, 94.62195229, 83.24725093, 77.22267843,\n",
       "       76.85114337, 68.92745751, 69.43340423, 58.64598192, 59.79178803])"
      ]
     },
     "execution_count": 46,
     "metadata": {},
     "output_type": "execute_result"
    }
   ],
   "source": [
    "generate_arms_lengths(10, max_length = 100, max_length_change = 5, epsilon = 5)"
   ]
  },
  {
   "cell_type": "code",
   "execution_count": 79,
   "metadata": {},
   "outputs": [],
   "source": [
    "one = (1, 0)\n",
    "alfa = 90\n",
    "alfa = alfa * np.pi/180\n",
    "x = np.cos(alfa)*one[0] - np.sin(alfa)*one[1]\n",
    "y = np.sin(alfa)*one[0] + np.cos(alfa)*one[1]"
   ]
  },
  {
   "cell_type": "code",
   "execution_count": 80,
   "metadata": {},
   "outputs": [
    {
     "data": {
      "text/plain": [
       "6.123233995736766e-17"
      ]
     },
     "execution_count": 80,
     "metadata": {},
     "output_type": "execute_result"
    }
   ],
   "source": [
    "x"
   ]
  },
  {
   "cell_type": "code",
   "execution_count": 81,
   "metadata": {},
   "outputs": [
    {
     "data": {
      "text/plain": [
       "1.0"
      ]
     },
     "execution_count": 81,
     "metadata": {},
     "output_type": "execute_result"
    }
   ],
   "source": [
    "y"
   ]
  },
  {
   "cell_type": "code",
   "execution_count": null,
   "metadata": {},
   "outputs": [],
   "source": []
  }
 ],
 "metadata": {
  "kernelspec": {
   "display_name": "Python 3",
   "language": "python",
   "name": "python3"
  },
  "language_info": {
   "codemirror_mode": {
    "name": "ipython",
    "version": 3
   },
   "file_extension": ".py",
   "mimetype": "text/x-python",
   "name": "python",
   "nbconvert_exporter": "python",
   "pygments_lexer": "ipython3",
   "version": "3.7.2"
  }
 },
 "nbformat": 4,
 "nbformat_minor": 4
}
