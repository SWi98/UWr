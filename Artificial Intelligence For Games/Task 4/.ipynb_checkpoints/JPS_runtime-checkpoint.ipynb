{
 "cells": [
  {
   "cell_type": "code",
   "execution_count": 10,
   "metadata": {},
   "outputs": [],
   "source": [
    "import sys\n",
    "import math\n",
    "import heapq"
   ]
  },
  {
   "cell_type": "code",
   "execution_count": 5,
   "metadata": {},
   "outputs": [],
   "source": [
    "TILE_WALL = 1\n",
    "GROUND = 0"
   ]
  },
  {
   "cell_type": "code",
   "execution_count": 16,
   "metadata": {},
   "outputs": [],
   "source": [
    "class Node():\n",
    "    def __init__(self, col, row, n, ne, e, se, s, sw, w, nw):\n",
    "        self.col = col\n",
    "        self.row = row\n",
    "        self.n = n\n",
    "        self.ne = ne\n",
    "        self.e = e\n",
    "        self.se = se\n",
    "        self.s = s\n",
    "        self.sw = sw\n",
    "        self.w = w\n",
    "        self.nw = nw\n",
    "        self.trav_distance = 0 #traversed distance up to this node\n",
    "        self.prev = None\n",
    "        self.prev_dir = None \n",
    "        \n",
    "    def coords(self):\n",
    "        return (self.row, self.col)"
   ]
  },
  {
   "cell_type": "code",
   "execution_count": 4,
   "metadata": {},
   "outputs": [],
   "source": [
    "def priority(node: Node):\n",
    "    return node.trav_distance + heur(node)\n",
    "\n",
    "def heur(node: Node):\n",
    "    return octile_dist(node.col, node.row, goal_column, goal_row)\n",
    "\n",
    "def octile_dist(x1, y1, x2, y2):\n",
    "    dx = np.abs(x2-x1)\n",
    "    dy= np.abs(y2-y1)\n",
    "    return dx + dy + (np.sqrt(2) - 2) * np.min(dx, dy)"
   ]
  },
  {
   "cell_type": "code",
   "execution_count": 21,
   "metadata": {},
   "outputs": [],
   "source": [
    "valid_dir_look_up = {'s': ['w', 'sw', 's', 'se', 'e'],\n",
    "                    'se': ['s', 'se', 'e'],\n",
    "                    'e': ['s', 'se', 'e', 'ne', 'n'],\n",
    "                    'ne': ['e', 'ne', 'n', 'nw', 'w'],\n",
    "                    'n': ['e', 'ne', 'n', 'nw', 'w'],\n",
    "                    'nw': ['n', 'nw', 'w'],\n",
    "                    'w': ['n', 'nw', 'w', 'sw', 's'],\n",
    "                    'sw': ['w', 'sw', 's']}"
   ]
  },
  {
   "cell_type": "code",
   "execution_count": 22,
   "metadata": {},
   "outputs": [],
   "source": [
    "def is_cardinal(direction):\n",
    "    return direction == 'n' or direction == 's' or direction == 'e' or direction == 'w'"
   ]
  },
  {
   "cell_type": "code",
   "execution_count": 27,
   "metadata": {},
   "outputs": [],
   "source": [
    "def goal_in_direction(node, direction):\n",
    "    if direction == 'n':\n",
    "        return goal_column == node.col and goal_row < node_row, abs(goal_row - node_row)\n",
    "    elif direction == 's':\n",
    "        return goal_column == node.col and goal_row > node_row, abs(goal_row - node_row)\n",
    "    elif direction == 'e':\n",
    "        return goal_column > node.col and goal_row == node_row, abs(goal_column - node.col)\n",
    "    elif direction == 'w':\n",
    "        return goal_column < node-col and goal_row == node_row, abs(goal_column - node.col)\n",
    "    else:\n",
    "        raise Exception('Direction is not cardinal')"
   ]
  },
  {
   "cell_type": "code",
   "execution_count": 8,
   "metadata": {},
   "outputs": [],
   "source": [
    "def run():\n",
    "    Q = []\n",
    "    visited = set()\n",
    "    start_node = nodes[start_row][start_column]\n",
    "    start_node.prev_dir = 'n'\n",
    "    heapq.heappush(Q, priority(start_node), start_node)\n",
    "    visited.add(start_node.coords())\n",
    "    while len(Q) > 0:\n",
    "        curr_priority, curr_node = heapq.heappop(Q)\n",
    "        if curr_node.col == goal_column and curr_node.row == goal_row:\n",
    "            return True\n",
    "        for direction in valid_dir_look_up[curr_node.prev_dir]:\n",
    "            new_successor = None\n",
    "            cost = 0\n",
    "            \n",
    "            goal_in_dir, distance_to_goal = goal_in_direction(curr_node, direction)\n",
    "            if (is_cardinal(direction) and \n",
    "                goal_in_dir and\n",
    "                distance_to_goal <= abs(getattr(curr_node, direction))):\n",
    "                new_successor = nodes[goal_row][goal_column]\n",
    "                cost = curr_node.trav_distance + distance_to_goal\n",
    "            elif (not is_cardinal(direction) and\n",
    "                 )"
   ]
  },
  {
   "cell_type": "code",
   "execution_count": null,
   "metadata": {},
   "outputs": [],
   "source": [
    "width, height = [int(i) for i in input().split()]\n",
    "terrain = np.ones(shape = (self.height, self.width))\n",
    "nodes = [[Node() for _ in range(width)] for _ in range(height)]\n",
    "start_column, start_row, goal_column, goal_row = [int(i) for i in input().split()]\n",
    "\n",
    "_open = int(input())  # number of open tiles on the map\n",
    "for i in range(_open):\n",
    "    column, row, n, ne, e, se, s, sw, w, nw = [int(j) for j in input().split()]\n",
    "    terrain[row][column] = 0\n",
    "    nodes[row][column] = Node(column, row, n, ne, e, se, s, sw, w, nw)\n",
    "    \n",
    "print(\"startColumn startRow -1 -1 0.00\")\n",
    "while True:\n",
    "    print(\"3 4 0 2 3.14\")\n"
   ]
  },
  {
   "cell_type": "code",
   "execution_count": 15,
   "metadata": {},
   "outputs": [
    {
     "data": {
      "text/plain": [
       "(2, 1)"
      ]
     },
     "execution_count": 15,
     "metadata": {},
     "output_type": "execute_result"
    }
   ],
   "source": [
    "q = []\n",
    "heapq.heappush(q, (2, 1))\n",
    "heapq.heappush(q, (4, 2))\n",
    "heapq.heappop(q)"
   ]
  },
  {
   "cell_type": "code",
   "execution_count": 20,
   "metadata": {},
   "outputs": [
    {
     "data": {
      "text/plain": [
       "3"
      ]
     },
     "execution_count": 20,
     "metadata": {},
     "output_type": "execute_result"
    }
   ],
   "source": [
    "z = Node(1,2,3,4,5,6,7,8,9,10)\n",
    "getattr(z, 'n')"
   ]
  },
  {
   "cell_type": "code",
   "execution_count": 24,
   "metadata": {},
   "outputs": [
    {
     "ename": "Exception",
     "evalue": "error",
     "output_type": "error",
     "traceback": [
      "\u001b[1;31m---------------------------------------------------------------------------\u001b[0m",
      "\u001b[1;31mException\u001b[0m                                 Traceback (most recent call last)",
      "\u001b[1;32m<ipython-input-24-b483ef4ed54f>\u001b[0m in \u001b[0;36m<module>\u001b[1;34m\u001b[0m\n\u001b[1;32m----> 1\u001b[1;33m \u001b[1;32mraise\u001b[0m \u001b[0mException\u001b[0m\u001b[1;33m(\u001b[0m\u001b[1;34m'error'\u001b[0m\u001b[1;33m)\u001b[0m\u001b[1;33m\u001b[0m\u001b[1;33m\u001b[0m\u001b[0m\n\u001b[0m",
      "\u001b[1;31mException\u001b[0m: error"
     ]
    }
   ],
   "source": [
    "raise Exception('error')"
   ]
  }
 ],
 "metadata": {
  "kernelspec": {
   "display_name": "Python 3",
   "language": "python",
   "name": "python3"
  },
  "language_info": {
   "codemirror_mode": {
    "name": "ipython",
    "version": 3
   },
   "file_extension": ".py",
   "mimetype": "text/x-python",
   "name": "python",
   "nbconvert_exporter": "python",
   "pygments_lexer": "ipython3",
   "version": "3.7.2"
  }
 },
 "nbformat": 4,
 "nbformat_minor": 4
}
