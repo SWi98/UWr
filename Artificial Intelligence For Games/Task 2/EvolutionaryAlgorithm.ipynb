{
 "cells": [
  {
   "cell_type": "code",
   "execution_count": 15,
   "metadata": {},
   "outputs": [],
   "source": [
    "import math\n",
    "import numpy as np\n",
    "import matplotlib.pyplot as plt\n",
    "import seaborn as sns\n",
    "import timeit\n",
    "import time\n",
    "import copy\n",
    "from tqdm.auto import tqdm\n",
    "from IPython.display import clear_output"
   ]
  },
  {
   "cell_type": "code",
   "execution_count": 33,
   "metadata": {},
   "outputs": [],
   "source": [
    "YLIM = 3000\n",
    "XLIM = 7000\n",
    "G = -3.711\n",
    "CRASH_PENALTY = 100000\n",
    "LANDING_BONUS = 100000"
   ]
  },
  {
   "cell_type": "code",
   "execution_count": 4,
   "metadata": {},
   "outputs": [],
   "source": [
    "class State:\n",
    "    def __init__(self, x, y, hs, vs, fuel, rotation, power):\n",
    "        self.x: float = x\n",
    "        self.y: float = y\n",
    "        self.hs: float = hs\n",
    "        self.vs: float = vs\n",
    "        self.fuel: float = fuel\n",
    "        self.rotation: int = rotation\n",
    "        self.power: int = power\n",
    "        \n",
    "    def __str__(self):\n",
    "        return (f\"x: {self.x}, y: {self.y}, h speed: {self.hs}, v speed: {self.vs},\\n\" \n",
    "            f\"fuel: {self.fuel}, rotation: {self.rotation}, power: {self.power}\")\n",
    "            \n",
    "    def next_state(self, new_rotation: int, new_power: int) -> 'State':\n",
    "        if new_power < 0:\n",
    "            new_power = 0\n",
    "            \n",
    "        elif new_power > 4:\n",
    "            new_power = 4\n",
    "         \n",
    "        if new_rotation < -90:\n",
    "            new_rotation = -90\n",
    "        elif new_rotation > 90:\n",
    "            new_rotation = 90\n",
    "           \n",
    "        \n",
    "        new_power = min(self.fuel, new_power)\n",
    "        new_fuel = self.fuel - new_power\n",
    "        \n",
    "        angle_radians = (90 - new_rotation) * math.pi / 180.0\n",
    "        a_h = - new_power * math.cos(angle_radians)\n",
    "        a_v = new_power * math.sin(angle_radians) + G\n",
    "    \n",
    "        new_x = self.x + self.hs + a_h * 0.5\n",
    "        new_y = self.y + self.vs + a_v * 0.5\n",
    "        \n",
    "        new_hs = self.hs + a_h \n",
    "        new_vs = self.vs + a_v\n",
    "        \n",
    "        return State(new_x, new_y, new_hs, new_vs, new_fuel, new_rotation, new_power)\n",
    "            \n",
    "    def check_or_evaluate(self, last_move):\n",
    "        global best\n",
    "        outsideMap = self.x < 0 or self.x > 6999 or self.y < 0 or self.y > 2999\n",
    "        if outsideMap:\n",
    "            belowGround = False\n",
    "        else:\n",
    "            belowGround = self.y <= BOARD.y_vals[int(self.x)]\n",
    "            \n",
    "        \n",
    "        # if it's not the last move of a genotype, and it's still flying safely, then return -1 \n",
    "        if not last_move and not belowGround and not outsideMap:\n",
    "            return 100\n",
    "        \n",
    "        inLandingRange = self.x > (BOARD.start_of_ground + 100) and self.x < (BOARD.end_of_ground - 100)\n",
    "        \n",
    "        hs_cond = abs(self.hs) < 15\n",
    "        vs_cond = abs(self.vs) < 35\n",
    "        \n",
    "        result = 0\n",
    "        if belowGround:\n",
    "            if inLandingRange:\n",
    "                # landed safely\n",
    "                if self.rotation == 0 and abs(self.hs) < 19.5 and abs(self.vs) < 39.5:\n",
    "                    #print(\"FOUND THE BEST!\")\n",
    "                    return LANDING_BONUS + self.fuel\n",
    "                \n",
    "                # landed with crash\n",
    "                else:\n",
    "                    result -= abs(self.rotation) * 10\n",
    "                    if not hs_cond:\n",
    "                        result -= abs(self.hs) ** 2\n",
    "                    if not vs_cond:\n",
    "                        result -= abs(self.vs) ** 2\n",
    "                    result -= CRASH_PENALTY\n",
    "                    result -= abs((BOARD.start_of_ground + BOARD.end_of_ground)/2 - self.x) * 3\n",
    "                    return result\n",
    "                        \n",
    "            # crashed outside the landing zone\n",
    "            else:\n",
    "                result -= CRASH_PENALTY\n",
    "        # flew over the map     \n",
    "        elif outsideMap:\n",
    "            result -= CRASH_PENALTY\n",
    "        \n",
    "        \n",
    "        result -= abs(self.rotation) * 10\n",
    "        if not hs_cond:\n",
    "            result -= abs(self.hs) ** 2\n",
    "        if not vs_cond:\n",
    "            result -= abs(self.vs) ** 2\n",
    "            \n",
    "        # Manhattan distance to the center of the landing zone.\n",
    "        result -= (abs((BOARD.start_of_ground + BOARD.end_of_ground)/2 - self.x) +\n",
    "                   abs(BOARD.y_vals[BOARD.start_of_ground] - self.y)) * 10\n",
    "        \n",
    "        return result"
   ]
  },
  {
   "cell_type": "code",
   "execution_count": 5,
   "metadata": {},
   "outputs": [],
   "source": [
    "class Board:\n",
    "    def __init__(self, xs, ys):\n",
    "        self.xs = xs\n",
    "        self.ys = ys\n",
    "        self.__find_ground()\n",
    "        self.__find_v_vals()\n",
    "        \n",
    "    def __find_ground(self):\n",
    "        start_of_ground = -1\n",
    "        length_of_ground = 0\n",
    "        for i in range(1, len(self.xs)):\n",
    "            if self.ys[i-1] == self.ys[i]:\n",
    "                self.start_of_ground = self.xs[i-1]\n",
    "                self.end_of_ground = self.xs[i]\n",
    "                \n",
    "    def __find_v_vals(self):\n",
    "        self.y_vals = [None] * 7000\n",
    "        for i in range(0, len(self.xs)-1):\n",
    "            self.y_vals[self.xs[i]] = self.ys[i]\n",
    "            slope = self.ys[i+1] - self.ys[i]\n",
    "            n_of_points = self.xs[i+1] - self.xs[i]\n",
    "            for j in range(self.xs[i] + 1, self.xs[i+1] + 1):\n",
    "                if slope == 0:\n",
    "                    self.y_vals[j] = self.y_vals[j-1]\n",
    "                else:\n",
    "                    self.y_vals[j] = self.y_vals[j-1] + (slope / n_of_points)"
   ]
  },
  {
   "cell_type": "code",
   "execution_count": 52,
   "metadata": {},
   "outputs": [],
   "source": [
    "class Algorithm:\n",
    "    def __init__(self, N, d, no_mutations, starting_state: State):\n",
    "        self.N = N\n",
    "        self.d = d\n",
    "        self.no_mutations = no_mutations\n",
    "        self.population = self.random_population()\n",
    "        self.population_vals = np.zeros(N)\n",
    "        self.current_state: State = starting_state\n",
    "        self.evaluate_current_population()    \n",
    "        self.first_move = True\n",
    "        self.previous_move = None \n",
    "        self.bests = []\n",
    "        self.means = []\n",
    "    \n",
    "    def random_population(self):\n",
    "        return (np.stack(\n",
    "            (np.random.randint(-15, 16, size = (self.N, self.d, 1)), \n",
    "             np.random.randint(-1, 2, size = (self.N, self.d, 1))), \n",
    "            axis = 3)).reshape(self.N, self.d, 2)\n",
    "    \n",
    "    def evaluate_population(self, population):\n",
    "        return np.array([self.evaluate_individual(individual) for individual in population])\n",
    "    \n",
    "    def evaluate_current_population(self):\n",
    "        self.simulations_positions = []\n",
    "        self.population_vals = self.evaluate_population(self.population)\n",
    "        \n",
    "    def evaluate_individual(self, individual: np.array):\n",
    "        positions = []\n",
    "        state = copy.deepcopy(self.current_state)\n",
    "        positions.append([state.x, state.y])\n",
    "        for move in individual:\n",
    "            state = state.next_state(state.rotation + move[0], state.power + move[1])\n",
    "            positions.append([state.x, state.y])\n",
    "            heur_val = state.check_or_evaluate(last_move = False)\n",
    "            if heur_val != 100:\n",
    "                self.simulations_positions.append(positions)\n",
    "                return heur_val\n",
    "        self.simulations_positions.append(positions)\n",
    "        return state.check_or_evaluate(last_move = True)\n",
    "        \n",
    "    def get_parents(self):\n",
    "        vals = self.population_vals - np.min(self.population_vals)\n",
    "        sum_of_vals = np.sum(vals)\n",
    "        if sum_of_vals == 0:\n",
    "            probs = np.ones(self.N) / self.N\n",
    "        else:\n",
    "            probs = vals / sum_of_vals\n",
    "        return self.population[\n",
    "            np.random.choice(self.N, int(self.N/2), p = probs, replace = True)]\n",
    "                               \n",
    "    def generate_new_population(self, children, children_vals):\n",
    "        all_indiv = np.vstack((children, self.population))\n",
    "        all_vals = np.append(children_vals, self.population_vals)\n",
    "        self.population = all_indiv[np.argsort(all_vals)][int(self.N/2):]\n",
    "        self.evaluate_current_population()\n",
    "    \n",
    "    def mutate(self, population):\n",
    "        # ith column are indices of i-th genotypes' genes that will mutate\n",
    "        random_indices = np.array([np.random.choice(self.d, size=self.no_mutations, replace=False) \n",
    "                                   for _ in range(population.shape[0])]).T\n",
    "        \n",
    "        # population[:, :, 0] is a matrix in which i-th row describes rotations of i-th genotype\n",
    "        # population[:, :, 0][np.arange..] is a matrix with shape (# of random_indices columns, self.N)\n",
    "        # Every row consists of random genes to be changed. i-th element in a row is a gen from i-th genotype\n",
    "        population[:, :, 0][np.arange(population.shape[0]), random_indices] = np.array(\n",
    "            [np.random.randint(low = -15, high = 16, size = population.shape[0]) for _ in np.arange(self.no_mutations)])\n",
    "        population[:, :, 1][np.arange(population.shape[0]), random_indices] = np.array(\n",
    "            [np.random.randint(-1, 2, size = population.shape[0]) for _ in np.arange(self.no_mutations)])\n",
    "        return population\n",
    "        \n",
    "    def do_move(self):\n",
    "        best_move = self.population[np.argmax(self.population_vals)][0]\n",
    "        new_rotation = best_move[0] + self.current_state.rotation\n",
    "        new_power = best_move[1] + self.current_state.power\n",
    "        if new_power < 0:\n",
    "            new_power = 0\n",
    "        elif new_power > 4:\n",
    "            new_power = 4\n",
    "        if new_rotation < -90:\n",
    "            new_rotation = -90\n",
    "        elif new_rotation > 90:\n",
    "            new_rotation = 90\n",
    "        self.current_state = self.current_state.next_state(self.current_state.rotation + best_move[0],\n",
    "                                                           self.current_state.power + best_move[1])\n",
    "        self.previous_move = np.array([new_power, new_rotation])\n",
    "        \n",
    "    def roll_population(self):\n",
    "        self.population[:int(self.N/2)] = self.population[np.argsort(-self.population_vals)][:int(self.N/2)]\n",
    "        self.population[:int(self.N/2)] = np.roll(self.population[:int(self.N/2)], -1, axis = 1)\n",
    "        self.population[:int(self.N/2), self.d - 1] = np.stack(\n",
    "            (np.random.randint(-15, 16, size = (int(self.N/2), 1)), \n",
    "             np.random.randint(-1, 2, size = (int(self.N/2), 1))), \n",
    "            axis = 2).reshape(int(self.N/2), 2)\n",
    "        self.population[int(self.N/2):] = (np.stack(\n",
    "            (np.random.randint(-15, 16, size = (int(self.N/2), self.d, 1)), \n",
    "                np.random.randint(-1, 2, size = (int(self.N/2), self.d, 1))), \n",
    "                  axis = 3)).reshape(int(self.N/2), self.d, 2)\n",
    "        \n",
    "        \n",
    "    def do_iteration(self):\n",
    "        start = timeit.default_timer()\n",
    "        if self.first_move:\n",
    "            time_limit = 1.0\n",
    "            self.first_move = False\n",
    "        else:\n",
    "            time_limit = 0.1\n",
    "            self.roll_population()\n",
    "            self.evaluate_current_population()\n",
    "        iters = 0 \n",
    "        \n",
    "        while(timeit.default_timer() - start < (time_limit)):\n",
    "            iters += 1\n",
    "            parents = copy.deepcopy(self.get_parents())\n",
    "            children = self.mutate(parents)\n",
    "            children_vals = self.evaluate_population(children)\n",
    "            self.generate_new_population(children, children_vals)\n",
    "         \n",
    "        self.bests.append(np.max(self.population_vals))\n",
    "        self.means.append(np.mean(self.population_vals))\n",
    "        self.do_move()"
   ]
  },
  {
   "cell_type": "code",
   "execution_count": null,
   "metadata": {},
   "outputs": [],
   "source": [
    "n = int(input())  # the number of points used to draw the surface of Mars.\n",
    "xs, ys = [], []\n",
    "for i in range(n):\n",
    "    land_x, land_y = [int(j) for j in input().split()]\n",
    "    xs.append(land_x)\n",
    "    ys.append(land_y)\n",
    "\n",
    "\n",
    "BOARD = Board(xs, ys)\n",
    "print(xs, file = sys.stderr)\n",
    "print(ys, file = sys.stderr)\n",
    "R = 0\n",
    "first_turn = True\n",
    "# game loop\n",
    "while True:\n",
    "    # hs: the horizontal speed (in m/s), can be negative.\n",
    "    # vs: the vertical speed (in m/s), can be negative.\n",
    "    # f: the quantity of remaining fuel in liters.\n",
    "    # r: the rotation angle in degrees (-90 to 90).\n",
    "    # p: the thrust power (0 to 4).\n",
    "    x, y, hs, vs, f, r, p = [int(i) for i in input().split()]\n",
    "    if first_turn:\n",
    "        STARTING_STATE = State(x, y, hs, vs, f, r, p)\n",
    "        ALG = Algorithm(N = 20, d = 80, no_mutations = 6, starting_state = STARTING_STATE)\n",
    "        first_turn = False\n",
    "    # Write an action using print\n",
    "    # To debug: print(\"Debug messages...\", file=sys.stderr, flush=True)\n",
    "\n",
    "    # R P. R is the desired rotation angle. P is the desired thrust power.\n",
    "    ALG.do_iteration()\n",
    "    print(f\"{ALG.previous_move[1]} {ALG.previous_move[0]}\")"
   ]
  },
  {
   "cell_type": "markdown",
   "metadata": {},
   "source": [
    "## Testing:"
   ]
  },
  {
   "cell_type": "code",
   "execution_count": 8,
   "metadata": {},
   "outputs": [],
   "source": [
    "XS = [0,   1000, 1500, 3000, 4000, 5500, 6999]\n",
    "YS = [100, 500,  1500, 1000, 150,  150,  800]\n",
    "XS2 = [0, 1000, 1500, 3000, 3500, 3700, 5000, 5800, 6000, 6999]\n",
    "YS2 = [100, 500, 100, 100, 500, 200, 1500, 300, 1000, 2000]\n",
    "YLIM = 3000\n",
    "XLIM = 7000"
   ]
  },
  {
   "cell_type": "code",
   "execution_count": 9,
   "metadata": {},
   "outputs": [],
   "source": [
    "STARTING_STATE = State(2500, 2700, 0, 0, 550, 0, 0)\n",
    "BOARD = Board(XS, YS)"
   ]
  },
  {
   "cell_type": "code",
   "execution_count": 69,
   "metadata": {},
   "outputs": [
    {
     "name": "stdout",
     "output_type": "stream",
     "text": [
      "Wall time: 15 ms\n"
     ]
    }
   ],
   "source": [
    "%%time\n",
    "best = 0\n",
    "ALG = Algorithm(N = 20, d = 80, no_mutations = 6, starting_state = STARTING_STATE)"
   ]
  },
  {
   "cell_type": "code",
   "execution_count": 67,
   "metadata": {},
   "outputs": [],
   "source": [
    "for i in range(80):\n",
    "    ALG.do_iteration()"
   ]
  },
  {
   "cell_type": "code",
   "execution_count": 70,
   "metadata": {
    "scrolled": false
   },
   "outputs": [
    {
     "data": {
      "image/png": "[encoded data removed]",
      "text/plain": [
       "<Figure size 1080x360 with 1 Axes>"
      ]
     },
     "metadata": {
      "needs_background": "light"
     },
     "output_type": "display_data"
    },
    {
     "name": "stdout",
     "output_type": "stream",
     "text": [
      "x: 3665.6687046824786, y: 1575.8655157877947, h speed: 29.89992236798742, v speed: -18.7087687302636,\n",
      "fuel: 336, rotation: -1, power: 4\n",
      "[-102928.87154955 -102876.57244849 -102874.27931816 -102822.61768445\n",
      " -102604.97321535 -102325.6087171  -102293.54849894 -102194.98531742\n",
      " -101945.20384392 -101472.04324759 -101055.57056648 -100819.32632563\n",
      " -100693.35461077 -100663.89772191 -100568.69471018 -100418.34755853\n",
      " -100321.91820873 -100308.03604769  100105.          100123.        ]\n"
     ]
    }
   ],
   "source": [
    "for i in range(60):\n",
    "    ALG.do_iteration()\n",
    "    plt.figure(figsize = (15, 5))\n",
    "    plt.gca().set_xlim(0,XLIM)\n",
    "    plt.gca().set_ylim(0,YLIM)\n",
    "    plt.plot(np.arange(0, 7000), BOARD.y_vals)\n",
    "    for index, positions in enumerate(ALG.simulations_positions):\n",
    "        for x, y in positions:\n",
    "            plt.scatter(x, y, s=4, c = 'm')\n",
    "    clear_output(wait=True)\n",
    "    plt.show()\n",
    "    print(ALG.current_state)\n",
    "    print(ALG.population_vals)"
   ]
  },
  {
   "cell_type": "code",
   "execution_count": 68,
   "metadata": {},
   "outputs": [
    {
     "data": {
      "text/plain": [
       "<matplotlib.legend.Legend at 0x160996ced68>"
      ]
     },
     "execution_count": 68,
     "metadata": {},
     "output_type": "execute_result"
    },
    {
     "data": {
      "image/png": "[encoded data removed]",
      "text/plain": [
       "<Figure size 1008x360 with 1 Axes>"
      ]
     },
     "metadata": {
      "needs_background": "light"
     },
     "output_type": "display_data"
    }
   ],
   "source": [
    "plt.figure(figsize=(14, 5))\n",
    "plt.title(f\"Population data in each iteration\")\n",
    "plt.plot(ALG.bests, label = \"Best\")\n",
    "plt.plot(ALG.means, label = \"Mean\")\n",
    "plt.xlabel(\"Iteration\")\n",
    "plt.ylabel(\"Value\")\n",
    "plt.legend()"
   ]
  }
 ],
 "metadata": {
  "kernelspec": {
   "display_name": "Python 3",
   "language": "python",
   "name": "python3"
  },
  "language_info": {
   "codemirror_mode": {
    "name": "ipython",
    "version": 3
   },
   "file_extension": ".py",
   "mimetype": "text/x-python",
   "name": "python",
   "nbconvert_exporter": "python",
   "pygments_lexer": "ipython3",
   "version": "3.7.2"
  }
 },
 "nbformat": 4,
 "nbformat_minor": 4
}
