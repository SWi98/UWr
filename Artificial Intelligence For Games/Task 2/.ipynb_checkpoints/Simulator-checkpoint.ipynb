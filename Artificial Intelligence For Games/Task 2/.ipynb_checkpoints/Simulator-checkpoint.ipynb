{
 "cells": [
  {
   "cell_type": "code",
   "execution_count": 53,
   "metadata": {},
   "outputs": [],
   "source": [
    "import math\n",
    "import numpy as np\n",
    "import matplotlib.pyplot as plt\n",
    "import seaborn as sns\n",
    "import timeit\n",
    "import time\n",
    "import copy"
   ]
  },
  {
   "cell_type": "code",
   "execution_count": 54,
   "metadata": {},
   "outputs": [],
   "source": [
    "class State:\n",
    "    def __init__(self, x, y, hs, vs, fuel, rotation, power):\n",
    "        self.x: float = x\n",
    "        self.y: float = y\n",
    "        self.hs: float = hs\n",
    "        self.vs: float = vs\n",
    "        self.fuel: float = fuel\n",
    "        self.rotation: int = rotation\n",
    "        self.power: int = power\n",
    "        \n",
    "    def __str__(self):\n",
    "        return (f\"x: {self.x}, y: {self.y}, h speed: {self.hs}, v speed: {self.vs},\\n\" \n",
    "            f\"fuel: {self.fuel}, rotation: {self.rotation}, power: {self.power}\")\n",
    "    \n",
    "    def next_state(self, new_rotation: int, new_power: int) -> 'State':\n",
    "        if new_power < 0:\n",
    "            new_power = 0\n",
    "            \n",
    "        elif new_power > 4:\n",
    "            new_power = 4\n",
    "         \n",
    "        if new_rotation < -90:\n",
    "            new_rotation = -90\n",
    "        elif new_rotation > 90:\n",
    "            new_rotation = 90\n",
    "        \n",
    "        new_power = min(self.fuel, new_power)\n",
    "        new_fuel = self.fuel - new_power\n",
    "        \n",
    "        angle_radians = (90 - new_rotation) * math.pi / 180.0\n",
    "        a_h = - new_power * math.cos(angle_radians)\n",
    "        a_v = new_power * math.sin(angle_radians) + G\n",
    "    \n",
    "        new_x = self.x + self.hs + a_h * 0.5\n",
    "        new_y = self.y + self.vs + a_v * 0.5\n",
    "        \n",
    "        new_hs = self.hs + a_h \n",
    "        new_vs = self.vs + a_v\n",
    "        \n",
    "        return State(new_x, new_y, new_hs, new_vs, new_fuel, new_rotation, new_power)"
   ]
  },
  {
   "cell_type": "code",
   "execution_count": 20,
   "metadata": {},
   "outputs": [],
   "source": [
    "class Board:\n",
    "    def __init__(self, xs, ys):\n",
    "        self.xs = xs\n",
    "        self.ys = ys\n",
    "        self.__find_ground()\n",
    "        self.__find_v_vals()\n",
    "        \n",
    "    def __find_ground(self):\n",
    "        start_of_ground = -1\n",
    "        length_of_ground = 0\n",
    "        for i in range(1, len(self.xs)):\n",
    "            if self.ys[i-1] == self.ys[i]:\n",
    "                self.start_of_ground = self.xs[i-1]\n",
    "                self.end_of_ground = self.xs[i]\n",
    "                \n",
    "    def __find_v_vals(self):\n",
    "        self.y_vals = [None] * 7000\n",
    "        for i in range(0, len(self.xs)-1):\n",
    "            self.y_vals[self.xs[i]] = self.ys[i]\n",
    "            slope = self.ys[i+1] - self.ys[i]\n",
    "            n_of_points = self.xs[i+1] - self.xs[i]\n",
    "            for j in range(self.xs[i] + 1, self.xs[i+1] + 1):\n",
    "                if slope == 0:\n",
    "                    self.y_vals[j] = self.y_vals[j-1]\n",
    "                else:\n",
    "                    self.y_vals[j] = self.y_vals[j-1] + (slope / n_of_points)"
   ]
  },
  {
   "cell_type": "code",
   "execution_count": 21,
   "metadata": {},
   "outputs": [],
   "source": [
    "G = -3.711\n",
    "XS = [0,   1000, 1500, 3000, 4000, 5500, 6999]\n",
    "YS = [100, 500,  1500, 1000, 150,  150,  800]\n",
    "YLIM = 3000\n",
    "XLIM = 7000"
   ]
  },
  {
   "cell_type": "code",
   "execution_count": 29,
   "metadata": {},
   "outputs": [],
   "source": [
    "STARTING_STATE = State(2500, 2700, 0, 0, 550, 0, 0)\n",
    "BOARD = Board(XS, YS)"
   ]
  },
  {
   "cell_type": "code",
   "execution_count": 92,
   "metadata": {
    "scrolled": true
   },
   "outputs": [],
   "source": [
    "sum_of_counts = 0\n",
    "for i in range(100):\n",
    "    start = timeit.default_timer()\n",
    "    count = 0\n",
    "    sequence = [(np.random.randint(-15, 16), np.random.randint(-1, 2)) for _ in np.arange(100)]\n",
    "    while timeit.default_timer() - start < 1.0:\n",
    "        state = copy.deepcopy(STARTING_STATE)\n",
    "        value = 0\n",
    "        positions = []\n",
    "        i = 0\n",
    "        while value == 0:\n",
    "            positions.append([state.x, state.y])\n",
    "            if state.x < 0 or state.x > 6999 or state.y < 0 or state.y > 2999:\n",
    "                value = -2\n",
    "            elif state.y <= BOARD.y_vals[int(state.x)]:\n",
    "                if state.x >= BOARD.start_of_ground and state.x <= BOARD.end_of_ground:\n",
    "                    if state.rotation == 0 and abs(state.hs) < 20 and abs(state.vs) < 40:\n",
    "                        value = 1\n",
    "                    else:\n",
    "                        value = -1\n",
    "                else:\n",
    "                    value = -2\n",
    "            else:\n",
    "                state = state.next_state(state.rotation + sequence[i][0], state.power + sequence[i][1])\n",
    "                i += 1\n",
    "        count += 1\n",
    "    sum_of_counts += count"
   ]
  },
  {
   "cell_type": "code",
   "execution_count": 93,
   "metadata": {},
   "outputs": [
    {
     "name": "stdout",
     "output_type": "stream",
     "text": [
      "7012.72\n"
     ]
    }
   ],
   "source": [
    "print(sum_of_counts/100)"
   ]
  },
  {
   "cell_type": "code",
   "execution_count": 83,
   "metadata": {},
   "outputs": [
    {
     "data": {
      "image/png": "[encoded data removed]",
      "text/plain": [
       "<Figure size 1080x360 with 1 Axes>"
      ]
     },
     "metadata": {
      "needs_background": "light"
     },
     "output_type": "display_data"
    }
   ],
   "source": [
    "plt.figure(figsize = (15, 5))\n",
    "plt.gca().set_xlim(0, XLIM)\n",
    "plt.gca().set_ylim(0, YLIM)\n",
    "plt.plot(np.arange(0, 7000), BOARD.y_vals)\n",
    "for x, y in positions:\n",
    "    plt.scatter(x, y, s=4, c = 'm')"
   ]
  }
 ],
 "metadata": {
  "kernelspec": {
   "display_name": "Python 3",
   "language": "python",
   "name": "python3"
  },
  "language_info": {
   "codemirror_mode": {
    "name": "ipython",
    "version": 3
   },
   "file_extension": ".py",
   "mimetype": "text/x-python",
   "name": "python",
   "nbconvert_exporter": "python",
   "pygments_lexer": "ipython3",
   "version": "3.7.2"
  }
 },
 "nbformat": 4,
 "nbformat_minor": 4
}
