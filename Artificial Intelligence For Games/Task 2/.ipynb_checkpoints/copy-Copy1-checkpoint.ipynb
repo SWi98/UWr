{
 "cells": [
  {
   "cell_type": "code",
   "execution_count": 1,
   "metadata": {},
   "outputs": [],
   "source": [
    "import math\n",
    "import numpy as np\n",
    "import matplotlib.pyplot as plt\n",
    "import seaborn as sns\n",
    "import timeit\n",
    "import time\n",
    "import copy\n",
    "from tqdm.auto import tqdm\n",
    "from IPython.display import clear_output"
   ]
  },
  {
   "cell_type": "code",
   "execution_count": 116,
   "metadata": {},
   "outputs": [],
   "source": [
    "CRASH_PENALTY = 1e6\n",
    "LANDING_BONUS = 1e6"
   ]
  },
  {
   "cell_type": "code",
   "execution_count": 247,
   "metadata": {},
   "outputs": [],
   "source": [
    "class State:\n",
    "    def __init__(self, x, y, hs, vs, fuel, rotation, power):\n",
    "        self.x: float = x\n",
    "        self.y: float = y\n",
    "        self.hs: float = hs\n",
    "        self.vs: float = vs\n",
    "        self.fuel: float = fuel\n",
    "        self.rotation: int = rotation\n",
    "        self.power: int = power\n",
    "        \n",
    "    def __str__(self):\n",
    "        return (f\"x: {self.x}, y: {self.y}, h speed: {self.hs}, v speed: {self.vs},\\n\" \n",
    "            f\"fuel: {self.fuel}, rotation: {self.rotation}, power: {self.power}\")\n",
    "            \n",
    "    def next_state(self, new_rotation: int, new_power: int) -> 'State':\n",
    "        if new_power < 0:\n",
    "            new_power = 0\n",
    "            \n",
    "        elif new_power > 4:\n",
    "            new_power = 4\n",
    "         \n",
    "        if new_rotation < -90:\n",
    "            new_rotation = -90\n",
    "        elif new_rotation > 90:\n",
    "            new_rotation = 90\n",
    "        \n",
    "        if new_rotation - self.rotation > 15:\n",
    "            print(\"HERE\")\n",
    "            print(self.rotation, self.power, new_rotation, new_power)\n",
    "            new_rotation = self.rotation + 15\n",
    "\n",
    "        elif new_rotation - self.rotation < -15:\n",
    "            print(\"HERE\")\n",
    "            print(self.rotation, self.power, new_rotation, new_power)\n",
    "            new_rotation = self.rotation - 15\n",
    "           \n",
    "        \n",
    "        new_power = min(self.fuel, new_power)\n",
    "        new_fuel = self.fuel - new_power\n",
    "        \n",
    "        angle_radians = (90 - new_rotation) * math.pi / 180.0\n",
    "        a_h = - new_power * math.cos(angle_radians)\n",
    "        a_v = new_power * math.sin(angle_radians) + G\n",
    "    \n",
    "        new_x = self.x + self.hs + a_h * 0.5\n",
    "        new_y = self.y + self.vs + a_v * 0.5\n",
    "        \n",
    "        new_hs = self.hs + a_h \n",
    "        new_vs = self.vs + a_v\n",
    "        \n",
    "      #  new_x = self.x + new_hs\n",
    "     #   new_y = self.y + new_vs\n",
    "        \n",
    "        return State(new_x, new_y, new_hs, new_vs, new_fuel, new_rotation, new_power)\n",
    "    \n",
    "    def evaluate(self):\n",
    "        ## if crushed/landed on the ground\n",
    "        if self.y <= BOARD.y_vals[int(self.x)] and self.x > BOARD.start_of_ground and self.x < BOARD.end_of_ground:\n",
    "            if self.rotation == 0 and abs(self.hs) < 20 and abs(self.vs) < 40:\n",
    "                return 20000\n",
    "            else:\n",
    "                return 20000 - abs(self.hs) - abs(self.vs) - abs(self.rotation)\n",
    "        else:\n",
    "            # on the left from the ground\n",
    "            if self.x < BOARD.start_of_ground: \n",
    "                return  (10000 -\n",
    "                         math.sqrt((self.x - BOARD.start_of_ground)**2 + \n",
    "                                   (self.y - BOARD.y_vals[BOARD.start_of_ground])**2))\n",
    "            # above the ground\n",
    "            elif self.x <= BOARD.end_of_ground:\n",
    "                return (10000 - (self.y - BOARD.y_vals[int(self.x)]))\n",
    "            # on the right from the ground\n",
    "            else: \n",
    "                return (10000 -\n",
    "                       math.sqrt((self.x - BOARD.end_of_ground)**2 + \n",
    "                                 (self.y - BOARD.y_vals[BOARD.start_of_ground])**2))\n",
    "            \n",
    "        \n",
    "    def check_or_evaluate(self, last_move):\n",
    "        outsideMap = self.x < 0 or self.x > 6999 or self.y < 0 or self.y > 2999\n",
    "        if outsideMap:\n",
    "            belowGround = False\n",
    "        else:\n",
    "            belowGround = self.y <= BOARD.y_vals[int(self.x)]\n",
    "            \n",
    "        \n",
    "        # if it's not the last move of a genotype, and it's still flying safely, then return -1 \n",
    "        if not last_move and not belowGround and not outsideMap:\n",
    "            return -1 \n",
    "        \n",
    "        inLandingRange = self.x > (BOARD.start_of_ground + 100) and self.x < (BOARD.end_of_ground - 100)\n",
    "        \n",
    "        hs_cond = abs(self.hs) < 15\n",
    "        vs_cond = abs(self.vs) < 35\n",
    "        \n",
    "        result = 0\n",
    "        if belowGround:\n",
    "            if inLandingRange:\n",
    "                # landed safely\n",
    "                if self.rotation == 0 and hs_cond and vs_cond:\n",
    "                    print(\"FOUND THE BEST!!!!!!!!!!!!!!!!!!!!!!!!!\")\n",
    "                    return LANDING_BONUS + self.fuel\n",
    "                # landed with crash\n",
    "                else:\n",
    "                    result -= abs(self.rotation) * 10\n",
    "                    if not hs_cond:\n",
    "                        result -= abs(self.hs) ** 2\n",
    "                    if not vs_cond:\n",
    "                        result -= abs(self.vs) ** 2\n",
    "                    result -= CRASH_PENALTY\n",
    "                    result -= abs((BOARD.start_of_ground + BOARD.end_of_ground)/2 - self.x) * 3\n",
    "                    return result\n",
    "                        \n",
    "            # crashed outside the landing zone\n",
    "            else:\n",
    "                result -= CRASH_PENALTY\n",
    "        # flew over the map     \n",
    "        elif outsideMap:\n",
    "            result -= CRASH_PENALTY\n",
    "        \n",
    "        \n",
    "        result -= abs(self.rotation) * 10\n",
    "        if not hs_cond:\n",
    "            result -= abs(self.hs) ** 2\n",
    "        if not vs_cond:\n",
    "            result -= abs(self.vs) ** 2\n",
    "            \n",
    "        # Manhattan distance to the center of the landing zone.\n",
    "        result -= (abs((BOARD.start_of_ground + BOARD.end_of_ground)/2 - self.x) +\n",
    "                   abs(BOARD.y_vals[BOARD.start_of_ground] - self.y)) * 10\n",
    "        \n",
    "        return result"
   ]
  },
  {
   "cell_type": "code",
   "execution_count": 4,
   "metadata": {},
   "outputs": [],
   "source": [
    "class Board:\n",
    "    def __init__(self, xs, ys):\n",
    "        self.xs = xs\n",
    "        self.ys = ys\n",
    "        self.__find_ground()\n",
    "        self.__find_v_vals()\n",
    "        \n",
    "    def __find_ground(self):\n",
    "        start_of_ground = -1\n",
    "        length_of_ground = 0\n",
    "        for i in range(1, len(self.xs)):\n",
    "            if self.ys[i-1] == self.ys[i]:\n",
    "                self.start_of_ground = self.xs[i-1]\n",
    "                self.end_of_ground = self.xs[i]\n",
    "                \n",
    "    def __find_v_vals(self):\n",
    "        self.y_vals = [None] * 7000\n",
    "        for i in range(0, len(self.xs)-1):\n",
    "            self.y_vals[self.xs[i]] = self.ys[i]\n",
    "            slope = self.ys[i+1] - self.ys[i]\n",
    "            n_of_points = self.xs[i+1] - self.xs[i]\n",
    "            for j in range(self.xs[i] + 1, self.xs[i+1] + 1):\n",
    "                if slope == 0:\n",
    "                    self.y_vals[j] = self.y_vals[j-1]\n",
    "                else:\n",
    "                    self.y_vals[j] = self.y_vals[j-1] + (slope / n_of_points)"
   ]
  },
  {
   "cell_type": "code",
   "execution_count": 5,
   "metadata": {},
   "outputs": [],
   "source": [
    "class Node:\n",
    "    def __init__(self, state: State):\n",
    "        self.state = state\n",
    "        self.previous = None\n",
    "        self.successors = []\n",
    "        "
   ]
  },
  {
   "cell_type": "code",
   "execution_count": 215,
   "metadata": {},
   "outputs": [],
   "source": [
    "class RHEA:\n",
    "    def __init__(self, N, d, no_mutations, starting_state: State):\n",
    "        self.N = N\n",
    "        self.d = d\n",
    "        self.no_mutations = no_mutations\n",
    "        self.population = self.random_population()\n",
    "        self.population_vals = np.zeros(N)\n",
    "        self.simulations_positions = []\n",
    "        self.current_state: State = starting_state\n",
    "        self.evaluate_current_population()    \n",
    "        self.first_move = True\n",
    "        self.previous_move = None \n",
    "            \n",
    "    def binary_random(self, p):\n",
    "        return int(np.random.rand() < p)\n",
    "    \n",
    "    def random_individual(self):\n",
    "        return np.array([(np.random.randint(-15, 16), np.random.randint(-1, 2)) for _ in np.arange(self.d)])\n",
    "    \n",
    "    def random_population(self):\n",
    "        return (np.stack(\n",
    "            (np.random.randint(-15, 16, size = (self.N, self.d, 1)), \n",
    "             np.random.randint(-1, 2, size = (self.N, self.d, 1))), \n",
    "            axis = 3)).reshape(self.N, self.d, 2)\n",
    "    \n",
    "    def evaluate_population(self, population):\n",
    "        return np.array([self.evaluate_individual(individual) for individual in population])\n",
    "    \n",
    "    def evaluate_current_population(self):\n",
    "        self.simulations_positions = []\n",
    "        self.population_vals = self.evaluate_population(self.population)\n",
    "        \n",
    "    def evaluate_individual(self, individual: np.array):\n",
    "        positions = []\n",
    "        state = copy.deepcopy(self.current_state)\n",
    "        positions.append([state.x, state.y])\n",
    "        for move in individual:\n",
    "            state = state.next_state(state.rotation + move[0], state.power + move[1])\n",
    "            positions.append([state.x, state.y])\n",
    "            heur_val = state.check_or_evaluate(last_move = False)\n",
    "            if heur_val != -1:\n",
    "                self.simulations_positions.append(positions)\n",
    "                return heur_val\n",
    "        self.simulations_positions.append(positions)\n",
    "        return state.check_or_evaluate(last_move = True)\n",
    "        \n",
    "    def get_parents(self):\n",
    "        vals = self.population_vals - np.min(self.population_vals)\n",
    "        sum_of_vals = np.sum(vals)\n",
    "        if sum_of_vals == 0:\n",
    "            probs = np.ones(self.N) / self.N\n",
    "        else:\n",
    "            probs = vals / sum_of_vals\n",
    "        return self.population[\n",
    "            np.random.choice(self.N, int(self.N/2), p = probs, replace = True)]\n",
    "                               \n",
    "    def generate_new_population(self, children, children_vals):\n",
    "        all_indiv = np.vstack((children, self.population))\n",
    "        all_vals = np.append(children_vals, self.population_vals)\n",
    "        self.population = all_indiv[np.argsort(-all_vals)][:self.N]\n",
    "        self.evaluate_current_population()\n",
    "    \n",
    "    def mutate(self, population):\n",
    "        # ith column are indices of i-th genotypes' genes that will mutate\n",
    "        random_indices = np.array([np.random.choice(self.d, size=self.no_mutations, replace=False) \n",
    "                                   for _ in range(population.shape[0])]).T\n",
    "        \n",
    "        # population[:, :, 0] is a matrix in which i-th row describes rotations of i-th genotype\n",
    "        # population[:, :, 0][np.arange..] is a matrix with shape (# of random_indices columns, self.N)\n",
    "        # Every row consists of random genes to be changed. i-th element in a row is a gen from i-th genotype\n",
    "        population[:, :, 0][np.arange(population.shape[0]), random_indices] = np.array(\n",
    "            [np.random.randint(low = -15, high = 16, size = population.shape[0]) for _ in np.arange(self.no_mutations)])\n",
    "        population[:, :, 1][np.arange(population.shape[0]), random_indices] = np.array(\n",
    "            [np.random.randint(-1, 2, size = population.shape[0]) for _ in np.arange(self.no_mutations)])\n",
    "        return population\n",
    "        \n",
    "    def do_move(self):\n",
    "        best_move = self.population[np.argmax(self.population_vals)][0]\n",
    "        self.current_state = self.current_state.next_state(self.current_state.rotation + best_move[0],\n",
    "                                                           self.current_state.power + best_move[1])\n",
    "        self.previous_move = best_move \n",
    "        \n",
    "    def roll_population(self):\n",
    "        self.population[:int(self.N/2)] = self.population[np.argsort(-self.population_vals)][:int(self.N/2)]\n",
    "        self.population[:int(self.N/2)] = np.roll(self.population[:int(self.N/2)], -1, axis = 1)\n",
    "        self.population[:int(self.N/2), self.d - 1] = np.stack(\n",
    "            (np.random.randint(-15, 16, size = (int(self.N/2), 1)), \n",
    "             np.random.randint(-1, 2, size = (int(self.N/2), 1))), \n",
    "            axis = 2).reshape(int(self.N/2), 2)\n",
    "        self.population[int(self.N/2):] = (np.stack(\n",
    "            (np.random.randint(-15, 16, size = (int(self.N/2), self.d, 1)), \n",
    "                np.random.randint(-1, 2, size = (int(self.N/2), self.d, 1))), \n",
    "                  axis = 3)).reshape(int(self.N/2), self.d, 2)\n",
    "        \n",
    "        \n",
    "    def do_iteration(self):\n",
    "        start = timeit.default_timer()\n",
    "        if self.first_move:\n",
    "            time_limit = 1.0\n",
    "            self.first_move = False\n",
    "        else:\n",
    "            time_limit = 0.1\n",
    "            self.roll_population()\n",
    "            #self.population = self.random_population()\n",
    "            self.evaluate_current_population()\n",
    "        iters = 0 \n",
    "        while(timeit.default_timer() - start < time_limit):\n",
    "            iters += 1\n",
    "            parents = copy.deepcopy(self.get_parents())\n",
    "            children = self.mutate(parents)\n",
    "            children_vals = self.evaluate_population(children)\n",
    "            self.generate_new_population(children, children_vals)\n",
    "            \n",
    "        self.do_move()\n",
    "        "
   ]
  },
  {
   "cell_type": "code",
   "execution_count": 7,
   "metadata": {},
   "outputs": [],
   "source": [
    "def random_move(state):\n",
    "    return np.random.randint(-15, 16), np.random.randint(-1, 2)"
   ]
  },
  {
   "cell_type": "code",
   "execution_count": 8,
   "metadata": {},
   "outputs": [],
   "source": [
    "G = -3.711\n",
    "XS = [0,   1000, 1500, 3000, 4000, 5500, 6999]\n",
    "YS = [100, 500,  1500, 1000, 150,  150,  800]\n",
    "YLIM = 3000\n",
    "XLIM = 7000\n",
    "STARTING_STATE = State(2000, 2700, 0, 0, 550, 0, 1)"
   ]
  },
  {
   "cell_type": "code",
   "execution_count": 9,
   "metadata": {},
   "outputs": [],
   "source": [
    "BOARD = Board(XS, YS)"
   ]
  },
  {
   "cell_type": "code",
   "execution_count": 248,
   "metadata": {
    "scrolled": false
   },
   "outputs": [
    {
     "name": "stdout",
     "output_type": "stream",
     "text": [
      "Wall time: 15 ms\n"
     ]
    }
   ],
   "source": [
    "%%time\n",
    "ALG = RHEA(N = 20, d = 80, no_mutations = 40, starting_state = STARTING_STATE)"
   ]
  },
  {
   "cell_type": "code",
   "execution_count": 256,
   "metadata": {
    "scrolled": false
   },
   "outputs": [
    {
     "data": {
      "image/png": "[encoded data removed]",
      "text/plain": [
       "<Figure size 1080x360 with 1 Axes>"
      ]
     },
     "metadata": {
      "needs_background": "light"
     },
     "output_type": "display_data"
    },
    {
     "name": "stdout",
     "output_type": "stream",
     "text": [
      "x: 4756.499774060759, y: 110.69646413352058, h speed: 4.028770775980221, v speed: -36.51688215542332,\n",
      "fuel: 82, rotation: 0, power: 4\n",
      "[-1001352.98200454 -1001352.98200454 -1001352.98200454 -1001352.98200454\n",
      " -1001352.98200454 -1001352.98200454 -1001352.98200454 -1001352.98200454\n",
      " -1001352.98200454 -1001352.98200454 -1001352.98200454 -1001352.98200454\n",
      " -1001352.98200454 -1001352.98200454 -1001352.98200454 -1001352.98200454\n",
      " -1001352.98200454 -1001352.98200454 -1001352.98200454 -1001352.98200454]\n",
      "Wall time: 606 ms\n"
     ]
    }
   ],
   "source": [
    "%%time\n",
    "for i in range(2):\n",
    "    ALG.do_iteration()\n",
    "    plt.figure(figsize = (15, 5))\n",
    "    plt.gca().set_xlim(0,XLIM)\n",
    "    plt.gca().set_ylim(0,YLIM)\n",
    "    plt.plot(np.arange(0, 7000), BOARD.y_vals)\n",
    "    for index, positions in enumerate(ALG.simulations_positions):\n",
    "        for x, y in positions:\n",
    "            plt.scatter(x, y, s=4, c = 'm')\n",
    "    clear_output(wait=True)\n",
    "    plt.show()\n",
    "    print(ALG.current_state)\n",
    "    print(ALG.population_vals)"
   ]
  },
  {
   "cell_type": "code",
   "execution_count": 1372,
   "metadata": {
    "scrolled": true
   },
   "outputs": [
    {
     "name": "stdout",
     "output_type": "stream",
     "text": [
      "x: 4052.8635222197163, y: 255.40027466725635, h speed: 17.575575448610895, v speed: -70.40250362268907,\n",
      "fuel: 342, rotation: 14, power: 4\n"
     ]
    }
   ],
   "source": [
    "print(ALG.current_state)"
   ]
  },
  {
   "cell_type": "code",
   "execution_count": 1389,
   "metadata": {},
   "outputs": [
    {
     "data": {
      "image/png": "[encoded data removed]",
      "text/plain": [
       "<Figure size 1080x360 with 1 Axes>"
      ]
     },
     "metadata": {
      "needs_background": "light"
     },
     "output_type": "display_data"
    }
   ],
   "source": [
    "plt.figure(figsize = (15, 5))\n",
    "plt.gca().set_xlim(0,XLIM)\n",
    "plt.gca().set_ylim(0,YLIM)\n",
    "plt.plot(np.arange(0, 7000), BOARD.y_vals)\n",
    "for index, positions in enumerate(ALG.simulations_positions):\n",
    "    for x, y in positions:\n",
    "        plt.scatter(x, y, s=4, c = 'm')"
   ]
  },
  {
   "cell_type": "code",
   "execution_count": 192,
   "metadata": {
    "scrolled": false
   },
   "outputs": [
    {
     "name": "stdout",
     "output_type": "stream",
     "text": [
      "Wall time: 1.01 s\n"
     ]
    }
   ],
   "source": [
    "%%time\n",
    "ALG.do_iteration()"
   ]
  },
  {
   "cell_type": "code",
   "execution_count": 188,
   "metadata": {},
   "outputs": [],
   "source": [
    "ALG.evaluate_current_population()"
   ]
  },
  {
   "cell_type": "code",
   "execution_count": 798,
   "metadata": {
    "collapsed": true
   },
   "outputs": [
    {
     "name": "stdout",
     "output_type": "stream",
     "text": [
      "[[[  9   1]\n",
      "  [ 12   3]\n",
      "  [-10   0]\n",
      "  [-14   3]\n",
      "  [-13   2]\n",
      "  [ -4   2]\n",
      "  [  8   2]\n",
      "  [  6   2]\n",
      "  [ 13   1]\n",
      "  [ -8   3]\n",
      "  [  5   3]\n",
      "  [  3   2]\n",
      "  [ -2   4]\n",
      "  [ 11   4]\n",
      "  [ -2   2]\n",
      "  [  8   1]\n",
      "  [ -5   4]\n",
      "  [  8   4]\n",
      "  [ -7   0]\n",
      "  [-11   3]\n",
      "  [ -9   1]\n",
      "  [-12   1]\n",
      "  [ -2   2]\n",
      "  [ -8   1]\n",
      "  [ -1   2]\n",
      "  [  8   4]\n",
      "  [  4   3]\n",
      "  [ 12   2]\n",
      "  [-10   0]\n",
      "  [-12   4]\n",
      "  [  6   1]\n",
      "  [  0   0]\n",
      "  [-13   1]\n",
      "  [  6   0]\n",
      "  [ 11   4]\n",
      "  [ -2   2]\n",
      "  [ 11   4]\n",
      "  [ -5   1]\n",
      "  [ 11   2]\n",
      "  [ -4   4]\n",
      "  [  7   2]\n",
      "  [ 10   0]\n",
      "  [  2   3]\n",
      "  [-12   4]\n",
      "  [  1   3]\n",
      "  [ -1   3]\n",
      "  [  1   3]\n",
      "  [ -2   1]\n",
      "  [ 13   3]\n",
      "  [  0   3]]\n",
      "\n",
      " [[-14   1]\n",
      "  [ -4   0]\n",
      "  [-11   0]\n",
      "  [-13   1]\n",
      "  [ 14   3]\n",
      "  [ -4   1]\n",
      "  [-11   2]\n",
      "  [  3   4]\n",
      "  [  9   2]\n",
      "  [ -9   4]\n",
      "  [  4   2]\n",
      "  [  8   4]\n",
      "  [-10   3]\n",
      "  [ -5   2]\n",
      "  [  3   3]\n",
      "  [-10   3]\n",
      "  [  1   3]\n",
      "  [-15   2]\n",
      "  [-14   3]\n",
      "  [ 14   0]\n",
      "  [-12   1]\n",
      "  [-13   0]\n",
      "  [ -9   2]\n",
      "  [ -1   2]\n",
      "  [-11   3]\n",
      "  [-11   1]\n",
      "  [ -8   2]\n",
      "  [ -4   1]\n",
      "  [-10   2]\n",
      "  [  1   3]\n",
      "  [ -5   3]\n",
      "  [-10   3]\n",
      "  [  3   4]\n",
      "  [ -3   3]\n",
      "  [  2   1]\n",
      "  [-13   1]\n",
      "  [ 13   0]\n",
      "  [  1   4]\n",
      "  [-15   4]\n",
      "  [-14   1]\n",
      "  [ -1   0]\n",
      "  [-11   3]\n",
      "  [-10   2]\n",
      "  [ -7   0]\n",
      "  [ -9   4]\n",
      "  [  6   0]\n",
      "  [ -3   1]\n",
      "  [ 13   1]\n",
      "  [ -6   1]\n",
      "  [-15   1]]]\n",
      "[-2290.38486435 -1332.55487586]\n",
      "[[[-14   1]\n",
      "  [-10   0]\n",
      "  [ 11   3]\n",
      "  ...\n",
      "  [ 14   2]\n",
      "  [ 13   3]\n",
      "  [-10   0]]\n",
      "\n",
      " [[  6   4]\n",
      "  [-10   3]\n",
      "  [  4   0]\n",
      "  ...\n",
      "  [  6   2]\n",
      "  [  5   2]\n",
      "  [  3   1]]\n",
      "\n",
      " [[ -2   1]\n",
      "  [  6   4]\n",
      "  [ -5   2]\n",
      "  ...\n",
      "  [  0   3]\n",
      "  [-11   0]\n",
      "  [  1   3]]\n",
      "\n",
      " ...\n",
      "\n",
      " [[ 13   1]\n",
      "  [ 13   4]\n",
      "  [ 11   4]\n",
      "  ...\n",
      "  [-14   1]\n",
      "  [  9   4]\n",
      "  [  9   2]]\n",
      "\n",
      " [[  3   1]\n",
      "  [ -5   1]\n",
      "  [  2   1]\n",
      "  ...\n",
      "  [  0   4]\n",
      "  [ 13   2]\n",
      "  [-11   4]]\n",
      "\n",
      " [[-13   2]\n",
      "  [-12   0]\n",
      "  [-15   3]\n",
      "  ...\n",
      "  [ -7   2]\n",
      "  [  4   3]\n",
      "  [ 15   1]]]\n",
      "[-1962.31194446 -1721.60260878 -2301.51657405 -1888.28909004\n",
      " -2140.87466904 -1413.03873962 -1505.21103154 -2717.65279342\n",
      " -2586.98755798 -1241.77235055 -2668.66604365 -2532.97918875\n",
      " -1434.26386547 -2375.51146245 -2448.04870488 -2441.38769901\n",
      " -2091.88397613 -3269.28423578 -2495.77318557   -68.0911251 ]\n"
     ]
    }
   ],
   "source": [
    "children = np.array([ALG.random_individual() for _ in range(2)])\n",
    "children_vals = ALG.evaluate_population(children)\n",
    "print(children)\n",
    "print(children_vals)\n",
    "print(ALG.population)\n",
    "print(ALG.population_vals)"
   ]
  },
  {
   "cell_type": "code",
   "execution_count": 799,
   "metadata": {},
   "outputs": [],
   "source": [
    "ALG.generate_new_population(children, children_vals)"
   ]
  },
  {
   "cell_type": "code",
   "execution_count": 193,
   "metadata": {
    "scrolled": false
   },
   "outputs": [
    {
     "data": {
      "image/png": "[encoded data removed]",
      "text/plain": [
       "<Figure size 1080x360 with 1 Axes>"
      ]
     },
     "metadata": {
      "needs_background": "light"
     },
     "output_type": "display_data"
    }
   ],
   "source": [
    "plt.figure(figsize = (15, 5))\n",
    "plt.gca().set_xlim(0, XLIM)\n",
    "plt.gca().set_ylim(0, YLIM)\n",
    "plt.plot(np.arange(0, 7000), BOARD.y_vals)\n",
    "for index, positions in enumerate(ALG.simulations_positions):\n",
    "    for x, y in positions:\n",
    "        plt.scatter(x, y, s=4, c = 'm')"
   ]
  },
  {
   "cell_type": "code",
   "execution_count": 179,
   "metadata": {},
   "outputs": [],
   "source": [
    "def simulate(state):\n",
    "    positions.append([state.x, state.y])\n",
    "    if state.x < 0 or state.x > 6999 or state.y < 0 or state.y > 2999 or abs(state.rotation) > 90:\n",
    "        return 0\n",
    "    if state.y <= BOARD.y_vals[int(state.x)]:\n",
    "        if state.x >= BOARD.start_of_ground and state.x <= BOARD.end_of_ground:\n",
    "            if state.rotation == 0 and abs(state.hs) < 20 and abs(state.vs) < 40:\n",
    "                return 200\n",
    "            else:\n",
    "                return 100\n",
    "        else:\n",
    "            return 0\n",
    "\n",
    "    new_rotation, new_power = generate_move(state, random_move)\n",
    "    simulate(state.next_state(state.rotation + new_rotation, state.power + new_power))"
   ]
  },
  {
   "cell_type": "code",
   "execution_count": 559,
   "metadata": {},
   "outputs": [
    {
     "name": "stdout",
     "output_type": "stream",
     "text": [
      "188\n"
     ]
    }
   ],
   "source": [
    "start = timeit.default_timer()\n",
    "how_many = 0\n",
    "while timeit.default_timer() - start < 0.1:\n",
    "    how_many += 1\n",
    "    positions = []\n",
    "    simulate(State(2000, 2700, 0, 0, 550, 0, 1))\n",
    "print(how_many)"
   ]
  },
  {
   "cell_type": "code",
   "execution_count": 1219,
   "metadata": {},
   "outputs": [
    {
     "name": "stdout",
     "output_type": "stream",
     "text": [
      "[[[-12   3]\n",
      "  [-14   3]\n",
      "  [  7   3]\n",
      "  [ 14   3]\n",
      "  [ -4   2]\n",
      "  [ -2   3]]\n",
      "\n",
      " [[  2   3]\n",
      "  [  9   0]\n",
      "  [ -2   3]\n",
      "  [  4   4]\n",
      "  [ -9   2]\n",
      "  [ -6   1]]]\n"
     ]
    }
   ],
   "source": [
    "pop = ALG.random_population()\n",
    "print(pop)"
   ]
  },
  {
   "cell_type": "code",
   "execution_count": 1220,
   "metadata": {},
   "outputs": [],
   "source": [
    "n = 2\n",
    "d = 6\n",
    "no_mutations = 4"
   ]
  },
  {
   "cell_type": "code",
   "execution_count": 1152,
   "metadata": {
    "scrolled": true
   },
   "outputs": [],
   "source": [
    "# ith column are indices of i-th genotypes' genes that will mutate\n",
    "random_indices = np.array([np.random.choice(d, size=no_mutations, replace=False) for _ in range(n)]).T"
   ]
  },
  {
   "cell_type": "code",
   "execution_count": 1153,
   "metadata": {},
   "outputs": [
    {
     "name": "stdout",
     "output_type": "stream",
     "text": [
      "[[0 0 0 0]\n",
      " [1 1 1 1]]\n"
     ]
    }
   ],
   "source": [
    "random_indices = np.array([[0, 0, 0, 0], [1, 1, 1, 1]])\n",
    "print(random_indices)"
   ]
  },
  {
   "cell_type": "code",
   "execution_count": 992,
   "metadata": {},
   "outputs": [
    {
     "name": "stdout",
     "output_type": "stream",
     "text": [
      "4\n"
     ]
    }
   ],
   "source": [
    "print(pop.shape[0])"
   ]
  },
  {
   "cell_type": "code",
   "execution_count": 1154,
   "metadata": {},
   "outputs": [
    {
     "data": {
      "text/plain": [
       "array([[[  5,   0],\n",
       "        [-11,   1],\n",
       "        [ -8,   4],\n",
       "        [  1,   4],\n",
       "        [-11,   4],\n",
       "        [  5,   1]],\n",
       "\n",
       "       [[  0,   2],\n",
       "        [  6,   1],\n",
       "        [ -2,   0],\n",
       "        [  2,   0],\n",
       "        [ 11,   1],\n",
       "        [ -4,   0]],\n",
       "\n",
       "       [[  0,   0],\n",
       "        [ -5,   0],\n",
       "        [ -2,   4],\n",
       "        [ 10,   0],\n",
       "        [ -7,   4],\n",
       "        [-14,   3]],\n",
       "\n",
       "       [[ -4,   1],\n",
       "        [ 14,   4],\n",
       "        [ 12,   1],\n",
       "        [ 13,   1],\n",
       "        [  9,   1],\n",
       "        [  1,   0]]])"
      ]
     },
     "execution_count": 1154,
     "metadata": {},
     "output_type": "execute_result"
    }
   ],
   "source": [
    "pop"
   ]
  },
  {
   "cell_type": "code",
   "execution_count": 1037,
   "metadata": {},
   "outputs": [
    {
     "data": {
      "text/plain": [
       "array([  8,  -1, -13,   0,   9,  -8])"
      ]
     },
     "execution_count": 1037,
     "metadata": {},
     "output_type": "execute_result"
    }
   ],
   "source": [
    "pop[:, :, 0][0] #Lista rotacji 1. osobnika w populacji"
   ]
  },
  {
   "cell_type": "code",
   "execution_count": 1155,
   "metadata": {
    "scrolled": true
   },
   "outputs": [
    {
     "data": {
      "text/plain": [
       "array([[  5, -11,  -8,   1, -11,   5],\n",
       "       [  0,   6,  -2,   2,  11,  -4],\n",
       "       [  0,  -5,  -2,  10,  -7, -14],\n",
       "       [ -4,  14,  12,  13,   9,   1]])"
      ]
     },
     "execution_count": 1155,
     "metadata": {},
     "output_type": "execute_result"
    }
   ],
   "source": [
    "pop[:, :, 0]"
   ]
  },
  {
   "cell_type": "code",
   "execution_count": 1182,
   "metadata": {},
   "outputs": [
    {
     "data": {
      "text/plain": [
       "array([[-10, -12,   1,   6],\n",
       "       [  4,   1,  -5,  -3]])"
      ]
     },
     "execution_count": 1182,
     "metadata": {},
     "output_type": "execute_result"
    }
   ],
   "source": [
    "pop[:, :, 0][np.arange(pop.shape[0]), random_indices]"
   ]
  },
  {
   "cell_type": "code",
   "execution_count": 1187,
   "metadata": {},
   "outputs": [
    {
     "name": "stdout",
     "output_type": "stream",
     "text": [
      "[[  7.43003628   9.25150361  -7.25000994  -6.48306201]\n",
      " [-14.0709154   -6.24405766  -8.35969159 -13.75050342]]\n"
     ]
    }
   ],
   "source": [
    "new_vectors = np.array(\n",
    "    [np.random.uniform(low = -15, high = 16, size = pop.shape[0]) for _ in np.arange(2)])\n",
    "print(new_vectors)"
   ]
  },
  {
   "cell_type": "code",
   "execution_count": 1181,
   "metadata": {
    "scrolled": true
   },
   "outputs": [
    {
     "data": {
      "text/plain": [
       "array([[-10,   4,  -8,   1, -11,   5],\n",
       "       [-12,   1,  -2,   2,  11,  -4],\n",
       "       [  1,  -5,  -2,  10,  -7, -14],\n",
       "       [  6,  -3,  12,  13,   9,   1]])"
      ]
     },
     "execution_count": 1181,
     "metadata": {},
     "output_type": "execute_result"
    }
   ],
   "source": [
    "pop[:, :, 0][np.arange(pop.shape[0]), random_indices] = new_vectors\n",
    "pop[:, :, 0]"
   ]
  },
  {
   "cell_type": "code",
   "execution_count": 1382,
   "metadata": {},
   "outputs": [
    {
     "name": "stdout",
     "output_type": "stream",
     "text": [
      "Wall time: 998 µs\n"
     ]
    }
   ],
   "source": [
    "%%time\n",
    "ALG = RHEA(N = 5, d = 2, no_mutations = 1, starting_state = STARTING_STATE)"
   ]
  },
  {
   "cell_type": "code",
   "execution_count": 1383,
   "metadata": {
    "scrolled": false
   },
   "outputs": [
    {
     "data": {
      "text/plain": [
       "array([[[ 15,   2],\n",
       "        [  4,   0]],\n",
       "\n",
       "       [[-15,   3],\n",
       "        [ -8,   2]],\n",
       "\n",
       "       [[ -6,   3],\n",
       "        [  0,   3]],\n",
       "\n",
       "       [[ 12,   2],\n",
       "        [  4,   4]],\n",
       "\n",
       "       [[ 14,   1],\n",
       "        [ 14,   2]]])"
      ]
     },
     "execution_count": 1383,
     "metadata": {},
     "output_type": "execute_result"
    }
   ],
   "source": [
    "ALG.population"
   ]
  },
  {
   "cell_type": "code",
   "execution_count": 1384,
   "metadata": {
    "collapsed": true
   },
   "outputs": [
    {
     "data": {
      "text/plain": [
       "array([[[  7,   2],\n",
       "        [  4,   0]],\n",
       "\n",
       "       [[-15,   3],\n",
       "        [ -3,   1]],\n",
       "\n",
       "       [[  6,   4],\n",
       "        [  0,   3]],\n",
       "\n",
       "       [[  3,   0],\n",
       "        [  4,   4]],\n",
       "\n",
       "       [[ 14,   1],\n",
       "        [ -2,   3]]])"
      ]
     },
     "execution_count": 1384,
     "metadata": {},
     "output_type": "execute_result"
    }
   ],
   "source": [
    "ALG.mutate(ALG.population)"
   ]
  },
  {
   "cell_type": "code",
   "execution_count": 1385,
   "metadata": {},
   "outputs": [
    {
     "data": {
      "text/plain": [
       "array([[[  7,   2],\n",
       "        [  4,   0]],\n",
       "\n",
       "       [[-15,   3],\n",
       "        [ -3,   1]],\n",
       "\n",
       "       [[  6,   4],\n",
       "        [  0,   3]],\n",
       "\n",
       "       [[  3,   0],\n",
       "        [  4,   4]],\n",
       "\n",
       "       [[ 14,   1],\n",
       "        [ -2,   3]]])"
      ]
     },
     "execution_count": 1385,
     "metadata": {},
     "output_type": "execute_result"
    }
   ],
   "source": [
    "ALG.population"
   ]
  },
  {
   "cell_type": "code",
   "execution_count": 1284,
   "metadata": {},
   "outputs": [],
   "source": [
    "pop[:int(n/2)] = np.roll(pop[:int(n/2)], -1, axis = 1)"
   ]
  },
  {
   "cell_type": "code",
   "execution_count": 1285,
   "metadata": {},
   "outputs": [
    {
     "name": "stdout",
     "output_type": "stream",
     "text": [
      "[[[-10   3]\n",
      "  [ -8   1]\n",
      "  [-11   0]\n",
      "  [-15   2]\n",
      "  [-11   4]\n",
      "  [  3   0]\n",
      "  [  4   2]\n",
      "  [ -3   0]\n",
      "  [  4   0]\n",
      "  [-11   0]]\n",
      "\n",
      " [[-12   2]\n",
      "  [ -8   1]\n",
      "  [  3   2]\n",
      "  [  5   1]\n",
      "  [ -5   1]\n",
      "  [-14   1]\n",
      "  [ 14   1]\n",
      "  [-14   3]\n",
      "  [  7   4]\n",
      "  [ 12   3]]]\n"
     ]
    }
   ],
   "source": [
    "print(pop)"
   ]
  },
  {
   "cell_type": "code",
   "execution_count": 1286,
   "metadata": {},
   "outputs": [
    {
     "data": {
      "text/plain": [
       "array([[-11,   0]])"
      ]
     },
     "execution_count": 1286,
     "metadata": {},
     "output_type": "execute_result"
    }
   ],
   "source": [
    "pop[:int(n/2), d-1]"
   ]
  },
  {
   "cell_type": "code",
   "execution_count": 1287,
   "metadata": {
    "scrolled": true
   },
   "outputs": [],
   "source": [
    "pop[:int(n/2), d-1] = (np.stack(\n",
    "    (np.random.randint(-15, 16, size = (int(n/2), 1)),\n",
    "     np.random.randint(-1, 2, size = (int(n/2), 1))), \n",
    "    axis = 2).reshape(int(n/2), 2))"
   ]
  },
  {
   "cell_type": "code",
   "execution_count": 1288,
   "metadata": {},
   "outputs": [
    {
     "name": "stdout",
     "output_type": "stream",
     "text": [
      "[[[-10   3]\n",
      "  [ -8   1]\n",
      "  [-11   0]\n",
      "  [-15   2]\n",
      "  [-11   4]\n",
      "  [  3   0]\n",
      "  [  4   2]\n",
      "  [ -3   0]\n",
      "  [  4   0]\n",
      "  [  2   0]]\n",
      "\n",
      " [[-12   2]\n",
      "  [ -8   1]\n",
      "  [  3   2]\n",
      "  [  5   1]\n",
      "  [ -5   1]\n",
      "  [-14   1]\n",
      "  [ 14   1]\n",
      "  [-14   3]\n",
      "  [  7   4]\n",
      "  [ 12   3]]]\n"
     ]
    }
   ],
   "source": [
    "print(pop)"
   ]
  },
  {
   "cell_type": "code",
   "execution_count": 324,
   "metadata": {},
   "outputs": [
    {
     "name": "stdout",
     "output_type": "stream",
     "text": [
      "3\n"
     ]
    }
   ],
   "source": [
    "print(np.argmax([1,1, 1,3, 2,3,3, 3, 3, 3, 3]))"
   ]
  }
 ],
 "metadata": {
  "kernelspec": {
   "display_name": "Python 3",
   "language": "python",
   "name": "python3"
  },
  "language_info": {
   "codemirror_mode": {
    "name": "ipython",
    "version": 3
   },
   "file_extension": ".py",
   "mimetype": "text/x-python",
   "name": "python",
   "nbconvert_exporter": "python",
   "pygments_lexer": "ipython3",
   "version": "3.7.2"
  }
 },
 "nbformat": 4,
 "nbformat_minor": 4
}
