{
 "cells": [
  {
   "cell_type": "markdown",
   "metadata": {
    "colab_type": "text",
    "id": "view-in-github"
   },
   "source": [
    "<a href=\"https://colab.research.google.com/github/janchorowski/dl_uwr/blob/summer2021/Assignments/Assignment1.ipynb\" target=\"_parent\"><img src=\"https://colab.research.google.com/assets/colab-badge.svg\" alt=\"Open In Colab\"/></a>"
   ]
  },
  {
   "cell_type": "markdown",
   "metadata": {
    "id": "CGXgWugfJ0Vl"
   },
   "source": [
    "## Assignment 1\n",
    "\n",
    "**Submission deadlines:** \n",
    "- get at least **2** points by Tuesday, 9.03.2021\n",
    "- remaining points: last lab session before or on Tuesday, 16.03.2021\n",
    "\n",
    "**Points:** Aim to get 8 out of 12 possible points\n",
    "\n",
    "## Submission instructions\n",
    "The class is held remotely. To sumbmit your solutions please show the notebook over the video call. Make sure you know all the questions and asnwers, and that the notebook contains results (before presentation do `Runtime -> Restar and run all`)\n",
    "\n",
    "We provide starter code, however you are not required to use it as long as you properly solve the tasks.\n",
    "\n",
    "As always, please submit corrections using GitHub's Pull Requests to https://github.com/janchorowski/dl_uwr."
   ]
  },
  {
   "cell_type": "markdown",
   "metadata": {
    "id": "5S8iRaCPyO2a"
   },
   "source": [
    "# Task description\n",
    "\n",
    "## TLDR\n",
    "Implement and train a neural network using pure numpy."
   ]
  },
  {
   "cell_type": "markdown",
   "metadata": {
    "id": "JHcz7I2V-bVM"
   },
   "source": [
    "\n",
    "## Problem 1 [2p]\n",
    "Implement a two-layer network, manually set weights and biases to solve the XOR task.\n",
    "\n",
    "A two-layer neural network implementes a function $f: \\mathbb{R}^D \\rightarrow \\mathbb{R}^O$ where $D$ is the input dimensionality and $O$ is the output dinemsionality. The output goes through an intermediate representation (the hidden layer) with dimensionality $H$. \n",
    "\n",
    "The computations are as follows:\n",
    "\\begin{equation}\n",
    "\\begin{split}\n",
    "A_1 &= x W_1^T + b_1  & \\qquad\\text{Total input to neurons in the hidden layer (network's first layer)} \\\\\n",
    "O_1 &= \\sigma_1(A_1)  & \\qquad\\text{Output of the hidden layer} \\\\\n",
    "A_2 &= O_1 W_2^T + b_2 & \\qquad\\text{Total input to neurons in the output layer (network's second layer)}\\\\\n",
    "O_2 &= \\sigma_2(A_2) & \\qquad\\text{Output of the network}\n",
    "\\end{split}\n",
    "\\end{equation}\n",
    "\n",
    "Where $W$ are weight matrices, $b$ are bias vectors, $\\sigma$ are non-linear activation functions (e.g. the logistic sigmoid applied element-wise, or softmax).\n",
    "\n",
    "For the 2D xor problem the network will:\n",
    "- have 2 inputs, 2 hidden neurons, one output\n",
    "- use the logistic sigmoid everywhere (that way we, when hand-designig the weights, we can assume that neurons' outputs are binary).\n",
    "\n",
    "Therrefore the shapes of the data floing through the network will be:\n",
    "- input: $x\\in\\mathbb{}R^{2}$\n",
    "- hidden layer parameters: $W_1\\in\\mathbb{}R^{2\\times 2}$ and $b_1\\in\\mathbb{}R^{2}$\n",
    "- representations in the hidden layer: $A_1\\in\\mathbb{}R^{2}$ and $O_1\\in\\mathbb{}R^{2}$\n",
    "- output layer parameters: $W_2\\in\\mathbb{}R^{1\\times 2}$ and $b_1\\in\\mathbb{}R^{1}$\n",
    "- representations in the output layer: $A_2\\in\\mathbb{}R^{1}$ and $O_2\\in\\mathbb{}R^{1}$\n",
    "\n",
    "The network can be seen as a logistic regression model, prefixed by a nonlinear transformation of the data.\n",
    "\n",
    "The first tasks consists of:\n",
    "- implementing the network\n",
    "- selecting parametwrs ($W_1, b_1, W_2, b_2$) such that $f(x)\\approx XOR(x_1, x_2)$ where the approximation is die to the sigmoids - the output may be close to 0 or 1, but doesn't need to saturate at 0 or 1.\n",
    "\n",
    "NB: the convention on weight matrix shapes follows linear [layers in PyTorch](https://pytorch.org/docs/stable/generated/torch.nn.Linear.html).\n"
   ]
  },
  {
   "cell_type": "markdown",
   "metadata": {
    "id": "0QSpZxuH-bLe"
   },
   "source": [
    "## Problem 2 [2p]\n",
    "1. Add a backward pass.\n",
    "2. Use a sensible random initialization for weights and biases.\n",
    "3. Numerically check the correctness of your gradient computation.\n"
   ]
  },
  {
   "cell_type": "markdown",
   "metadata": {
    "id": "s1Tn8j0m-bAy"
   },
   "source": [
    "## Problem 3 [2p]\n",
    "1. Implement gradient descent\n",
    "2. Train your network to solve 3D XOR\n",
    "3. Try several hidden layer sizes, for each size record the fracton of successful trainings. Then answer:\n",
    "    - What is the minimal hidden size required to solve 3D XOR (even with low reliability, when the training has to be repeated multiple times)\n",
    "    - What is the minimal hidden size required to reliably solve 3D XOR\n",
    "    - Which networks are easier to train - small or large ones? Why?\n"
   ]
  },
  {
   "cell_type": "markdown",
   "metadata": {
    "id": "RP9Pvpmf-a2A"
   },
   "source": [
    "## Problem 4 [1p]\n",
    "Replace the first nonlinearity with the [ReLU](https://en.wikipedia.org/wiki/Rectifier_(neural_networks)) activation function. Find a network architecture which reliably learns the 3D XOR problem.\n"
   ]
  },
  {
   "cell_type": "markdown",
   "metadata": {
    "id": "cGgtpe-w-asB"
   },
   "source": [
    "## Problem 5 [1p]\n",
    "Add a second hidden layer to your network, implement the forward and backward pass, then demonstrate training.\n"
   ]
  },
  {
   "cell_type": "markdown",
   "metadata": {
    "id": "Pe-pcFeO-aiE"
   },
   "source": [
    "## Problem 6 [2p]\n",
    "Implement a way to have a _variable number_ of hidden layers. Check how deep sigmoid or ReLU networks you  can train. For simplicity you can assume that all hidden layers have the same number of neurons, and use the same activation function.\n"
   ]
  },
  {
   "cell_type": "markdown",
   "metadata": {
    "id": "kIpn17Cm-aW7"
   },
   "source": [
    "## Problem 7 [2p]\n",
    "For each weight matrix $w\\in\\mathbb{R}^{n\\times m}$, add a randomly initialized `backward weight` $w_b\\in\\mathbb{R}^{m\\times n}$, which will not change during training. Change the backward pass to use $w_b$ instead of $w^T$, getting an approxmatoin of the true gradient. Can you get your network to train?\n",
    "\n",
    "NB: this approach, dubbed [feedback alignment](https://www.nature.com/articles/ncomms13276), was proposed to make error backpropagation more biologically plausible, by providing a solution to the \"weight transport problem\". Regular backpropagation requires that neurons not only know their incoming weights (thet they control), but also their outgoing weights (that are controlled by neurons in the upper layers). This is nearly impossible in a real brain."
   ]
  },
  {
   "cell_type": "markdown",
   "metadata": {
    "id": "rXJaoHSH0DZO"
   },
   "source": [
    "# Solutions and starter code"
   ]
  },
  {
   "cell_type": "code",
   "execution_count": 21,
   "metadata": {
    "id": "YiTEWD2oqW0Y"
   },
   "outputs": [],
   "source": [
    "import matplotlib.pyplot as plt\n",
    "import numpy as np\n",
    "import itertools"
   ]
  },
  {
   "cell_type": "markdown",
   "metadata": {
    "id": "eqtfJKR40J3x"
   },
   "source": [
    "XOR dataset creation"
   ]
  },
  {
   "cell_type": "code",
   "execution_count": 3,
   "metadata": {
    "colab": {
     "base_uri": "https://localhost:8080/",
     "height": 296
    },
    "id": "lYEbCfbSpv5M",
    "outputId": "48a99aad-e15b-4c7b-f881-bbfbe1941a15"
   },
   "outputs": [
    {
     "data": {
      "text/plain": [
       "(-0.05, 1.05, -0.05, 1.05)"
      ]
     },
     "execution_count": 3,
     "metadata": {},
     "output_type": "execute_result"
    },
    {
     "data": {
      "image/png": "[encoded data removed]",
      "text/plain": [
       "<Figure size 432x288 with 1 Axes>"
      ]
     },
     "metadata": {
      "needs_background": "light"
     },
     "output_type": "display_data"
    }
   ],
   "source": [
    "# Let's define a XOR dataset\n",
    "\n",
    "# X will be matrix of N 2-dimensional inputs\n",
    "X = np.array([[0, 0], [0, 1], [1, 0], [1, 1],], dtype=np.float32)\n",
    "# Y is a matrix of N numners - answers\n",
    "Y = np.array([[0], [1], [1], [0],], dtype=np.float32)\n",
    "\n",
    "plt.scatter(\n",
    "    X[:, 0], X[:, 1], c=Y[:, 0],\n",
    ")\n",
    "plt.xlabel(\"X[0]\")\n",
    "plt.ylabel(\"X[1]\")\n",
    "plt.axis(\"square\")"
   ]
  },
  {
   "cell_type": "markdown",
   "metadata": {
    "id": "Rb3azMn929_I"
   },
   "source": [
    "## Problem 1"
   ]
  },
  {
   "cell_type": "markdown",
   "metadata": {
    "id": "RZCM_hdELE04"
   },
   "source": [
    "The code below contains a mock-up of a two-layer neural network. Fill in the code and manually set weights to solve the XOR problem.\n",
    "\n",
    "Please note: the shapes are set to be compatible with PyTorch's conventions:\n",
    "* a batch containing $N$ $D$-dimensional examples has shape $N\\times D$ (each example is a row!)\n",
    "* a weight matrix in a linear layer with $I$ inputs and $O$ outputs has shape $O \\times I$\n",
    "* a bias vector is a 1D vector. Please note that [broadcasting rules](https://docs.scipy.org/doc/numpy/user/basics.broadcasting.html) allow us to think about it as a $1 \\times D$ matrix."
   ]
  },
  {
   "cell_type": "code",
   "execution_count": 4,
   "metadata": {},
   "outputs": [
    {
     "data": {
      "text/plain": [
       "array([[ 10,  40],\n",
       "       [ 90, 160]])"
      ]
     },
     "execution_count": 4,
     "metadata": {},
     "output_type": "execute_result"
    }
   ],
   "source": [
    "np.array(([1, 2], [3, 4])) * np.array(([10, 20], [30, 40]))"
   ]
  },
  {
   "cell_type": "code",
   "execution_count": 5,
   "metadata": {},
   "outputs": [
    {
     "data": {
      "text/plain": [
       "array([0.])"
      ]
     },
     "execution_count": 5,
     "metadata": {},
     "output_type": "execute_result"
    }
   ],
   "source": [
    "np.zeros((1,))"
   ]
  },
  {
   "cell_type": "code",
   "execution_count": 6,
   "metadata": {},
   "outputs": [
    {
     "name": "stdout",
     "output_type": "stream",
     "text": [
      "[0.32960479]\n"
     ]
    }
   ],
   "source": [
    "x = np.random.normal(size=(1,))\n",
    "print(x)"
   ]
  },
  {
   "cell_type": "code",
   "execution_count": 7,
   "metadata": {},
   "outputs": [
    {
     "data": {
      "text/plain": [
       "array([0.32960479])"
      ]
     },
     "execution_count": 7,
     "metadata": {},
     "output_type": "execute_result"
    }
   ],
   "source": [
    "np.array(x, dtype=np.float64)"
   ]
  },
  {
   "cell_type": "code",
   "execution_count": 8,
   "metadata": {},
   "outputs": [
    {
     "data": {
      "text/plain": [
       "array([[ 5, 10],\n",
       "       [ 6,  9],\n",
       "       [ 7,  8],\n",
       "       [ 8,  7]])"
      ]
     },
     "execution_count": 8,
     "metadata": {},
     "output_type": "execute_result"
    }
   ],
   "source": [
    "pp = np.array(([0, 0], [1, -1], [2, -2], [3, -3]))\n",
    "oo = np.array([5, 10])\n",
    "pp + oo"
   ]
  },
  {
   "cell_type": "code",
   "execution_count": 9,
   "metadata": {},
   "outputs": [],
   "source": [
    "def sigmoid(x):\n",
    "    return 1 / (1 + np.exp(-x))"
   ]
  },
  {
   "cell_type": "code",
   "execution_count": 67,
   "metadata": {
    "id": "lrrRuk6zLiF0"
   },
   "outputs": [],
   "source": [
    "class SmallNet:\n",
    "    def __init__(self, in_features, num_hidden, dtype=np.float32, verbose = False):\n",
    "        self.W1 = np.zeros((num_hidden, in_features), dtype=dtype)\n",
    "        self.b1 = np.zeros((num_hidden,), dtype=dtype)\n",
    "        self.W2 = np.zeros((1, num_hidden), dtype=dtype)\n",
    "        self.b2 = np.zeros((1,), dtype=dtype)\n",
    "        self.init_params(in_features, num_hidden)\n",
    "        self.verbose = verbose\n",
    "\n",
    "    def init_params(self, in_features, num_hidden):\n",
    "        # TODO for Problem 2:\n",
    "        # set all parameters to small random values, e.g. from N(0, 0.5)\n",
    "        self.W1 = np.random.normal(scale = 0.5, size = (num_hidden, in_features))\n",
    "        self.b1 = np.random.normal(scale = 0.5, size = (num_hidden,))\n",
    "        self.W2 = np.random.normal(scale = 0.5, size = (1, num_hidden))\n",
    "        self.b2 = np.random.normal(scale = 0.5, size = (1,))\n",
    "\n",
    "    def forward(self, X, Y=None, do_backward=False):\n",
    "        # TODO Problem 1: Fill in details of forward propagation\n",
    "        # Input to neurons in 1st layer\n",
    "#         print(f\"X:\\n{X}\")\n",
    "#         print(f\"W1.T:\\n{self.W1.T}\")\n",
    "#         print(f\"b1:\\n{self.b1}\")\n",
    "        A1 = X @ self.W1.T + self.b1\n",
    "        # Outputs after the sigmoid non-linearity\n",
    "        O1 = sigmoid(A1)\n",
    "        # Inputs to neuron in the second layer\n",
    "        A2 = O1 @ self.W2.T + self.b2\n",
    "        \n",
    "        # Outputs after the sigmoid non-linearity\n",
    "        O2 = sigmoid(A2)\n",
    "        # When Y is none, simply return the predictions. Else compute the loss\n",
    "        if Y is not None:\n",
    "            loss = -(Y * np.log(O2) + (1 - Y) * np.log(1.0 - O2))\n",
    "            if(self.verbose):\n",
    "                print(\"Y:\", Y)\n",
    "                print(\"O2:\", O2)\n",
    "                print(\"Loss vector:\", loss)\n",
    "                print()\n",
    "            # normalize loss by batch size\n",
    "            loss = loss.sum() / X.shape[0]\n",
    "        else:\n",
    "            loss = np.nan\n",
    "\n",
    "        if do_backward:\n",
    "            if self.verbose:\n",
    "                print(f\"W1: \\n{self.W1}\")\n",
    "                print(f\"b1: \\n{self.b1}\")\n",
    "                print(f\"W2: \\n{self.W2}\")\n",
    "                print(f\"b2: \\n{self.b2}\")\n",
    "                print(f\"A1: \\n{A1}\")\n",
    "                print(f\"A2: \\n{A2}\")\n",
    "                print(f\"O1: \\n{O1}\")\n",
    "                print(f\"O2: \\n{O2}\")\n",
    "                \n",
    "            # TODO in Problem 2:\n",
    "            # fill in the gradient computation\n",
    "            # Please note, that there is a correspondance between\n",
    "            # the forward and backward pass: with backward computations happening\n",
    "            # in reverse order.\n",
    "            # We save the gradients with respect to the parameters as fields of self.\n",
    "            # It is not very elegant, but simplifies training code later on.\n",
    "\n",
    "            # A2_grad is the gradient of loss with respect to A2\n",
    "            # Hint: there is a concise formula for the gradient\n",
    "            # of logistic sigmoid and cross-entropy loss\n",
    "            A2_grad = O2 - Y\n",
    "            #print(f\"A2_grad: \\n{A2_grad}\")\n",
    "            self.b2_grad = A2_grad.sum(0) / A2_grad.shape[0]\n",
    "            #print(f\"b2_grad: \\n{self.b2_grad}\")\n",
    "            self.W2_grad = A2_grad.T @ O1 / A2_grad.shape[0]\n",
    "            #print(f\"W2_grad: \\n{self.W2_grad}\")\n",
    "            O1_grad = A2_grad @ self.W2\n",
    "            A1_grad = O1_grad * sigmoid(A1) * (1 - sigmoid(A1))\n",
    "            #print(f\"A1_grad: \\n{A1_grad}\")\n",
    "            self.b1_grad = A1_grad.sum(0) / A2_grad.shape[0]\n",
    "            #print(f\"b1_grad: \\n{self.b1_grad}\")\n",
    "            self.W1_grad = A1_grad.T @ X / A1_grad.shape[0]\n",
    "            #print(f\"W1_grad: \\n{self.W1_grad}\")\n",
    "\n",
    "        return O2, loss"
   ]
  },
  {
   "cell_type": "code",
   "execution_count": 68,
   "metadata": {
    "colab": {
     "base_uri": "https://localhost:8080/"
    },
    "id": "jJswvBk0oiIY",
    "outputId": "e6559317-7afa-4509-fbac-4880e73b91cc"
   },
   "outputs": [
    {
     "name": "stdout",
     "output_type": "stream",
     "text": [
      "XOR[0. 0.] = [0.02071105]\n",
      "XOR[0. 1.] = [0.97615905]\n",
      "XOR[1. 0.] = [0.97615905]\n",
      "XOR[1. 1.] = [0.02071105]\n",
      "Loss: 0.022529139712188447\n"
     ]
    }
   ],
   "source": [
    "# TODO Problem 1:\n",
    "# Set by hand the weight values to solve the XOR problem\n",
    "\n",
    "net = SmallNet(2, 2, dtype=np.float64, verbose = False)\n",
    "net.W1 = np.array([[8, 8], [-8, -8]])\n",
    "net.b1 = np.array([-4, 12])\n",
    "net.W2 = np.array([[8, 8]])\n",
    "net.b2 = np.array([-12])\n",
    "\n",
    "# Hint: since we use the logistic sigmoid activation, the weights may need to\n",
    "# be fairly large\n",
    "\n",
    "\n",
    "predictions, loss = net.forward(X, Y)\n",
    "for x, p in zip(X, predictions):\n",
    "    print(f\"XOR{x} = {p}\")\n",
    "print(f\"Loss: {loss}\")"
   ]
  },
  {
   "cell_type": "markdown",
   "metadata": {
    "id": "wmxCi5Vl6_xB"
   },
   "source": [
    "## Problem 2"
   ]
  },
  {
   "cell_type": "code",
   "execution_count": 69,
   "metadata": {
    "id": "eSM5hgJ1mrhY"
   },
   "outputs": [],
   "source": [
    "def check_grad(net, param_name, X, Y, eps=1e-5):\n",
    "    \"\"\"A gradient checking routine\"\"\"\n",
    "\n",
    "    param = getattr(net, param_name)\n",
    "    param_flat_accessor = param.reshape(-1)\n",
    "\n",
    "    grad = np.empty_like(param)\n",
    "    grad_flat_accessor = grad.reshape(-1)\n",
    "    \n",
    "    net.forward(X, Y, do_backward=True)\n",
    "    orig_grad = getattr(net, param_name + \"_grad\")\n",
    "#     print(f\"{param_name}: \\n{param}\")\n",
    "#     print(\"param.shape:\", param.shape)\n",
    "#     print(\"orig_grad.shape:\", orig_grad.shape)\n",
    "    assert param.shape == orig_grad.shape\n",
    "\n",
    "    for i in range(param_flat_accessor.shape[0]):\n",
    "        orig_val = param_flat_accessor[i]\n",
    "        param_flat_accessor[i] = orig_val + eps\n",
    "        _, loss_positive = net.forward(X, Y)\n",
    "        param_flat_accessor[i] = orig_val - eps\n",
    "        _, loss_negative = net.forward(X, Y)\n",
    "        param_flat_accessor[i] = orig_val\n",
    "        grad_flat_accessor[i] = (loss_positive - loss_negative) / (2 * eps)\n",
    "    print(f\"{param_name}\")\n",
    "    print(f\"grad:\\n{grad}\")\n",
    "    print(f\"orig_grad:\\n{orig_grad}\")\n",
    "    print(\"\")\n",
    "    assert np.allclose(grad, orig_grad)\n",
    "    return grad, orig_grad"
   ]
  },
  {
   "cell_type": "code",
   "execution_count": 70,
   "metadata": {
    "id": "TTZu0jFEvgXF",
    "scrolled": false
   },
   "outputs": [
    {
     "name": "stdout",
     "output_type": "stream",
     "text": [
      "W1\n",
      "grad:\n",
      "[[-0.00089545  0.00100215]\n",
      " [ 0.00212555  0.00057776]]\n",
      "orig_grad:\n",
      "[[-0.00089545  0.00100215]\n",
      " [ 0.00212555  0.00057776]]\n",
      "\n",
      "b1\n",
      "grad:\n",
      "[0.00049359 0.00071661]\n",
      "orig_grad:\n",
      "[0.00049359 0.00071661]\n",
      "\n",
      "W2\n",
      "grad:\n",
      "[[-0.00178385 -0.00150522]]\n",
      "orig_grad:\n",
      "[[-0.00178385 -0.00150522]]\n",
      "\n",
      "b2\n",
      "grad:\n",
      "[-0.00613367]\n",
      "orig_grad:\n",
      "[-0.00613367]\n",
      "\n"
     ]
    }
   ],
   "source": [
    "# Hint: use float64 for checking the correctness of the gradient\n",
    "net = SmallNet(2, 2, dtype=np.float64, verbose = False)\n",
    "# check_grad(net, \"W1\", X, Y)\n",
    "# check_grad(net, \"b1\", X, Y)\n",
    "# check_grad(net, \"W2\", X, Y)\n",
    "# check_grad(net, \"W1\", X, Y)\n",
    "\n",
    "for param_name in [\"W1\", \"b1\", \"W2\", \"b2\"]:\n",
    "    check_grad(net, param_name, X, Y)"
   ]
  },
  {
   "cell_type": "markdown",
   "metadata": {
    "id": "8mUOs3cVvjM2"
   },
   "source": [
    "## Problem 3"
   ]
  },
  {
   "cell_type": "code",
   "execution_count": 80,
   "metadata": {
    "colab": {
     "base_uri": "https://localhost:8080/"
    },
    "id": "nn2AAoZo0vjU",
    "outputId": "7b6b5a9a-dea5-4357-e8c1-36a34c7c272a"
   },
   "outputs": [],
   "source": [
    "def gradient_descent(net, alpha, X, Y, verbose = True):\n",
    "    for i in range(100000):\n",
    "        net_result, loss = net.forward(X, Y, do_backward=True)\n",
    "        if (i % 5000) == 0 and verbose:\n",
    "            print(f\"after {i} steps \\tloss={loss}\")\n",
    "        for param_name in [\"W1\", \"b1\", \"W2\", \"b2\"]:\n",
    "            param = getattr(net, param_name)\n",
    "            # Hint: use the construct `param[:]` to change the contents of the array!\n",
    "            # Doing instead `param = new_val` simply changes to what the variable\n",
    "            # param points to, without affecting the network!\n",
    "            # alternatively, you could do setattr(net, param_name, new_value)\n",
    "            param[:] = param - alpha * getattr(net, param_name + \"_grad\")\n",
    "    return net_result, loss"
   ]
  },
  {
   "cell_type": "code",
   "execution_count": 75,
   "metadata": {},
   "outputs": [
    {
     "name": "stdout",
     "output_type": "stream",
     "text": [
      "after 0 steps \tloss=0.7311260862782408\n",
      "after 5000 steps \tloss=0.07901836896615932\n",
      "after 10000 steps \tloss=0.011660587264658849\n",
      "after 15000 steps \tloss=0.005608744769637606\n",
      "after 20000 steps \tloss=0.003595869084246954\n",
      "after 25000 steps \tloss=0.0026171462286937552\n",
      "after 30000 steps \tloss=0.0020452043556893128\n",
      "after 35000 steps \tloss=0.0016724539841533115\n",
      "after 40000 steps \tloss=0.0014113006454654097\n",
      "after 45000 steps \tloss=0.001218665447349324\n",
      "after 50000 steps \tloss=0.0010709900534389104\n",
      "after 55000 steps \tloss=0.0009543438837639104\n",
      "after 60000 steps \tloss=0.0008599794538226199\n",
      "after 65000 steps \tloss=0.0007821357649848455\n",
      "after 70000 steps \tloss=0.0007168687119171503\n",
      "after 75000 steps \tloss=0.0006613898216226669\n",
      "after 80000 steps \tloss=0.0006136734574282609\n",
      "after 85000 steps \tloss=0.0005722136253503932\n",
      "after 90000 steps \tloss=0.0005358680010864142\n",
      "after 95000 steps \tloss=0.0005037548100640121\n"
     ]
    },
    {
     "data": {
      "text/plain": [
       "(array([[4.69736800e-04],\n",
       "        [9.99518100e-01],\n",
       "        [9.99555224e-01],\n",
       "        [5.03887367e-04]]),\n",
       " 0.00047518822125549253)"
      ]
     },
     "execution_count": 75,
     "metadata": {},
     "output_type": "execute_result"
    }
   ],
   "source": [
    "net = SmallNet(2, 10, dtype=np.float64)\n",
    "gradient_descent(net, 0.1, X, Y)"
   ]
  },
  {
   "cell_type": "code",
   "execution_count": 76,
   "metadata": {
    "colab": {
     "base_uri": "https://localhost:8080/"
    },
    "id": "TwpEjpkU1JvK",
    "outputId": "dc044de9-81c1-4944-d9a2-5dcc72bf9a57"
   },
   "outputs": [
    {
     "name": "stdout",
     "output_type": "stream",
     "text": [
      "XORnet([0. 0.]) = 0.0004697316417476592\n",
      "XORnet([0. 1.]) = 0.9995181052007261\n",
      "XORnet([1. 0.]) = 0.9995552290649995\n",
      "XORnet([1. 1.]) = 0.0005038814752884646\n"
     ]
    }
   ],
   "source": [
    "predictions, loss = net.forward(X, Y, do_backward=True)\n",
    "for x, p in zip(X, predictions):\n",
    "    print(f\"XORnet({x}) = {p[0]}\")"
   ]
  },
  {
   "cell_type": "markdown",
   "metadata": {},
   "source": [
    "### For 3D XOR being equal to 1 iff the arguments differ "
   ]
  },
  {
   "cell_type": "code",
   "execution_count": 93,
   "metadata": {
    "id": "U0ZMyHqz8xrC",
    "scrolled": true
   },
   "outputs": [
    {
     "name": "stdout",
     "output_type": "stream",
     "text": [
      "X3:\n",
      "[[1. 1. 1.]\n",
      " [1. 1. 0.]\n",
      " [1. 0. 1.]\n",
      " [1. 0. 0.]\n",
      " [0. 1. 1.]\n",
      " [0. 1. 0.]\n",
      " [0. 0. 1.]\n",
      " [0. 0. 0.]]\n",
      "Y3:\n",
      "[[0.]\n",
      " [1.]\n",
      " [1.]\n",
      " [1.]\n",
      " [1.]\n",
      " [1.]\n",
      " [1.]\n",
      " [0.]]\n",
      "\n",
      "Trying hidden_dim = 1\n",
      "\n",
      "LOSS: 0.42202567511447053\n",
      "RESULT:\n",
      "[0.60092395]       TRUE VALUE: [0.]\n",
      "[0.99995201]       TRUE VALUE: [1.]\n",
      "[0.60000046]       TRUE VALUE: [1.]\n",
      "[0.99843416]       TRUE VALUE: [1.]\n",
      "[0.60000046]       TRUE VALUE: [1.]\n",
      "[0.99843416]       TRUE VALUE: [1.]\n",
      "[0.59999993]       TRUE VALUE: [1.]\n",
      "[0.60225514]       TRUE VALUE: [0.]\n",
      "\n",
      "LOSS: 0.42126363586418364\n",
      "RESULT:\n",
      "[0.60040498]       TRUE VALUE: [0.]\n",
      "[0.99998221]       TRUE VALUE: [1.]\n",
      "[0.59997804]       TRUE VALUE: [1.]\n",
      "[0.99932724]       TRUE VALUE: [1.]\n",
      "[0.59997804]       TRUE VALUE: [1.]\n",
      "[0.99932724]       TRUE VALUE: [1.]\n",
      "[0.59997795]       TRUE VALUE: [1.]\n",
      "[0.60102431]       TRUE VALUE: [0.]\n",
      "\n",
      "LOSS: 0.4210365988303497\n",
      "RESULT:\n",
      "[0.6002552]       TRUE VALUE: [0.]\n",
      "[0.9999897]       TRUE VALUE: [1.]\n",
      "[0.59997922]       TRUE VALUE: [1.]\n",
      "[0.99958046]       TRUE VALUE: [1.]\n",
      "[0.59997922]       TRUE VALUE: [1.]\n",
      "[0.99958046]       TRUE VALUE: [1.]\n",
      "[0.59997918]       TRUE VALUE: [1.]\n",
      "[0.60065655]       TRUE VALUE: [0.]\n",
      "\n",
      "LOSS: 0.4209285100970924\n",
      "RESULT:\n",
      "[0.60018504]       TRUE VALUE: [0.]\n",
      "[0.99999294]       TRUE VALUE: [1.]\n",
      "[0.59998165]       TRUE VALUE: [1.]\n",
      "[0.9996979]       TRUE VALUE: [1.]\n",
      "[0.59998165]       TRUE VALUE: [1.]\n",
      "[0.9996979]       TRUE VALUE: [1.]\n",
      "[0.59998163]       TRUE VALUE: [1.]\n",
      "[0.60048127]       TRUE VALUE: [0.]\n",
      "\n",
      "LOSS: 0.4208655358719431\n",
      "RESULT:\n",
      "[0.60014461]       TRUE VALUE: [0.]\n",
      "[0.9999947]       TRUE VALUE: [1.]\n",
      "[0.59998378]       TRUE VALUE: [1.]\n",
      "[0.99976513]       TRUE VALUE: [1.]\n",
      "[0.59998378]       TRUE VALUE: [1.]\n",
      "[0.99976513]       TRUE VALUE: [1.]\n",
      "[0.59998377]       TRUE VALUE: [1.]\n",
      "[0.60037908]       TRUE VALUE: [0.]\n",
      "\n",
      "\n",
      "Trying hidden_dim = 2\n",
      "\n",
      "LOSS: 0.0020108524590970946\n",
      "RESULT:\n",
      "[0.00486437]       TRUE VALUE: [0.]\n",
      "[0.99852538]       TRUE VALUE: [1.]\n",
      "[0.99852536]       TRUE VALUE: [1.]\n",
      "[0.99922406]       TRUE VALUE: [1.]\n",
      "[0.99852538]       TRUE VALUE: [1.]\n",
      "[0.99921924]       TRUE VALUE: [1.]\n",
      "[0.99922321]       TRUE VALUE: [1.]\n",
      "[0.00443915]       TRUE VALUE: [0.]\n",
      "\n",
      "LOSS: 0.0009415193297049115\n",
      "RESULT:\n",
      "[0.00226558]       TRUE VALUE: [0.]\n",
      "[0.99932172]       TRUE VALUE: [1.]\n",
      "[0.99932171]       TRUE VALUE: [1.]\n",
      "[0.99962684]       TRUE VALUE: [1.]\n",
      "[0.99932172]       TRUE VALUE: [1.]\n",
      "[0.99962542]       TRUE VALUE: [1.]\n",
      "[0.99962659]       TRUE VALUE: [1.]\n",
      "[0.00210488]       TRUE VALUE: [0.]\n",
      "\n",
      "LOSS: 0.0006128543070947022\n",
      "RESULT:\n",
      "[0.0014712]       TRUE VALUE: [0.]\n",
      "[0.99956246]       TRUE VALUE: [1.]\n",
      "[0.99956246]       TRUE VALUE: [1.]\n",
      "[0.99975396]       TRUE VALUE: [1.]\n",
      "[0.99956246]       TRUE VALUE: [1.]\n",
      "[0.99975324]       TRUE VALUE: [1.]\n",
      "[0.99975383]       TRUE VALUE: [1.]\n",
      "[0.00137762]       TRUE VALUE: [0.]\n",
      "\n",
      "LOSS: 0.00045378235729064484\n",
      "RESULT:\n",
      "[0.00108774]       TRUE VALUE: [0.]\n",
      "[0.99967794]       TRUE VALUE: [1.]\n",
      "[0.99967794]       TRUE VALUE: [1.]\n",
      "[0.99981631]       TRUE VALUE: [1.]\n",
      "[0.99967794]       TRUE VALUE: [1.]\n",
      "[0.99981587]       TRUE VALUE: [1.]\n",
      "[0.99981623]       TRUE VALUE: [1.]\n",
      "[0.00102342]       TRUE VALUE: [0.]\n",
      "\n",
      "LOSS: 0.0003600739823169019\n",
      "RESULT:\n",
      "[0.00086224]       TRUE VALUE: [0.]\n",
      "[0.99974556]       TRUE VALUE: [1.]\n",
      "[0.99974555]       TRUE VALUE: [1.]\n",
      "[0.99985337]       TRUE VALUE: [1.]\n",
      "[0.99974556]       TRUE VALUE: [1.]\n",
      "[0.99985306]       TRUE VALUE: [1.]\n",
      "[0.99985332]       TRUE VALUE: [1.]\n",
      "[0.00081394]       TRUE VALUE: [0.]\n",
      "\n",
      "\n",
      "Trying hidden_dim = 3\n",
      "\n",
      "LOSS: 0.0008279635822496444\n",
      "RESULT:\n",
      "[0.00208255]       TRUE VALUE: [0.]\n",
      "[0.99933609]       TRUE VALUE: [1.]\n",
      "[0.99933615]       TRUE VALUE: [1.]\n",
      "[0.99958145]       TRUE VALUE: [1.]\n",
      "[0.9993364]       TRUE VALUE: [1.]\n",
      "[0.99958766]       TRUE VALUE: [1.]\n",
      "[0.99959128]       TRUE VALUE: [1.]\n",
      "[0.00130625]       TRUE VALUE: [0.]\n",
      "\n",
      "LOSS: 0.0003828797885292402\n",
      "RESULT:\n",
      "[0.00096879]       TRUE VALUE: [0.]\n",
      "[0.99969752]       TRUE VALUE: [1.]\n",
      "[0.99969753]       TRUE VALUE: [1.]\n",
      "[0.99980113]       TRUE VALUE: [1.]\n",
      "[0.99969758]       TRUE VALUE: [1.]\n",
      "[0.99980341]       TRUE VALUE: [1.]\n",
      "[0.99980465]       TRUE VALUE: [1.]\n",
      "[0.00059523]       TRUE VALUE: [0.]\n",
      "\n",
      "LOSS: 0.00024689594393766416\n",
      "RESULT:\n",
      "[0.000627]       TRUE VALUE: [0.]\n",
      "[0.99980617]       TRUE VALUE: [1.]\n",
      "[0.99980617]       TRUE VALUE: [1.]\n",
      "[0.99987027]       TRUE VALUE: [1.]\n",
      "[0.99980619]       TRUE VALUE: [1.]\n",
      "[0.99987151]       TRUE VALUE: [1.]\n",
      "[0.99987217]       TRUE VALUE: [1.]\n",
      "[0.0003803]       TRUE VALUE: [0.]\n",
      "\n",
      "LOSS: 0.00018154887469467034\n",
      "RESULT:\n",
      "[0.00046225]       TRUE VALUE: [0.]\n",
      "[0.99985798]       TRUE VALUE: [1.]\n",
      "[0.99985799]       TRUE VALUE: [1.]\n",
      "[0.99990395]       TRUE VALUE: [1.]\n",
      "[0.999858]       TRUE VALUE: [1.]\n",
      "[0.99990475]       TRUE VALUE: [1.]\n",
      "[0.99990517]       TRUE VALUE: [1.]\n",
      "[0.00027779]       TRUE VALUE: [0.]\n",
      "\n",
      "LOSS: 0.00014328387114965785\n",
      "RESULT:\n",
      "[0.00036555]       TRUE VALUE: [0.]\n",
      "[0.99988819]       TRUE VALUE: [1.]\n",
      "[0.99988819]       TRUE VALUE: [1.]\n",
      "[0.99992384]       TRUE VALUE: [1.]\n",
      "[0.9998882]       TRUE VALUE: [1.]\n",
      "[0.9999244]       TRUE VALUE: [1.]\n",
      "[0.99992469]       TRUE VALUE: [1.]\n",
      "[0.00021812]       TRUE VALUE: [0.]\n",
      "\n",
      "\n",
      "Trying hidden_dim = 5\n",
      "\n",
      "LOSS: 0.000789984521503304\n",
      "RESULT:\n",
      "[0.00138416]       TRUE VALUE: [0.]\n",
      "[0.99949796]       TRUE VALUE: [1.]\n",
      "[0.99918149]       TRUE VALUE: [1.]\n",
      "[0.99976238]       TRUE VALUE: [1.]\n",
      "[0.99915441]       TRUE VALUE: [1.]\n",
      "[0.99978817]       TRUE VALUE: [1.]\n",
      "[0.99985802]       TRUE VALUE: [1.]\n",
      "[0.00217393]       TRUE VALUE: [0.]\n",
      "\n",
      "LOSS: 0.0003615417763839031\n",
      "RESULT:\n",
      "[0.00060327]       TRUE VALUE: [0.]\n",
      "[0.99978143]       TRUE VALUE: [1.]\n",
      "[0.9996341]       TRUE VALUE: [1.]\n",
      "[0.99988104]       TRUE VALUE: [1.]\n",
      "[0.99962337]       TRUE VALUE: [1.]\n",
      "[0.99989392]       TRUE VALUE: [1.]\n",
      "[0.99993769]       TRUE VALUE: [1.]\n",
      "[0.0010397]       TRUE VALUE: [0.]\n",
      "\n",
      "LOSS: 0.0002318461096815634\n",
      "RESULT:\n",
      "[0.00037729]       TRUE VALUE: [0.]\n",
      "[0.99986329]       TRUE VALUE: [1.]\n",
      "[0.99976841]       TRUE VALUE: [1.]\n",
      "[0.99992026]       TRUE VALUE: [1.]\n",
      "[0.9997623]       TRUE VALUE: [1.]\n",
      "[0.99992867]       TRUE VALUE: [1.]\n",
      "[0.99996106]       TRUE VALUE: [1.]\n",
      "[0.00068109]       TRUE VALUE: [0.]\n",
      "\n",
      "LOSS: 0.00016980044393677282\n",
      "RESULT:\n",
      "[0.00027179]       TRUE VALUE: [0.]\n",
      "[0.99990146]       TRUE VALUE: [1.]\n",
      "[0.99983192]       TRUE VALUE: [1.]\n",
      "[0.99993995]       TRUE VALUE: [1.]\n",
      "[0.99982786]       TRUE VALUE: [1.]\n",
      "[0.99994608]       TRUE VALUE: [1.]\n",
      "[0.999972]       TRUE VALUE: [1.]\n",
      "[0.00050568]       TRUE VALUE: [0.]\n",
      "\n",
      "LOSS: 0.0001335825015735425\n",
      "RESULT:\n",
      "[0.00021122]       TRUE VALUE: [0.]\n",
      "[0.99992335]       TRUE VALUE: [1.]\n",
      "[0.99986868]       TRUE VALUE: [1.]\n",
      "[0.99995182]       TRUE VALUE: [1.]\n",
      "[0.99986574]       TRUE VALUE: [1.]\n",
      "[0.99995659]       TRUE VALUE: [1.]\n",
      "[0.99997827]       TRUE VALUE: [1.]\n",
      "[0.00040178]       TRUE VALUE: [0.]\n",
      "\n",
      "\n",
      "Trying hidden_dim = 10\n",
      "\n",
      "LOSS: 0.0005124010779832308\n",
      "RESULT:\n",
      "[0.00149092]       TRUE VALUE: [0.]\n",
      "[0.99931992]       TRUE VALUE: [1.]\n",
      "[0.99943121]       TRUE VALUE: [1.]\n",
      "[0.99995412]       TRUE VALUE: [1.]\n",
      "[0.99962508]       TRUE VALUE: [1.]\n",
      "[0.99989913]       TRUE VALUE: [1.]\n",
      "[0.99982798]       TRUE VALUE: [1.]\n",
      "[0.00066391]       TRUE VALUE: [0.]\n",
      "\n",
      "LOSS: 0.00022679552656927385\n",
      "RESULT:\n",
      "[0.00065145]       TRUE VALUE: [0.]\n",
      "[0.99970338]       TRUE VALUE: [1.]\n",
      "[0.99974765]       TRUE VALUE: [1.]\n",
      "[0.99998233]       TRUE VALUE: [1.]\n",
      "[0.99983824]       TRUE VALUE: [1.]\n",
      "[0.99994903]       TRUE VALUE: [1.]\n",
      "[0.99992016]       TRUE VALUE: [1.]\n",
      "[0.00030334]       TRUE VALUE: [0.]\n",
      "\n",
      "LOSS: 0.0001425605865300537\n",
      "RESULT:\n",
      "[0.00040669]       TRUE VALUE: [0.]\n",
      "[0.99981481]       TRUE VALUE: [1.]\n",
      "[0.99984164]       TRUE VALUE: [1.]\n",
      "[0.99998953]       TRUE VALUE: [1.]\n",
      "[0.99989925]       TRUE VALUE: [1.]\n",
      "[0.99996589]       TRUE VALUE: [1.]\n",
      "[0.99994884]       TRUE VALUE: [1.]\n",
      "[0.00019361]       TRUE VALUE: [0.]\n",
      "\n",
      "LOSS: 0.00010296192444787579\n",
      "RESULT:\n",
      "[0.00029234]       TRUE VALUE: [0.]\n",
      "[0.99986675]       TRUE VALUE: [1.]\n",
      "[0.99988592]       TRUE VALUE: [1.]\n",
      "[0.99999268]       TRUE VALUE: [1.]\n",
      "[0.99992756]       TRUE VALUE: [1.]\n",
      "[0.99997437]       TRUE VALUE: [1.]\n",
      "[0.99996265]       TRUE VALUE: [1.]\n",
      "[0.00014121]       TRUE VALUE: [0.]\n",
      "\n",
      "LOSS: 8.014572913121995e-05\n",
      "RESULT:\n",
      "[0.00022674]       TRUE VALUE: [0.]\n",
      "[0.99989652]       TRUE VALUE: [1.]\n",
      "[0.99991145]       TRUE VALUE: [1.]\n",
      "[0.99999441]       TRUE VALUE: [1.]\n",
      "[0.99994375]       TRUE VALUE: [1.]\n",
      "[0.99997948]       TRUE VALUE: [1.]\n",
      "[0.99997072]       TRUE VALUE: [1.]\n",
      "[0.00011071]       TRUE VALUE: [0.]\n",
      "\n",
      "\n",
      "Trying hidden_dim = 20\n"
     ]
    },
    {
     "name": "stdout",
     "output_type": "stream",
     "text": [
      "\n",
      "LOSS: 0.00043155592173971865\n",
      "RESULT:\n",
      "[0.00116177]       TRUE VALUE: [0.]\n",
      "[0.99949928]       TRUE VALUE: [1.]\n",
      "[0.99962364]       TRUE VALUE: [1.]\n",
      "[0.9997975]       TRUE VALUE: [1.]\n",
      "[0.99954506]       TRUE VALUE: [1.]\n",
      "[0.99991152]       TRUE VALUE: [1.]\n",
      "[0.99990047]       TRUE VALUE: [1.]\n",
      "[0.00056697]       TRUE VALUE: [0.]\n",
      "\n",
      "LOSS: 0.00018822206422466317\n",
      "RESULT:\n",
      "[0.00049947]       TRUE VALUE: [0.]\n",
      "[0.99978073]       TRUE VALUE: [1.]\n",
      "[0.99983967]       TRUE VALUE: [1.]\n",
      "[0.999909]       TRUE VALUE: [1.]\n",
      "[0.99980544]       TRUE VALUE: [1.]\n",
      "[0.99995923]       TRUE VALUE: [1.]\n",
      "[0.99995353]       TRUE VALUE: [1.]\n",
      "[0.00025369]       TRUE VALUE: [0.]\n",
      "\n",
      "LOSS: 0.00011765630446097523\n",
      "RESULT:\n",
      "[0.00030956]       TRUE VALUE: [0.]\n",
      "[0.99986287]       TRUE VALUE: [1.]\n",
      "[0.99990123]       TRUE VALUE: [1.]\n",
      "[0.999942]       TRUE VALUE: [1.]\n",
      "[0.99987977]       TRUE VALUE: [1.]\n",
      "[0.99997367]       TRUE VALUE: [1.]\n",
      "[0.99996978]       TRUE VALUE: [1.]\n",
      "[0.00016093]       TRUE VALUE: [0.]\n",
      "\n",
      "LOSS: 8.473929525573231e-05\n",
      "RESULT:\n",
      "[0.0002216]       TRUE VALUE: [0.]\n",
      "[0.99990127]       TRUE VALUE: [1.]\n",
      "[0.99992961]       TRUE VALUE: [1.]\n",
      "[0.99995763]       TRUE VALUE: [1.]\n",
      "[0.99991412]       TRUE VALUE: [1.]\n",
      "[0.99998059]       TRUE VALUE: [1.]\n",
      "[0.99997762]       TRUE VALUE: [1.]\n",
      "[0.00011711]       TRUE VALUE: [0.]\n",
      "\n",
      "LOSS: 6.585777919329163e-05\n",
      "RESULT:\n",
      "[0.00017141]       TRUE VALUE: [0.]\n",
      "[0.99992331]       TRUE VALUE: [1.]\n",
      "[0.99994575]       TRUE VALUE: [1.]\n",
      "[0.99996671]       TRUE VALUE: [1.]\n",
      "[0.99993368]       TRUE VALUE: [1.]\n",
      "[0.99998464]       TRUE VALUE: [1.]\n",
      "[0.99998223]       TRUE VALUE: [1.]\n",
      "[9.17391128e-05]       TRUE VALUE: [0.]\n",
      "\n",
      "\n"
     ]
    }
   ],
   "source": [
    "# TODO:\n",
    "# Generate data for a 3D XOR task\n",
    "# Then estimate the success rate of training the network with diferent\n",
    "# hidden sizes.\n",
    "values = [1, 0]\n",
    "X3 = np.zeros(shape = (8, 3), dtype = np.float64)\n",
    "Y3 = np.zeros(shape = (8, 1), dtype = np.float64)\n",
    "for index, single_input in enumerate(itertools.product(values, repeat = 3)):\n",
    "    X3[index, :] = single_input\n",
    "    Y3[index, 0] = not(np.all(single_input)) and np.any(single_input)\n",
    "print(f\"X3:\\n{X3}\")\n",
    "print(f\"Y3:\\n{Y3}\\n\")\n",
    "for hidden_dim in [1, 2, 3, 5, 10, 20]:\n",
    "    # TODO: run a few trainings and record the fraction of successful ones\n",
    "    net = SmallNet(3, hidden_dim, dtype=np.float64)\n",
    "    print(f\"Trying hidden_dim = {hidden_dim}\")\n",
    "    for i in range(5):\n",
    "        res, loss = gradient_descent(net, alpha = 0.1, X = X3, Y = Y3, verbose = False)\n",
    "        print(\"\\nLOSS:\", loss)\n",
    "        print(\"RESULT:\")\n",
    "        for single_output, single_true_value in zip(res, Y3):\n",
    "            print(f\"{single_output}       TRUE VALUE: {single_true_value}\")\n",
    "    print(\"\\n\")"
   ]
  },
  {
   "cell_type": "markdown",
   "metadata": {},
   "source": [
    "### For 3D XOR being (x1 xor x2 xor x3)"
   ]
  },
  {
   "cell_type": "code",
   "execution_count": 96,
   "metadata": {},
   "outputs": [
    {
     "name": "stdout",
     "output_type": "stream",
     "text": [
      "X3:\n",
      "[[1. 1. 1.]\n",
      " [1. 1. 0.]\n",
      " [1. 0. 1.]\n",
      " [1. 0. 0.]\n",
      " [0. 1. 1.]\n",
      " [0. 1. 0.]\n",
      " [0. 0. 1.]\n",
      " [0. 0. 0.]]\n",
      "Y3:\n",
      "[[1.]\n",
      " [0.]\n",
      " [0.]\n",
      " [1.]\n",
      " [0.]\n",
      " [1.]\n",
      " [1.]\n",
      " [0.]]\n",
      "\n",
      "Trying hidden_dim = 1\n",
      "\n",
      "LOSS: 0.692671483114374\n",
      "RESULT:\n",
      "[0.48054826]       TRUE VALUE: [1.]\n",
      "[0.49004349]       TRUE VALUE: [0.]\n",
      "[0.49001731]       TRUE VALUE: [0.]\n",
      "[0.50319842]       TRUE VALUE: [1.]\n",
      "[0.49445019]       TRUE VALUE: [0.]\n",
      "[0.50857969]       TRUE VALUE: [1.]\n",
      "[0.50854564]       TRUE VALUE: [1.]\n",
      "[0.52313546]       TRUE VALUE: [0.]\n",
      "\n",
      "LOSS: 0.5646518596253602\n",
      "RESULT:\n",
      "[0.25063769]       TRUE VALUE: [1.]\n",
      "[0.25261825]       TRUE VALUE: [0.]\n",
      "[0.25261825]       TRUE VALUE: [0.]\n",
      "[0.74721614]       TRUE VALUE: [1.]\n",
      "[0.25261825]       TRUE VALUE: [0.]\n",
      "[0.74721614]       TRUE VALUE: [1.]\n",
      "[0.74721614]       TRUE VALUE: [1.]\n",
      "[0.7498584]       TRUE VALUE: [0.]\n",
      "\n",
      "LOSS: 0.5634376916110618\n",
      "RESULT:\n",
      "[0.25029891]       TRUE VALUE: [1.]\n",
      "[0.25124278]       TRUE VALUE: [0.]\n",
      "[0.25124278]       TRUE VALUE: [0.]\n",
      "[0.74867844]       TRUE VALUE: [1.]\n",
      "[0.25124278]       TRUE VALUE: [0.]\n",
      "[0.74867844]       TRUE VALUE: [1.]\n",
      "[0.74867844]       TRUE VALUE: [1.]\n",
      "[0.74993728]       TRUE VALUE: [0.]\n",
      "\n",
      "LOSS: 0.5630583596098847\n",
      "RESULT:\n",
      "[0.25019514]       TRUE VALUE: [1.]\n",
      "[0.25081453]       TRUE VALUE: [0.]\n",
      "[0.25081453]       TRUE VALUE: [0.]\n",
      "[0.7491338]       TRUE VALUE: [1.]\n",
      "[0.25081453]       TRUE VALUE: [0.]\n",
      "[0.7491338]       TRUE VALUE: [1.]\n",
      "[0.7491338]       TRUE VALUE: [1.]\n",
      "[0.74995981]       TRUE VALUE: [0.]\n",
      "\n",
      "LOSS: 0.5628731893897428\n",
      "RESULT:\n",
      "[0.25014484]       TRUE VALUE: [1.]\n",
      "[0.25060574]       TRUE VALUE: [0.]\n",
      "[0.25060574]       TRUE VALUE: [0.]\n",
      "[0.74935582]       TRUE VALUE: [1.]\n",
      "[0.25060574]       TRUE VALUE: [0.]\n",
      "[0.74935582]       TRUE VALUE: [1.]\n",
      "[0.74935582]       TRUE VALUE: [1.]\n",
      "[0.74997044]       TRUE VALUE: [0.]\n",
      "\n",
      "\n",
      "Trying hidden_dim = 2\n",
      "\n",
      "LOSS: 0.013578243651065686\n",
      "RESULT:\n",
      "[0.99052382]       TRUE VALUE: [1.]\n",
      "[0.02316629]       TRUE VALUE: [0.]\n",
      "[0.00992853]       TRUE VALUE: [0.]\n",
      "[0.99050091]       TRUE VALUE: [1.]\n",
      "[0.00992853]       TRUE VALUE: [0.]\n",
      "[0.99050091]       TRUE VALUE: [1.]\n",
      "[0.97371233]       TRUE VALUE: [1.]\n",
      "[0.00993145]       TRUE VALUE: [0.]\n",
      "\n",
      "LOSS: 0.006082725598347929\n",
      "RESULT:\n",
      "[0.99573438]       TRUE VALUE: [1.]\n",
      "[0.01044272]       TRUE VALUE: [0.]\n",
      "[0.00446302]       TRUE VALUE: [0.]\n",
      "[0.99572625]       TRUE VALUE: [1.]\n",
      "[0.00446302]       TRUE VALUE: [0.]\n",
      "[0.99572625]       TRUE VALUE: [1.]\n",
      "[0.98816769]       TRUE VALUE: [1.]\n",
      "[0.00446475]       TRUE VALUE: [0.]\n",
      "\n",
      "LOSS: 0.003911895966824928\n",
      "RESULT:\n",
      "[0.99725286]       TRUE VALUE: [1.]\n",
      "[0.00672903]       TRUE VALUE: [0.]\n",
      "[0.00287272]       TRUE VALUE: [0.]\n",
      "[0.99724819]       TRUE VALUE: [1.]\n",
      "[0.00287272]       TRUE VALUE: [0.]\n",
      "[0.99724819]       TRUE VALUE: [1.]\n",
      "[0.99237968]       TRUE VALUE: [1.]\n",
      "[0.0028739]       TRUE VALUE: [0.]\n",
      "\n",
      "LOSS: 0.0028815073402279076\n",
      "RESULT:\n",
      "[0.9979751]       TRUE VALUE: [1.]\n",
      "[0.00496153]       TRUE VALUE: [0.]\n",
      "[0.00211681]       TRUE VALUE: [0.]\n",
      "[0.99797189]       TRUE VALUE: [1.]\n",
      "[0.00211681]       TRUE VALUE: [0.]\n",
      "[0.99797189]       TRUE VALUE: [1.]\n",
      "[0.99438301]       TRUE VALUE: [1.]\n",
      "[0.0021177]       TRUE VALUE: [0.]\n",
      "\n",
      "LOSS: 0.002280263645622496\n",
      "RESULT:\n",
      "[0.99839698]       TRUE VALUE: [1.]\n",
      "[0.00392868]       TRUE VALUE: [0.]\n",
      "[0.00167543]       TRUE VALUE: [0.]\n",
      "[0.99839457]       TRUE VALUE: [1.]\n",
      "[0.00167543]       TRUE VALUE: [0.]\n",
      "[0.99839457]       TRUE VALUE: [1.]\n",
      "[0.99555321]       TRUE VALUE: [1.]\n",
      "[0.00167615]       TRUE VALUE: [0.]\n",
      "\n",
      "\n",
      "Trying hidden_dim = 3\n",
      "\n",
      "LOSS: 0.0014097792950713993\n",
      "RESULT:\n",
      "[0.99989559]       TRUE VALUE: [1.]\n",
      "[0.00188741]       TRUE VALUE: [0.]\n",
      "[0.00161248]       TRUE VALUE: [0.]\n",
      "[0.99816181]       TRUE VALUE: [1.]\n",
      "[0.00158412]       TRUE VALUE: [0.]\n",
      "[0.99814383]       TRUE VALUE: [1.]\n",
      "[0.99775474]       TRUE VALUE: [1.]\n",
      "[0.0001399]       TRUE VALUE: [0.]\n",
      "\n",
      "LOSS: 0.0006692738779195452\n",
      "RESULT:\n",
      "[0.99996176]       TRUE VALUE: [1.]\n",
      "[0.00090955]       TRUE VALUE: [0.]\n",
      "[0.00076383]       TRUE VALUE: [0.]\n",
      "[0.99912418]       TRUE VALUE: [1.]\n",
      "[0.00075392]       TRUE VALUE: [0.]\n",
      "[0.99911906]       TRUE VALUE: [1.]\n",
      "[0.9989216]       TRUE VALUE: [1.]\n",
      "[5.11577743e-05]       TRUE VALUE: [0.]\n",
      "\n",
      "LOSS: 0.0004393318335581061\n",
      "RESULT:\n",
      "[0.99997805]       TRUE VALUE: [1.]\n",
      "[0.00060068]       TRUE VALUE: [0.]\n",
      "[0.00050101]       TRUE VALUE: [0.]\n",
      "[0.99942422]       TRUE VALUE: [1.]\n",
      "[0.00049541]       TRUE VALUE: [0.]\n",
      "[0.99942165]       TRUE VALUE: [1.]\n",
      "[0.99928891]       TRUE VALUE: [1.]\n",
      "[2.93624613e-05]       TRUE VALUE: [0.]\n",
      "\n",
      "LOSS: 0.00032714817682209617\n",
      "RESULT:\n",
      "[0.99998506]       TRUE VALUE: [1.]\n",
      "[0.00044886]       TRUE VALUE: [0.]\n",
      "[0.00037293]       TRUE VALUE: [0.]\n",
      "[0.99957086]       TRUE VALUE: [1.]\n",
      "[0.00036914]       TRUE VALUE: [0.]\n",
      "[0.99956926]       TRUE VALUE: [1.]\n",
      "[0.99946914]       TRUE VALUE: [1.]\n",
      "[2.00031672e-05]       TRUE VALUE: [0.]\n",
      "\n",
      "LOSS: 0.0002606692461967451\n",
      "RESULT:\n",
      "[0.99998886]       TRUE VALUE: [1.]\n",
      "[0.0003585]       TRUE VALUE: [0.]\n",
      "[0.00029707]       TRUE VALUE: [0.]\n",
      "[0.99965785]       TRUE VALUE: [1.]\n",
      "[0.00029425]       TRUE VALUE: [0.]\n",
      "[0.99965674]       TRUE VALUE: [1.]\n",
      "[0.9995763]       TRUE VALUE: [1.]\n",
      "[1.49214817e-05]       TRUE VALUE: [0.]\n",
      "\n",
      "\n",
      "Trying hidden_dim = 5\n",
      "\n",
      "LOSS: 0.0005601974816282931\n",
      "RESULT:\n",
      "[0.9993714]       TRUE VALUE: [1.]\n",
      "[0.00067091]       TRUE VALUE: [0.]\n",
      "[0.00044988]       TRUE VALUE: [0.]\n",
      "[0.99947701]       TRUE VALUE: [1.]\n",
      "[0.00054239]       TRUE VALUE: [0.]\n",
      "[0.99945814]       TRUE VALUE: [1.]\n",
      "[0.99944216]       TRUE VALUE: [1.]\n",
      "[0.00056585]       TRUE VALUE: [0.]\n",
      "\n",
      "LOSS: 0.0002500535792284939\n",
      "RESULT:\n",
      "[0.99972656]       TRUE VALUE: [1.]\n",
      "[0.00029468]       TRUE VALUE: [0.]\n",
      "[0.00020516]       TRUE VALUE: [0.]\n",
      "[0.99976389]       TRUE VALUE: [1.]\n",
      "[0.00024557]       TRUE VALUE: [0.]\n",
      "[0.9997515]       TRUE VALUE: [1.]\n",
      "[0.99975392]       TRUE VALUE: [1.]\n",
      "[0.00025063]       TRUE VALUE: [0.]\n",
      "\n",
      "LOSS: 0.00016007190908713258\n",
      "RESULT:\n",
      "[0.99982722]       TRUE VALUE: [1.]\n",
      "[0.00018696]       TRUE VALUE: [0.]\n",
      "[0.00013273]       TRUE VALUE: [0.]\n",
      "[0.99984807]       TRUE VALUE: [1.]\n",
      "[0.00015828]       TRUE VALUE: [0.]\n",
      "[0.99983887]       TRUE VALUE: [1.]\n",
      "[0.99984328]       TRUE VALUE: [1.]\n",
      "[0.00015995]       TRUE VALUE: [0.]\n",
      "\n",
      "LOSS: 0.00011745825584343206\n",
      "RESULT:\n",
      "[0.99987428]       TRUE VALUE: [1.]\n",
      "[0.00013635]       TRUE VALUE: [0.]\n",
      "[9.80682779e-05]       TRUE VALUE: [0.]\n",
      "[0.99988817]       TRUE VALUE: [1.]\n",
      "[0.00011665]       TRUE VALUE: [0.]\n",
      "[0.99988081]       TRUE VALUE: [1.]\n",
      "[0.99988536]       TRUE VALUE: [1.]\n",
      "[0.00011717]       TRUE VALUE: [0.]\n",
      "\n",
      "LOSS: 9.265719601467436e-05\n",
      "RESULT:\n",
      "[0.99990144]       TRUE VALUE: [1.]\n",
      "[0.00010706]       TRUE VALUE: [0.]\n",
      "[7.7748603e-05]       TRUE VALUE: [0.]\n",
      "[0.99991159]       TRUE VALUE: [1.]\n",
      "[9.23091687e-05]       TRUE VALUE: [0.]\n",
      "[0.99990544]       TRUE VALUE: [1.]\n",
      "[0.99990975]       TRUE VALUE: [1.]\n",
      "[9.232596e-05]       TRUE VALUE: [0.]\n",
      "\n",
      "\n",
      "Trying hidden_dim = 10\n",
      "\n",
      "LOSS: 0.00047818887534341727\n",
      "RESULT:\n",
      "[0.99970548]       TRUE VALUE: [1.]\n",
      "[0.00047873]       TRUE VALUE: [0.]\n",
      "[0.00048002]       TRUE VALUE: [0.]\n",
      "[0.9994473]       TRUE VALUE: [1.]\n",
      "[0.0004539]       TRUE VALUE: [0.]\n",
      "[0.9994212]       TRUE VALUE: [1.]\n",
      "[0.99945478]       TRUE VALUE: [1.]\n",
      "[0.00044069]       TRUE VALUE: [0.]\n",
      "\n",
      "LOSS: 0.000210907501348834\n",
      "RESULT:\n",
      "[0.99987069]       TRUE VALUE: [1.]\n",
      "[0.00020836]       TRUE VALUE: [0.]\n",
      "[0.00021492]       TRUE VALUE: [0.]\n",
      "[0.99975335]       TRUE VALUE: [1.]\n",
      "[0.00020296]       TRUE VALUE: [0.]\n",
      "[0.999741]       TRUE VALUE: [1.]\n",
      "[0.99976699]       TRUE VALUE: [1.]\n",
      "[0.00019286]       TRUE VALUE: [0.]\n",
      "\n",
      "LOSS: 0.0001333808597479824\n",
      "RESULT:\n",
      "[0.99991853]       TRUE VALUE: [1.]\n",
      "[0.0001308]       TRUE VALUE: [0.]\n",
      "[0.00013703]       TRUE VALUE: [0.]\n",
      "[0.99984305]       TRUE VALUE: [1.]\n",
      "[0.00012912]       TRUE VALUE: [0.]\n",
      "[0.99983503]       TRUE VALUE: [1.]\n",
      "[0.99985508]       TRUE VALUE: [1.]\n",
      "[0.0001217]       TRUE VALUE: [0.]\n",
      "\n",
      "LOSS: 9.695698015611077e-05\n",
      "RESULT:\n",
      "[0.99994097]       TRUE VALUE: [1.]\n",
      "[9.45787921e-05]       TRUE VALUE: [0.]\n",
      "[0.0001002]       TRUE VALUE: [0.]\n",
      "[0.99988544]       TRUE VALUE: [1.]\n",
      "[9.42012384e-05]       TRUE VALUE: [0.]\n",
      "[0.99987955]       TRUE VALUE: [1.]\n",
      "[0.99989581]       TRUE VALUE: [1.]\n",
      "[8.84085232e-05]       TRUE VALUE: [0.]\n",
      "\n",
      "LOSS: 7.591882531037114e-05\n",
      "RESULT:\n",
      "[0.99995391]       TRUE VALUE: [1.]\n",
      "[7.37471617e-05]       TRUE VALUE: [0.]\n",
      "[7.88179153e-05]       TRUE VALUE: [0.]\n",
      "[0.99991003]       TRUE VALUE: [1.]\n",
      "[7.39576372e-05]       TRUE VALUE: [0.]\n",
      "[0.9999054]       TRUE VALUE: [1.]\n",
      "[0.99991907]       TRUE VALUE: [1.]\n",
      "[6.92157442e-05]       TRUE VALUE: [0.]\n",
      "\n",
      "\n",
      "Trying hidden_dim = 20\n"
     ]
    },
    {
     "name": "stdout",
     "output_type": "stream",
     "text": [
      "\n",
      "LOSS: 0.0005637413272021635\n",
      "RESULT:\n",
      "[0.99972611]       TRUE VALUE: [1.]\n",
      "[0.00057021]       TRUE VALUE: [0.]\n",
      "[0.00056006]       TRUE VALUE: [0.]\n",
      "[0.99936334]       TRUE VALUE: [1.]\n",
      "[0.00058458]       TRUE VALUE: [0.]\n",
      "[0.99937131]       TRUE VALUE: [1.]\n",
      "[0.9992984]       TRUE VALUE: [1.]\n",
      "[0.0005529]       TRUE VALUE: [0.]\n",
      "\n",
      "LOSS: 0.00025324800010312294\n",
      "RESULT:\n",
      "[0.99987241]       TRUE VALUE: [1.]\n",
      "[0.00025446]       TRUE VALUE: [0.]\n",
      "[0.00024672]       TRUE VALUE: [0.]\n",
      "[0.99971631]       TRUE VALUE: [1.]\n",
      "[0.00025724]       TRUE VALUE: [0.]\n",
      "[0.99972052]       TRUE VALUE: [1.]\n",
      "[0.99968408]       TRUE VALUE: [1.]\n",
      "[0.00026063]       TRUE VALUE: [0.]\n",
      "\n",
      "LOSS: 0.00016013953830263576\n",
      "RESULT:\n",
      "[0.99991749]       TRUE VALUE: [1.]\n",
      "[0.00016035]       TRUE VALUE: [0.]\n",
      "[0.00015423]       TRUE VALUE: [0.]\n",
      "[0.99982159]       TRUE VALUE: [1.]\n",
      "[0.00016079]       TRUE VALUE: [0.]\n",
      "[0.99982441]       TRUE VALUE: [1.]\n",
      "[0.99979995]       TRUE VALUE: [1.]\n",
      "[0.00016908]       TRUE VALUE: [0.]\n",
      "\n",
      "LOSS: 0.00011607277732655619\n",
      "RESULT:\n",
      "[0.99993922]       TRUE VALUE: [1.]\n",
      "[0.00011597]       TRUE VALUE: [0.]\n",
      "[0.00011088]       TRUE VALUE: [0.]\n",
      "[0.99987121]       TRUE VALUE: [1.]\n",
      "[0.00011561]       TRUE VALUE: [0.]\n",
      "[0.99987333]       TRUE VALUE: [1.]\n",
      "[0.99985486]       TRUE VALUE: [1.]\n",
      "[0.00012468]       TRUE VALUE: [0.]\n",
      "\n",
      "LOSS: 9.058100532860428e-05\n",
      "RESULT:\n",
      "[0.99995197]       TRUE VALUE: [1.]\n",
      "[9.03576056e-05]       TRUE VALUE: [0.]\n",
      "[8.59874991e-05]       TRUE VALUE: [0.]\n",
      "[0.99989983]       TRUE VALUE: [1.]\n",
      "[8.96690043e-05]       TRUE VALUE: [0.]\n",
      "[0.99990152]       TRUE VALUE: [1.]\n",
      "[0.99988665]       TRUE VALUE: [1.]\n",
      "[9.85561544e-05]       TRUE VALUE: [0.]\n",
      "\n",
      "\n"
     ]
    }
   ],
   "source": [
    "values = [1, 0]\n",
    "X3 = np.zeros(shape = (8, 3), dtype = np.float64)\n",
    "Y3 = np.zeros(shape = (8, 1), dtype = np.float64)\n",
    "for index, single_input in enumerate(itertools.product(values, repeat = 3)):\n",
    "    X3[index, :] = single_input\n",
    "    Y3[index, 0] = single_input[0] ^ single_input[1] ^ single_input[2]\n",
    "print(f\"X3:\\n{X3}\")\n",
    "print(f\"Y3:\\n{Y3}\\n\")\n",
    "for hidden_dim in [1, 2, 3, 5, 10, 20]:\n",
    "    # TODO: run a few trainings and record the fraction of successful ones\n",
    "    net = SmallNet(3, hidden_dim, dtype=np.float64)\n",
    "    print(f\"Trying hidden_dim = {hidden_dim}\")\n",
    "    for i in range(5):\n",
    "        res, loss = gradient_descent(net, alpha = 0.1, X = X3, Y = Y3, verbose = False)\n",
    "        print(\"\\nLOSS:\", loss)\n",
    "        print(\"RESULT:\")\n",
    "        for single_output, single_true_value in zip(res, Y3):\n",
    "            print(f\"{single_output}       TRUE VALUE: {single_true_value}\")\n",
    "    print(\"\\n\")"
   ]
  },
  {
   "cell_type": "markdown",
   "metadata": {
    "id": "UuaLEoV-9DLG"
   },
   "source": [
    "## Problem 4\n"
   ]
  },
  {
   "cell_type": "code",
   "execution_count": null,
   "metadata": {
    "id": "w3lk9_TM-MvK"
   },
   "outputs": [],
   "source": []
  },
  {
   "cell_type": "markdown",
   "metadata": {
    "id": "_Hr_iAKX-ND1"
   },
   "source": [
    "## Problem 5"
   ]
  },
  {
   "cell_type": "code",
   "execution_count": null,
   "metadata": {
    "id": "rnz6CndQ-NRI"
   },
   "outputs": [],
   "source": []
  },
  {
   "cell_type": "markdown",
   "metadata": {
    "id": "4PcNxrCt-NcN"
   },
   "source": [
    "## Problem 6"
   ]
  },
  {
   "cell_type": "code",
   "execution_count": null,
   "metadata": {
    "id": "6Brepirl-Nln"
   },
   "outputs": [],
   "source": []
  },
  {
   "cell_type": "markdown",
   "metadata": {
    "id": "nWuv7Q77-Nut"
   },
   "source": [
    "## Problem 7"
   ]
  },
  {
   "cell_type": "code",
   "execution_count": null,
   "metadata": {
    "id": "avuvSoWY-N4Z"
   },
   "outputs": [],
   "source": []
  }
 ],
 "metadata": {
  "colab": {
   "collapsed_sections": [],
   "include_colab_link": true,
   "name": "Assignment1.ipynb",
   "provenance": []
  },
  "kernelspec": {
   "display_name": "Python 3",
   "language": "python",
   "name": "python3"
  },
  "language_info": {
   "codemirror_mode": {
    "name": "ipython",
    "version": 3
   },
   "file_extension": ".py",
   "mimetype": "text/x-python",
   "name": "python",
   "nbconvert_exporter": "python",
   "pygments_lexer": "ipython3",
   "version": "3.7.2"
  }
 },
 "nbformat": 4,
 "nbformat_minor": 1
}
