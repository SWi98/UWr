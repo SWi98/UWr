{
 "cells": [
  {
   "cell_type": "markdown",
   "metadata": {
    "colab_type": "text",
    "id": "view-in-github"
   },
   "source": [
    "<a href=\"https://colab.research.google.com/github/janchorowski/dl_uwr/blob/summer2021/Assignments/Assignment1.ipynb\" target=\"_parent\"><img src=\"https://colab.research.google.com/assets/colab-badge.svg\" alt=\"Open In Colab\"/></a>"
   ]
  },
  {
   "cell_type": "markdown",
   "metadata": {
    "id": "CGXgWugfJ0Vl"
   },
   "source": [
    "## Assignment 1\n",
    "\n",
    "**Submission deadlines:** \n",
    "- get at least **2** points by Tuesday, 9.03.2021\n",
    "- remaining points: last lab session before or on Tuesday, 16.03.2021\n",
    "\n",
    "**Points:** Aim to get 8 out of 12 possible points\n",
    "\n",
    "## Submission instructions\n",
    "The class is held remotely. To sumbmit your solutions please show the notebook over the video call. Make sure you know all the questions and asnwers, and that the notebook contains results (before presentation do `Runtime -> Restar and run all`)\n",
    "\n",
    "We provide starter code, however you are not required to use it as long as you properly solve the tasks.\n",
    "\n",
    "As always, please submit corrections using GitHub's Pull Requests to https://github.com/janchorowski/dl_uwr."
   ]
  },
  {
   "cell_type": "markdown",
   "metadata": {
    "id": "5S8iRaCPyO2a"
   },
   "source": [
    "# Task description\n",
    "\n",
    "## TLDR\n",
    "Implement and train a neural network using pure numpy."
   ]
  },
  {
   "cell_type": "markdown",
   "metadata": {
    "id": "JHcz7I2V-bVM"
   },
   "source": [
    "\n",
    "## Problem 1 [2p]\n",
    "Implement a two-layer network, manually set weights and biases to solve the XOR task.\n",
    "\n",
    "A two-layer neural network implementes a function $f: \\mathbb{R}^D \\rightarrow \\mathbb{R}^O$ where $D$ is the input dimensionality and $O$ is the output dinemsionality. The output goes through an intermediate representation (the hidden layer) with dimensionality $H$. \n",
    "\n",
    "The computations are as follows:\n",
    "\\begin{equation}\n",
    "\\begin{split}\n",
    "A_1 &= x W_1^T + b_1  & \\qquad\\text{Total input to neurons in the hidden layer (network's first layer)} \\\\\n",
    "O_1 &= \\sigma_1(A_1)  & \\qquad\\text{Output of the hidden layer} \\\\\n",
    "A_2 &= O_1 W_2^T + b_2 & \\qquad\\text{Total input to neurons in the output layer (network's second layer)}\\\\\n",
    "O_2 &= \\sigma_2(A_2) & \\qquad\\text{Output of the network}\n",
    "\\end{split}\n",
    "\\end{equation}\n",
    "\n",
    "Where $W$ are weight matrices, $b$ are bias vectors, $\\sigma$ are non-linear activation functions (e.g. the logistic sigmoid applied element-wise, or softmax).\n",
    "\n",
    "For the 2D xor problem the network will:\n",
    "- have 2 inputs, 2 hidden neurons, one output\n",
    "- use the logistic sigmoid everywhere (that way we, when hand-designig the weights, we can assume that neurons' outputs are binary).\n",
    "\n",
    "Therrefore the shapes of the data floing through the network will be:\n",
    "- input: $x\\in\\mathbb{}R^{2}$\n",
    "- hidden layer parameters: $W_1\\in\\mathbb{}R^{2\\times 2}$ and $b_1\\in\\mathbb{}R^{2}$\n",
    "- representations in the hidden layer: $A_1\\in\\mathbb{}R^{2}$ and $O_1\\in\\mathbb{}R^{2}$\n",
    "- output layer parameters: $W_2\\in\\mathbb{}R^{1\\times 2}$ and $b_1\\in\\mathbb{}R^{1}$\n",
    "- representations in the output layer: $A_2\\in\\mathbb{}R^{1}$ and $O_2\\in\\mathbb{}R^{1}$\n",
    "\n",
    "The network can be seen as a logistic regression model, prefixed by a nonlinear transformation of the data.\n",
    "\n",
    "The first tasks consists of:\n",
    "- implementing the network\n",
    "- selecting parametwrs ($W_1, b_1, W_2, b_2$) such that $f(x)\\approx XOR(x_1, x_2)$ where the approximation is die to the sigmoids - the output may be close to 0 or 1, but doesn't need to saturate at 0 or 1.\n",
    "\n",
    "NB: the convention on weight matrix shapes follows linear [layers in PyTorch](https://pytorch.org/docs/stable/generated/torch.nn.Linear.html).\n"
   ]
  },
  {
   "cell_type": "markdown",
   "metadata": {
    "id": "0QSpZxuH-bLe"
   },
   "source": [
    "## Problem 2 [2p]\n",
    "1. Add a backward pass.\n",
    "2. Use a sensible random initialization for weights and biases.\n",
    "3. Numerically check the correctness of your gradient computation.\n"
   ]
  },
  {
   "cell_type": "markdown",
   "metadata": {
    "id": "s1Tn8j0m-bAy"
   },
   "source": [
    "## Problem 3 [2p]\n",
    "1. Implement gradient descent\n",
    "2. Train your network to solve 3D XOR\n",
    "3. Try several hidden layer sizes, for each size record the fracton of successful trainings. Then answer:\n",
    "    - What is the minimal hidden size required to solve 3D XOR (even with low reliability, when the training has to be repeated multiple times)\n",
    "    - What is the minimal hidden size required to reliably solve 3D XOR\n",
    "    - Which networks are easier to train - small or large ones? Why?\n"
   ]
  },
  {
   "cell_type": "markdown",
   "metadata": {
    "id": "RP9Pvpmf-a2A"
   },
   "source": [
    "## Problem 4 [1p]\n",
    "Replace the first nonlinearity with the [ReLU](https://en.wikipedia.org/wiki/Rectifier_(neural_networks)) activation function. Find a network architecture which reliably learns the 3D XOR problem.\n"
   ]
  },
  {
   "cell_type": "markdown",
   "metadata": {
    "id": "cGgtpe-w-asB"
   },
   "source": [
    "## Problem 5 [1p]\n",
    "Add a second hidden layer to your network, implement the forward and backward pass, then demonstrate training.\n"
   ]
  },
  {
   "cell_type": "markdown",
   "metadata": {
    "id": "Pe-pcFeO-aiE"
   },
   "source": [
    "## Problem 6 [2p]\n",
    "Implement a way to have a _variable number_ of hidden layers. Check how deep sigmoid or ReLU networks you  can train. For simplicity you can assume that all hidden layers have the same number of neurons, and use the same activation function.\n"
   ]
  },
  {
   "cell_type": "markdown",
   "metadata": {
    "id": "kIpn17Cm-aW7"
   },
   "source": [
    "## Problem 7 [2p]\n",
    "For each weight matrix $w\\in\\mathbb{R}^{n\\times m}$, add a randomly initialized `backward weight` $w_b\\in\\mathbb{R}^{m\\times n}$, which will not change during training. Change the backward pass to use $w_b$ instead of $w^T$, getting an approxmatoin of the true gradient. Can you get your network to train?\n",
    "\n",
    "NB: this approach, dubbed [feedback alignment](https://www.nature.com/articles/ncomms13276), was proposed to make error backpropagation more biologically plausible, by providing a solution to the \"weight transport problem\". Regular backpropagation requires that neurons not only know their incoming weights (thet they control), but also their outgoing weights (that are controlled by neurons in the upper layers). This is nearly impossible in a real brain."
   ]
  },
  {
   "cell_type": "markdown",
   "metadata": {
    "id": "rXJaoHSH0DZO"
   },
   "source": [
    "# Solutions and starter code"
   ]
  },
  {
   "cell_type": "code",
   "execution_count": 138,
   "metadata": {
    "id": "YiTEWD2oqW0Y"
   },
   "outputs": [],
   "source": [
    "import matplotlib.pyplot as plt\n",
    "import numpy as np\n",
    "import itertools\n",
    "import tqdm"
   ]
  },
  {
   "cell_type": "markdown",
   "metadata": {
    "id": "eqtfJKR40J3x"
   },
   "source": [
    "XOR dataset creation"
   ]
  },
  {
   "cell_type": "code",
   "execution_count": 3,
   "metadata": {
    "colab": {
     "base_uri": "https://localhost:8080/",
     "height": 296
    },
    "id": "lYEbCfbSpv5M",
    "outputId": "48a99aad-e15b-4c7b-f881-bbfbe1941a15"
   },
   "outputs": [
    {
     "data": {
      "text/plain": [
       "(-0.05, 1.05, -0.05, 1.05)"
      ]
     },
     "execution_count": 3,
     "metadata": {},
     "output_type": "execute_result"
    },
    {
     "data": {
      "image/png": "[encoded data removed]",
      "text/plain": [
       "<Figure size 432x288 with 1 Axes>"
      ]
     },
     "metadata": {
      "needs_background": "light"
     },
     "output_type": "display_data"
    }
   ],
   "source": [
    "# Let's define a XOR dataset\n",
    "\n",
    "# X will be matrix of N 2-dimensional inputs\n",
    "X = np.array([[0, 0], [0, 1], [1, 0], [1, 1],], dtype=np.float32)\n",
    "# Y is a matrix of N numners - answers\n",
    "Y = np.array([[0], [1], [1], [0],], dtype=np.float32)\n",
    "\n",
    "plt.scatter(\n",
    "    X[:, 0], X[:, 1], c=Y[:, 0],\n",
    ")\n",
    "plt.xlabel(\"X[0]\")\n",
    "plt.ylabel(\"X[1]\")\n",
    "plt.axis(\"square\")"
   ]
  },
  {
   "cell_type": "markdown",
   "metadata": {
    "id": "Rb3azMn929_I"
   },
   "source": [
    "## Problem 1"
   ]
  },
  {
   "cell_type": "markdown",
   "metadata": {
    "id": "RZCM_hdELE04"
   },
   "source": [
    "The code below contains a mock-up of a two-layer neural network. Fill in the code and manually set weights to solve the XOR problem.\n",
    "\n",
    "Please note: the shapes are set to be compatible with PyTorch's conventions:\n",
    "* a batch containing $N$ $D$-dimensional examples has shape $N\\times D$ (each example is a row!)\n",
    "* a weight matrix in a linear layer with $I$ inputs and $O$ outputs has shape $O \\times I$\n",
    "* a bias vector is a 1D vector. Please note that [broadcasting rules](https://docs.scipy.org/doc/numpy/user/basics.broadcasting.html) allow us to think about it as a $1 \\times D$ matrix."
   ]
  },
  {
   "cell_type": "code",
   "execution_count": 4,
   "metadata": {},
   "outputs": [
    {
     "data": {
      "text/plain": [
       "array([[ 10,  40],\n",
       "       [ 90, 160]])"
      ]
     },
     "execution_count": 4,
     "metadata": {},
     "output_type": "execute_result"
    }
   ],
   "source": [
    "np.array(([1, 2], [3, 4])) * np.array(([10, 20], [30, 40]))"
   ]
  },
  {
   "cell_type": "code",
   "execution_count": 5,
   "metadata": {},
   "outputs": [
    {
     "data": {
      "text/plain": [
       "array([0.])"
      ]
     },
     "execution_count": 5,
     "metadata": {},
     "output_type": "execute_result"
    }
   ],
   "source": [
    "np.zeros((1,))"
   ]
  },
  {
   "cell_type": "code",
   "execution_count": 6,
   "metadata": {},
   "outputs": [
    {
     "name": "stdout",
     "output_type": "stream",
     "text": [
      "[0.32960479]\n"
     ]
    }
   ],
   "source": [
    "x = np.random.normal(size=(1,))\n",
    "print(x)"
   ]
  },
  {
   "cell_type": "code",
   "execution_count": 7,
   "metadata": {},
   "outputs": [
    {
     "data": {
      "text/plain": [
       "array([0.32960479])"
      ]
     },
     "execution_count": 7,
     "metadata": {},
     "output_type": "execute_result"
    }
   ],
   "source": [
    "np.array(x, dtype=np.float64)"
   ]
  },
  {
   "cell_type": "code",
   "execution_count": 8,
   "metadata": {},
   "outputs": [
    {
     "data": {
      "text/plain": [
       "array([[ 5, 10],\n",
       "       [ 6,  9],\n",
       "       [ 7,  8],\n",
       "       [ 8,  7]])"
      ]
     },
     "execution_count": 8,
     "metadata": {},
     "output_type": "execute_result"
    }
   ],
   "source": [
    "pp = np.array(([0, 0], [1, -1], [2, -2], [3, -3]))\n",
    "oo = np.array([5, 10])\n",
    "pp + oo"
   ]
  },
  {
   "cell_type": "code",
   "execution_count": 9,
   "metadata": {},
   "outputs": [],
   "source": [
    "def sigmoid(x):\n",
    "    return 1 / (1 + np.exp(-x))"
   ]
  },
  {
   "cell_type": "code",
   "execution_count": 103,
   "metadata": {
    "id": "lrrRuk6zLiF0"
   },
   "outputs": [],
   "source": [
    "class SmallNet:\n",
    "    def __init__(self, in_features, num_hidden, dtype=np.float32, verbose = False):\n",
    "        self.W1 = np.zeros((num_hidden, in_features), dtype=dtype)\n",
    "        self.b1 = np.zeros((num_hidden,), dtype=dtype)\n",
    "        self.W2 = np.zeros((1, num_hidden), dtype=dtype)\n",
    "        self.b2 = np.zeros((1,), dtype=dtype)\n",
    "        self.init_params(in_features, num_hidden)\n",
    "        self.verbose = verbose\n",
    "\n",
    "    def init_params(self, in_features, num_hidden):\n",
    "        # TODO for Problem 2:\n",
    "        # set all parameters to small random values, e.g. from N(0, 0.5)\n",
    "        self.W1 = np.random.normal(scale = 0.5, size = (num_hidden, in_features))\n",
    "        self.b1 = np.random.normal(scale = 0.5, size = (num_hidden,))\n",
    "        self.W2 = np.random.normal(scale = 0.5, size = (1, num_hidden))\n",
    "        self.b2 = np.random.normal(scale = 0.5, size = (1,))\n",
    "\n",
    "    def forward(self, X, Y=None, do_backward=False):\n",
    "        # TODO Problem 1: Fill in details of forward propagation\n",
    "        # Input to neurons in 1st layer\n",
    "#         print(f\"X:\\n{X}\")\n",
    "#         print(f\"W1.T:\\n{self.W1.T}\")\n",
    "#         print(f\"b1:\\n{self.b1}\")\n",
    "        A1 = X @ self.W1.T + self.b1\n",
    "        # Outputs after the sigmoid non-linearity\n",
    "        O1 = sigmoid(A1)\n",
    "        # Inputs to neuron in the second layer\n",
    "        A2 = O1 @ self.W2.T + self.b2\n",
    "        \n",
    "        # Outputs after the sigmoid non-linearity\n",
    "        O2 = sigmoid(A2)\n",
    "        # When Y is none, simply return the predictions. Else compute the loss\n",
    "        if Y is not None:\n",
    "            loss = -(Y * np.log(O2) + (1 - Y) * np.log(1.0 - O2))\n",
    "            if(self.verbose):\n",
    "                print(\"Y:\", Y)\n",
    "                print(\"O2:\", O2)\n",
    "                print(\"Loss vector:\", loss)\n",
    "                print()\n",
    "            # normalize loss by batch size\n",
    "            loss = loss.sum() / X.shape[0]\n",
    "        else:\n",
    "            loss = np.nan\n",
    "\n",
    "        if do_backward:\n",
    "            if self.verbose:\n",
    "                print(f\"W1: \\n{self.W1}\")\n",
    "                print(f\"b1: \\n{self.b1}\")\n",
    "                print(f\"W2: \\n{self.W2}\")\n",
    "                print(f\"b2: \\n{self.b2}\")\n",
    "                print(f\"A1: \\n{A1}\")\n",
    "                print(f\"A2: \\n{A2}\")\n",
    "                print(f\"O1: \\n{O1}\")\n",
    "                print(f\"O2: \\n{O2}\")\n",
    "                \n",
    "            # TODO in Problem 2:\n",
    "            # fill in the gradient computation\n",
    "            # Please note, that there is a correspondance between\n",
    "            # the forward and backward pass: with backward computations happening\n",
    "            # in reverse order.\n",
    "            # We save the gradients with respect to the parameters as fields of self.\n",
    "            # It is not very elegant, but simplifies training code later on.\n",
    "\n",
    "            # A2_grad is the gradient of loss with respect to A2\n",
    "            # Hint: there is a concise formula for the gradient\n",
    "            # of logistic sigmoid and cross-entropy loss\n",
    "            A2_grad = O2 - Y\n",
    "            #print(f\"A2_grad: \\n{A2_grad}\")\n",
    "            self.b2_grad = A2_grad.sum(0) / A2_grad.shape[0]\n",
    "            #print(f\"b2_grad: \\n{self.b2_grad}\")\n",
    "            self.W2_grad = A2_grad.T @ O1 / A2_grad.shape[0]\n",
    "            #print(f\"W2_grad: \\n{self.W2_grad}\")\n",
    "            O1_grad = A2_grad @ self.W2\n",
    "            A1_grad = O1_grad * sigmoid(A1) * (1 - sigmoid(A1))\n",
    "            #print(f\"A1_grad: \\n{A1_grad}\")\n",
    "            self.b1_grad = A1_grad.sum(0) / A2_grad.shape[0]\n",
    "            #print(f\"b1_grad: \\n{self.b1_grad}\")\n",
    "            self.W1_grad = A1_grad.T @ X / A1_grad.shape[0]\n",
    "            #print(f\"W1_grad: \\n{self.W1_grad}\")\n",
    "\n",
    "        return O2, loss"
   ]
  },
  {
   "cell_type": "code",
   "execution_count": 68,
   "metadata": {
    "colab": {
     "base_uri": "https://localhost:8080/"
    },
    "id": "jJswvBk0oiIY",
    "outputId": "e6559317-7afa-4509-fbac-4880e73b91cc"
   },
   "outputs": [
    {
     "name": "stdout",
     "output_type": "stream",
     "text": [
      "XOR[0. 0.] = [0.02071105]\n",
      "XOR[0. 1.] = [0.97615905]\n",
      "XOR[1. 0.] = [0.97615905]\n",
      "XOR[1. 1.] = [0.02071105]\n",
      "Loss: 0.022529139712188447\n"
     ]
    }
   ],
   "source": [
    "# TODO Problem 1:\n",
    "# Set by hand the weight values to solve the XOR problem\n",
    "\n",
    "net = SmallNet(2, 2, dtype=np.float64, verbose = False)\n",
    "net.W1 = np.array([[8, 8], [-8, -8]])\n",
    "net.b1 = np.array([-4, 12])\n",
    "net.W2 = np.array([[8, 8]])\n",
    "net.b2 = np.array([-12])\n",
    "\n",
    "# Hint: since we use the logistic sigmoid activation, the weights may need to\n",
    "# be fairly large\n",
    "\n",
    "\n",
    "predictions, loss = net.forward(X, Y)\n",
    "for x, p in zip(X, predictions):\n",
    "    print(f\"XOR{x} = {p}\")\n",
    "print(f\"Loss: {loss}\")"
   ]
  },
  {
   "cell_type": "markdown",
   "metadata": {
    "id": "wmxCi5Vl6_xB"
   },
   "source": [
    "## Problem 2"
   ]
  },
  {
   "cell_type": "code",
   "execution_count": 69,
   "metadata": {
    "id": "eSM5hgJ1mrhY"
   },
   "outputs": [],
   "source": [
    "def check_grad(net, param_name, X, Y, eps=1e-5):\n",
    "    \"\"\"A gradient checking routine\"\"\"\n",
    "\n",
    "    param = getattr(net, param_name)\n",
    "    param_flat_accessor = param.reshape(-1)\n",
    "\n",
    "    grad = np.empty_like(param)\n",
    "    grad_flat_accessor = grad.reshape(-1)\n",
    "    \n",
    "    net.forward(X, Y, do_backward=True)\n",
    "    orig_grad = getattr(net, param_name + \"_grad\")\n",
    "#     print(f\"{param_name}: \\n{param}\")\n",
    "#     print(\"param.shape:\", param.shape)\n",
    "#     print(\"orig_grad.shape:\", orig_grad.shape)\n",
    "    assert param.shape == orig_grad.shape\n",
    "\n",
    "    for i in range(param_flat_accessor.shape[0]):\n",
    "        orig_val = param_flat_accessor[i]\n",
    "        param_flat_accessor[i] = orig_val + eps\n",
    "        _, loss_positive = net.forward(X, Y)\n",
    "        param_flat_accessor[i] = orig_val - eps\n",
    "        _, loss_negative = net.forward(X, Y)\n",
    "        param_flat_accessor[i] = orig_val\n",
    "        grad_flat_accessor[i] = (loss_positive - loss_negative) / (2 * eps)\n",
    "    print(f\"{param_name}\")\n",
    "    print(f\"grad:\\n{grad}\")\n",
    "    print(f\"orig_grad:\\n{orig_grad}\")\n",
    "    print(\"\")\n",
    "    assert np.allclose(grad, orig_grad)\n",
    "    return grad, orig_grad"
   ]
  },
  {
   "cell_type": "code",
   "execution_count": 70,
   "metadata": {
    "id": "TTZu0jFEvgXF",
    "scrolled": false
   },
   "outputs": [
    {
     "name": "stdout",
     "output_type": "stream",
     "text": [
      "W1\n",
      "grad:\n",
      "[[-0.00089545  0.00100215]\n",
      " [ 0.00212555  0.00057776]]\n",
      "orig_grad:\n",
      "[[-0.00089545  0.00100215]\n",
      " [ 0.00212555  0.00057776]]\n",
      "\n",
      "b1\n",
      "grad:\n",
      "[0.00049359 0.00071661]\n",
      "orig_grad:\n",
      "[0.00049359 0.00071661]\n",
      "\n",
      "W2\n",
      "grad:\n",
      "[[-0.00178385 -0.00150522]]\n",
      "orig_grad:\n",
      "[[-0.00178385 -0.00150522]]\n",
      "\n",
      "b2\n",
      "grad:\n",
      "[-0.00613367]\n",
      "orig_grad:\n",
      "[-0.00613367]\n",
      "\n"
     ]
    }
   ],
   "source": [
    "# Hint: use float64 for checking the correctness of the gradient\n",
    "net = SmallNet(2, 2, dtype=np.float64, verbose = False)\n",
    "# check_grad(net, \"W1\", X, Y)\n",
    "# check_grad(net, \"b1\", X, Y)\n",
    "# check_grad(net, \"W2\", X, Y)\n",
    "# check_grad(net, \"W1\", X, Y)\n",
    "\n",
    "for param_name in [\"W1\", \"b1\", \"W2\", \"b2\"]:\n",
    "    check_grad(net, param_name, X, Y)"
   ]
  },
  {
   "cell_type": "markdown",
   "metadata": {
    "id": "8mUOs3cVvjM2"
   },
   "source": [
    "## Problem 3"
   ]
  },
  {
   "cell_type": "code",
   "execution_count": 110,
   "metadata": {
    "colab": {
     "base_uri": "https://localhost:8080/"
    },
    "id": "nn2AAoZo0vjU",
    "outputId": "7b6b5a9a-dea5-4357-e8c1-36a34c7c272a"
   },
   "outputs": [],
   "source": [
    "def gradient_descent(net, alpha, X, Y, verbose = True):\n",
    "    for i in range(100000):\n",
    "        net_result, loss = net.forward(X, Y, do_backward=True)\n",
    "        if (i % 5000) == 0 and verbose:\n",
    "            print(f\"after {i} steps \\tloss={loss}\")\n",
    "        for param_name in [\"W1\", \"b1\", \"W2\", \"b2\"]:\n",
    "            param = getattr(net, param_name)\n",
    "            # Hint: use the construct `param[:]` to change the contents of the array!\n",
    "            # Doing instead `param = new_val` simply changes to what the variable\n",
    "            # param points to, without affecting the network!\n",
    "            # alternatively, you could do setattr(net, param_name, new_value)\n",
    "            param[:] = param - alpha * getattr(net, param_name + \"_grad\")\n",
    "#     for param_name in [\"W1\", \"b1\", \"W2\", \"b2\"]:\n",
    "#             param = getattr(net, param_name)\n",
    "#             print(param_name)\n",
    "#             print(param)\n",
    "    return net_result, loss"
   ]
  },
  {
   "cell_type": "code",
   "execution_count": 75,
   "metadata": {},
   "outputs": [
    {
     "name": "stdout",
     "output_type": "stream",
     "text": [
      "after 0 steps \tloss=0.7311260862782408\n",
      "after 5000 steps \tloss=0.07901836896615932\n",
      "after 10000 steps \tloss=0.011660587264658849\n",
      "after 15000 steps \tloss=0.005608744769637606\n",
      "after 20000 steps \tloss=0.003595869084246954\n",
      "after 25000 steps \tloss=0.0026171462286937552\n",
      "after 30000 steps \tloss=0.0020452043556893128\n",
      "after 35000 steps \tloss=0.0016724539841533115\n",
      "after 40000 steps \tloss=0.0014113006454654097\n",
      "after 45000 steps \tloss=0.001218665447349324\n",
      "after 50000 steps \tloss=0.0010709900534389104\n",
      "after 55000 steps \tloss=0.0009543438837639104\n",
      "after 60000 steps \tloss=0.0008599794538226199\n",
      "after 65000 steps \tloss=0.0007821357649848455\n",
      "after 70000 steps \tloss=0.0007168687119171503\n",
      "after 75000 steps \tloss=0.0006613898216226669\n",
      "after 80000 steps \tloss=0.0006136734574282609\n",
      "after 85000 steps \tloss=0.0005722136253503932\n",
      "after 90000 steps \tloss=0.0005358680010864142\n",
      "after 95000 steps \tloss=0.0005037548100640121\n"
     ]
    },
    {
     "data": {
      "text/plain": [
       "(array([[4.69736800e-04],\n",
       "        [9.99518100e-01],\n",
       "        [9.99555224e-01],\n",
       "        [5.03887367e-04]]),\n",
       " 0.00047518822125549253)"
      ]
     },
     "execution_count": 75,
     "metadata": {},
     "output_type": "execute_result"
    }
   ],
   "source": [
    "net = SmallNet(2, 10, dtype=np.float64)\n",
    "gradient_descent(net, 0.1, X, Y)"
   ]
  },
  {
   "cell_type": "code",
   "execution_count": 76,
   "metadata": {
    "colab": {
     "base_uri": "https://localhost:8080/"
    },
    "id": "TwpEjpkU1JvK",
    "outputId": "dc044de9-81c1-4944-d9a2-5dcc72bf9a57"
   },
   "outputs": [
    {
     "name": "stdout",
     "output_type": "stream",
     "text": [
      "XORnet([0. 0.]) = 0.0004697316417476592\n",
      "XORnet([0. 1.]) = 0.9995181052007261\n",
      "XORnet([1. 0.]) = 0.9995552290649995\n",
      "XORnet([1. 1.]) = 0.0005038814752884646\n"
     ]
    }
   ],
   "source": [
    "predictions, loss = net.forward(X, Y, do_backward=True)\n",
    "for x, p in zip(X, predictions):\n",
    "    print(f\"XORnet({x}) = {p[0]}\")"
   ]
  },
  {
   "cell_type": "markdown",
   "metadata": {},
   "source": [
    "### For 3D XOR being equal to 1 iff the arguments differ "
   ]
  },
  {
   "cell_type": "code",
   "execution_count": 111,
   "metadata": {
    "collapsed": true,
    "id": "U0ZMyHqz8xrC"
   },
   "outputs": [
    {
     "name": "stdout",
     "output_type": "stream",
     "text": [
      "X3:\n",
      "[[1. 1. 1.]\n",
      " [1. 1. 0.]\n",
      " [1. 0. 1.]\n",
      " [1. 0. 0.]\n",
      " [0. 1. 1.]\n",
      " [0. 1. 0.]\n",
      " [0. 0. 1.]\n",
      " [0. 0. 0.]]\n",
      "Y3:\n",
      "[[0.]\n",
      " [1.]\n",
      " [1.]\n",
      " [1.]\n",
      " [1.]\n",
      " [1.]\n",
      " [1.]\n",
      " [0.]]\n",
      "\n",
      "Trying hidden_dim = 2\n",
      "\n",
      "LOSS: 0.0028175614205073057\n",
      "RESULT:\n",
      "[0.00691781]       TRUE VALUE: [0.]\n",
      "[0.9977834]       TRUE VALUE: [1.]\n",
      "[0.9977834]       TRUE VALUE: [1.]\n",
      "[0.99905985]       TRUE VALUE: [1.]\n",
      "[0.9977834]       TRUE VALUE: [1.]\n",
      "[0.99906028]       TRUE VALUE: [1.]\n",
      "[0.99905978]       TRUE VALUE: [1.]\n",
      "[0.00610136]       TRUE VALUE: [0.]\n",
      "\n",
      "LOSS: 0.0010882192069081131\n",
      "RESULT:\n",
      "[0.00264066]       TRUE VALUE: [0.]\n",
      "[0.99917343]       TRUE VALUE: [1.]\n",
      "[0.99917343]       TRUE VALUE: [1.]\n",
      "[0.9996112]       TRUE VALUE: [1.]\n",
      "[0.99917343]       TRUE VALUE: [1.]\n",
      "[0.99961134]       TRUE VALUE: [1.]\n",
      "[0.99961118]       TRUE VALUE: [1.]\n",
      "[0.00241145]       TRUE VALUE: [0.]\n",
      "\n",
      "LOSS: 0.0006721668919798345\n",
      "RESULT:\n",
      "[0.00162409]       TRUE VALUE: [0.]\n",
      "[0.9994972]       TRUE VALUE: [1.]\n",
      "[0.9994972]       TRUE VALUE: [1.]\n",
      "[0.99975318]       TRUE VALUE: [1.]\n",
      "[0.9994972]       TRUE VALUE: [1.]\n",
      "[0.99975325]       TRUE VALUE: [1.]\n",
      "[0.99975317]       TRUE VALUE: [1.]\n",
      "[0.00150154]       TRUE VALUE: [0.]\n",
      "\n",
      "LOSS: 0.0004857316132461797\n",
      "RESULT:\n",
      "[0.00117077]       TRUE VALUE: [0.]\n",
      "[0.99964011]       TRUE VALUE: [1.]\n",
      "[0.99964011]       TRUE VALUE: [1.]\n",
      "[0.99981868]       TRUE VALUE: [1.]\n",
      "[0.99964011]       TRUE VALUE: [1.]\n",
      "[0.99981873]       TRUE VALUE: [1.]\n",
      "[0.99981867]       TRUE VALUE: [1.]\n",
      "[0.00108997]       TRUE VALUE: [0.]\n",
      "\n",
      "LOSS: 0.0003800591513103611\n",
      "RESULT:\n",
      "[0.00091456]       TRUE VALUE: [0.]\n",
      "[0.99972032]       TRUE VALUE: [1.]\n",
      "[0.99972032]       TRUE VALUE: [1.]\n",
      "[0.99985649]       TRUE VALUE: [1.]\n",
      "[0.99972032]       TRUE VALUE: [1.]\n",
      "[0.99985652]       TRUE VALUE: [1.]\n",
      "[0.99985648]       TRUE VALUE: [1.]\n",
      "[0.00085542]       TRUE VALUE: [0.]\n",
      "\n",
      "\n",
      "Trying hidden_dim = 3\n",
      "\n",
      "LOSS: 0.0019130824393114043\n",
      "RESULT:\n",
      "[0.0048425]       TRUE VALUE: [0.]\n",
      "[0.99845888]       TRUE VALUE: [1.]\n",
      "[0.99844656]       TRUE VALUE: [1.]\n",
      "[0.99900556]       TRUE VALUE: [1.]\n",
      "[0.99880564]       TRUE VALUE: [1.]\n",
      "[0.99938915]       TRUE VALUE: [1.]\n",
      "[0.9993806]       TRUE VALUE: [1.]\n",
      "[0.00392508]       TRUE VALUE: [0.]\n",
      "\n",
      "LOSS: 0.0008909655479018347\n",
      "RESULT:\n",
      "[0.00224366]       TRUE VALUE: [0.]\n",
      "[0.99930554]       TRUE VALUE: [1.]\n",
      "[0.99929639]       TRUE VALUE: [1.]\n",
      "[0.99943844]       TRUE VALUE: [1.]\n",
      "[0.99950413]       TRUE VALUE: [1.]\n",
      "[0.99972284]       TRUE VALUE: [1.]\n",
      "[0.99971701]       TRUE VALUE: [1.]\n",
      "[0.0018633]       TRUE VALUE: [0.]\n",
      "\n",
      "LOSS: 0.000573143918282522\n",
      "RESULT:\n",
      "[0.00145372]       TRUE VALUE: [0.]\n",
      "[0.99958311]       TRUE VALUE: [1.]\n",
      "[0.99957692]       TRUE VALUE: [1.]\n",
      "[0.99957926]       TRUE VALUE: [1.]\n",
      "[0.99968887]       TRUE VALUE: [1.]\n",
      "[0.99982383]       TRUE VALUE: [1.]\n",
      "[0.99982002]       TRUE VALUE: [1.]\n",
      "[0.00120133]       TRUE VALUE: [0.]\n",
      "\n",
      "LOSS: 0.0004137810492653577\n",
      "RESULT:\n",
      "[0.00105464]       TRUE VALUE: [0.]\n",
      "[0.99972501]       TRUE VALUE: [1.]\n",
      "[0.99972173]       TRUE VALUE: [1.]\n",
      "[0.99964906]       TRUE VALUE: [1.]\n",
      "[0.99977306]       TRUE VALUE: [1.]\n",
      "[0.99987278]       TRUE VALUE: [1.]\n",
      "[0.99987035]       TRUE VALUE: [1.]\n",
      "[0.00086648]       TRUE VALUE: [0.]\n",
      "\n",
      "LOSS: 0.0003196861848197641\n",
      "RESULT:\n",
      "[0.00081647]       TRUE VALUE: [0.]\n",
      "[0.99980291]       TRUE VALUE: [1.]\n",
      "[0.99980142]       TRUE VALUE: [1.]\n",
      "[0.99969924]       TRUE VALUE: [1.]\n",
      "[0.99982338]       TRUE VALUE: [1.]\n",
      "[0.99990116]       TRUE VALUE: [1.]\n",
      "[0.99989952]       TRUE VALUE: [1.]\n",
      "[0.00066798]       TRUE VALUE: [0.]\n",
      "\n",
      "\n"
     ]
    }
   ],
   "source": [
    "# TODO:\n",
    "# Generate data for a 3D XOR task\n",
    "# Then estimate the success rate of training the network with diferent\n",
    "# hidden sizes.\n",
    "values = [1, 0]\n",
    "X3 = np.zeros(shape = (8, 3), dtype = np.float64)\n",
    "Y3 = np.zeros(shape = (8, 1), dtype = np.float64)\n",
    "for index, single_input in enumerate(itertools.product(values, repeat = 3)):\n",
    "    X3[index, :] = single_input\n",
    "    Y3[index, 0] = not(np.all(single_input)) and np.any(single_input)\n",
    "print(f\"X3:\\n{X3}\")\n",
    "print(f\"Y3:\\n{Y3}\\n\")\n",
    "for hidden_dim in [2, 3]:\n",
    "    # TODO: run a few trainings and record the fraction of successful ones\n",
    "    net = SmallNet(3, hidden_dim, dtype=np.float64)\n",
    "    print(f\"Trying hidden_dim = {hidden_dim}\")\n",
    "    for i in range(5):\n",
    "        res, loss = gradient_descent(net, alpha = 0.1, X = X3, Y = Y3, verbose = False)\n",
    "        print(\"\\nLOSS:\", loss)\n",
    "        print(\"RESULT:\")\n",
    "        for single_output, single_true_value in zip(res, Y3):\n",
    "            print(f\"{single_output}       TRUE VALUE: {single_true_value}\")\n",
    "    print(\"\\n\")"
   ]
  },
  {
   "cell_type": "markdown",
   "metadata": {},
   "source": [
    "### For 3D XOR being (x1 xor x2 xor x3)"
   ]
  },
  {
   "cell_type": "code",
   "execution_count": 147,
   "metadata": {
    "scrolled": true
   },
   "outputs": [
    {
     "name": "stdout",
     "output_type": "stream",
     "text": [
      "X3:\n",
      "[[1. 1. 1.]\n",
      " [1. 1. 0.]\n",
      " [1. 0. 1.]\n",
      " [1. 0. 0.]\n",
      " [0. 1. 1.]\n",
      " [0. 1. 0.]\n",
      " [0. 0. 1.]\n",
      " [0. 0. 0.]]\n",
      "Y3:\n",
      "[[1.]\n",
      " [0.]\n",
      " [0.]\n",
      " [1.]\n",
      " [0.]\n",
      " [1.]\n",
      " [1.]\n",
      " [0.]]\n",
      "\n",
      "Trying hidden_dim = 2\n",
      "\n",
      "LOSS: 0.2855492481217466\n",
      "RESULT:\n",
      "netXOR([1. 1. 1.]) = [0.74780015]  TRUE VALUE: [1.]\n",
      "netXOR([1. 1. 0.]) = [0.00590363]  TRUE VALUE: [0.]\n",
      "netXOR([1. 0. 1.]) = [0.74992734]  TRUE VALUE: [0.]\n",
      "netXOR([1. 0. 0.]) = [0.74778935]  TRUE VALUE: [1.]\n",
      "netXOR([0. 1. 1.]) = [0.00590243]  TRUE VALUE: [0.]\n",
      "netXOR([0. 1. 0.]) = [0.99191556]  TRUE VALUE: [1.]\n",
      "netXOR([0. 0. 1.]) = [0.74778969]  TRUE VALUE: [1.]\n",
      "netXOR([0. 0. 0.]) = [0.00652353]  TRUE VALUE: [0.]\n",
      "\n",
      "LOSS: 0.012422047821864566\n",
      "RESULT:\n",
      "netXOR([1. 1. 1.]) = [0.99132446]  TRUE VALUE: [1.]\n",
      "netXOR([1. 1. 0.]) = [0.02121406]  TRUE VALUE: [0.]\n",
      "netXOR([1. 0. 1.]) = [0.00908789]  TRUE VALUE: [0.]\n",
      "netXOR([1. 0. 0.]) = [0.99130417]  TRUE VALUE: [1.]\n",
      "netXOR([0. 1. 1.]) = [0.00908789]  TRUE VALUE: [0.]\n",
      "netXOR([0. 1. 0.]) = [0.99130418]  TRUE VALUE: [1.]\n",
      "netXOR([0. 0. 1.]) = [0.97593254]  TRUE VALUE: [1.]\n",
      "netXOR([0. 0. 0.]) = [0.00909071]  TRUE VALUE: [0.]\n",
      "\n",
      "LOSS: 0.3476424907419113\n",
      "RESULT:\n",
      "netXOR([1. 1. 1.]) = [0.99897624]  TRUE VALUE: [1.]\n",
      "netXOR([1. 1. 0.]) = [0.00100902]  TRUE VALUE: [0.]\n",
      "netXOR([1. 0. 1.]) = [0.50075258]  TRUE VALUE: [0.]\n",
      "netXOR([1. 0. 0.]) = [0.49963811]  TRUE VALUE: [1.]\n",
      "netXOR([0. 1. 1.]) = [0.5007908]  TRUE VALUE: [0.]\n",
      "netXOR([0. 1. 0.]) = [0.4996667]  TRUE VALUE: [1.]\n",
      "netXOR([0. 0. 1.]) = [0.99902987]  TRUE VALUE: [1.]\n",
      "netXOR([0. 0. 0.]) = [0.00106622]  TRUE VALUE: [0.]\n",
      "\n",
      "LOSS: 0.693133816180972\n",
      "RESULT:\n",
      "netXOR([1. 1. 1.]) = [0.50154735]  TRUE VALUE: [1.]\n",
      "netXOR([1. 1. 0.]) = [0.5008071]  TRUE VALUE: [0.]\n",
      "netXOR([1. 0. 1.]) = [0.50206021]  TRUE VALUE: [0.]\n",
      "netXOR([1. 0. 0.]) = [0.50131669]  TRUE VALUE: [1.]\n",
      "netXOR([0. 1. 1.]) = [0.49863979]  TRUE VALUE: [0.]\n",
      "netXOR([0. 1. 0.]) = [0.49803713]  TRUE VALUE: [1.]\n",
      "netXOR([0. 0. 1.]) = [0.49911565]  TRUE VALUE: [1.]\n",
      "netXOR([0. 0. 0.]) = [0.4984383]  TRUE VALUE: [0.]\n",
      "\n",
      "LOSS: 0.34748213718444887\n",
      "RESULT:\n",
      "netXOR([1. 1. 1.]) = [0.99926605]  TRUE VALUE: [1.]\n",
      "netXOR([1. 1. 0.]) = [0.50058353]  TRUE VALUE: [0.]\n",
      "netXOR([1. 0. 1.]) = [0.00072463]  TRUE VALUE: [0.]\n",
      "netXOR([1. 0. 0.]) = [0.49948313]  TRUE VALUE: [1.]\n",
      "netXOR([0. 1. 1.]) = [0.50046967]  TRUE VALUE: [0.]\n",
      "netXOR([0. 1. 0.]) = [0.99930622]  TRUE VALUE: [1.]\n",
      "netXOR([0. 0. 1.]) = [0.49939807]  TRUE VALUE: [1.]\n",
      "netXOR([0. 0. 0.]) = [0.00076859]  TRUE VALUE: [0.]\n",
      "\n",
      "LOSS: 0.2822363614062026\n",
      "RESULT:\n",
      "netXOR([1. 1. 1.]) = [0.74942807]  TRUE VALUE: [1.]\n",
      "netXOR([1. 1. 0.]) = [0.00167785]  TRUE VALUE: [0.]\n",
      "netXOR([1. 0. 1.]) = [0.74977326]  TRUE VALUE: [0.]\n",
      "netXOR([1. 0. 0.]) = [0.74945856]  TRUE VALUE: [1.]\n",
      "netXOR([0. 1. 1.]) = [0.00167777]  TRUE VALUE: [0.]\n",
      "netXOR([0. 1. 0.]) = [0.99786755]  TRUE VALUE: [1.]\n",
      "netXOR([0. 0. 1.]) = [0.74945854]  TRUE VALUE: [1.]\n",
      "netXOR([0. 0. 0.]) = [0.00175492]  TRUE VALUE: [0.]\n",
      "\n",
      "LOSS: 0.34757509066274245\n",
      "RESULT:\n",
      "netXOR([1. 1. 1.]) = [0.99916789]  TRUE VALUE: [1.]\n",
      "netXOR([1. 1. 0.]) = [0.50057748]  TRUE VALUE: [0.]\n",
      "netXOR([1. 0. 1.]) = [0.00082052]  TRUE VALUE: [0.]\n",
      "netXOR([1. 0. 0.]) = [0.4994007]  TRUE VALUE: [1.]\n",
      "netXOR([0. 1. 1.]) = [0.50056379]  TRUE VALUE: [0.]\n",
      "netXOR([0. 1. 0.]) = [0.99921182]  TRUE VALUE: [1.]\n",
      "netXOR([0. 0. 1.]) = [0.4993906]  TRUE VALUE: [1.]\n",
      "netXOR([0. 0. 0.]) = [0.0008671]  TRUE VALUE: [0.]\n",
      "\n",
      "LOSS: 0.015196629886790828\n",
      "RESULT:\n",
      "netXOR([1. 1. 1.]) = [0.98940532]  TRUE VALUE: [1.]\n",
      "netXOR([1. 1. 0.]) = [0.01110323]  TRUE VALUE: [0.]\n",
      "netXOR([1. 0. 1.]) = [0.01110323]  TRUE VALUE: [0.]\n",
      "netXOR([1. 0. 0.]) = [0.97060876]  TRUE VALUE: [1.]\n",
      "netXOR([0. 1. 1.]) = [0.02589397]  TRUE VALUE: [0.]\n",
      "netXOR([0. 1. 0.]) = [0.98937887]  TRUE VALUE: [1.]\n",
      "netXOR([0. 0. 1.]) = [0.98937887]  TRUE VALUE: [1.]\n",
      "netXOR([0. 0. 0.]) = [0.01110622]  TRUE VALUE: [0.]\n",
      "\n",
      "LOSS: 0.01868637808286714\n",
      "RESULT:\n",
      "netXOR([1. 1. 1.]) = [0.98700193]  TRUE VALUE: [1.]\n",
      "netXOR([1. 1. 0.]) = [0.03175427]  TRUE VALUE: [0.]\n",
      "netXOR([1. 0. 1.]) = [0.013629]  TRUE VALUE: [0.]\n",
      "netXOR([1. 0. 0.]) = [0.98696751]  TRUE VALUE: [1.]\n",
      "netXOR([0. 1. 1.]) = [0.013629]  TRUE VALUE: [0.]\n",
      "netXOR([0. 1. 0.]) = [0.98696751]  TRUE VALUE: [1.]\n",
      "netXOR([0. 0. 1.]) = [0.96393557]  TRUE VALUE: [1.]\n",
      "netXOR([0. 0. 0.]) = [0.01363201]  TRUE VALUE: [0.]\n",
      "\n",
      "LOSS: 0.34770147013352304\n",
      "RESULT:\n",
      "netXOR([1. 1. 1.]) = [0.99891781]  TRUE VALUE: [1.]\n",
      "netXOR([1. 1. 0.]) = [0.50034662]  TRUE VALUE: [0.]\n",
      "netXOR([1. 0. 1.]) = [0.00106487]  TRUE VALUE: [0.]\n",
      "netXOR([1. 0. 0.]) = [0.49916114]  TRUE VALUE: [1.]\n",
      "netXOR([0. 1. 1.]) = [0.50030139]  TRUE VALUE: [0.]\n",
      "netXOR([0. 1. 0.]) = [0.99897531]  TRUE VALUE: [1.]\n",
      "netXOR([0. 0. 1.]) = [0.49912722]  TRUE VALUE: [1.]\n",
      "netXOR([0. 0. 0.]) = [0.0011263]  TRUE VALUE: [0.]\n",
      "\n",
      "\n",
      "Trying hidden_dim = 3\n",
      "\n",
      "LOSS: 0.0015527204693009792\n",
      "RESULT:\n",
      "netXOR([1. 1. 1.]) = [0.99990829]  TRUE VALUE: [1.]\n",
      "netXOR([1. 1. 0.]) = [0.00172308]  TRUE VALUE: [0.]\n",
      "netXOR([1. 0. 1.]) = [0.0021519]  TRUE VALUE: [0.]\n",
      "netXOR([1. 0. 0.]) = [0.9979687]  TRUE VALUE: [1.]\n",
      "netXOR([0. 1. 1.]) = [0.00175185]  TRUE VALUE: [0.]\n",
      "netXOR([0. 1. 0.]) = [0.99747626]  TRUE VALUE: [1.]\n",
      "netXOR([0. 0. 1.]) = [0.99798564]  TRUE VALUE: [1.]\n",
      "netXOR([0. 0. 0.]) = [0.00012118]  TRUE VALUE: [0.]\n",
      "\n",
      "LOSS: 0.0016387938986047574\n",
      "RESULT:\n",
      "netXOR([1. 1. 1.]) = [0.99958374]  TRUE VALUE: [1.]\n",
      "netXOR([1. 1. 0.]) = [0.00165795]  TRUE VALUE: [0.]\n",
      "netXOR([1. 0. 1.]) = [0.00273029]  TRUE VALUE: [0.]\n",
      "netXOR([1. 0. 0.]) = [0.99813339]  TRUE VALUE: [1.]\n",
      "netXOR([0. 1. 1.]) = [0.00222147]  TRUE VALUE: [0.]\n",
      "netXOR([0. 1. 0.]) = [0.99770805]  TRUE VALUE: [1.]\n",
      "netXOR([0. 0. 1.]) = [0.99853052]  TRUE VALUE: [1.]\n",
      "netXOR([0. 0. 0.]) = [0.00044312]  TRUE VALUE: [0.]\n",
      "\n",
      "LOSS: 0.0017121554573389874\n",
      "RESULT:\n",
      "netXOR([1. 1. 1.]) = [0.99986898]  TRUE VALUE: [1.]\n",
      "netXOR([1. 1. 0.]) = [0.00192143]  TRUE VALUE: [0.]\n",
      "netXOR([1. 0. 1.]) = [0.00228859]  TRUE VALUE: [0.]\n",
      "netXOR([1. 0. 0.]) = [0.99774447]  TRUE VALUE: [1.]\n",
      "netXOR([0. 1. 1.]) = [0.00196178]  TRUE VALUE: [0.]\n",
      "netXOR([0. 1. 0.]) = [0.99728058]  TRUE VALUE: [1.]\n",
      "netXOR([0. 0. 1.]) = [0.99777067]  TRUE VALUE: [1.]\n",
      "netXOR([0. 0. 0.]) = [0.00017498]  TRUE VALUE: [0.]\n",
      "\n",
      "LOSS: 0.0014394736342886274\n",
      "RESULT:\n",
      "netXOR([1. 1. 1.]) = [0.99831747]  TRUE VALUE: [1.]\n",
      "netXOR([1. 1. 0.]) = [0.00195458]  TRUE VALUE: [0.]\n",
      "netXOR([1. 0. 1.]) = [0.001576]  TRUE VALUE: [0.]\n",
      "netXOR([1. 0. 0.]) = [0.99986571]  TRUE VALUE: [1.]\n",
      "netXOR([0. 1. 1.]) = [0.00014822]  TRUE VALUE: [0.]\n",
      "netXOR([0. 1. 0.]) = [0.99805407]  TRUE VALUE: [1.]\n",
      "netXOR([0. 0. 1.]) = [0.9975899]  TRUE VALUE: [1.]\n",
      "netXOR([0. 0. 0.]) = [0.00165337]  TRUE VALUE: [0.]\n",
      "\n",
      "LOSS: 0.0014602137459536367\n",
      "RESULT:\n",
      "netXOR([1. 1. 1.]) = [0.99990087]  TRUE VALUE: [1.]\n",
      "netXOR([1. 1. 0.]) = [0.00157099]  TRUE VALUE: [0.]\n",
      "netXOR([1. 0. 1.]) = [0.00162857]  TRUE VALUE: [0.]\n",
      "netXOR([1. 0. 0.]) = [0.99759231]  TRUE VALUE: [1.]\n",
      "netXOR([0. 1. 1.]) = [0.00206686]  TRUE VALUE: [0.]\n",
      "netXOR([0. 1. 0.]) = [0.99809936]  TRUE VALUE: [1.]\n",
      "netXOR([0. 0. 1.]) = [0.99813755]  TRUE VALUE: [1.]\n",
      "netXOR([0. 0. 0.]) = [0.0001342]  TRUE VALUE: [0.]\n",
      "\n",
      "LOSS: 0.0013985858191981546\n",
      "RESULT:\n",
      "netXOR([1. 1. 1.]) = [0.99988163]  TRUE VALUE: [1.]\n",
      "netXOR([1. 1. 0.]) = [0.00176445]  TRUE VALUE: [0.]\n",
      "netXOR([1. 0. 1.]) = [0.00231386]  TRUE VALUE: [0.]\n",
      "netXOR([1. 0. 0.]) = [0.99843713]  TRUE VALUE: [1.]\n",
      "netXOR([0. 1. 1.]) = [0.00183162]  TRUE VALUE: [0.]\n",
      "netXOR([0. 1. 0.]) = [0.99804554]  TRUE VALUE: [1.]\n",
      "netXOR([0. 0. 1.]) = [0.99846025]  TRUE VALUE: [1.]\n",
      "netXOR([0. 0. 0.]) = [9.30636959e-05]  TRUE VALUE: [0.]\n",
      "\n",
      "LOSS: 0.0017066989700720461\n",
      "RESULT:\n",
      "netXOR([1. 1. 1.]) = [0.99765551]  TRUE VALUE: [1.]\n",
      "netXOR([1. 1. 0.]) = [0.00145298]  TRUE VALUE: [0.]\n",
      "netXOR([1. 0. 1.]) = [0.00145301]  TRUE VALUE: [0.]\n",
      "netXOR([1. 0. 0.]) = [0.99865406]  TRUE VALUE: [1.]\n",
      "netXOR([0. 1. 1.]) = [0.001453]  TRUE VALUE: [0.]\n",
      "netXOR([0. 1. 0.]) = [0.99865412]  TRUE VALUE: [1.]\n",
      "netXOR([0. 0. 1.]) = [0.99865392]  TRUE VALUE: [1.]\n",
      "netXOR([0. 0. 0.]) = [0.00289935]  TRUE VALUE: [0.]\n",
      "\n",
      "LOSS: 0.001443002709317124\n",
      "RESULT:\n",
      "netXOR([1. 1. 1.]) = [0.99990834]  TRUE VALUE: [1.]\n",
      "netXOR([1. 1. 0.]) = [0.00204065]  TRUE VALUE: [0.]\n",
      "netXOR([1. 0. 1.]) = [0.00156985]  TRUE VALUE: [0.]\n",
      "netXOR([1. 0. 0.]) = [0.99812479]  TRUE VALUE: [1.]\n",
      "netXOR([0. 1. 1.]) = [0.00160462]  TRUE VALUE: [0.]\n",
      "netXOR([0. 1. 0.]) = [0.99814682]  TRUE VALUE: [1.]\n",
      "netXOR([0. 0. 1.]) = [0.99762512]  TRUE VALUE: [1.]\n",
      "netXOR([0. 0. 0.]) = [0.00012305]  TRUE VALUE: [0.]\n"
     ]
    },
    {
     "name": "stdout",
     "output_type": "stream",
     "text": [
      "\n",
      "LOSS: 0.0015205435752369896\n",
      "RESULT:\n",
      "netXOR([1. 1. 1.]) = [0.99873585]  TRUE VALUE: [1.]\n",
      "netXOR([1. 1. 0.]) = [0.00285852]  TRUE VALUE: [0.]\n",
      "netXOR([1. 0. 1.]) = [0.00113028]  TRUE VALUE: [0.]\n",
      "netXOR([1. 0. 0.]) = [0.99830451]  TRUE VALUE: [1.]\n",
      "netXOR([0. 1. 1.]) = [0.00113191]  TRUE VALUE: [0.]\n",
      "netXOR([0. 1. 0.]) = [0.99830413]  TRUE VALUE: [1.]\n",
      "netXOR([0. 0. 1.]) = [0.99899285]  TRUE VALUE: [1.]\n",
      "netXOR([0. 0. 0.]) = [0.00137048]  TRUE VALUE: [0.]\n",
      "\n",
      "LOSS: 0.0014176122654124496\n",
      "RESULT:\n",
      "netXOR([1. 1. 1.]) = [0.99991788]  TRUE VALUE: [1.]\n",
      "netXOR([1. 1. 0.]) = [0.00159966]  TRUE VALUE: [0.]\n",
      "netXOR([1. 0. 1.]) = [0.00195149]  TRUE VALUE: [0.]\n",
      "netXOR([1. 0. 0.]) = [0.99815097]  TRUE VALUE: [1.]\n",
      "netXOR([0. 1. 1.]) = [0.00158975]  TRUE VALUE: [0.]\n",
      "netXOR([0. 1. 0.]) = [0.99770468]  TRUE VALUE: [1.]\n",
      "netXOR([0. 0. 1.]) = [0.99814531]  TRUE VALUE: [1.]\n",
      "netXOR([0. 0. 0.]) = [0.00010829]  TRUE VALUE: [0.]\n",
      "\n",
      "\n",
      "Trying hidden_dim = 10\n",
      "\n",
      "LOSS: 0.0005360968057007763\n",
      "RESULT:\n",
      "netXOR([1. 1. 1.]) = [0.99974764]  TRUE VALUE: [1.]\n",
      "netXOR([1. 1. 0.]) = [0.00071612]  TRUE VALUE: [0.]\n",
      "netXOR([1. 0. 1.]) = [0.00057936]  TRUE VALUE: [0.]\n",
      "netXOR([1. 0. 0.]) = [0.99941304]  TRUE VALUE: [1.]\n",
      "netXOR([0. 1. 1.]) = [0.00050839]  TRUE VALUE: [0.]\n",
      "netXOR([0. 1. 0.]) = [0.99935001]  TRUE VALUE: [1.]\n",
      "netXOR([0. 0. 1.]) = [0.99941391]  TRUE VALUE: [1.]\n",
      "netXOR([0. 0. 0.]) = [0.00040828]  TRUE VALUE: [0.]\n",
      "\n",
      "LOSS: 0.0005681729172096601\n",
      "RESULT:\n",
      "netXOR([1. 1. 1.]) = [0.99963477]  TRUE VALUE: [1.]\n",
      "netXOR([1. 1. 0.]) = [0.000592]  TRUE VALUE: [0.]\n",
      "netXOR([1. 0. 1.]) = [0.0004351]  TRUE VALUE: [0.]\n",
      "netXOR([1. 0. 0.]) = [0.9993887]  TRUE VALUE: [1.]\n",
      "netXOR([0. 1. 1.]) = [0.00073374]  TRUE VALUE: [0.]\n",
      "netXOR([0. 1. 0.]) = [0.99938005]  TRUE VALUE: [1.]\n",
      "netXOR([0. 0. 1.]) = [0.99934623]  TRUE VALUE: [1.]\n",
      "netXOR([0. 0. 0.]) = [0.00053295]  TRUE VALUE: [0.]\n",
      "\n",
      "LOSS: 0.0006380685557363952\n",
      "RESULT:\n",
      "netXOR([1. 1. 1.]) = [0.9996766]  TRUE VALUE: [1.]\n",
      "netXOR([1. 1. 0.]) = [0.00065308]  TRUE VALUE: [0.]\n",
      "netXOR([1. 0. 1.]) = [0.00045151]  TRUE VALUE: [0.]\n",
      "netXOR([1. 0. 0.]) = [0.99915754]  TRUE VALUE: [1.]\n",
      "netXOR([0. 1. 1.]) = [0.00074369]  TRUE VALUE: [0.]\n",
      "netXOR([0. 1. 0.]) = [0.99929547]  TRUE VALUE: [1.]\n",
      "netXOR([0. 0. 1.]) = [0.99932116]  TRUE VALUE: [1.]\n",
      "netXOR([0. 0. 0.]) = [0.00070529]  TRUE VALUE: [0.]\n",
      "\n",
      "LOSS: 0.0006981392070537603\n",
      "RESULT:\n",
      "netXOR([1. 1. 1.]) = [0.99840029]  TRUE VALUE: [1.]\n",
      "netXOR([1. 1. 0.]) = [0.00101701]  TRUE VALUE: [0.]\n",
      "netXOR([1. 0. 1.]) = [0.00085186]  TRUE VALUE: [0.]\n",
      "netXOR([1. 0. 0.]) = [0.9995704]  TRUE VALUE: [1.]\n",
      "netXOR([0. 1. 1.]) = [0.00099144]  TRUE VALUE: [0.]\n",
      "netXOR([0. 1. 0.]) = [0.9997816]  TRUE VALUE: [1.]\n",
      "netXOR([0. 0. 1.]) = [0.99961858]  TRUE VALUE: [1.]\n",
      "netXOR([0. 0. 0.]) = [9.28298704e-05]  TRUE VALUE: [0.]\n",
      "\n",
      "LOSS: 0.0005860853593019338\n",
      "RESULT:\n",
      "netXOR([1. 1. 1.]) = [0.99976052]  TRUE VALUE: [1.]\n",
      "netXOR([1. 1. 0.]) = [0.00062676]  TRUE VALUE: [0.]\n",
      "netXOR([1. 0. 1.]) = [0.00056815]  TRUE VALUE: [0.]\n",
      "netXOR([1. 0. 0.]) = [0.99936095]  TRUE VALUE: [1.]\n",
      "netXOR([0. 1. 1.]) = [0.00065787]  TRUE VALUE: [0.]\n",
      "netXOR([0. 1. 0.]) = [0.99929224]  TRUE VALUE: [1.]\n",
      "netXOR([0. 0. 1.]) = [0.99924111]  TRUE VALUE: [1.]\n",
      "netXOR([0. 0. 0.]) = [0.00048926]  TRUE VALUE: [0.]\n",
      "\n",
      "LOSS: 0.0004651307359771541\n",
      "RESULT:\n",
      "netXOR([1. 1. 1.]) = [0.99972686]  TRUE VALUE: [1.]\n",
      "netXOR([1. 1. 0.]) = [0.00044667]  TRUE VALUE: [0.]\n",
      "netXOR([1. 0. 1.]) = [0.00036869]  TRUE VALUE: [0.]\n",
      "netXOR([1. 0. 0.]) = [0.99951649]  TRUE VALUE: [1.]\n",
      "netXOR([0. 1. 1.]) = [0.00065906]  TRUE VALUE: [0.]\n",
      "netXOR([0. 1. 0.]) = [0.9995327]  TRUE VALUE: [1.]\n",
      "netXOR([0. 0. 1.]) = [0.99946696]  TRUE VALUE: [1.]\n",
      "netXOR([0. 0. 0.]) = [0.00048873]  TRUE VALUE: [0.]\n",
      "\n",
      "LOSS: 0.0005622950557775119\n",
      "RESULT:\n",
      "netXOR([1. 1. 1.]) = [0.99970424]  TRUE VALUE: [1.]\n",
      "netXOR([1. 1. 0.]) = [0.00055693]  TRUE VALUE: [0.]\n",
      "netXOR([1. 0. 1.]) = [0.00063433]  TRUE VALUE: [0.]\n",
      "netXOR([1. 0. 0.]) = [0.99932135]  TRUE VALUE: [1.]\n",
      "netXOR([0. 1. 1.]) = [0.00055454]  TRUE VALUE: [0.]\n",
      "netXOR([0. 1. 0.]) = [0.99933155]  TRUE VALUE: [1.]\n",
      "netXOR([0. 0. 1.]) = [0.99936853]  TRUE VALUE: [1.]\n",
      "netXOR([0. 0. 0.]) = [0.00047691]  TRUE VALUE: [0.]\n",
      "\n",
      "LOSS: 0.0005705447062319942\n",
      "RESULT:\n",
      "netXOR([1. 1. 1.]) = [0.99974899]  TRUE VALUE: [1.]\n",
      "netXOR([1. 1. 0.]) = [0.00077044]  TRUE VALUE: [0.]\n",
      "netXOR([1. 0. 1.]) = [0.0005798]  TRUE VALUE: [0.]\n",
      "netXOR([1. 0. 0.]) = [0.99928731]  TRUE VALUE: [1.]\n",
      "netXOR([0. 1. 1.]) = [0.00046646]  TRUE VALUE: [0.]\n",
      "netXOR([0. 1. 0.]) = [0.99922097]  TRUE VALUE: [1.]\n",
      "netXOR([0. 0. 1.]) = [0.99943129]  TRUE VALUE: [1.]\n",
      "netXOR([0. 0. 0.]) = [0.0004348]  TRUE VALUE: [0.]\n",
      "\n",
      "LOSS: 0.0005079453016372756\n",
      "RESULT:\n",
      "netXOR([1. 1. 1.]) = [0.9997282]  TRUE VALUE: [1.]\n",
      "netXOR([1. 1. 0.]) = [0.00044306]  TRUE VALUE: [0.]\n",
      "netXOR([1. 0. 1.]) = [0.00059529]  TRUE VALUE: [0.]\n",
      "netXOR([1. 0. 0.]) = [0.9994403]  TRUE VALUE: [1.]\n",
      "netXOR([0. 1. 1.]) = [0.00049675]  TRUE VALUE: [0.]\n",
      "netXOR([0. 1. 0.]) = [0.99932078]  TRUE VALUE: [1.]\n",
      "netXOR([0. 0. 1.]) = [0.99945199]  TRUE VALUE: [1.]\n",
      "netXOR([0. 0. 0.]) = [0.00046865]  TRUE VALUE: [0.]\n",
      "\n",
      "LOSS: 0.0005544744002547882\n",
      "RESULT:\n",
      "netXOR([1. 1. 1.]) = [0.99970757]  TRUE VALUE: [1.]\n",
      "netXOR([1. 1. 0.]) = [0.00053784]  TRUE VALUE: [0.]\n",
      "netXOR([1. 0. 1.]) = [0.00075471]  TRUE VALUE: [0.]\n",
      "netXOR([1. 0. 0.]) = [0.99933553]  TRUE VALUE: [1.]\n",
      "netXOR([0. 1. 1.]) = [0.00045719]  TRUE VALUE: [0.]\n",
      "netXOR([0. 1. 0.]) = [0.9994352]  TRUE VALUE: [1.]\n",
      "netXOR([0. 0. 1.]) = [0.99930955]  TRUE VALUE: [1.]\n",
      "netXOR([0. 0. 0.]) = [0.00047258]  TRUE VALUE: [0.]\n",
      "\n",
      "\n"
     ]
    }
   ],
   "source": [
    "values = [1, 0]\n",
    "X3 = np.zeros(shape = (8, 3), dtype = np.float64)\n",
    "Y3 = np.zeros(shape = (8, 1), dtype = np.float64)\n",
    "for index, single_input in enumerate(itertools.product(values, repeat = 3)):\n",
    "    X3[index, :] = single_input\n",
    "    Y3[index, 0] = single_input[0] ^ single_input[1] ^ single_input[2]\n",
    "print(f\"X3:\\n{X3}\")\n",
    "print(f\"Y3:\\n{Y3}\\n\")\n",
    "\n",
    "dims = [2, 3, 10]\n",
    "for hidden_dim in dims:\n",
    "    # TODO: run a few trainings and record the fraction of successful ones\n",
    "    print(f\"Trying hidden_dim = {hidden_dim}\")\n",
    "    for i in range(10):\n",
    "        net = SmallNet(3, hidden_dim, dtype=np.float64)\n",
    "        res, loss = gradient_descent(net, alpha = 0.1, X = X3, Y = Y3, verbose = False)\n",
    "        print(\"\\nLOSS:\", loss)\n",
    "        print(\"RESULT:\")\n",
    "        for single_input, single_output, single_true_value in zip(X3, res, Y3):\n",
    "            print(f\"netXOR({single_input}) = {single_output}  TRUE VALUE: {single_true_value}\")\n",
    "    print(\"\\n\")"
   ]
  },
  {
   "cell_type": "markdown",
   "metadata": {},
   "source": [
    "    - What is the minimal hidden size required to solve 3D XOR (even with low reliability, when the training has to be repeated multiple times)\n",
    "    - What is the minimal hidden size required to reliably solve 3D XOR\n",
    "\n",
    "Minimal hidden size to solve 3D XOR with low reliability is 2.<br/>\n",
    "To get the net that solves the 3D XOR every time, hidden size should be >= 3. "
   ]
  },
  {
   "cell_type": "markdown",
   "metadata": {},
   "source": [
    "    - Which networks are easier to train - small or large ones? Why?\n",
    "    \n"
   ]
  },
  {
   "cell_type": "markdown",
   "metadata": {
    "id": "UuaLEoV-9DLG"
   },
   "source": [
    "## Problem 4\n"
   ]
  },
  {
   "cell_type": "code",
   "execution_count": null,
   "metadata": {
    "id": "w3lk9_TM-MvK"
   },
   "outputs": [],
   "source": []
  },
  {
   "cell_type": "markdown",
   "metadata": {
    "id": "_Hr_iAKX-ND1"
   },
   "source": [
    "## Problem 5"
   ]
  },
  {
   "cell_type": "code",
   "execution_count": null,
   "metadata": {
    "id": "rnz6CndQ-NRI"
   },
   "outputs": [],
   "source": []
  },
  {
   "cell_type": "markdown",
   "metadata": {
    "id": "4PcNxrCt-NcN"
   },
   "source": [
    "## Problem 6"
   ]
  },
  {
   "cell_type": "code",
   "execution_count": null,
   "metadata": {
    "id": "6Brepirl-Nln"
   },
   "outputs": [],
   "source": []
  },
  {
   "cell_type": "markdown",
   "metadata": {
    "id": "nWuv7Q77-Nut"
   },
   "source": [
    "## Problem 7"
   ]
  },
  {
   "cell_type": "code",
   "execution_count": null,
   "metadata": {
    "id": "avuvSoWY-N4Z"
   },
   "outputs": [],
   "source": []
  }
 ],
 "metadata": {
  "colab": {
   "collapsed_sections": [],
   "include_colab_link": true,
   "name": "Assignment1.ipynb",
   "provenance": []
  },
  "kernelspec": {
   "display_name": "Python 3",
   "language": "python",
   "name": "python3"
  },
  "language_info": {
   "codemirror_mode": {
    "name": "ipython",
    "version": 3
   },
   "file_extension": ".py",
   "mimetype": "text/x-python",
   "name": "python",
   "nbconvert_exporter": "python",
   "pygments_lexer": "ipython3",
   "version": "3.7.2"
  }
 },
 "nbformat": 4,
 "nbformat_minor": 1
}
