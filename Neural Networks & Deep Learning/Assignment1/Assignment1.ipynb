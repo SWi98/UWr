{
 "cells": [
  {
   "cell_type": "markdown",
   "metadata": {
    "colab_type": "text",
    "id": "view-in-github"
   },
   "source": [
    "<a href=\"https://colab.research.google.com/github/janchorowski/dl_uwr/blob/summer2021/Assignments/Assignment1.ipynb\" target=\"_parent\"><img src=\"https://colab.research.google.com/assets/colab-badge.svg\" alt=\"Open In Colab\"/></a>"
   ]
  },
  {
   "cell_type": "markdown",
   "metadata": {
    "id": "CGXgWugfJ0Vl"
   },
   "source": [
    "## Assignment 1\n",
    "\n",
    "**Submission deadlines:** \n",
    "- get at least **2** points by Tuesday, 9.03.2021\n",
    "- remaining points: last lab session before or on Tuesday, 16.03.2021\n",
    "\n",
    "**Points:** Aim to get 8 out of 12 possible points\n",
    "\n",
    "## Submission instructions\n",
    "The class is held remotely. To sumbmit your solutions please show the notebook over the video call. Make sure you know all the questions and asnwers, and that the notebook contains results (before presentation do `Runtime -> Restar and run all`)\n",
    "\n",
    "We provide starter code, however you are not required to use it as long as you properly solve the tasks.\n",
    "\n",
    "As always, please submit corrections using GitHub's Pull Requests to https://github.com/janchorowski/dl_uwr."
   ]
  },
  {
   "cell_type": "markdown",
   "metadata": {
    "id": "5S8iRaCPyO2a"
   },
   "source": [
    "# Task description\n",
    "\n",
    "## TLDR\n",
    "Implement and train a neural network using pure numpy."
   ]
  },
  {
   "cell_type": "markdown",
   "metadata": {
    "id": "JHcz7I2V-bVM"
   },
   "source": [
    "\n",
    "## Problem 1 [2p]\n",
    "Implement a two-layer network, manually set weights and biases to solve the XOR task.\n",
    "\n",
    "A two-layer neural network implementes a function $f: \\mathbb{R}^D \\rightarrow \\mathbb{R}^O$ where $D$ is the input dimensionality and $O$ is the output dinemsionality. The output goes through an intermediate representation (the hidden layer) with dimensionality $H$. \n",
    "\n",
    "The computations are as follows:\n",
    "\\begin{equation}\n",
    "\\begin{split}\n",
    "A_1 &= x W_1^T + b_1  & \\qquad\\text{Total input to neurons in the hidden layer (network's first layer)} \\\\\n",
    "O_1 &= \\sigma_1(A_1)  & \\qquad\\text{Output of the hidden layer} \\\\\n",
    "A_2 &= O_1 W_2^T + b_2 & \\qquad\\text{Total input to neurons in the output layer (network's second layer)}\\\\\n",
    "O_2 &= \\sigma_2(A_2) & \\qquad\\text{Output of the network}\n",
    "\\end{split}\n",
    "\\end{equation}\n",
    "\n",
    "Where $W$ are weight matrices, $b$ are bias vectors, $\\sigma$ are non-linear activation functions (e.g. the logistic sigmoid applied element-wise, or softmax).\n",
    "\n",
    "For the 2D xor problem the network will:\n",
    "- have 2 inputs, 2 hidden neurons, one output\n",
    "- use the logistic sigmoid everywhere (that way we, when hand-designig the weights, we can assume that neurons' outputs are binary).\n",
    "\n",
    "Therrefore the shapes of the data floing through the network will be:\n",
    "- input: $x\\in\\mathbb{}R^{2}$\n",
    "- hidden layer parameters: $W_1\\in\\mathbb{}R^{2\\times 2}$ and $b_1\\in\\mathbb{}R^{2}$\n",
    "- representations in the hidden layer: $A_1\\in\\mathbb{}R^{2}$ and $O_1\\in\\mathbb{}R^{2}$\n",
    "- output layer parameters: $W_2\\in\\mathbb{}R^{1\\times 2}$ and $b_1\\in\\mathbb{}R^{1}$\n",
    "- representations in the output layer: $A_2\\in\\mathbb{}R^{1}$ and $O_2\\in\\mathbb{}R^{1}$\n",
    "\n",
    "The network can be seen as a logistic regression model, prefixed by a nonlinear transformation of the data.\n",
    "\n",
    "The first tasks consists of:\n",
    "- implementing the network\n",
    "- selecting parametwrs ($W_1, b_1, W_2, b_2$) such that $f(x)\\approx XOR(x_1, x_2)$ where the approximation is die to the sigmoids - the output may be close to 0 or 1, but doesn't need to saturate at 0 or 1.\n",
    "\n",
    "NB: the convention on weight matrix shapes follows linear [layers in PyTorch](https://pytorch.org/docs/stable/generated/torch.nn.Linear.html).\n"
   ]
  },
  {
   "cell_type": "markdown",
   "metadata": {
    "id": "0QSpZxuH-bLe"
   },
   "source": [
    "## Problem 2 [2p]\n",
    "1. Add a backward pass.\n",
    "2. Use a sensible random initialization for weights and biases.\n",
    "3. Numerically check the correctness of your gradient computation.\n"
   ]
  },
  {
   "cell_type": "markdown",
   "metadata": {
    "id": "s1Tn8j0m-bAy"
   },
   "source": [
    "## Problem 3 [2p]\n",
    "1. Implement gradient descent\n",
    "2. Train your network to solve 3D XOR\n",
    "3. Try several hidden layer sizes, for each size record the fracton of successful trainings. Then answer:\n",
    "    - What is the minimal hidden size required to solve 3D XOR (even with low reliability, when the training has to be repeated multiple times)\n",
    "    - What is the minimal hidden size required to reliably solve 3D XOR\n",
    "    - Which networks are easier to train - small or large ones? Why?\n"
   ]
  },
  {
   "cell_type": "markdown",
   "metadata": {
    "id": "RP9Pvpmf-a2A"
   },
   "source": [
    "## Problem 4 [1p]\n",
    "Replace the first nonlinearity with the [ReLU](https://en.wikipedia.org/wiki/Rectifier_(neural_networks)) activation function. Find a network architecture which reliably learns the 3D XOR problem.\n"
   ]
  },
  {
   "cell_type": "markdown",
   "metadata": {
    "id": "cGgtpe-w-asB"
   },
   "source": [
    "## Problem 5 [1p]\n",
    "Add a second hidden layer to your network, implement the forward and backward pass, then demonstrate training.\n"
   ]
  },
  {
   "cell_type": "markdown",
   "metadata": {
    "id": "Pe-pcFeO-aiE"
   },
   "source": [
    "## Problem 6 [2p]\n",
    "Implement a way to have a _variable number_ of hidden layers. Check how deep sigmoid or ReLU networks you  can train. For simplicity you can assume that all hidden layers have the same number of neurons, and use the same activation function.\n"
   ]
  },
  {
   "cell_type": "markdown",
   "metadata": {
    "id": "kIpn17Cm-aW7"
   },
   "source": [
    "## Problem 7 [2p]\n",
    "For each weight matrix $w\\in\\mathbb{R}^{n\\times m}$, add a randomly initialized `backward weight` $w_b\\in\\mathbb{R}^{m\\times n}$, which will not change during training. Change the backward pass to use $w_b$ instead of $w^T$, getting an approxmatoin of the true gradient. Can you get your network to train?\n",
    "\n",
    "NB: this approach, dubbed [feedback alignment](https://www.nature.com/articles/ncomms13276), was proposed to make error backpropagation more biologically plausible, by providing a solution to the \"weight transport problem\". Regular backpropagation requires that neurons not only know their incoming weights (thet they control), but also their outgoing weights (that are controlled by neurons in the upper layers). This is nearly impossible in a real brain."
   ]
  },
  {
   "cell_type": "markdown",
   "metadata": {
    "id": "rXJaoHSH0DZO"
   },
   "source": [
    "# Solutions and starter code"
   ]
  },
  {
   "cell_type": "code",
   "execution_count": 27,
   "metadata": {
    "id": "YiTEWD2oqW0Y"
   },
   "outputs": [],
   "source": [
    "import matplotlib.pyplot as plt\n",
    "import numpy as np\n",
    "import itertools\n",
    "import tqdm"
   ]
  },
  {
   "cell_type": "markdown",
   "metadata": {
    "id": "eqtfJKR40J3x"
   },
   "source": [
    "XOR dataset creation"
   ]
  },
  {
   "cell_type": "code",
   "execution_count": 28,
   "metadata": {
    "colab": {
     "base_uri": "https://localhost:8080/",
     "height": 296
    },
    "id": "lYEbCfbSpv5M",
    "outputId": "48a99aad-e15b-4c7b-f881-bbfbe1941a15"
   },
   "outputs": [
    {
     "data": {
      "text/plain": [
       "(-0.05, 1.05, -0.05, 1.05)"
      ]
     },
     "execution_count": 28,
     "metadata": {},
     "output_type": "execute_result"
    },
    {
     "data": {
      "image/png": "[encoded data removed]",
      "text/plain": [
       "<Figure size 432x288 with 1 Axes>"
      ]
     },
     "metadata": {
      "needs_background": "light"
     },
     "output_type": "display_data"
    }
   ],
   "source": [
    "# Let's define a XOR dataset\n",
    "\n",
    "# X will be matrix of N 2-dimensional inputs\n",
    "X = np.array([[0, 0], [0, 1], [1, 0], [1, 1],], dtype=np.float32)\n",
    "# Y is a matrix of N numners - answers\n",
    "Y = np.array([[0], [1], [1], [0],], dtype=np.float32)\n",
    "\n",
    "plt.scatter(\n",
    "    X[:, 0], X[:, 1], c=Y[:, 0],\n",
    ")\n",
    "plt.xlabel(\"X[0]\")\n",
    "plt.ylabel(\"X[1]\")\n",
    "plt.axis(\"square\")"
   ]
  },
  {
   "cell_type": "markdown",
   "metadata": {
    "id": "Rb3azMn929_I"
   },
   "source": [
    "## Problem 1"
   ]
  },
  {
   "cell_type": "markdown",
   "metadata": {
    "id": "RZCM_hdELE04"
   },
   "source": [
    "The code below contains a mock-up of a two-layer neural network. Fill in the code and manually set weights to solve the XOR problem.\n",
    "\n",
    "Please note: the shapes are set to be compatible with PyTorch's conventions:\n",
    "* a batch containing $N$ $D$-dimensional examples has shape $N\\times D$ (each example is a row!)\n",
    "* a weight matrix in a linear layer with $I$ inputs and $O$ outputs has shape $O \\times I$\n",
    "* a bias vector is a 1D vector. Please note that [broadcasting rules](https://docs.scipy.org/doc/numpy/user/basics.broadcasting.html) allow us to think about it as a $1 \\times D$ matrix."
   ]
  },
  {
   "cell_type": "code",
   "execution_count": 29,
   "metadata": {},
   "outputs": [],
   "source": [
    "def sigmoid(x):\n",
    "    return 1 / (1 + np.exp(-x))\n",
    "\n",
    "def relu(x):\n",
    "    x = x.copy()\n",
    "    x[x <= 0] = 0\n",
    "    return x"
   ]
  },
  {
   "cell_type": "code",
   "execution_count": 30,
   "metadata": {
    "id": "lrrRuk6zLiF0"
   },
   "outputs": [],
   "source": [
    "class SmallNet:\n",
    "    def __init__(self, in_features, num_hidden, dtype=np.float32, verbose = False):\n",
    "        self.W1 = np.zeros((num_hidden, in_features), dtype=dtype)\n",
    "        self.b1 = np.zeros((num_hidden,), dtype=dtype)\n",
    "        self.W2 = np.zeros((1, num_hidden), dtype=dtype)\n",
    "        self.b2 = np.zeros((1,), dtype=dtype)\n",
    "        self.init_params(in_features, num_hidden)\n",
    "        self.verbose = verbose\n",
    "\n",
    "    def init_params(self, in_features, num_hidden):\n",
    "        # TODO for Problem 2:\n",
    "        # set all parameters to small random values, e.g. from N(0, 0.5)\n",
    "        self.W1 = np.random.normal(scale = 0.5, size = (num_hidden, in_features))\n",
    "        self.b1 = np.random.normal(scale = 0.5, size = (num_hidden,))\n",
    "        self.W2 = np.random.normal(scale = 0.5, size = (1, num_hidden))\n",
    "        self.b2 = np.random.normal(scale = 0.5, size = (1,))\n",
    "\n",
    "    def forward(self, X, Y=None, do_backward=False, first_activation_f = sigmoid):\n",
    "        # TODO Problem 1: Fill in details of forward propagation\n",
    "        # Input to neurons in 1st layer\n",
    "        A1 = X @ self.W1.T + self.b1\n",
    "        # Outputs after the sigmoid non-linearity\n",
    "        O1 = first_activation_f(A1)\n",
    "        # Inputs to neuron in the second layer\n",
    "        A2 = O1 @ self.W2.T + self.b2\n",
    "        \n",
    "        # Outputs after the sigmoid non-linearity\n",
    "        O2 = sigmoid(A2)\n",
    "        # When Y is none, simply return the predictions. Else compute the loss\n",
    "        if Y is not None:\n",
    "            loss = -(Y * np.log(O2) + (1 - Y) * np.log(1.0 - O2))\n",
    "            if(self.verbose):\n",
    "                print(\"Y:\", Y)\n",
    "                print(\"O2:\", O2)\n",
    "                print(\"Loss vector:\", loss)\n",
    "                print()\n",
    "            # normalize loss by batch size\n",
    "            loss = loss.sum() / X.shape[0]\n",
    "        else:\n",
    "            loss = np.nan\n",
    "\n",
    "        if do_backward:\n",
    "            if self.verbose:\n",
    "                print(f\"W1: \\n{self.W1}\")\n",
    "                print(f\"b1: \\n{self.b1}\")\n",
    "                print(f\"W2: \\n{self.W2}\")\n",
    "                print(f\"b2: \\n{self.b2}\")\n",
    "                print(f\"A1: \\n{A1}\")\n",
    "                print(f\"A2: \\n{A2}\")\n",
    "                print(f\"O1: \\n{O1}\")\n",
    "                print(f\"O2: \\n{O2}\")\n",
    "                \n",
    "            # TODO in Problem 2:\n",
    "            # fill in the gradient computation\n",
    "            # Please note, that there is a correspondance between\n",
    "            # the forward and backward pass: with backward computations happening\n",
    "            # in reverse order.\n",
    "            # We save the gradients with respect to the parameters as fields of self.\n",
    "            # It is not very elegant, but simplifies training code later on.\n",
    "\n",
    "            # A2_grad is the gradient of loss with respect to A2\n",
    "            # Hint: there is a concise formula for the gradient\n",
    "            # of logistic sigmoid and cross-entropy loss\n",
    "            \n",
    "            A2_grad = O2 - Y\n",
    "            self.b2_grad = A2_grad.sum(0) / A2_grad.shape[0]\n",
    "            self.W2_grad = A2_grad.T @ O1 / A2_grad.shape[0]\n",
    "            O1_grad = A2_grad @ self.W2\n",
    "            if first_activation_f == sigmoid:\n",
    "                A1_grad = O1_grad * sigmoid(A1) * (1 - sigmoid(A1))\n",
    "            elif first_activation_f == relu:\n",
    "                A1_grad = O1_grad * np.where(A1 > 0, 1, 0)\n",
    "            self.b1_grad = A1_grad.sum(0) / A2_grad.shape[0]\n",
    "            self.W1_grad = A1_grad.T @ X / A1_grad.shape[0]\n",
    "\n",
    "        return O2, loss"
   ]
  },
  {
   "cell_type": "code",
   "execution_count": 32,
   "metadata": {
    "colab": {
     "base_uri": "https://localhost:8080/"
    },
    "id": "jJswvBk0oiIY",
    "outputId": "e6559317-7afa-4509-fbac-4880e73b91cc"
   },
   "outputs": [
    {
     "name": "stdout",
     "output_type": "stream",
     "text": [
      "XOR[0. 0.] = [0.02071105]\n",
      "XOR[0. 1.] = [0.97615905]\n",
      "XOR[1. 0.] = [0.97615905]\n",
      "XOR[1. 1.] = [0.02071105]\n",
      "Loss: 0.022529139712188447\n"
     ]
    }
   ],
   "source": [
    "# TODO Problem 1:\n",
    "# Set by hand the weight values to solve the XOR problem\n",
    "\n",
    "net = SmallNet(2, 2, dtype=np.float64, verbose = False)\n",
    "net.W1 = np.array([[8, 8], [-8, -8]])\n",
    "net.b1 = np.array([-4, 12])\n",
    "net.W2 = np.array([[8, 8]])\n",
    "net.b2 = np.array([-12])\n",
    "\n",
    "# Hint: since we use the logistic sigmoid activation, the weights may need to\n",
    "# be fairly large\n",
    "\n",
    "\n",
    "predictions, loss = net.forward(X, Y)\n",
    "for x, p in zip(X, predictions):\n",
    "    print(f\"XOR{x} = {p}\")\n",
    "print(f\"Loss: {loss}\")"
   ]
  },
  {
   "cell_type": "markdown",
   "metadata": {
    "id": "wmxCi5Vl6_xB"
   },
   "source": [
    "## Problem 2"
   ]
  },
  {
   "cell_type": "code",
   "execution_count": 15,
   "metadata": {
    "id": "eSM5hgJ1mrhY"
   },
   "outputs": [],
   "source": [
    "def check_grad(net, param_name, X, Y, eps=1e-5):\n",
    "    \"\"\"A gradient checking routine\"\"\"\n",
    "\n",
    "    param = getattr(net, param_name)\n",
    "    param_flat_accessor = param.reshape(-1)\n",
    "\n",
    "    grad = np.empty_like(param)\n",
    "    grad_flat_accessor = grad.reshape(-1)\n",
    "    \n",
    "    net.forward(X, Y, do_backward=True)\n",
    "    orig_grad = getattr(net, param_name + \"_grad\")\n",
    "    assert param.shape == orig_grad.shape\n",
    "\n",
    "    for i in range(param_flat_accessor.shape[0]):\n",
    "        orig_val = param_flat_accessor[i]\n",
    "        param_flat_accessor[i] = orig_val + eps\n",
    "        _, loss_positive = net.forward(X, Y)\n",
    "        param_flat_accessor[i] = orig_val - eps\n",
    "        _, loss_negative = net.forward(X, Y)\n",
    "        param_flat_accessor[i] = orig_val\n",
    "        grad_flat_accessor[i] = (loss_positive - loss_negative) / (2 * eps)\n",
    "    print(f\"{param_name}\")\n",
    "    print(f\"grad:\\n{grad}\")\n",
    "    print(f\"orig_grad:\\n{orig_grad}\")\n",
    "    print(\"\")\n",
    "    assert np.allclose(grad, orig_grad)\n",
    "    return grad, orig_grad"
   ]
  },
  {
   "cell_type": "code",
   "execution_count": 16,
   "metadata": {
    "id": "TTZu0jFEvgXF",
    "scrolled": false
   },
   "outputs": [
    {
     "name": "stdout",
     "output_type": "stream",
     "text": [
      "W1\n",
      "grad:\n",
      "[[0.00081201 0.00127191]\n",
      " [0.01546466 0.01464961]]\n",
      "orig_grad:\n",
      "[[0.00081201 0.00127191]\n",
      " [0.01546466 0.01464961]]\n",
      "\n",
      "b1\n",
      "grad:\n",
      "[0.00181548 0.02489895]\n",
      "orig_grad:\n",
      "[0.00181548 0.02489895]\n",
      "\n",
      "W2\n",
      "grad:\n",
      "[[-0.05628556 -0.07744697]]\n",
      "orig_grad:\n",
      "[[-0.05628556 -0.07744697]]\n",
      "\n",
      "b2\n",
      "grad:\n",
      "[-0.12046262]\n",
      "orig_grad:\n",
      "[-0.12046262]\n",
      "\n"
     ]
    }
   ],
   "source": [
    "# Hint: use float64 for checking the correctness of the gradient\n",
    "net = SmallNet(2, 2, dtype=np.float64, verbose = False)\n",
    "# check_grad(net, \"W1\", X, Y)\n",
    "# check_grad(net, \"b1\", X, Y)\n",
    "# check_grad(net, \"W2\", X, Y)\n",
    "# check_grad(net, \"W1\", X, Y)\n",
    "\n",
    "for param_name in [\"W1\", \"b1\", \"W2\", \"b2\"]:\n",
    "    check_grad(net, param_name, X, Y)"
   ]
  },
  {
   "cell_type": "markdown",
   "metadata": {
    "id": "8mUOs3cVvjM2"
   },
   "source": [
    "## Problem 3"
   ]
  },
  {
   "cell_type": "code",
   "execution_count": 17,
   "metadata": {
    "colab": {
     "base_uri": "https://localhost:8080/"
    },
    "id": "nn2AAoZo0vjU",
    "outputId": "7b6b5a9a-dea5-4357-e8c1-36a34c7c272a"
   },
   "outputs": [],
   "source": [
    "def gradient_descent(net, alpha, X, Y, verbose = True, first_activation_f = sigmoid):\n",
    "    for i in range(100000):\n",
    "        net_result, loss = net.forward(X, Y, do_backward=True, first_activation_f = first_activation_f)\n",
    "        if (i % 5000) == 0 and verbose:\n",
    "            print(f\"after {i} steps \\tloss={loss}\")\n",
    "        for param_name in [\"W1\", \"b1\", \"W2\", \"b2\"]:\n",
    "            param = getattr(net, param_name)\n",
    "            # Hint: use the construct `param[:]` to change the contents of the array!\n",
    "            # Doing instead `param = new_val` simply changes to what the variable\n",
    "            # param points to, without affecting the network!\n",
    "            # alternatively, you could do setattr(net, param_name, new_value)\n",
    "            param[:] = param - alpha * getattr(net, param_name + \"_grad\")\n",
    "    params = {\"W1\": [], \"W2\": [], \"b1\": [], \"b2\": []}\n",
    "    for param_name in [\"W1\", \"b1\", \"W2\", \"b2\"]:\n",
    "            param = getattr(net, param_name)\n",
    "            params[param_name] = param\n",
    "    \n",
    "    return net_result, loss, params"
   ]
  },
  {
   "cell_type": "code",
   "execution_count": 18,
   "metadata": {},
   "outputs": [
    {
     "name": "stdout",
     "output_type": "stream",
     "text": [
      "after 0 steps \tloss=0.6890006290693758\n",
      "after 5000 steps \tloss=0.030055767392975614\n",
      "after 10000 steps \tloss=0.009259683323291114\n",
      "after 15000 steps \tloss=0.005242382428042287\n",
      "after 20000 steps \tloss=0.00359708480216515\n",
      "after 25000 steps \tloss=0.002714195044802998\n",
      "after 30000 steps \tloss=0.002167641711506374\n",
      "after 35000 steps \tloss=0.0017977820423570041\n",
      "after 40000 steps \tloss=0.0015317513326464907\n",
      "after 45000 steps \tloss=0.0013317043850367707\n",
      "after 50000 steps \tloss=0.0011760944834265045\n",
      "after 55000 steps \tloss=0.0010517800625109335\n",
      "after 60000 steps \tloss=0.0009503043538096516\n",
      "after 65000 steps \tloss=0.0008659861275497082\n",
      "after 70000 steps \tloss=0.0007948716441069324\n",
      "after 75000 steps \tloss=0.0007341270067274652\n",
      "after 80000 steps \tloss=0.0006816694996796233\n",
      "after 85000 steps \tloss=0.0006359351901291702\n",
      "after 90000 steps \tloss=0.000595727549483613\n",
      "after 95000 steps \tloss=0.0005601160121057086\n"
     ]
    }
   ],
   "source": [
    "net = SmallNet(2, 10, dtype=np.float64)\n",
    "_ = gradient_descent(net, 0.1, X, Y)"
   ]
  },
  {
   "cell_type": "code",
   "execution_count": 19,
   "metadata": {
    "colab": {
     "base_uri": "https://localhost:8080/"
    },
    "id": "TwpEjpkU1JvK",
    "outputId": "dc044de9-81c1-4944-d9a2-5dcc72bf9a57"
   },
   "outputs": [
    {
     "name": "stdout",
     "output_type": "stream",
     "text": [
      "XORnet([0. 0.]) = 0.0003280331044678273\n",
      "XORnet([0. 1.]) = 0.9995270010466416\n",
      "XORnet([1. 0.]) = 0.9993774453616577\n",
      "XORnet([1. 1.]) = 0.0006892812211461862\n"
     ]
    }
   ],
   "source": [
    "predictions, loss = net.forward(X, Y, do_backward=True)\n",
    "for x, p in zip(X, predictions):\n",
    "    print(f\"XORnet({x}) = {p[0]}\")"
   ]
  },
  {
   "cell_type": "markdown",
   "metadata": {},
   "source": [
    "### For 3D XOR being (x1 xor x2 xor x3)"
   ]
  },
  {
   "cell_type": "code",
   "execution_count": 20,
   "metadata": {},
   "outputs": [
    {
     "name": "stdout",
     "output_type": "stream",
     "text": [
      "X3:\n",
      "[[1. 1. 1.]\n",
      " [1. 1. 0.]\n",
      " [1. 0. 1.]\n",
      " [1. 0. 0.]\n",
      " [0. 1. 1.]\n",
      " [0. 1. 0.]\n",
      " [0. 0. 1.]\n",
      " [0. 0. 0.]]\n",
      "Y3:\n",
      "[[1.]\n",
      " [0.]\n",
      " [0.]\n",
      " [1.]\n",
      " [0.]\n",
      " [1.]\n",
      " [1.]\n",
      " [0.]]\n",
      "\n"
     ]
    }
   ],
   "source": [
    "values = [1, 0]\n",
    "X3 = np.zeros(shape = (8, 3), dtype = np.float64)\n",
    "Y3 = np.zeros(shape = (8, 1), dtype = np.float64)\n",
    "for index, single_input in enumerate(itertools.product(values, repeat = 3)):\n",
    "    X3[index, :] = single_input\n",
    "    Y3[index, 0] = single_input[0] ^ single_input[1] ^ single_input[2]\n",
    "print(f\"X3:\\n{X3}\")\n",
    "print(f\"Y3:\\n{Y3}\\n\")"
   ]
  },
  {
   "cell_type": "code",
   "execution_count": 21,
   "metadata": {
    "scrolled": true
   },
   "outputs": [
    {
     "name": "stdout",
     "output_type": "stream",
     "text": [
      "Trying hidden_dim = 2\n",
      "\n",
      "LOSS: 0.34750495634377865\n",
      "RESULT:\n",
      "netXOR([1. 1. 1.]) = [0.99924591]  TRUE VALUE: [1.]\n",
      "netXOR([1. 1. 0.]) = [0.50048339]  TRUE VALUE: [0.]\n",
      "netXOR([1. 0. 1.]) = [0.50059463]  TRUE VALUE: [0.]\n",
      "netXOR([1. 0. 0.]) = [0.99928737]  TRUE VALUE: [1.]\n",
      "netXOR([0. 1. 1.]) = [0.00074434]  TRUE VALUE: [0.]\n",
      "netXOR([0. 1. 0.]) = [0.49938571]  TRUE VALUE: [1.]\n",
      "netXOR([0. 0. 1.]) = [0.499469]  TRUE VALUE: [1.]\n",
      "netXOR([0. 0. 0.]) = [0.00078958]  TRUE VALUE: [0.]\n",
      "\n",
      "LOSS: 0.35167915496496427\n",
      "RESULT:\n",
      "netXOR([1. 1. 1.]) = [0.49860263]  TRUE VALUE: [1.]\n",
      "netXOR([1. 1. 0.]) = [0.5034031]  TRUE VALUE: [0.]\n",
      "netXOR([1. 0. 1.]) = [0.00437579]  TRUE VALUE: [0.]\n",
      "netXOR([1. 0. 0.]) = [0.99548328]  TRUE VALUE: [1.]\n",
      "netXOR([0. 1. 1.]) = [0.00437572]  TRUE VALUE: [0.]\n",
      "netXOR([0. 1. 0.]) = [0.99548335]  TRUE VALUE: [1.]\n",
      "netXOR([0. 0. 1.]) = [0.49749526]  TRUE VALUE: [1.]\n",
      "netXOR([0. 0. 0.]) = [0.50416742]  TRUE VALUE: [0.]\n",
      "\n",
      "LOSS: 0.2829726828376406\n",
      "RESULT:\n",
      "netXOR([1. 1. 1.]) = [0.25025016]  TRUE VALUE: [1.]\n",
      "netXOR([1. 1. 0.]) = [0.25128493]  TRUE VALUE: [0.]\n",
      "netXOR([1. 0. 1.]) = [0.25128495]  TRUE VALUE: [0.]\n",
      "netXOR([1. 0. 0.]) = [0.9979137]  TRUE VALUE: [1.]\n",
      "netXOR([0. 1. 1.]) = [0.25128495]  TRUE VALUE: [0.]\n",
      "netXOR([0. 1. 0.]) = [0.99791367]  TRUE VALUE: [1.]\n",
      "netXOR([0. 0. 1.]) = [0.99791363]  TRUE VALUE: [1.]\n",
      "netXOR([0. 0. 0.]) = [0.0040232]  TRUE VALUE: [0.]\n",
      "\n",
      "LOSS: 0.013258216607173908\n",
      "RESULT:\n",
      "netXOR([1. 1. 1.]) = [0.97740677]  TRUE VALUE: [1.]\n",
      "netXOR([1. 1. 0.]) = [0.00929184]  TRUE VALUE: [0.]\n",
      "netXOR([1. 0. 1.]) = [0.00929184]  TRUE VALUE: [0.]\n",
      "netXOR([1. 0. 0.]) = [0.99028964]  TRUE VALUE: [1.]\n",
      "netXOR([0. 1. 1.]) = [0.00929184]  TRUE VALUE: [0.]\n",
      "netXOR([0. 1. 0.]) = [0.99028964]  TRUE VALUE: [1.]\n",
      "netXOR([0. 0. 1.]) = [0.99028964]  TRUE VALUE: [1.]\n",
      "netXOR([0. 0. 0.]) = [0.02560066]  TRUE VALUE: [0.]\n",
      "\n",
      "LOSS: 0.2821706003258388\n",
      "RESULT:\n",
      "netXOR([1. 1. 1.]) = [0.7494631]  TRUE VALUE: [1.]\n",
      "netXOR([1. 1. 0.]) = [0.74967504]  TRUE VALUE: [0.]\n",
      "netXOR([1. 0. 1.]) = [0.00169274]  TRUE VALUE: [0.]\n",
      "netXOR([1. 0. 0.]) = [0.74948497]  TRUE VALUE: [1.]\n",
      "netXOR([0. 1. 1.]) = [0.00169239]  TRUE VALUE: [0.]\n",
      "netXOR([0. 1. 0.]) = [0.74948484]  TRUE VALUE: [1.]\n",
      "netXOR([0. 0. 1.]) = [0.99789512]  TRUE VALUE: [1.]\n",
      "netXOR([0. 0. 0.]) = [0.00173643]  TRUE VALUE: [0.]\n",
      "\n",
      "LOSS: 0.34784090348824637\n",
      "RESULT:\n",
      "netXOR([1. 1. 1.]) = [0.99894314]  TRUE VALUE: [1.]\n",
      "netXOR([1. 1. 0.]) = [0.50068207]  TRUE VALUE: [0.]\n",
      "netXOR([1. 0. 1.]) = [0.50075619]  TRUE VALUE: [0.]\n",
      "netXOR([1. 0. 0.]) = [0.99900015]  TRUE VALUE: [1.]\n",
      "netXOR([0. 1. 1.]) = [0.00104208]  TRUE VALUE: [0.]\n",
      "netXOR([0. 1. 0.]) = [0.49920877]  TRUE VALUE: [1.]\n",
      "netXOR([0. 0. 1.]) = [0.49926444]  TRUE VALUE: [1.]\n",
      "netXOR([0. 0. 0.]) = [0.00110299]  TRUE VALUE: [0.]\n",
      "\n",
      "LOSS: 0.01461623890404077\n",
      "RESULT:\n",
      "netXOR([1. 1. 1.]) = [0.98933459]  TRUE VALUE: [1.]\n",
      "netXOR([1. 1. 0.]) = [0.02829908]  TRUE VALUE: [0.]\n",
      "netXOR([1. 0. 1.]) = [0.01020099]  TRUE VALUE: [0.]\n",
      "netXOR([1. 0. 0.]) = [0.98929994]  TRUE VALUE: [1.]\n",
      "netXOR([0. 1. 1.]) = [0.01020099]  TRUE VALUE: [0.]\n",
      "netXOR([0. 1. 0.]) = [0.98929994]  TRUE VALUE: [1.]\n",
      "netXOR([0. 0. 1.]) = [0.97510103]  TRUE VALUE: [1.]\n",
      "netXOR([0. 0. 0.]) = [0.01021113]  TRUE VALUE: [0.]\n",
      "\n",
      "LOSS: 0.6930965017040271\n",
      "RESULT:\n",
      "netXOR([1. 1. 1.]) = [0.50089419]  TRUE VALUE: [1.]\n",
      "netXOR([1. 1. 0.]) = [0.50213821]  TRUE VALUE: [0.]\n",
      "netXOR([1. 0. 1.]) = [0.49952641]  TRUE VALUE: [0.]\n",
      "netXOR([1. 0. 0.]) = [0.50178231]  TRUE VALUE: [1.]\n",
      "netXOR([0. 1. 1.]) = [0.49872056]  TRUE VALUE: [0.]\n",
      "netXOR([0. 1. 0.]) = [0.50063622]  TRUE VALUE: [1.]\n",
      "netXOR([0. 0. 1.]) = [0.49674925]  TRUE VALUE: [1.]\n",
      "netXOR([0. 0. 0.]) = [0.49945234]  TRUE VALUE: [0.]\n",
      "\n",
      "LOSS: 0.34759154110304363\n",
      "RESULT:\n",
      "netXOR([1. 1. 1.]) = [0.99917071]  TRUE VALUE: [1.]\n",
      "netXOR([1. 1. 0.]) = [0.50052676]  TRUE VALUE: [0.]\n",
      "netXOR([1. 0. 1.]) = [0.50064651]  TRUE VALUE: [0.]\n",
      "netXOR([1. 0. 0.]) = [0.99921601]  TRUE VALUE: [1.]\n",
      "netXOR([0. 1. 1.]) = [0.00081852]  TRUE VALUE: [0.]\n",
      "netXOR([0. 1. 0.]) = [0.49933181]  TRUE VALUE: [1.]\n",
      "netXOR([0. 0. 1.]) = [0.49942166]  TRUE VALUE: [1.]\n",
      "netXOR([0. 0. 0.]) = [0.00086789]  TRUE VALUE: [0.]\n",
      "\n",
      "LOSS: 0.2830474146143895\n",
      "RESULT:\n",
      "netXOR([1. 1. 1.]) = [0.24972216]  TRUE VALUE: [1.]\n",
      "netXOR([1. 1. 0.]) = [0.25107402]  TRUE VALUE: [0.]\n",
      "netXOR([1. 0. 1.]) = [0.25107405]  TRUE VALUE: [0.]\n",
      "netXOR([1. 0. 0.]) = [0.99768989]  TRUE VALUE: [1.]\n",
      "netXOR([0. 1. 1.]) = [0.25107404]  TRUE VALUE: [0.]\n",
      "netXOR([0. 1. 0.]) = [0.9976899]  TRUE VALUE: [1.]\n",
      "netXOR([0. 0. 1.]) = [0.9976898]  TRUE VALUE: [1.]\n",
      "netXOR([0. 0. 0.]) = [0.00268549]  TRUE VALUE: [0.]\n",
      "\n",
      "\n",
      "Trying hidden_dim = 3\n",
      "\n",
      "LOSS: 0.0013763062243861565\n",
      "RESULT:\n",
      "netXOR([1. 1. 1.]) = [0.999902]  TRUE VALUE: [1.]\n",
      "netXOR([1. 1. 0.]) = [0.00154044]  TRUE VALUE: [0.]\n",
      "netXOR([1. 0. 1.]) = [0.00146715]  TRUE VALUE: [0.]\n",
      "netXOR([1. 0. 0.]) = [0.99772852]  TRUE VALUE: [1.]\n",
      "netXOR([0. 1. 1.]) = [0.00194737]  TRUE VALUE: [0.]\n",
      "netXOR([0. 1. 0.]) = [0.99825359]  TRUE VALUE: [1.]\n",
      "netXOR([0. 0. 1.]) = [0.99820433]  TRUE VALUE: [1.]\n",
      "netXOR([0. 0. 0.]) = [0.00013403]  TRUE VALUE: [0.]\n",
      "\n",
      "LOSS: 0.0017830920331767743\n",
      "RESULT:\n",
      "netXOR([1. 1. 1.]) = [0.99832723]  TRUE VALUE: [1.]\n",
      "netXOR([1. 1. 0.]) = [0.00018153]  TRUE VALUE: [0.]\n",
      "netXOR([1. 0. 1.]) = [0.00282]  TRUE VALUE: [0.]\n",
      "netXOR([1. 0. 0.]) = [0.99789849]  TRUE VALUE: [1.]\n",
      "netXOR([0. 1. 1.]) = [0.00234479]  TRUE VALUE: [0.]\n",
      "netXOR([0. 1. 0.]) = [0.9974612]  TRUE VALUE: [1.]\n",
      "netXOR([0. 0. 1.]) = [0.99971298]  TRUE VALUE: [1.]\n",
      "netXOR([0. 0. 0.]) = [0.00230202]  TRUE VALUE: [0.]\n",
      "\n",
      "LOSS: 0.0013997549776493567\n",
      "RESULT:\n",
      "netXOR([1. 1. 1.]) = [0.99990551]  TRUE VALUE: [1.]\n",
      "netXOR([1. 1. 0.]) = [0.00150553]  TRUE VALUE: [0.]\n",
      "netXOR([1. 0. 1.]) = [0.00197989]  TRUE VALUE: [0.]\n",
      "netXOR([1. 0. 0.]) = [0.99817623]  TRUE VALUE: [1.]\n",
      "netXOR([0. 1. 1.]) = [0.00156385]  TRUE VALUE: [0.]\n",
      "netXOR([0. 1. 0.]) = [0.99769308]  TRUE VALUE: [1.]\n",
      "netXOR([0. 0. 1.]) = [0.99821466]  TRUE VALUE: [1.]\n",
      "netXOR([0. 0. 0.]) = [0.00012798]  TRUE VALUE: [0.]\n",
      "\n",
      "LOSS: 0.0014893866354626626\n",
      "RESULT:\n",
      "netXOR([1. 1. 1.]) = [0.99841679]  TRUE VALUE: [1.]\n",
      "netXOR([1. 1. 0.]) = [0.00242926]  TRUE VALUE: [0.]\n",
      "netXOR([1. 0. 1.]) = [0.00014476]  TRUE VALUE: [0.]\n",
      "netXOR([1. 0. 0.]) = [0.99837806]  TRUE VALUE: [1.]\n",
      "netXOR([0. 1. 1.]) = [0.0017887]  TRUE VALUE: [0.]\n",
      "netXOR([0. 1. 0.]) = [0.99983664]  TRUE VALUE: [1.]\n",
      "netXOR([0. 0. 1.]) = [0.9978614]  TRUE VALUE: [1.]\n",
      "netXOR([0. 0. 0.]) = [0.00203377]  TRUE VALUE: [0.]\n",
      "\n",
      "LOSS: 0.0014566147746725281\n",
      "RESULT:\n",
      "netXOR([1. 1. 1.]) = [0.9988149]  TRUE VALUE: [1.]\n",
      "netXOR([1. 1. 0.]) = [0.00057735]  TRUE VALUE: [0.]\n",
      "netXOR([1. 0. 1.]) = [0.00201783]  TRUE VALUE: [0.]\n",
      "netXOR([1. 0. 0.]) = [0.99802691]  TRUE VALUE: [1.]\n",
      "netXOR([0. 1. 1.]) = [0.00158379]  TRUE VALUE: [0.]\n",
      "netXOR([0. 1. 0.]) = [0.99753492]  TRUE VALUE: [1.]\n",
      "netXOR([0. 0. 1.]) = [0.99937278]  TRUE VALUE: [1.]\n",
      "netXOR([0. 0. 0.]) = [0.00121337]  TRUE VALUE: [0.]\n",
      "\n",
      "LOSS: 0.001363669304392617\n",
      "RESULT:\n",
      "netXOR([1. 1. 1.]) = [0.99991167]  TRUE VALUE: [1.]\n",
      "netXOR([1. 1. 0.]) = [0.00186405]  TRUE VALUE: [0.]\n",
      "netXOR([1. 0. 1.]) = [0.00150328]  TRUE VALUE: [0.]\n",
      "netXOR([1. 0. 0.]) = [0.99820129]  TRUE VALUE: [1.]\n",
      "netXOR([0. 1. 1.]) = [0.00156141]  TRUE VALUE: [0.]\n",
      "netXOR([0. 1. 0.]) = [0.99823782]  TRUE VALUE: [1.]\n",
      "netXOR([0. 0. 1.]) = [0.9977961]  TRUE VALUE: [1.]\n",
      "netXOR([0. 0. 0.]) = [0.00011779]  TRUE VALUE: [0.]\n",
      "\n",
      "LOSS: 0.0015107335471900313\n",
      "RESULT:\n",
      "netXOR([1. 1. 1.]) = [0.99872237]  TRUE VALUE: [1.]\n",
      "netXOR([1. 1. 0.]) = [0.00112164]  TRUE VALUE: [0.]\n",
      "netXOR([1. 0. 1.]) = [0.00201993]  TRUE VALUE: [0.]\n",
      "netXOR([1. 0. 0.]) = [0.99831867]  TRUE VALUE: [1.]\n",
      "netXOR([0. 1. 1.]) = [0.00112196]  TRUE VALUE: [0.]\n",
      "netXOR([0. 1. 0.]) = [0.99818447]  TRUE VALUE: [1.]\n",
      "netXOR([0. 0. 1.]) = [0.99831874]  TRUE VALUE: [1.]\n",
      "netXOR([0. 0. 0.]) = [0.00135707]  TRUE VALUE: [0.]\n",
      "\n",
      "LOSS: 0.0013598306076710058\n",
      "RESULT:\n",
      "netXOR([1. 1. 1.]) = [0.99990014]  TRUE VALUE: [1.]\n",
      "netXOR([1. 1. 0.]) = [0.00192372]  TRUE VALUE: [0.]\n",
      "netXOR([1. 0. 1.]) = [0.00144222]  TRUE VALUE: [0.]\n",
      "netXOR([1. 0. 0.]) = [0.99822403]  TRUE VALUE: [1.]\n",
      "netXOR([0. 1. 1.]) = [0.00152423]  TRUE VALUE: [0.]\n",
      "netXOR([0. 1. 0.]) = [0.99828]  TRUE VALUE: [1.]\n",
      "netXOR([0. 0. 1.]) = [0.99775423]  TRUE VALUE: [1.]\n",
      "netXOR([0. 0. 0.]) = [0.00013722]  TRUE VALUE: [0.]\n",
      "\n",
      "LOSS: 0.0026668662085913477\n",
      "RESULT:\n",
      "netXOR([1. 1. 1.]) = [0.9998776]  TRUE VALUE: [1.]\n",
      "netXOR([1. 1. 0.]) = [0.00300553]  TRUE VALUE: [0.]\n",
      "netXOR([1. 0. 1.]) = [0.00304346]  TRUE VALUE: [0.]\n",
      "netXOR([1. 0. 0.]) = [0.99604233]  TRUE VALUE: [1.]\n",
      "netXOR([0. 1. 1.]) = [0.00294571]  TRUE VALUE: [0.]\n",
      "netXOR([0. 1. 0.]) = [0.99597308]  TRUE VALUE: [1.]\n",
      "netXOR([0. 0. 1.]) = [0.99599935]  TRUE VALUE: [1.]\n",
      "netXOR([0. 0. 0.]) = [0.00019503]  TRUE VALUE: [0.]\n"
     ]
    },
    {
     "name": "stdout",
     "output_type": "stream",
     "text": [
      "\n",
      "LOSS: 0.0016185767207178088\n",
      "RESULT:\n",
      "netXOR([1. 1. 1.]) = [0.99831091]  TRUE VALUE: [1.]\n",
      "netXOR([1. 1. 0.]) = [0.00218946]  TRUE VALUE: [0.]\n",
      "netXOR([1. 0. 1.]) = [0.00051254]  TRUE VALUE: [0.]\n",
      "netXOR([1. 0. 0.]) = [0.99819517]  TRUE VALUE: [1.]\n",
      "netXOR([0. 1. 1.]) = [0.00195145]  TRUE VALUE: [0.]\n",
      "netXOR([0. 1. 0.]) = [0.99941761]  TRUE VALUE: [1.]\n",
      "netXOR([0. 0. 1.]) = [0.99801719]  TRUE VALUE: [1.]\n",
      "netXOR([0. 0. 0.]) = [0.00222394]  TRUE VALUE: [0.]\n",
      "\n",
      "\n",
      "Trying hidden_dim = 10\n",
      "\n",
      "LOSS: 0.0005713347114474669\n",
      "RESULT:\n",
      "netXOR([1. 1. 1.]) = [0.99963504]  TRUE VALUE: [1.]\n",
      "netXOR([1. 1. 0.]) = [0.00045198]  TRUE VALUE: [0.]\n",
      "netXOR([1. 0. 1.]) = [0.00070017]  TRUE VALUE: [0.]\n",
      "netXOR([1. 0. 0.]) = [0.99926673]  TRUE VALUE: [1.]\n",
      "netXOR([0. 1. 1.]) = [0.00050192]  TRUE VALUE: [0.]\n",
      "netXOR([0. 1. 0.]) = [0.99923686]  TRUE VALUE: [1.]\n",
      "netXOR([0. 0. 1.]) = [0.99948835]  TRUE VALUE: [1.]\n",
      "netXOR([0. 0. 0.]) = [0.00054221]  TRUE VALUE: [0.]\n",
      "\n",
      "LOSS: 0.0005887282584578003\n",
      "RESULT:\n",
      "netXOR([1. 1. 1.]) = [0.99962102]  TRUE VALUE: [1.]\n",
      "netXOR([1. 1. 0.]) = [0.00070604]  TRUE VALUE: [0.]\n",
      "netXOR([1. 0. 1.]) = [0.00051475]  TRUE VALUE: [0.]\n",
      "netXOR([1. 0. 0.]) = [0.99933184]  TRUE VALUE: [1.]\n",
      "netXOR([0. 1. 1.]) = [0.00048082]  TRUE VALUE: [0.]\n",
      "netXOR([0. 1. 0.]) = [0.99931682]  TRUE VALUE: [1.]\n",
      "netXOR([0. 0. 1.]) = [0.99933374]  TRUE VALUE: [1.]\n",
      "netXOR([0. 0. 0.]) = [0.0006102]  TRUE VALUE: [0.]\n",
      "\n",
      "LOSS: 0.0004921463588177283\n",
      "RESULT:\n",
      "netXOR([1. 1. 1.]) = [0.99971278]  TRUE VALUE: [1.]\n",
      "netXOR([1. 1. 0.]) = [0.00036542]  TRUE VALUE: [0.]\n",
      "netXOR([1. 0. 1.]) = [0.00062451]  TRUE VALUE: [0.]\n",
      "netXOR([1. 0. 0.]) = [0.99948432]  TRUE VALUE: [1.]\n",
      "netXOR([0. 1. 1.]) = [0.00053087]  TRUE VALUE: [0.]\n",
      "netXOR([0. 1. 0.]) = [0.99938903]  TRUE VALUE: [1.]\n",
      "netXOR([0. 0. 1.]) = [0.99952032]  TRUE VALUE: [1.]\n",
      "netXOR([0. 0. 0.]) = [0.00052182]  TRUE VALUE: [0.]\n",
      "\n",
      "LOSS: 0.0005582968993984526\n",
      "RESULT:\n",
      "netXOR([1. 1. 1.]) = [0.99967826]  TRUE VALUE: [1.]\n",
      "netXOR([1. 1. 0.]) = [0.00050949]  TRUE VALUE: [0.]\n",
      "netXOR([1. 0. 1.]) = [0.0006515]  TRUE VALUE: [0.]\n",
      "netXOR([1. 0. 0.]) = [0.99935754]  TRUE VALUE: [1.]\n",
      "netXOR([0. 1. 1.]) = [0.00055304]  TRUE VALUE: [0.]\n",
      "netXOR([0. 1. 0.]) = [0.99936067]  TRUE VALUE: [1.]\n",
      "netXOR([0. 0. 1.]) = [0.99937068]  TRUE VALUE: [1.]\n",
      "netXOR([0. 0. 0.]) = [0.00051821]  TRUE VALUE: [0.]\n",
      "\n",
      "LOSS: 0.0006452467894440614\n",
      "RESULT:\n",
      "netXOR([1. 1. 1.]) = [0.99977641]  TRUE VALUE: [1.]\n",
      "netXOR([1. 1. 0.]) = [0.00081757]  TRUE VALUE: [0.]\n",
      "netXOR([1. 0. 1.]) = [0.00055082]  TRUE VALUE: [0.]\n",
      "netXOR([1. 0. 0.]) = [0.99926801]  TRUE VALUE: [1.]\n",
      "netXOR([0. 1. 1.]) = [0.00072941]  TRUE VALUE: [0.]\n",
      "netXOR([0. 1. 0.]) = [0.99914726]  TRUE VALUE: [1.]\n",
      "netXOR([0. 0. 1.]) = [0.99920251]  TRUE VALUE: [1.]\n",
      "netXOR([0. 0. 0.]) = [0.00045654]  TRUE VALUE: [0.]\n",
      "\n",
      "LOSS: 0.0006265923175608986\n",
      "RESULT:\n",
      "netXOR([1. 1. 1.]) = [0.99959824]  TRUE VALUE: [1.]\n",
      "netXOR([1. 1. 0.]) = [0.0006501]  TRUE VALUE: [0.]\n",
      "netXOR([1. 0. 1.]) = [0.00055736]  TRUE VALUE: [0.]\n",
      "netXOR([1. 0. 0.]) = [0.99931071]  TRUE VALUE: [1.]\n",
      "netXOR([0. 1. 1.]) = [0.00057439]  TRUE VALUE: [0.]\n",
      "netXOR([0. 1. 0.]) = [0.99929484]  TRUE VALUE: [1.]\n",
      "netXOR([0. 0. 1.]) = [0.99922966]  TRUE VALUE: [1.]\n",
      "netXOR([0. 0. 0.]) = [0.00066272]  TRUE VALUE: [0.]\n",
      "\n",
      "LOSS: 0.0005851083415865578\n",
      "RESULT:\n",
      "netXOR([1. 1. 1.]) = [0.99954327]  TRUE VALUE: [1.]\n",
      "netXOR([1. 1. 0.]) = [0.00047655]  TRUE VALUE: [0.]\n",
      "netXOR([1. 0. 1.]) = [0.00070585]  TRUE VALUE: [0.]\n",
      "netXOR([1. 0. 0.]) = [0.99936316]  TRUE VALUE: [1.]\n",
      "netXOR([0. 1. 1.]) = [0.00070358]  TRUE VALUE: [0.]\n",
      "netXOR([0. 1. 0.]) = [0.99936708]  TRUE VALUE: [1.]\n",
      "netXOR([0. 0. 1.]) = [0.99939689]  TRUE VALUE: [1.]\n",
      "netXOR([0. 0. 0.]) = [0.00046388]  TRUE VALUE: [0.]\n",
      "\n",
      "LOSS: 0.000564109510680503\n",
      "RESULT:\n",
      "netXOR([1. 1. 1.]) = [0.99967427]  TRUE VALUE: [1.]\n",
      "netXOR([1. 1. 0.]) = [0.00054255]  TRUE VALUE: [0.]\n",
      "netXOR([1. 0. 1.]) = [0.00063367]  TRUE VALUE: [0.]\n",
      "netXOR([1. 0. 0.]) = [0.99935029]  TRUE VALUE: [1.]\n",
      "netXOR([0. 1. 1.]) = [0.00061466]  TRUE VALUE: [0.]\n",
      "netXOR([0. 1. 0.]) = [0.9993752]  TRUE VALUE: [1.]\n",
      "netXOR([0. 0. 1.]) = [0.99935118]  TRUE VALUE: [1.]\n",
      "netXOR([0. 0. 0.]) = [0.00047162]  TRUE VALUE: [0.]\n",
      "\n",
      "LOSS: 0.0006143492805447366\n",
      "RESULT:\n",
      "netXOR([1. 1. 1.]) = [0.99973218]  TRUE VALUE: [1.]\n",
      "netXOR([1. 1. 0.]) = [0.00069927]  TRUE VALUE: [0.]\n",
      "netXOR([1. 0. 1.]) = [0.00054427]  TRUE VALUE: [0.]\n",
      "netXOR([1. 0. 0.]) = [0.99932749]  TRUE VALUE: [1.]\n",
      "netXOR([0. 1. 1.]) = [0.00062046]  TRUE VALUE: [0.]\n",
      "netXOR([0. 1. 0.]) = [0.99930215]  TRUE VALUE: [1.]\n",
      "netXOR([0. 0. 1.]) = [0.99930134]  TRUE VALUE: [1.]\n",
      "netXOR([0. 0. 0.]) = [0.00071236]  TRUE VALUE: [0.]\n",
      "\n",
      "LOSS: 0.0005423141121666873\n",
      "RESULT:\n",
      "netXOR([1. 1. 1.]) = [0.99967747]  TRUE VALUE: [1.]\n",
      "netXOR([1. 1. 0.]) = [0.00060695]  TRUE VALUE: [0.]\n",
      "netXOR([1. 0. 1.]) = [0.0005251]  TRUE VALUE: [0.]\n",
      "netXOR([1. 0. 0.]) = [0.99937666]  TRUE VALUE: [1.]\n",
      "netXOR([0. 1. 1.]) = [0.00051655]  TRUE VALUE: [0.]\n",
      "netXOR([0. 1. 0.]) = [0.99936195]  TRUE VALUE: [1.]\n",
      "netXOR([0. 0. 1.]) = [0.99940518]  TRUE VALUE: [1.]\n",
      "netXOR([0. 0. 0.]) = [0.00050996]  TRUE VALUE: [0.]\n",
      "\n",
      "\n"
     ]
    }
   ],
   "source": [
    "dims = [2, 3, 10]\n",
    "for hidden_dim in dims:\n",
    "    # TODO: run a few trainings and record the fraction of successful ones\n",
    "    print(f\"Trying hidden_dim = {hidden_dim}\")\n",
    "    for i in range(10):\n",
    "        net = SmallNet(3, hidden_dim, dtype=np.float64)\n",
    "        res, loss, _ = gradient_descent(net, \n",
    "                                     alpha = 0.1, \n",
    "                                     X = X3, \n",
    "                                     Y = Y3, \n",
    "                                     verbose = False, \n",
    "                                     first_activation_f = sigmoid)\n",
    "        print(\"\\nLOSS:\", loss)\n",
    "        print(\"RESULT:\")\n",
    "        for single_input, single_output, single_true_value in zip(X3, res, Y3):\n",
    "            print(f\"netXOR({single_input}) = {single_output}  TRUE VALUE: {single_true_value}\")\n",
    "    print(\"\\n\")"
   ]
  },
  {
   "cell_type": "markdown",
   "metadata": {},
   "source": [
    "    - What is the minimal hidden size required to solve 3D XOR (even with low reliability, when the training has to be repeated multiple times)\n",
    "    - What is the minimal hidden size required to reliably solve 3D XOR\n",
    "\n",
    "Minimal hidden size to solve 3D XOR with low reliability is 2.<br/>\n",
    "To get the net that solves the 3D XOR every time, hidden size should be >= 3. "
   ]
  },
  {
   "cell_type": "markdown",
   "metadata": {},
   "source": [
    "    - Which networks are easier to train - small or large ones? Why?\n",
    "It's easier to train large networks (especially the ones that have more neurons in each layer). Since they have many parameters and their expressive power is bigger, it should be easier to find some parameters that can improve the result if they are tweaked. "
   ]
  },
  {
   "cell_type": "markdown",
   "metadata": {
    "id": "UuaLEoV-9DLG"
   },
   "source": [
    "## Problem 4\n"
   ]
  },
  {
   "cell_type": "markdown",
   "metadata": {},
   "source": [
    "Test for 2D XOR just to check if relu works. "
   ]
  },
  {
   "cell_type": "code",
   "execution_count": 22,
   "metadata": {},
   "outputs": [
    {
     "name": "stdout",
     "output_type": "stream",
     "text": [
      "after 0 steps \tloss=1.009950689000232\n",
      "after 5000 steps \tloss=0.0012716735795765377\n",
      "after 10000 steps \tloss=0.0005303224201617145\n",
      "after 15000 steps \tloss=0.0003241214307221626\n",
      "after 20000 steps \tloss=0.00022998932025274885\n",
      "after 25000 steps \tloss=0.00017676465957361203\n",
      "after 30000 steps \tloss=0.0001427953255196807\n",
      "after 35000 steps \tloss=0.00011934804841575266\n",
      "after 40000 steps \tloss=0.0001022425417469736\n",
      "after 45000 steps \tloss=8.924592501986784e-05\n",
      "after 50000 steps \tloss=7.905713843625356e-05\n",
      "after 55000 steps \tloss=7.086659884999192e-05\n",
      "after 60000 steps \tloss=6.414714923502873e-05\n",
      "after 65000 steps \tloss=5.854154030351328e-05\n",
      "after 70000 steps \tloss=5.379730069583925e-05\n",
      "after 75000 steps \tloss=4.9732845282410646e-05\n",
      "after 80000 steps \tloss=4.6214664688157164e-05\n",
      "after 85000 steps \tloss=4.314055207218734e-05\n",
      "after 90000 steps \tloss=4.0433007601237426e-05\n",
      "after 95000 steps \tloss=3.803152715845821e-05\n"
     ]
    }
   ],
   "source": [
    "net = SmallNet(2, 10, dtype=np.float64)\n",
    "_ = gradient_descent(net, 0.1, X, Y, first_activation_f=relu)"
   ]
  },
  {
   "cell_type": "markdown",
   "metadata": {},
   "source": [
    "Finding an architecture that reliably learns to solve 3D XOR"
   ]
  },
  {
   "cell_type": "code",
   "execution_count": 26,
   "metadata": {
    "id": "w3lk9_TM-MvK"
   },
   "outputs": [
    {
     "name": "stdout",
     "output_type": "stream",
     "text": [
      "Trying hidden_dim = 9\n",
      "\n",
      "LOSS: 0.00011176906410235318\n",
      "RESULT:\n",
      "netXOR([1. 1. 1.]) = [0.99988513]  TRUE VALUE: [1.]\n",
      "netXOR([1. 1. 0.]) = [9.87928136e-05]  TRUE VALUE: [0.]\n",
      "netXOR([1. 0. 1.]) = [0.0001552]  TRUE VALUE: [0.]\n",
      "netXOR([1. 0. 0.]) = [0.99987448]  TRUE VALUE: [1.]\n",
      "netXOR([0. 1. 1.]) = [0.00010542]  TRUE VALUE: [0.]\n",
      "netXOR([0. 1. 0.]) = [0.99995386]  TRUE VALUE: [1.]\n",
      "netXOR([0. 0. 1.]) = [0.99985472]  TRUE VALUE: [1.]\n",
      "netXOR([0. 0. 0.]) = [0.00010289]  TRUE VALUE: [0.]\n",
      "\n",
      "LOSS: 0.00014003808410211933\n",
      "RESULT:\n",
      "netXOR([1. 1. 1.]) = [0.99977891]  TRUE VALUE: [1.]\n",
      "netXOR([1. 1. 0.]) = [0.00015701]  TRUE VALUE: [0.]\n",
      "netXOR([1. 0. 1.]) = [0.0001394]  TRUE VALUE: [0.]\n",
      "netXOR([1. 0. 0.]) = [0.99996426]  TRUE VALUE: [1.]\n",
      "netXOR([0. 1. 1.]) = [0.00020714]  TRUE VALUE: [0.]\n",
      "netXOR([0. 1. 0.]) = [0.99981786]  TRUE VALUE: [1.]\n",
      "netXOR([0. 0. 1.]) = [0.9999004]  TRUE VALUE: [1.]\n",
      "netXOR([0. 0. 0.]) = [7.8087286e-05]  TRUE VALUE: [0.]\n",
      "\n",
      "LOSS: 0.00012246247842880357\n",
      "RESULT:\n",
      "netXOR([1. 1. 1.]) = [0.99985673]  TRUE VALUE: [1.]\n",
      "netXOR([1. 1. 0.]) = [0.00015369]  TRUE VALUE: [0.]\n",
      "netXOR([1. 0. 1.]) = [0.00016954]  TRUE VALUE: [0.]\n",
      "netXOR([1. 0. 0.]) = [0.99982603]  TRUE VALUE: [1.]\n",
      "netXOR([0. 1. 1.]) = [8.88715687e-05]  TRUE VALUE: [0.]\n",
      "netXOR([0. 1. 0.]) = [0.99995767]  TRUE VALUE: [1.]\n",
      "netXOR([0. 0. 1.]) = [0.99989038]  TRUE VALUE: [1.]\n",
      "netXOR([0. 0. 0.]) = [9.83390207e-05]  TRUE VALUE: [0.]\n",
      "\n",
      "LOSS: 0.00011145900074271289\n",
      "RESULT:\n",
      "netXOR([1. 1. 1.]) = [0.99984521]  TRUE VALUE: [1.]\n",
      "netXOR([1. 1. 0.]) = [0.00016349]  TRUE VALUE: [0.]\n",
      "netXOR([1. 0. 1.]) = [0.00012893]  TRUE VALUE: [0.]\n",
      "netXOR([1. 0. 0.]) = [0.99990932]  TRUE VALUE: [1.]\n",
      "netXOR([0. 1. 1.]) = [0.0001411]  TRUE VALUE: [0.]\n",
      "netXOR([0. 1. 0.]) = [0.99988845]  TRUE VALUE: [1.]\n",
      "netXOR([0. 0. 1.]) = [0.99991093]  TRUE VALUE: [1.]\n",
      "netXOR([0. 0. 0.]) = [1.19938621e-05]  TRUE VALUE: [0.]\n",
      "\n",
      "LOSS: 0.00015776953564154684\n",
      "RESULT:\n",
      "netXOR([1. 1. 1.]) = [0.99972267]  TRUE VALUE: [1.]\n",
      "netXOR([1. 1. 0.]) = [0.00018895]  TRUE VALUE: [0.]\n",
      "netXOR([1. 0. 1.]) = [0.0002224]  TRUE VALUE: [0.]\n",
      "netXOR([1. 0. 0.]) = [0.99990507]  TRUE VALUE: [1.]\n",
      "netXOR([0. 1. 1.]) = [0.00022048]  TRUE VALUE: [0.]\n",
      "netXOR([0. 1. 0.]) = [0.99990564]  TRUE VALUE: [1.]\n",
      "netXOR([0. 0. 1.]) = [0.99983656]  TRUE VALUE: [1.]\n",
      "netXOR([0. 0. 0.]) = [1.33788793e-07]  TRUE VALUE: [0.]\n",
      "\n",
      "LOSS: 0.00011461900557579714\n",
      "RESULT:\n",
      "netXOR([1. 1. 1.]) = [0.9998192]  TRUE VALUE: [1.]\n",
      "netXOR([1. 1. 0.]) = [0.00011633]  TRUE VALUE: [0.]\n",
      "netXOR([1. 0. 1.]) = [0.00018252]  TRUE VALUE: [0.]\n",
      "netXOR([1. 0. 0.]) = [0.9999285]  TRUE VALUE: [1.]\n",
      "netXOR([0. 1. 1.]) = [0.00014423]  TRUE VALUE: [0.]\n",
      "netXOR([0. 1. 0.]) = [0.99991395]  TRUE VALUE: [1.]\n",
      "netXOR([0. 0. 1.]) = [0.99987881]  TRUE VALUE: [1.]\n",
      "netXOR([0. 0. 0.]) = [1.42640774e-05]  TRUE VALUE: [0.]\n",
      "\n",
      "LOSS: 0.00015420690988088162\n",
      "RESULT:\n",
      "netXOR([1. 1. 1.]) = [0.99987919]  TRUE VALUE: [1.]\n",
      "netXOR([1. 1. 0.]) = [5.18308449e-05]  TRUE VALUE: [0.]\n",
      "netXOR([1. 0. 1.]) = [0.0003084]  TRUE VALUE: [0.]\n",
      "netXOR([1. 0. 0.]) = [0.99978574]  TRUE VALUE: [1.]\n",
      "netXOR([0. 1. 1.]) = [5.18268059e-05]  TRUE VALUE: [0.]\n",
      "netXOR([0. 1. 0.]) = [0.99991089]  TRUE VALUE: [1.]\n",
      "netXOR([0. 0. 1.]) = [0.99978604]  TRUE VALUE: [1.]\n",
      "netXOR([0. 0. 0.]) = [0.00018333]  TRUE VALUE: [0.]\n",
      "\n",
      "LOSS: 0.00010934653399323\n",
      "RESULT:\n",
      "netXOR([1. 1. 1.]) = [0.99991656]  TRUE VALUE: [1.]\n",
      "netXOR([1. 1. 0.]) = [0.00015589]  TRUE VALUE: [0.]\n",
      "netXOR([1. 0. 1.]) = [0.00011457]  TRUE VALUE: [0.]\n",
      "netXOR([1. 0. 0.]) = [0.99982435]  TRUE VALUE: [1.]\n",
      "netXOR([0. 1. 1.]) = [3.18598529e-05]  TRUE VALUE: [0.]\n",
      "netXOR([0. 1. 0.]) = [0.99990346]  TRUE VALUE: [1.]\n",
      "netXOR([0. 0. 1.]) = [0.99994454]  TRUE VALUE: [1.]\n",
      "netXOR([0. 0. 0.]) = [0.0001613]  TRUE VALUE: [0.]\n",
      "\n",
      "LOSS: 0.00012178896959882383\n",
      "RESULT:\n",
      "netXOR([1. 1. 1.]) = [0.99997208]  TRUE VALUE: [1.]\n",
      "netXOR([1. 1. 0.]) = [6.14181718e-05]  TRUE VALUE: [0.]\n",
      "netXOR([1. 0. 1.]) = [0.00010211]  TRUE VALUE: [0.]\n",
      "netXOR([1. 0. 0.]) = [0.99989766]  TRUE VALUE: [1.]\n",
      "netXOR([0. 1. 1.]) = [0.0001223]  TRUE VALUE: [0.]\n",
      "netXOR([0. 1. 0.]) = [0.99979921]  TRUE VALUE: [1.]\n",
      "netXOR([0. 0. 1.]) = [0.99983613]  TRUE VALUE: [1.]\n",
      "netXOR([0. 0. 0.]) = [0.00019349]  TRUE VALUE: [0.]\n",
      "\n",
      "LOSS: 9.515156992656366e-05\n",
      "RESULT:\n",
      "netXOR([1. 1. 1.]) = [0.99988631]  TRUE VALUE: [1.]\n",
      "netXOR([1. 1. 0.]) = [7.13112913e-05]  TRUE VALUE: [0.]\n",
      "netXOR([1. 0. 1.]) = [0.00013253]  TRUE VALUE: [0.]\n",
      "netXOR([1. 0. 0.]) = [0.9999165]  TRUE VALUE: [1.]\n",
      "netXOR([0. 1. 1.]) = [0.00010665]  TRUE VALUE: [0.]\n",
      "netXOR([0. 1. 0.]) = [0.99994739]  TRUE VALUE: [1.]\n",
      "netXOR([0. 0. 1.]) = [0.99985505]  TRUE VALUE: [1.]\n",
      "netXOR([0. 0. 0.]) = [5.59313523e-05]  TRUE VALUE: [0.]\n",
      "\n",
      "\n"
     ]
    }
   ],
   "source": [
    "dims = [9]\n",
    "for hidden_dim in dims:\n",
    "    print(f\"Trying hidden_dim = {hidden_dim}\")\n",
    "    for i in range(10):\n",
    "        net = SmallNet(3, hidden_dim, dtype=np.float64)\n",
    "        res, loss, params = gradient_descent(net, \n",
    "                                     alpha = 0.1, \n",
    "                                     X = X3, \n",
    "                                     Y = Y3, \n",
    "                                     verbose = False, \n",
    "                                     first_activation_f = relu)\n",
    "        print(\"\\nLOSS:\", loss)\n",
    "        print(\"RESULT:\")\n",
    "        for single_input, single_output, single_true_value in zip(X3, res, Y3):\n",
    "            print(f\"netXOR({single_input}) = {single_output}  TRUE VALUE: {single_true_value}\")\n",
    "#         print(\"PARAMS:\")\n",
    "#         for param_name in params.keys():\n",
    "#             print(param_name)\n",
    "#             print(params[param_name])\n",
    "    print(\"\\n\")"
   ]
  },
  {
   "cell_type": "markdown",
   "metadata": {
    "id": "_Hr_iAKX-ND1"
   },
   "source": [
    "## Problem 5"
   ]
  },
  {
   "cell_type": "code",
   "execution_count": 46,
   "metadata": {
    "id": "rnz6CndQ-NRI"
   },
   "outputs": [],
   "source": [
    "class TwoLayerNet:\n",
    "    def __init__(self, in_features, num_first_hidden, num_second_hidden, dtype=np.float32, verbose = False):\n",
    "        self.W1 = np.zeros((num_first_hidden, in_features), dtype=dtype)\n",
    "        self.b1 = np.zeros((num_first_hidden,), dtype=dtype)\n",
    "        self.W2 = np.zeros((num_second_hidden, num_first_hidden), dtype=dtype)\n",
    "        self.b2 = np.zeros((num_second_hidden,), dtype=dtype)\n",
    "        self.W3 = np.zeros((1, num_second_hidden), dtype=dtype)\n",
    "        self.b3 = np.zeros((1,), dtype=dtype)\n",
    "        self.init_params(in_features, num_first_hidden, num_second_hidden)\n",
    "        self.verbose = verbose\n",
    "\n",
    "    def init_params(self, in_features, num_first_hidden, num_second_hidden):\n",
    "        # TODO for Problem 2:\n",
    "        # set all parameters to small random values, e.g. from N(0, 0.5)\n",
    "        self.W1 = np.random.normal(scale = 0.5, size = (num_first_hidden, in_features))\n",
    "        self.b1 = np.random.normal(scale = 0.5, size = (num_first_hidden,))\n",
    "        self.W2 = np.random.normal(scale = 0.5, size = (num_second_hidden, num_first_hidden))\n",
    "        self.b2 = np.random.normal(scale = 0.5, size = (num_second_hidden,))\n",
    "        self.W3 = np.random.normal(scale = 0.5, size = (1, num_second_hidden))\n",
    "        self.b3 = np.random.normal(scale = 0.5, size = (1,))\n",
    "\n",
    "    def forward(self, X, Y=None, do_backward=False):\n",
    "        # TODO Problem 1: Fill in details of forward propagation\n",
    "        # Input to neurons in 1st layer\n",
    "        A1 = X @ self.W1.T + self.b1\n",
    "        # Outputs after the sigmoid non-linearity\n",
    "        O1 = sigmoid(A1)\n",
    "        # Inputs to neuron in the second layer\n",
    "        A2 = O1 @ self.W2.T + self.b2\n",
    "        # Outputs after the sigmoid non-linearity\n",
    "        O2 = sigmoid(A2)\n",
    "        A3 = O2 @ self.W3.T + self.b3\n",
    "        O3 = sigmoid(A3)\n",
    "        # When Y is none, simply return the predictions. Else compute the loss\n",
    "        if Y is not None:\n",
    "            loss = -(Y * np.log(O3) + (1 - Y) * np.log(1.0 - O3))\n",
    "            if(self.verbose):\n",
    "                print(\"Y:\", Y)\n",
    "                print(\"O2:\", O3)\n",
    "                print(\"Loss vector:\", loss)\n",
    "                print()\n",
    "            # normalize loss by batch size\n",
    "            loss = loss.sum() / X.shape[0]\n",
    "        else:\n",
    "            loss = np.nan\n",
    "\n",
    "        if do_backward:\n",
    "            if self.verbose:\n",
    "                print(f\"W1: \\n{self.W1}\")\n",
    "                print(f\"b1: \\n{self.b1}\")\n",
    "                print(f\"W2: \\n{self.W2}\")\n",
    "                print(f\"b2: \\n{self.b2}\")\n",
    "                print(f\"A1: \\n{A1}\")\n",
    "                print(f\"A2: \\n{A2}\")\n",
    "                print(f\"O1: \\n{O1}\")\n",
    "                print(f\"O2: \\n{O2}\")\n",
    "                \n",
    "            # TODO in Problem 2:\n",
    "            # fill in the gradient computation\n",
    "            # Please note, that there is a correspondance between\n",
    "            # the forward and backward pass: with backward computations happening\n",
    "            # in reverse order.\n",
    "            # We save the gradients with respect to the parameters as fields of self.\n",
    "            # It is not very elegant, but simplifies training code later on.\n",
    "\n",
    "            # A2_grad is the gradient of loss with respect to A2\n",
    "            # Hint: there is a concise formula for the gradient\n",
    "            # of logistic sigmoid and cross-entropy loss\n",
    "            \n",
    "            A3_grad = O3 - Y\n",
    "            O2_grad = A3_grad @ self.W3\n",
    "            A2_grad = O2_grad * sigmoid(A2) * (1 - sigmoid(A2))\n",
    "            O1_grad = A2_grad @ self.W2\n",
    "            A1_grad = O1_grad * sigmoid(A1) * (1 - sigmoid(A1))\n",
    "            \n",
    "            self.b3_grad = A3_grad.sum(0) / A3_grad.shape[0]\n",
    "            self.W3_grad = A3_grad.T @ O2 / A3_grad.shape[0]\n",
    "            self.b2_grad = A2_grad.sum(0) / A2_grad.shape[0]\n",
    "            self.W2_grad = A2_grad.T @ O1 / A2_grad.shape[0]\n",
    "            self.b1_grad = A1_grad.sum(0) / A2_grad.shape[0]\n",
    "            self.W1_grad = A1_grad.T @ X / A1_grad.shape[0]\n",
    "\n",
    "        return O3, loss"
   ]
  },
  {
   "cell_type": "code",
   "execution_count": 47,
   "metadata": {},
   "outputs": [],
   "source": [
    "def gradient_descent_twolayered(net, alpha, X, Y, verbose = True):\n",
    "    for i in range(100000):\n",
    "        net_result, loss = net.forward(X, Y, do_backward=True)\n",
    "        if (i % 5000) == 0 and verbose:\n",
    "            print(f\"after {i} steps \\tloss={loss}\")\n",
    "        for param_name in [\"W1\", \"b1\", \"W2\", \"b2\", \"W3\", \"b3\"]:\n",
    "            param = getattr(net, param_name)\n",
    "            # Hint: use the construct `param[:]` to change the contents of the array!\n",
    "            # Doing instead `param = new_val` simply changes to what the variable\n",
    "            # param points to, without affecting the network!\n",
    "            # alternatively, you could do setattr(net, param_name, new_value)\n",
    "            param[:] = param - alpha * getattr(net, param_name + \"_grad\")\n",
    "    params = {\"W1\": [], \"W2\": [], \"W3\": [], \"b1\": [], \"b2\": [], \"b3\": []}\n",
    "    for param_name in [\"W1\", \"b1\", \"W2\", \"b2\", \"W3\", \"b3\"]:\n",
    "            param = getattr(net, param_name)\n",
    "            params[param_name] = param\n",
    "    \n",
    "    return net_result, loss, params"
   ]
  },
  {
   "cell_type": "markdown",
   "metadata": {},
   "source": [
    "Testing the gradient descent "
   ]
  },
  {
   "cell_type": "code",
   "execution_count": 72,
   "metadata": {},
   "outputs": [
    {
     "name": "stdout",
     "output_type": "stream",
     "text": [
      "W1\n",
      "grad:\n",
      "[[4.61979788e-05 3.98058198e-05]\n",
      " [5.26183941e-04 6.01651706e-04]]\n",
      "orig_grad:\n",
      "[[4.61979783e-05 3.98058184e-05]\n",
      " [5.26183936e-04 6.01651705e-04]]\n",
      "\n",
      "b1\n",
      "grad:\n",
      "[8.59984306e-05 1.10480395e-03]\n",
      "orig_grad:\n",
      "[8.59984302e-05 1.10480394e-03]\n",
      "\n",
      "W2\n",
      "grad:\n",
      "[[-0.00173514 -0.00130367]\n",
      " [ 0.00426839  0.00320157]]\n",
      "orig_grad:\n",
      "[[-0.00173514 -0.00130367]\n",
      " [ 0.00426839  0.00320157]]\n",
      "\n",
      "b2\n",
      "grad:\n",
      "[-0.003257    0.00798123]\n",
      "orig_grad:\n",
      "[-0.003257    0.00798123]\n",
      "\n",
      "W3\n",
      "grad:\n",
      "[[0.10318225 0.09239218]]\n",
      "orig_grad:\n",
      "[[0.10318225 0.09239218]]\n",
      "\n",
      "b3\n",
      "grad:\n",
      "[0.15275224]\n",
      "orig_grad:\n",
      "[0.15275224]\n",
      "\n"
     ]
    }
   ],
   "source": [
    "net = TwoLayerNet(2, 2, 2, dtype=np.float64, verbose = False)\n",
    "\n",
    "for param_name in [\"W1\", \"b1\", \"W2\", \"b2\", \"W3\", \"b3\"]:\n",
    "    check_grad(net, param_name, X, Y)"
   ]
  },
  {
   "cell_type": "markdown",
   "metadata": {},
   "source": [
    "Checking the gradient_descent for 2D XOR using net with 2 hidden layers, each of size 2. "
   ]
  },
  {
   "cell_type": "code",
   "execution_count": 50,
   "metadata": {
    "scrolled": true
   },
   "outputs": [
    {
     "name": "stdout",
     "output_type": "stream",
     "text": [
      "after 0 steps \tloss=0.6965111990961346\n",
      "after 5000 steps \tloss=0.6931240099997713\n",
      "after 10000 steps \tloss=0.6929377081103171\n",
      "after 15000 steps \tloss=0.6756556234061424\n",
      "after 20000 steps \tloss=0.015730954426857957\n",
      "after 25000 steps \tloss=0.0036978047348317873\n",
      "after 30000 steps \tloss=0.0020354780716356864\n",
      "after 35000 steps \tloss=0.0013936733385581915\n",
      "after 40000 steps \tloss=0.0010560857314927694\n",
      "after 45000 steps \tloss=0.0008486312678238527\n",
      "after 50000 steps \tloss=0.0007085177861819577\n",
      "after 55000 steps \tloss=0.0006076685751311695\n",
      "after 60000 steps \tloss=0.0005316758451573069\n",
      "after 65000 steps \tloss=0.0004723965650961532\n",
      "after 70000 steps \tloss=0.00042488616939116643\n",
      "after 75000 steps \tloss=0.00038597088942014313\n",
      "after 80000 steps \tloss=0.0003535213517559222\n",
      "after 85000 steps \tloss=0.0003260562741780746\n",
      "after 90000 steps \tloss=0.00030251370356458346\n",
      "after 95000 steps \tloss=0.00028211266168532475\n"
     ]
    }
   ],
   "source": [
    "two_layerd_net = TwoLayerNet(2, 2, 2, dtype=np.float64)\n",
    "_ = gradient_descent_twolayered(two_layerd_net, 0.1, X, Y)"
   ]
  },
  {
   "cell_type": "markdown",
   "metadata": {},
   "source": [
    "Training the net to solve 3D XOR."
   ]
  },
  {
   "cell_type": "code",
   "execution_count": 54,
   "metadata": {},
   "outputs": [
    {
     "data": {
      "text/plain": [
       "(array([[1., 1., 1.],\n",
       "        [1., 1., 0.],\n",
       "        [1., 0., 1.],\n",
       "        [1., 0., 0.],\n",
       "        [0., 1., 1.],\n",
       "        [0., 1., 0.],\n",
       "        [0., 0., 1.],\n",
       "        [0., 0., 0.]]),\n",
       " array([[1.],\n",
       "        [0.],\n",
       "        [0.],\n",
       "        [1.],\n",
       "        [0.],\n",
       "        [1.],\n",
       "        [1.],\n",
       "        [0.]]))"
      ]
     },
     "execution_count": 54,
     "metadata": {},
     "output_type": "execute_result"
    }
   ],
   "source": [
    "X3, Y3"
   ]
  },
  {
   "cell_type": "code",
   "execution_count": 69,
   "metadata": {
    "scrolled": false
   },
   "outputs": [
    {
     "name": "stdout",
     "output_type": "stream",
     "text": [
      "Trying hidden dimensions = (3, 1)\n",
      "\n",
      "LOSS: 0.0004696160821683254\n",
      "RESULT:\n",
      "netXOR([1. 1. 1.]) = [0.99961232]  TRUE VALUE: [1.]\n",
      "netXOR([1. 1. 0.]) = [0.00040181]  TRUE VALUE: [0.]\n",
      "netXOR([1. 0. 1.]) = [0.00047814]  TRUE VALUE: [0.]\n",
      "netXOR([1. 0. 0.]) = [0.99945327]  TRUE VALUE: [1.]\n",
      "netXOR([0. 1. 1.]) = [0.00036162]  TRUE VALUE: [0.]\n",
      "netXOR([0. 1. 0.]) = [0.99930483]  TRUE VALUE: [1.]\n",
      "netXOR([0. 0. 1.]) = [0.99940548]  TRUE VALUE: [1.]\n",
      "netXOR([0. 0. 0.]) = [0.0002903]  TRUE VALUE: [0.]\n",
      "\n",
      "LOSS: 0.001215844468384904\n",
      "RESULT:\n",
      "netXOR([1. 1. 1.]) = [0.99888651]  TRUE VALUE: [1.]\n",
      "netXOR([1. 1. 0.]) = [0.0013652]  TRUE VALUE: [0.]\n",
      "netXOR([1. 0. 1.]) = [0.00093125]  TRUE VALUE: [0.]\n",
      "netXOR([1. 0. 0.]) = [0.99850112]  TRUE VALUE: [1.]\n",
      "netXOR([0. 1. 1.]) = [0.00104152]  TRUE VALUE: [0.]\n",
      "netXOR([0. 1. 0.]) = [0.99861615]  TRUE VALUE: [1.]\n",
      "netXOR([0. 0. 1.]) = [0.99824071]  TRUE VALUE: [1.]\n",
      "netXOR([0. 0. 0.]) = [0.00062691]  TRUE VALUE: [0.]\n",
      "\n",
      "LOSS: 0.0012346867718739192\n",
      "RESULT:\n",
      "netXOR([1. 1. 1.]) = [0.99842054]  TRUE VALUE: [1.]\n",
      "netXOR([1. 1. 0.]) = [0.00053418]  TRUE VALUE: [0.]\n",
      "netXOR([1. 0. 1.]) = [0.00113882]  TRUE VALUE: [0.]\n",
      "netXOR([1. 0. 0.]) = [0.99841235]  TRUE VALUE: [1.]\n",
      "netXOR([0. 1. 1.]) = [0.00105434]  TRUE VALUE: [0.]\n",
      "netXOR([0. 1. 0.]) = [0.99836013]  TRUE VALUE: [1.]\n",
      "netXOR([0. 0. 1.]) = [0.99897519]  TRUE VALUE: [1.]\n",
      "netXOR([0. 0. 0.]) = [0.00131177]  TRUE VALUE: [0.]\n",
      "\n",
      "LOSS: 0.0004706358319400454\n",
      "RESULT:\n",
      "netXOR([1. 1. 1.]) = [0.99914114]  TRUE VALUE: [1.]\n",
      "netXOR([1. 1. 0.]) = [0.00044515]  TRUE VALUE: [0.]\n",
      "netXOR([1. 0. 1.]) = [0.00044517]  TRUE VALUE: [0.]\n",
      "netXOR([1. 0. 0.]) = [0.9995478]  TRUE VALUE: [1.]\n",
      "netXOR([0. 1. 1.]) = [0.0004452]  TRUE VALUE: [0.]\n",
      "netXOR([0. 1. 0.]) = [0.99954762]  TRUE VALUE: [1.]\n",
      "netXOR([0. 0. 1.]) = [0.9995475]  TRUE VALUE: [1.]\n",
      "netXOR([0. 0. 0.]) = [0.00021264]  TRUE VALUE: [0.]\n",
      "\n",
      "LOSS: 0.0004198691729980662\n",
      "RESULT:\n",
      "netXOR([1. 1. 1.]) = [0.99969782]  TRUE VALUE: [1.]\n",
      "netXOR([1. 1. 0.]) = [0.0003683]  TRUE VALUE: [0.]\n",
      "netXOR([1. 0. 1.]) = [0.0004878]  TRUE VALUE: [0.]\n",
      "netXOR([1. 0. 0.]) = [0.99956521]  TRUE VALUE: [1.]\n",
      "netXOR([0. 1. 1.]) = [0.00072504]  TRUE VALUE: [0.]\n",
      "netXOR([0. 1. 0.]) = [0.99968484]  TRUE VALUE: [1.]\n",
      "netXOR([0. 0. 1.]) = [0.99967977]  TRUE VALUE: [1.]\n",
      "netXOR([0. 0. 0.]) = [0.00040469]  TRUE VALUE: [0.]\n",
      "\n",
      "\n",
      "Trying hidden dimensions = (3, 2)\n",
      "\n",
      "LOSS: 0.00022090945544207588\n",
      "RESULT:\n",
      "netXOR([1. 1. 1.]) = [0.99990416]  TRUE VALUE: [1.]\n",
      "netXOR([1. 1. 0.]) = [0.00021465]  TRUE VALUE: [0.]\n",
      "netXOR([1. 0. 1.]) = [0.00029729]  TRUE VALUE: [0.]\n",
      "netXOR([1. 0. 0.]) = [0.99976774]  TRUE VALUE: [1.]\n",
      "netXOR([0. 1. 1.]) = [0.00020334]  TRUE VALUE: [0.]\n",
      "netXOR([0. 1. 0.]) = [0.99964801]  TRUE VALUE: [1.]\n",
      "netXOR([0. 0. 1.]) = [0.99975803]  TRUE VALUE: [1.]\n",
      "netXOR([0. 0. 0.]) = [0.00012971]  TRUE VALUE: [0.]\n",
      "\n",
      "LOSS: 0.6931381264699671\n",
      "RESULT:\n",
      "netXOR([1. 1. 1.]) = [0.4995965]  TRUE VALUE: [1.]\n",
      "netXOR([1. 1. 0.]) = [0.49931707]  TRUE VALUE: [0.]\n",
      "netXOR([1. 0. 1.]) = [0.50160436]  TRUE VALUE: [0.]\n",
      "netXOR([1. 0. 0.]) = [0.50125271]  TRUE VALUE: [1.]\n",
      "netXOR([0. 1. 1.]) = [0.49873135]  TRUE VALUE: [0.]\n",
      "netXOR([0. 1. 0.]) = [0.49859249]  TRUE VALUE: [1.]\n",
      "netXOR([0. 0. 1.]) = [0.50057799]  TRUE VALUE: [1.]\n",
      "netXOR([0. 0. 0.]) = [0.5003219]  TRUE VALUE: [0.]\n",
      "\n",
      "LOSS: 0.00019699327433763322\n",
      "RESULT:\n",
      "netXOR([1. 1. 1.]) = [0.9998541]  TRUE VALUE: [1.]\n",
      "netXOR([1. 1. 0.]) = [0.00020168]  TRUE VALUE: [0.]\n",
      "netXOR([1. 0. 1.]) = [0.00028295]  TRUE VALUE: [0.]\n",
      "netXOR([1. 0. 0.]) = [0.99990666]  TRUE VALUE: [1.]\n",
      "netXOR([0. 1. 1.]) = [0.00013681]  TRUE VALUE: [0.]\n",
      "netXOR([0. 1. 0.]) = [0.99970314]  TRUE VALUE: [1.]\n",
      "netXOR([0. 0. 1.]) = [0.99978872]  TRUE VALUE: [1.]\n",
      "netXOR([0. 0. 0.]) = [0.00020696]  TRUE VALUE: [0.]\n",
      "\n",
      "LOSS: 0.00031346614959266766\n",
      "RESULT:\n",
      "netXOR([1. 1. 1.]) = [0.99991511]  TRUE VALUE: [1.]\n",
      "netXOR([1. 1. 0.]) = [0.00039323]  TRUE VALUE: [0.]\n",
      "netXOR([1. 0. 1.]) = [0.00049939]  TRUE VALUE: [0.]\n",
      "netXOR([1. 0. 0.]) = [0.99974542]  TRUE VALUE: [1.]\n",
      "netXOR([0. 1. 1.]) = [0.00042042]  TRUE VALUE: [0.]\n",
      "netXOR([0. 1. 0.]) = [0.99964679]  TRUE VALUE: [1.]\n",
      "netXOR([0. 0. 1.]) = [0.99977115]  TRUE VALUE: [1.]\n",
      "netXOR([0. 0. 0.]) = [0.00027271]  TRUE VALUE: [0.]\n",
      "\n",
      "LOSS: 0.0004361705876777789\n",
      "RESULT:\n",
      "netXOR([1. 1. 1.]) = [0.99952678]  TRUE VALUE: [1.]\n",
      "netXOR([1. 1. 0.]) = [0.00023658]  TRUE VALUE: [0.]\n",
      "netXOR([1. 0. 1.]) = [0.00022389]  TRUE VALUE: [0.]\n",
      "netXOR([1. 0. 0.]) = [0.99915868]  TRUE VALUE: [1.]\n",
      "netXOR([0. 1. 1.]) = [0.00044524]  TRUE VALUE: [0.]\n",
      "netXOR([0. 1. 0.]) = [0.99952465]  TRUE VALUE: [1.]\n",
      "netXOR([0. 0. 1.]) = [0.99959694]  TRUE VALUE: [1.]\n",
      "netXOR([0. 0. 0.]) = [0.00038983]  TRUE VALUE: [0.]\n",
      "\n",
      "\n"
     ]
    }
   ],
   "source": [
    "dims = [[3, 1], [3, 2]]\n",
    "for first_hidden_dim, second_hidden_dim in dims:\n",
    "    # TODO: run a few trainings and record the fraction of successful ones\n",
    "    print(f\"Trying hidden dimensions = ({first_hidden_dim}, {second_hidden_dim})\")\n",
    "    for i in range(5):\n",
    "        net = TwoLayerNet(3, first_hidden_dim, second_hidden_dim, dtype=np.float64)\n",
    "        res, loss, _ = gradient_descent_twolayered(net, \n",
    "                                     alpha = 0.15, \n",
    "                                     X = X3, \n",
    "                                     Y = Y3, \n",
    "                                     verbose = False)\n",
    "        print(\"\\nLOSS:\", loss)\n",
    "        print(\"RESULT:\")\n",
    "        for single_input, single_output, single_true_value in zip(X3, res, Y3):\n",
    "            print(f\"netXOR({single_input}) = {single_output}  TRUE VALUE: {single_true_value}\")\n",
    "    print(\"\\n\")"
   ]
  },
  {
   "cell_type": "markdown",
   "metadata": {
    "id": "4PcNxrCt-NcN"
   },
   "source": [
    "## Problem 6"
   ]
  },
  {
   "cell_type": "code",
   "execution_count": null,
   "metadata": {
    "id": "6Brepirl-Nln"
   },
   "outputs": [],
   "source": []
  },
  {
   "cell_type": "markdown",
   "metadata": {
    "id": "nWuv7Q77-Nut"
   },
   "source": [
    "## Problem 7"
   ]
  },
  {
   "cell_type": "code",
   "execution_count": null,
   "metadata": {
    "id": "avuvSoWY-N4Z"
   },
   "outputs": [],
   "source": []
  }
 ],
 "metadata": {
  "colab": {
   "collapsed_sections": [],
   "include_colab_link": true,
   "name": "Assignment1.ipynb",
   "provenance": []
  },
  "kernelspec": {
   "display_name": "Python 3",
   "language": "python",
   "name": "python3"
  },
  "language_info": {
   "codemirror_mode": {
    "name": "ipython",
    "version": 3
   },
   "file_extension": ".py",
   "mimetype": "text/x-python",
   "name": "python",
   "nbconvert_exporter": "python",
   "pygments_lexer": "ipython3",
   "version": "3.7.2"
  }
 },
 "nbformat": 4,
 "nbformat_minor": 1
}
